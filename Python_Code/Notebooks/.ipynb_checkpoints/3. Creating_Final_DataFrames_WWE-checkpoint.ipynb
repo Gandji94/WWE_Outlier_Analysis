{
 "cells": [
  {
   "cell_type": "markdown",
   "id": "eb24c5f2",
   "metadata": {},
   "source": [
    "In the third section, we will combine all our previous code building parts into one. This allows us to create bigger def functions."
   ]
  },
  {
   "cell_type": "code",
   "execution_count": 36,
   "id": "d6438039",
   "metadata": {},
   "outputs": [],
   "source": [
    "# %load \"C:\\Users\\gandj\\OneDrive\\Desktop\\Case_Study\\WWE\\DataFrame_YouTube_Comments_and_count.py\"\n",
    "def comment_WWE_YouTube_DataFrame(URL):\n",
    "    #!pip install selenium\n",
    "    import pandas as pd\n",
    "    import time\n",
    "    from selenium import webdriver\n",
    "    from selenium.webdriver.support.ui import WebDriverWait\n",
    "    from selenium.webdriver.common.by import By\n",
    "    from selenium.webdriver.support import expected_conditions as EC\n",
    "    from selenium.webdriver.common.keys import Keys\n",
    "    from bs4 import BeautifulSoup\n",
    "    from bs4 import Comment\n",
    "    import requests\n",
    "    import re\n",
    "    import nltk\n",
    "    from nltk.corpus import stopwords\n",
    "    from nltk.tokenize import word_tokenize\n",
    "    from nltk.sentiment.vader import SentimentIntensityAnalyzer\n",
    "\n",
    "    # Variable containing the link to the video to scrape\n",
    "    video_to_scrape = URL\n",
    "\n",
    "    # Chrome webdriver has been installed on the system\n",
    "    driver = webdriver.Chrome()\n",
    "    driver.get(video_to_scrape)\n",
    "\n",
    "    # Amount of time on which the code waits to move on to the next comment\n",
    "    scroll_pause_time = 3\n",
    "    # Delay for webdriver in seconds\n",
    "    delay = 5\n",
    "    # True means we are still scrolling; False means we are not scrolling anymore\n",
    "    scrolling = True\n",
    "    # The last current position on the page\n",
    "    last_height = driver.execute_script(\"return document.documentElement.scrollHeight\")\n",
    "    # The list where we will save the comments\n",
    "    all_comments_list = []\n",
    "    # Number of attempts before we switch scrolling to False\n",
    "    scrolling_attempt = 3\n",
    "\n",
    "    def scrape_yt_comments():\n",
    "        loaded_comments = []\n",
    "        try:\n",
    "            all_usernames = WebDriverWait(driver, delay).until(EC.presence_of_all_elements_located((By.CSS_SELECTOR, \"#author-text span\")))\n",
    "            all_comments = WebDriverWait(driver, delay).until(EC.presence_of_all_elements_located((By.CSS_SELECTOR, \"#content-text\")))\n",
    "\n",
    "            for username, comment in zip(all_usernames, all_comments):\n",
    "                current_comment = {\"username\": username.text, \"comment\": comment.text}\n",
    "                loaded_comments.append(current_comment)\n",
    "            return loaded_comments\n",
    "        except Exception as e:\n",
    "            print(f\"Error while scraping comments: {str(e)}\")\n",
    "            return None\n",
    "\n",
    "    while scrolling:\n",
    "        htmlelement = driver.find_element(By.TAG_NAME, \"body\")\n",
    "        htmlelement.send_keys(Keys.END)\n",
    "        time.sleep(scroll_pause_time)\n",
    "        new_height = driver.execute_script(\"return document.documentElement.scrollHeight\")\n",
    "\n",
    "        if new_height == last_height:\n",
    "            scrolling_attempt -= 1\n",
    "            print(f\"Scrolling attempt {scrolling_attempt}\")\n",
    "            if scrolling_attempt == 0:\n",
    "                scrolling = False\n",
    "        else:\n",
    "            scrolling_attempt = 2\n",
    "\n",
    "        last_height = new_height\n",
    "\n",
    "        try:\n",
    "            last_20_comments = scrape_yt_comments()\n",
    "            if last_20_comments:\n",
    "                all_comments_list.extend(last_20_comments)\n",
    "        except Exception as e:\n",
    "            print(f\"Error while loading comments: {str(e)}\")\n",
    "\n",
    "    [user.pop('username',None) for user in all_comments_list]\n",
    "\n",
    "    def get_date(url):\n",
    "        \n",
    "        data=requests.get(url).text\n",
    "        soup=BeautifulSoup(data,'html.parser')\n",
    "        test=soup.find('meta', itemprop ='datePublished')\n",
    "\n",
    "        content_value = test.get('content')\n",
    "        return content_value.split('T')[0]\n",
    "\n",
    "    flat_list=[]\n",
    "    #removing all_comments_list:\n",
    "    for x in all_comments_list:\n",
    "        flat_list.append(x)\n",
    "    df=pd.DataFrame(flat_list)\n",
    "    if df.empty:\n",
    "        print(\"DataFrame is empty.\")\n",
    "        return df #this section allows us to stop/return and an empty dataframe so the loop can continue\n",
    "    \n",
    "    # Apply function to clean comments\n",
    "    df['comment'] = df['comment'].apply(lambda x: re.sub(r'[^\\w\\s]', '', x))\n",
    "    # Rename column based on date\n",
    "    #df.rename(columns={'comment': 'comments_{}'.format(get_date(URL))}, inplace=True)\n",
    "    # Convert date to datetime\n",
    "    df['Date']=pd.to_datetime(get_date(URL))\n",
    "    date = pd.to_datetime(get_date(URL))\n",
    "    df['Date_Month'] = date.to_period('M').to_timestamp()\n",
    "    # Drop duplicates\n",
    "    df.drop_duplicates(inplace=True)\n",
    "    \n",
    "    #stop_words allow us to remove words which are needed to form a proper sentence\n",
    "    #but do not provide more insight to the text\n",
    "    nltk.download('stopwords')\n",
    "    stop_words=set(stopwords.words('english'))\n",
    "    nltk.download('punkt')\n",
    "    nltk.download('vader_lexicon')\n",
    "\n",
    "    #def function to remove lower case words\n",
    "    def remove_lower_case(x):\n",
    "        filtered_word=[x for x in x if not re.match('^[a-z]+$', x)]\n",
    "        return filtered_word\n",
    "\n",
    "    #here we apply the stopwords filter on a data frame\n",
    "    df['word_comment'] = df['comment'].apply(lambda x: [x for x in word_tokenize(x) if x.lower() not in stop_words])\n",
    "    #here we remove all lower case words\n",
    "    df['word_comment_tag_words'] = df['word_comment'].apply(lambda x: remove_lower_case(x))\n",
    "\n",
    "    #when the compund output is bigger to equal than 0.05, then the comment will be considered as positive\n",
    "    #when the compound output is smaller to equal to -0.05, the the comment will be considered as negative\n",
    "    #otherwise the comment will be considerd as neutral\n",
    "\n",
    "    def comment_sentiment(text):\n",
    "        senti=SentimentIntensityAnalyzer()\n",
    "        output=senti.polarity_scores(text)\n",
    "        if output['compound'] >= 0.05:\n",
    "            return 'Positive'\n",
    "        elif output['compound'] <= -0.05:\n",
    "            return 'Negative'\n",
    "        else:\n",
    "            return 'Neutral'\n",
    "\n",
    "    df['Sentiment']=[comment_sentiment(x) for x in df.iloc[:,0]]\n",
    "    \n",
    "    #start of creating the count dataframe\n",
    "    df_counts=df[['word_comment_tag_words', 'Sentiment','Date','Date_Month']]\n",
    "    #exploded() allows us to remove values from a list\n",
    "    df_count_exploded=df_counts.explode('word_comment_tag_words')\n",
    "    #with groupby() we are able to generate a count based on sentiment, wrestler and dates\n",
    "    df_count = df_count_exploded.groupby(['Sentiment',\n",
    "                    'word_comment_tag_words',\n",
    "                    'Date',\n",
    "                    'Date_Month']).size().reset_index(name='Count').sort_values('Count',ascending=False)\n",
    "    #isalpha() makes sure to filter out all non-string values\n",
    "    df_count['word_comment_tag_words']=df_count['word_comment_tag_words'][df_count['word_comment_tag_words'].apply(\n",
    "        lambda x: x.isalpha())]\n",
    "\n",
    "    url=\"https://www.thesmackdownhotel.com/roster/?promotion=wwe&date=all-time\"\n",
    "    data=requests.get(url).text\n",
    "    soup=BeautifulSoup(data,'html.parser')\n",
    "    #getting the section where the needed information is loacted\n",
    "    test=soup.find('div', class_ ='roster_section roster2k22')\n",
    "    #list comprehension to get all Names\n",
    "    wrestler=[x.get('title') for x in test.find_all('a')]\n",
    "\n",
    "    #splitting each string value by the space\n",
    "    name_split=[x.split(' ') for x in wrestler]\n",
    "    #nested list comprehension\n",
    "    plural_name_split = [[k + 's' for k in x.split(' ')] for x in wrestler]\n",
    "    #splitting each string value by the space and truning all string values into lower case\n",
    "    lower_name_split=[x.lower().split(' ') for x in wrestler]\n",
    "    #nested list comprehension\n",
    "    plural_lower_name_split=[[k + \"s\" for k in x.lower().split(' ')] for x in wrestler]\n",
    "    #putting each string value from a list into a list of its own\n",
    "    sep_list=[[str(x)] for x in wrestler]\n",
    "    #nested list comprehension\n",
    "    plural_sep_list=[[k + 's' for k in [str(x)]] for x in wrestler]\n",
    "    #putting each string value from a list into a list of its own and transforming all letter to lower case\n",
    "    sep_list_lower=[[str(x.lower())] for x in wrestler]\n",
    "\n",
    "    plural_lower_sep_list=[[k + \"s\" for k in [str(x.lower())]] for x in wrestler]\n",
    "\n",
    "    dict_value=[]\n",
    "    for x in range(0,len(wrestler)):\n",
    "        new_input=sep_list[x]+plural_sep_list[x]+sep_list_lower[x]+plural_lower_sep_list[x]+name_split[x]+plural_name_split[x]\n",
    "        dict_value.append(new_input)\n",
    "\n",
    "    wrestler_dict=dict(zip(wrestler,dict_value))\n",
    "\n",
    "    del wrestler_dict['Aalyah Mysterio'][5]\n",
    "    del wrestler_dict['Aalyah Mysterio'][6]\n",
    "    del wrestler_dict['AJ Lee'][4]\n",
    "    del wrestler_dict['AJ Lee'][5]\n",
    "    del wrestler_dict['The Rock'][4]\n",
    "    del wrestler_dict['The Rock'][5]\n",
    "    del wrestler_dict['The Miz'][4]\n",
    "    del wrestler_dict['The Miz'][5]\n",
    "    del wrestler_dict['The Undertaker'][4]\n",
    "    del wrestler_dict['The Undertaker'][5]\n",
    "    del wrestler_dict['John Morrison'][4]\n",
    "    del wrestler_dict['John Morrison'][5]\n",
    "    del wrestler_dict['Austin Theory'][4]\n",
    "    del wrestler_dict['Austin Theory'][5]\n",
    "    del wrestler_dict['Dominik Mysterio'][5]\n",
    "    del wrestler_dict['Dominik Mysterio'][6]\n",
    "    del wrestler_dict['Chris Benoit'][0]\n",
    "    del wrestler_dict['Chris Benoit'][0]\n",
    "    del wrestler_dict['Chris Benoit'][0]\n",
    "    del wrestler_dict['Chris Benoit'][0]\n",
    "    del wrestler_dict['Chris Benoit'][0]\n",
    "    del wrestler_dict['Chris Benoit'][1]\n",
    "    first_val=['Adam Cole','Adam Pearce','Adam Rose','Angel Hayze','Austin Aries','Bam Neely','Big Boss Man','Big Cass','Big Daddy V',\n",
    "              'Big John Studd','Big Show','Billy Kidman','Bill Watts','Blake Beverly','Bobby Fish','Bobby Heenan','Chris Candido',\n",
    "              'Chris Kanyon','Chris Masters','Chris Park','Drake Maverick','Duke Droese','Eddie Dennis','Eddie Gilbert','Eddie Graham',\n",
    "              'Eric Bischoff','Jeff Hardy','Jeff Jarrett','Jimmy Hart','Jimmy Jacobs','Jimmy Smith','Jimmy Snuka','Kevin Nash','Randy Savage',\n",
    "              'Rob Conway','Rob Gronkowski','Shawn Daivari','Shawn Spears','Shawn Stasiak','Luther Reigns','Rocco Rock','Drew Gulak',\n",
    "              'John Laurinaitis','Linda McMahon','Mr. Stone']\n",
    "    for x in first_val:\n",
    "        del wrestler_dict[x][4:]\n",
    "    wrestler_dict['WWE']=['WWE','wwe']\n",
    "    wrestler_dict['Raw']=['RAW','Raw','raw']\n",
    "    wrestler_dict['Smack Down']=['Smack Down','smack down','Smack down','Smack','smack','Down','down','Smackdown','SmackDown',\n",
    "                                'smackdown']\n",
    "    wrestler_dict['WrestleMania']=['WrestleMania','wrestlemania','WM','wm','Wrestlemania','Mania','mania']\n",
    "    wrestler_dict['Royal Rumble']=['Royal Rumble','royal rumble','RR','rr','Royal rumble']\n",
    "    wrestler_dict['Elimination Chamber']=['Elimination Chamber','elimination chamber','EC','ec','Elimination chamber']\n",
    "    wrestler_dict['NXT Vengeance Day']=['Vengeance Day','vengeance day']\n",
    "    wrestler_dict['NXT Roadblock']=['Roadblock','roadblock']\n",
    "    wrestler_dict['NXT Stand & Deliver']=['Stand & Deliver','stand & deliver']\n",
    "    wrestler_dict['Backlash']=['Backlash','backlash']\n",
    "    wrestler_dict['NXT Battleground']=['Battleground','battleground']\n",
    "    wrestler_dict['Money in the Bank']=['Money in the Bank','vengeance day','money in the bank','MITB','mitb']\n",
    "    wrestler_dict['NXT Heatwave']=['Heatwave','heatwave']\n",
    "    wrestler_dict['Summer Slam']=['Summer Slam','summer slam']\n",
    "    wrestler_dict['Bash in Berlin']=['Bash in Berlin','bash in berlin','BIB','bib']\n",
    "    wrestler_dict['Survivor Series']=['Survivor Series','survivor series','Survivor series']\n",
    "    wrestler_dict['The Bloodline']=['Bloodline','bloodline','The Bloodline','the bloodline']\n",
    "    wrestler_dict['The Judgment Day']=['The Judgment Day','the judgment day','Judgment Day','judgment day', 'Judgment','judgment',\n",
    "                                      'Day','day']\n",
    "    wrestler_dict['Seth Rollins']=['Seth Rollins','Seth Rollinss','Seth','Seth ','Seths','seth','seths','Rollins','rollins','Rollinss','rollinss']\n",
    "    wrestler_dict['McMahon']=['McMahon','mcmahon','Mcmahon','mcMahon','McMahons','mcmahons','Mcmahons','mcMahons']\n",
    "    wrestler_dict['Golden Era']=['Golden Era','golden era','Golden','golden']\n",
    "    wrestler_dict['Attitude Era']=['Attitude Era','attitude era','Attitude','attitude','Era','era']\n",
    "    wrestler_dict['Ruthless Aggression Era']=['Ruthless Aggression Era','ruthless aggression era',\n",
    "                                              'Ruthless','ruthless','Aggression','aggression',]\n",
    "    wrestler_dict['PG Era']=['PG Era','pg era','PG','pg']\n",
    "    wrestler_dict['New Era']=['New Era','new era','New','new']\n",
    "    wrestler_dict['The Rock'].append('Dwayne')\n",
    "    wrestler_dict['The Rock'].append('Dwaynes')\n",
    "    wrestler_dict['The Rock'].append('dwayne')\n",
    "    wrestler_dict['The Rock'].append('dwaynes')\n",
    "    del wrestler_dict['Seth ']\n",
    "    wrestler_dict['Stone Cold Steve Austin']=wrestler_dict['Steve Austin']\n",
    "    del wrestler_dict['Steve Austin']\n",
    "    wrestler_dict['Stone Cold Steve Austin'].append('Stone')\n",
    "    wrestler_dict['Stone Cold Steve Austin'].append('Stones')\n",
    "    wrestler_dict['Stone Cold Steve Austin'].append('stone')\n",
    "    wrestler_dict['Stone Cold Steve Austin'].append('stones')\n",
    "    wrestler_dict['Stone Cold Steve Austin'].append('Cold')\n",
    "    wrestler_dict['Stone Cold Steve Austin'].append('Colds')\n",
    "    wrestler_dict['Stone Cold Steve Austin'].append('cold')\n",
    "    wrestler_dict['Stone Cold Steve Austin'].append('colds')\n",
    "    wrestler_dict['Stone Cold Steve Austin'].append('Stone Cold')\n",
    "    wrestler_dict['Stone Cold Steve Austin'].append('Stone Colds')\n",
    "    wrestler_dict['Stone Cold Steve Austin'].append('Stone cold')\n",
    "    wrestler_dict['Stone Cold Steve Austin'].append('Stone colds')\n",
    "    wrestler_dict['Stone Cold Steve Austin'].append('stone cold')\n",
    "    wrestler_dict['Stone Cold Steve Austin'].append('stone cold')\n",
    "    wrestler_dict['Shawn Michaels'].append('HBK')\n",
    "    wrestler_dict['Shawn Michaels'].append('HBKs')\n",
    "    wrestler_dict['Shawn Michaels'].append('hbk')\n",
    "    wrestler_dict['Shawn Michaels'].append('hbks')\n",
    "    del wrestler_dict[\"Paul \"]\n",
    "    wrestler_dict['Triple H']=['Triple H','Triple Hs','triple h','triple hs','Triple','Triples','triple','triples','H','Hs',\n",
    "                              'h','hs','HHH','HHHs','hhh','hhhs','Hunter','Hunters','hunter','hunters']\n",
    "\n",
    "    #def function to get the key for the corrosponding value\n",
    "    def find_key(dictionary, value):\n",
    "        keys = []\n",
    "        for key, val in dictionary.items():\n",
    "            if value in val:\n",
    "                keys.append(key)\n",
    "        return keys if keys else None  # If no matching keys found, return None\n",
    "\n",
    "    #mapping the column values to the matching dictionary values\n",
    "    df_count['word_comment_tag_words'] = df_count['word_comment_tag_words'].map(lambda x: find_key(wrestler_dict, x))\n",
    "    #this line allows us to remove the list from each value, otherwise the \"Wrestler\" column would have \n",
    "    df_count['word_comment_tag_words'] = df_count['word_comment_tag_words'].apply(lambda x: x[0] if isinstance(x, list) else x)\n",
    "    df_count.rename(columns={'word_comment_tag_words':'Wrestler'},inplace=True)\n",
    "\n",
    "    return df,df_count"
   ]
  },
  {
   "cell_type": "code",
   "execution_count": 37,
   "id": "27937aa0",
   "metadata": {},
   "outputs": [
    {
     "name": "stdout",
     "output_type": "stream",
     "text": [
      "Number of YouTube videos: 202\n"
     ]
    }
   ],
   "source": [
    "lst_YouTube_comments=['https://www.youtube.com/watch?v=-vZaSuqKpfA','https://www.youtube.com/watch?v=SSEEuSYtW_k',\n",
    "                      'https://www.youtube.com/watch?v=NghLz9mc4y0','https://www.youtube.com/watch?v=cexL0pMMKis',\n",
    "                      'https://www.youtube.com/watch?v=Qzlp8Ep1ZS0','https://www.youtube.com/watch?v=Edjh2P0pMRA',\n",
    "                      'https://www.youtube.com/watch?v=aQ8KhBt2SXE','https://www.youtube.com/watch?v=NROID7ftNt4',\n",
    "                     'https://www.youtube.com/watch?v=zjjlRxtcdUE','https://www.youtube.com/watch?v=-FJf8Z_40-c',\n",
    "                     'https://www.youtube.com/watch?v=ZcvQzm-c1NI','https://www.youtube.com/watch?v=da6Z9thDC44',\n",
    "                     'https://www.youtube.com/watch?v=onqDc7XSIjw','https://www.youtube.com/watch?v=EAEkuWK9kiw',\n",
    "                     'https://www.youtube.com/watch?v=tDBWsvVzBl0','https://www.youtube.com/watch?v=SQ4JfPLnEYo',\n",
    "                     'https://www.youtube.com/watch?v=ndXyxW1o-8I','https://www.youtube.com/watch?v=LulVVeyqEl8',\n",
    "                     'https://www.youtube.com/watch?v=qD7kY2IY_uY','https://www.youtube.com/watch?v=cvTAKZNtLko',\n",
    "                     'https://www.youtube.com/watch?v=qM1mwyOEZvc','https://www.youtube.com/watch?v=Eok_A0ZgIbY',\n",
    "                     'https://www.youtube.com/watch?v=Tq0LdtI76kQ','https://www.youtube.com/watch?v=ZPqfb_n7PuQ',\n",
    "                     'https://www.youtube.com/watch?v=dfTRExyRdi4','https://www.youtube.com/watch?v=whq-cvSeHgA',\n",
    "                     'https://www.youtube.com/watch?v=NVVnb5qSGgc','https://www.youtube.com/watch?v=mdeOdQPCoU4',\n",
    "                     'https://www.youtube.com/watch?v=rNlSgFMCctQ','https://www.youtube.com/watch?v=31uUkdYqLsM',\n",
    "                     'https://www.youtube.com/watch?v=NSCfi9GLFcY','https://www.youtube.com/watch?v=hP4vZzZTLtY',\n",
    "                     'https://www.youtube.com/watch?v=v7grwfxF-U8','https://www.youtube.com/watch?v=PgPJfA7vXWM',\n",
    "                     'https://www.youtube.com/watch?v=JDKHAqEyJ3k','https://www.youtube.com/watch?v=8qesVfr27sE',\n",
    "                     'https://www.youtube.com/watch?v=M6ghi9GmglY','https://www.youtube.com/watch?v=F1XqFPanzP0',\n",
    "                     'https://www.youtube.com/watch?v=iuS7uoAGGQE','https://www.youtube.com/watch?v=xCWecKnwMLk',\n",
    "                     'https://www.youtube.com/watch?v=5InohlJ1Vzg','https://www.youtube.com/watch?v=Tv2yIzQK5Ig',\n",
    "                     'https://www.youtube.com/watch?v=ZBN6C5k30n4','https://www.youtube.com/watch?v=l0027JlnHfI',\n",
    "                     'https://www.youtube.com/watch?v=6M6apu7sroM','https://www.youtube.com/watch?v=rVa2U29oL5w',\n",
    "                     'https://www.youtube.com/watch?v=utBy3u4GrUk','https://www.youtube.com/watch?v=hyKLzqTMHGA',\n",
    "                     'https://www.youtube.com/watch?v=G2Fh5qA8jy0','https://www.youtube.com/watch?v=p3CCrecGlF0',\n",
    "                     'https://www.youtube.com/watch?v=5wkc_Ke9-Iw','https://www.youtube.com/watch?v=Mm2ZW6K7pyo',\n",
    "                     'https://www.youtube.com/watch?v=z9iIQArHce4','https://www.youtube.com/watch?v=yQ54Y4vgH0k',\n",
    "                     'https://www.youtube.com/watch?v=W-Sk8kwlzK0','https://www.youtube.com/watch?v=ckjEWp0vHAA',\n",
    "                     'https://www.youtube.com/watch?v=gxJ_okHO8TU','https://www.youtube.com/watch?v=MwjgSJU4K4Q',\n",
    "                     'https://www.youtube.com/watch?v=HL2lBOj-kAU','https://www.youtube.com/watch?v=lXX5vf9mPJ0',\n",
    "                     'https://www.youtube.com/watch?v=X4VxPID4r2Q','https://www.youtube.com/watch?v=eNyZA6ugZEM',\n",
    "                     'https://www.youtube.com/watch?v=5yxs3mMjIVA','https://www.youtube.com/watch?v=SwOKPu_5e_w',\n",
    "                     'https://www.youtube.com/watch?v=qD1ghRkCDRA','https://www.youtube.com/watch?v=_NT1VadeCTo',\n",
    "                     'https://www.youtube.com/watch?v=pvbkvRCobu0','https://www.youtube.com/watch?v=9GQwUXpuSPQ',\n",
    "                      'https://www.youtube.com/watch?v=E6vxpZO2NlY','https://www.youtube.com/watch?v=ItiEaYDdQ-8',\n",
    "                     'https://www.youtube.com/watch?v=QrPfUqPLwKo','https://www.youtube.com/watch?v=ZJfmzsYWnYs',\n",
    "                     'https://www.youtube.com/watch?v=qM8TZv-CdDU','https://www.youtube.com/watch?v=TaIFPj0t8X8',\n",
    "                     'https://www.youtube.com/watch?v=r-jREbzw4iU','https://www.youtube.com/watch?v=IYg6FdbZ7bk',\n",
    "                     'https://www.youtube.com/watch?v=qBckQ4GMjww','https://www.youtube.com/watch?v=glNPdcUI5qc',\n",
    "                     'https://www.youtube.com/watch?v=mfBqZsG3n8o','https://www.youtube.com/watch?v=B3h3UWTY5ns',\n",
    "                     'https://www.youtube.com/watch?v=wp9bqWsxudI','https://www.youtube.com/watch?v=Ilu4Mbjpczc',\n",
    "                     'https://www.youtube.com/watch?v=pSpzQxWqLVs','https://www.youtube.com/watch?v=oiGK7n-HmlQ',\n",
    "                     'https://www.youtube.com/watch?v=NB7VRcUfg_k','https://www.youtube.com/watch?v=CHHJbmc00GI',\n",
    "                     'https://www.youtube.com/watch?v=pDWugCtdE4s','https://www.youtube.com/watch?v=ikfKAZlHXu4',\n",
    "                     'https://www.youtube.com/watch?v=2Ri5tnATeN8','https://www.youtube.com/watch?v=5YiwULYA4qc',\n",
    "                     'https://www.youtube.com/watch?v=iznKyKjVuZk','https://www.youtube.com/watch?v=VuMtYDBq_F8',\n",
    "                     'https://www.youtube.com/watch?v=l05NBiVscFA','https://www.youtube.com/watch?v=UHEpWZZBeJc',\n",
    "                     'https://www.youtube.com/watch?v=eY6SjSKDMX0','https://www.youtube.com/watch?v=My3AT5Km-wE',\n",
    "                     'https://www.youtube.com/watch?v=tubbPOVShVY','https://www.youtube.com/watch?v=69W2NsAonU8',\n",
    "                     'https://www.youtube.com/watch?v=9L3UdUix-40','https://www.youtube.com/watch?v=lddKNOALLQk',\n",
    "                     'https://www.youtube.com/watch?v=2kwcN5pUnMA','https://www.youtube.com/watch?v=IVa36lLteUU',\n",
    "                     'https://www.youtube.com/watch?v=_ifDXiXW25I','https://www.youtube.com/watch?v=pI9UdT2njKk',\n",
    "                     'https://www.youtube.com/watch?v=Yxom1Im-RCg','https://www.youtube.com/watch?v=HG5vL_2UEnU',\n",
    "                     'https://www.youtube.com/watch?v=8UR50M2K5Bk','https://www.youtube.com/watch?v=GQQcyr2xOrI',\n",
    "                     'https://www.youtube.com/watch?v=SilDVhznxfE','https://www.youtube.com/watch?v=NmDu5oKqcjY',\n",
    "                     'https://www.youtube.com/watch?v=AHDb_iwI3mc','https://www.youtube.com/watch?v=zACV_cUprJg',\n",
    "                     'https://www.youtube.com/watch?v=jW6hMqNS6EI','https://www.youtube.com/watch?v=sPzydQajLd4',\n",
    "                     'https://www.youtube.com/watch?v=NrAU5I0Rw7w','https://www.youtube.com/watch?v=XzMrG9QifGI',\n",
    "                     'https://www.youtube.com/watch?v=yi8kjt4vQ34','https://www.youtube.com/watch?v=84FUSMIeYyQ',\n",
    "                     'https://www.youtube.com/watch?v=hDhtav6BtoM','https://www.youtube.com/watch?v=moJTUbogdBA',\n",
    "                     'https://www.youtube.com/watch?v=KwYQoskAo2s','https://www.youtube.com/watch?v=-6oYBxMLexE',\n",
    "                     'https://www.youtube.com/watch?v=XVWbwS861PY','https://www.youtube.com/watch?v=VLy_QNjih-o',\n",
    "                     'https://www.youtube.com/watch?v=hF1OQpODZGU','https://www.youtube.com/watch?v=5s5YhhUV7gQ',\n",
    "                     'https://www.youtube.com/watch?v=0uBWfjWlNAY','https://www.youtube.com/watch?v=xhCEhL76UCI',\n",
    "                     'https://www.youtube.com/watch?v=aZo9auGho5o','https://www.youtube.com/watch?v=IrppV43y_tg',\n",
    "                     'https://www.youtube.com/watch?v=1jN28lCRslQ','https://www.youtube.com/watch?v=f6DEHhFlY7M',\n",
    "                     'https://www.youtube.com/watch?v=6YArhvo7ao0','https://www.youtube.com/watch?v=uPQfquhBKxE',\n",
    "                     'https://www.youtube.com/watch?v=6qnrI4wGjJw','https://www.youtube.com/watch?v=XcbADMKmiIE',\n",
    "                      'https://www.youtube.com/watch?v=fszY_ioJu6o','https://www.youtube.com/watch?v=6Ze0CCFscmU',\n",
    "                     'https://www.youtube.com/watch?v=_3MZ7uzs3I0','https://www.youtube.com/watch?v=qsHTMMUQCk0',\n",
    "                     'https://www.youtube.com/watch?v=LqYpXW2pSKM','https://www.youtube.com/watch?v=Jxj3uL2CG3k',\n",
    "                     'https://www.youtube.com/watch?v=dPGJJ8ec2HA','https://www.youtube.com/watch?v=uIXzLckdvDw',\n",
    "                     'https://www.youtube.com/watch?v=7O9OZ0CdRnA','https://www.youtube.com/watch?v=2Rh6kCCqf-A',\n",
    "                     'https://www.youtube.com/watch?v=1udbu9RY-n4','https://www.youtube.com/watch?v=vTW5WFU4XjI',\n",
    "                      'https://www.youtube.com/watch?v=PQ4nGggVrwk','https://www.youtube.com/watch?v=xiHgQfYqTro',\n",
    "                     'https://www.youtube.com/watch?v=zHZWyEZAbMQ','https://www.youtube.com/watch?v=TCbK2BoxfKc',\n",
    "                     'https://www.youtube.com/watch?v=vLZoiqtE8A0','https://www.youtube.com/watch?v=bW-tisb4pHc',\n",
    "                     'https://www.youtube.com/watch?v=119Nby6BbE4','https://www.youtube.com/watch?v=dvATQcyiacs',\n",
    "                     'https://www.youtube.com/watch?v=8Io0awJ9oPA','https://www.youtube.com/watch?v=Rg1wrL2Skz4',\n",
    "                     'https://www.youtube.com/watch?v=eu2AUfSwc_4','https://www.youtube.com/watch?v=uVIh-ZKXNbo',\n",
    "                     'https://www.youtube.com/watch?v=YHnZnNBszfs','https://www.youtube.com/watch?v=J1HQ1V6mHzo',\n",
    "                     'https://www.youtube.com/watch?v=t6DyqPyxvzI','https://www.youtube.com/watch?v=KyRaFkD7p58',\n",
    "                     'https://www.youtube.com/watch?v=7FhVTrM2ptw','https://www.youtube.com/watch?v=332bbdYyEXc',\n",
    "                     'https://www.youtube.com/watch?v=Qpa-RxT5VKA','https://www.youtube.com/watch?v=PotYmVOV4rQ',\n",
    "                     'https://www.youtube.com/watch?v=Ci8tgmZtBV0','https://www.youtube.com/watch?v=CH2UgnsIspI',\n",
    "                     'https://www.youtube.com/watch?v=kBXBFKjyoE8','https://www.youtube.com/watch?v=sk5BEESphjg',\n",
    "                     'https://www.youtube.com/watch?v=zwnkUn-cxac','https://www.youtube.com/watch?v=UOR6iGlmuV4',\n",
    "                     'https://www.youtube.com/watch?v=gpql3eDnPDY','https://www.youtube.com/watch?v=oZ4a_DKoO60',\n",
    "                     'https://www.youtube.com/watch?v=5CoFLKFnL3Q','https://www.youtube.com/watch?v=Rx1f6SpI6Uk',\n",
    "                     'https://www.youtube.com/watch?v=MLxao0FgNLA','https://www.youtube.com/watch?v=a6mHwKMuzTI',\n",
    "                     'https://www.youtube.com/watch?v=wu4ETEg6znY','https://www.youtube.com/watch?v=ShQOwZdFD4M',\n",
    "                     'https://www.youtube.com/watch?v=yKlgpe6Wgbo','https://www.youtube.com/watch?v=n45Yk0YRG0E',\n",
    "                     'https://www.youtube.com/watch?v=DnfqYXys_wA','https://www.youtube.com/watch?v=T8aNGoNHF88',\n",
    "                     'https://www.youtube.com/watch?v=6MwkzmwUkRA','https://www.youtube.com/watch?v=ZDWHMGqPatg',\n",
    "                     'https://www.youtube.com/watch?v=lGZcFkW0XhM','https://www.youtube.com/watch?v=pIuqeUauZ44',\n",
    "                     'https://www.youtube.com/watch?v=0Di8rUTRAKw','https://www.youtube.com/watch?v=uDwZnqbAmF8',\n",
    "                     'https://www.youtube.com/watch?v=M-ca1ptuWn8','https://www.youtube.com/watch?v=eP8PgEBOHdc',\n",
    "                     'https://www.youtube.com/watch?v=WvSrSup-e5Q','https://www.youtube.com/watch?v=dtR-Ip9sy7g',\n",
    "                     'https://www.youtube.com/watch?v=iCDLqsGqQRc','https://www.youtube.com/watch?v=3YhJuWZZOrE',\n",
    "                     'https://www.youtube.com/watch?v=Imda_AhdK-0','https://www.youtube.com/watch?v=S2hNddyhwHA',\n",
    "                     'https://www.youtube.com/watch?v=OTjSg0L3_FQ','https://www.youtube.com/watch?v=AE5mnL_1sog']\n",
    "print('Number of YouTube videos: {}'.format(len(lst_YouTube_comments)))"
   ]
  },
  {
   "cell_type": "code",
   "execution_count": 3,
   "id": "6b0298f5",
   "metadata": {},
   "outputs": [
    {
     "name": "stdout",
     "output_type": "stream",
     "text": [
      "Error while scraping comments: Message: \n",
      "\n",
      "Error while scraping comments: Message: \n",
      "\n",
      "Error while scraping comments: Message: \n",
      "\n",
      "Error while scraping comments: Message: \n",
      "\n",
      "Error while scraping comments: Message: \n",
      "\n",
      "Error while scraping comments: Message: \n",
      "\n",
      "Error while scraping comments: Message: \n",
      "\n",
      "Error while scraping comments: Message: \n",
      "\n",
      "Error while scraping comments: Message: \n",
      "\n",
      "Error while scraping comments: Message: \n",
      "\n",
      "Error while scraping comments: Message: \n",
      "\n",
      "Error while scraping comments: Message: \n",
      "\n",
      "Error while scraping comments: Message: \n",
      "\n",
      "Error while scraping comments: Message: \n",
      "\n",
      "Error while scraping comments: Message: \n",
      "\n",
      "Error while scraping comments: Message: \n",
      "\n",
      "Error while scraping comments: Message: \n",
      "\n",
      "Error while scraping comments: Message: \n",
      "\n",
      "Scrolling attempt 3\n",
      "Error while scraping comments: Message: \n",
      "\n",
      "Scrolling attempt 2\n",
      "Error while scraping comments: Message: \n",
      "\n",
      "Scrolling attempt 1\n",
      "Error while scraping comments: Message: \n",
      "\n",
      "Scrolling attempt 0\n",
      "Error while scraping comments: Message: \n",
      "\n",
      "DataFrame is empty.\n",
      "Error while scraping comments: Message: \n",
      "\n",
      "Scrolling attempt 3\n",
      "Scrolling attempt 2\n",
      "Scrolling attempt 1\n",
      "Scrolling attempt 0\n"
     ]
    },
    {
     "name": "stderr",
     "output_type": "stream",
     "text": [
      "[nltk_data] Downloading package stopwords to\n",
      "[nltk_data]     C:\\Users\\gandj\\AppData\\Roaming\\nltk_data...\n",
      "[nltk_data]   Package stopwords is already up-to-date!\n",
      "[nltk_data] Downloading package punkt to\n",
      "[nltk_data]     C:\\Users\\gandj\\AppData\\Roaming\\nltk_data...\n",
      "[nltk_data]   Package punkt is already up-to-date!\n",
      "[nltk_data] Downloading package vader_lexicon to\n",
      "[nltk_data]     C:\\Users\\gandj\\AppData\\Roaming\\nltk_data...\n",
      "[nltk_data]   Package vader_lexicon is already up-to-date!\n"
     ]
    },
    {
     "name": "stdout",
     "output_type": "stream",
     "text": [
      "Error while scraping comments: Message: \n",
      "\n",
      "Error while scraping comments: Message: \n",
      "\n",
      "Error while scraping comments: Message: \n",
      "\n",
      "Error while scraping comments: Message: \n",
      "\n",
      "Error while scraping comments: Message: \n",
      "\n",
      "Error while scraping comments: Message: \n",
      "\n",
      "Error while scraping comments: Message: \n",
      "\n",
      "Error while scraping comments: Message: \n",
      "\n",
      "Error while scraping comments: Message: \n",
      "\n",
      "Error while scraping comments: Message: \n",
      "\n",
      "Error while scraping comments: Message: \n",
      "\n",
      "Error while scraping comments: Message: \n",
      "\n",
      "Error while scraping comments: Message: \n",
      "\n",
      "Error while scraping comments: Message: \n",
      "\n",
      "Error while scraping comments: Message: \n",
      "\n",
      "Error while scraping comments: Message: \n",
      "\n",
      "Error while scraping comments: Message: \n",
      "\n",
      "Error while scraping comments: Message: \n",
      "\n",
      "Error while scraping comments: Message: \n",
      "\n",
      "Error while scraping comments: Message: \n",
      "\n",
      "Error while scraping comments: Message: \n",
      "\n",
      "Error while scraping comments: Message: \n",
      "\n",
      "Error while scraping comments: Message: \n",
      "\n",
      "Error while scraping comments: Message: \n",
      "\n",
      "Error while scraping comments: Message: \n",
      "\n",
      "Error while scraping comments: Message: \n",
      "\n",
      "Scrolling attempt 3\n",
      "Error while scraping comments: Message: \n",
      "\n",
      "Scrolling attempt 2\n",
      "Error while scraping comments: Message: \n",
      "\n",
      "Scrolling attempt 1\n",
      "Error while scraping comments: Message: \n",
      "\n",
      "Scrolling attempt 0\n",
      "Error while scraping comments: Message: \n",
      "\n",
      "DataFrame is empty.\n",
      "Error while scraping comments: Message: \n",
      "\n",
      "Scrolling attempt 3\n",
      "Scrolling attempt 2\n",
      "Scrolling attempt 1\n",
      "Scrolling attempt 0\n"
     ]
    },
    {
     "name": "stderr",
     "output_type": "stream",
     "text": [
      "[nltk_data] Downloading package stopwords to\n",
      "[nltk_data]     C:\\Users\\gandj\\AppData\\Roaming\\nltk_data...\n",
      "[nltk_data]   Package stopwords is already up-to-date!\n",
      "[nltk_data] Downloading package punkt to\n",
      "[nltk_data]     C:\\Users\\gandj\\AppData\\Roaming\\nltk_data...\n",
      "[nltk_data]   Package punkt is already up-to-date!\n",
      "[nltk_data] Downloading package vader_lexicon to\n",
      "[nltk_data]     C:\\Users\\gandj\\AppData\\Roaming\\nltk_data...\n",
      "[nltk_data]   Package vader_lexicon is already up-to-date!\n"
     ]
    },
    {
     "name": "stdout",
     "output_type": "stream",
     "text": [
      "Error while scraping comments: Message: \n",
      "\n",
      "Scrolling attempt 3\n",
      "Scrolling attempt 2\n",
      "Scrolling attempt 1\n",
      "Scrolling attempt 0\n"
     ]
    },
    {
     "name": "stderr",
     "output_type": "stream",
     "text": [
      "[nltk_data] Downloading package stopwords to\n",
      "[nltk_data]     C:\\Users\\gandj\\AppData\\Roaming\\nltk_data...\n",
      "[nltk_data]   Package stopwords is already up-to-date!\n",
      "[nltk_data] Downloading package punkt to\n",
      "[nltk_data]     C:\\Users\\gandj\\AppData\\Roaming\\nltk_data...\n",
      "[nltk_data]   Package punkt is already up-to-date!\n",
      "[nltk_data] Downloading package vader_lexicon to\n",
      "[nltk_data]     C:\\Users\\gandj\\AppData\\Roaming\\nltk_data...\n",
      "[nltk_data]   Package vader_lexicon is already up-to-date!\n"
     ]
    },
    {
     "name": "stdout",
     "output_type": "stream",
     "text": [
      "Error while scraping comments: Message: \n",
      "\n",
      "Scrolling attempt 3\n",
      "Scrolling attempt 3\n",
      "Scrolling attempt 2\n",
      "Scrolling attempt 1\n",
      "Scrolling attempt 0\n"
     ]
    },
    {
     "name": "stderr",
     "output_type": "stream",
     "text": [
      "[nltk_data] Downloading package stopwords to\n",
      "[nltk_data]     C:\\Users\\gandj\\AppData\\Roaming\\nltk_data...\n",
      "[nltk_data]   Package stopwords is already up-to-date!\n",
      "[nltk_data] Downloading package punkt to\n",
      "[nltk_data]     C:\\Users\\gandj\\AppData\\Roaming\\nltk_data...\n",
      "[nltk_data]   Package punkt is already up-to-date!\n",
      "[nltk_data] Downloading package vader_lexicon to\n",
      "[nltk_data]     C:\\Users\\gandj\\AppData\\Roaming\\nltk_data...\n",
      "[nltk_data]   Package vader_lexicon is already up-to-date!\n"
     ]
    },
    {
     "name": "stdout",
     "output_type": "stream",
     "text": [
      "Error while scraping comments: Message: \n",
      "\n",
      "Scrolling attempt 3\n",
      "Scrolling attempt 2\n",
      "Scrolling attempt 1\n",
      "Scrolling attempt 0\n"
     ]
    },
    {
     "name": "stderr",
     "output_type": "stream",
     "text": [
      "[nltk_data] Downloading package stopwords to\n",
      "[nltk_data]     C:\\Users\\gandj\\AppData\\Roaming\\nltk_data...\n",
      "[nltk_data]   Package stopwords is already up-to-date!\n",
      "[nltk_data] Downloading package punkt to\n",
      "[nltk_data]     C:\\Users\\gandj\\AppData\\Roaming\\nltk_data...\n",
      "[nltk_data]   Package punkt is already up-to-date!\n",
      "[nltk_data] Downloading package vader_lexicon to\n",
      "[nltk_data]     C:\\Users\\gandj\\AppData\\Roaming\\nltk_data...\n",
      "[nltk_data]   Package vader_lexicon is already up-to-date!\n"
     ]
    },
    {
     "name": "stdout",
     "output_type": "stream",
     "text": [
      "Error while scraping comments: Message: \n",
      "\n",
      "Error while scraping comments: Message: \n",
      "\n",
      "Error while scraping comments: Message: \n",
      "\n",
      "Error while scraping comments: Message: \n",
      "\n",
      "Error while scraping comments: Message: \n",
      "\n",
      "Error while scraping comments: Message: \n",
      "\n",
      "Error while scraping comments: Message: \n",
      "\n",
      "Error while scraping comments: Message: \n",
      "\n",
      "Error while scraping comments: Message: \n",
      "\n",
      "Error while scraping comments: Message: \n",
      "\n",
      "Error while scraping comments: Message: \n",
      "\n",
      "Error while scraping comments: Message: \n",
      "\n",
      "Error while scraping comments: Message: \n",
      "\n",
      "Error while scraping comments: Message: \n",
      "\n",
      "Error while scraping comments: Message: \n",
      "\n",
      "Error while scraping comments: Message: \n",
      "\n",
      "Error while scraping comments: Message: \n",
      "\n",
      "Error while scraping comments: Message: \n",
      "\n",
      "Error while scraping comments: Message: \n",
      "\n",
      "Error while scraping comments: Message: \n",
      "\n",
      "Error while scraping comments: Message: \n",
      "\n",
      "Error while scraping comments: Message: \n",
      "\n",
      "Error while scraping comments: Message: \n",
      "\n",
      "Error while scraping comments: Message: \n",
      "\n",
      "Error while scraping comments: Message: \n",
      "\n",
      "Error while scraping comments: Message: \n",
      "\n",
      "Error while scraping comments: Message: \n",
      "\n",
      "Error while scraping comments: Message: \n",
      "\n",
      "Error while scraping comments: Message: \n",
      "\n",
      "Scrolling attempt 3\n",
      "Error while scraping comments: Message: \n",
      "\n",
      "Scrolling attempt 2\n",
      "Error while scraping comments: Message: \n",
      "\n",
      "Scrolling attempt 1\n",
      "Error while scraping comments: Message: \n",
      "\n",
      "Scrolling attempt 0\n",
      "Error while scraping comments: Message: \n",
      "\n",
      "DataFrame is empty.\n",
      "Error while scraping comments: Message: \n",
      "\n",
      "Error while scraping comments: Message: \n",
      "\n",
      "Error while scraping comments: Message: \n",
      "\n",
      "Error while scraping comments: Message: \n",
      "\n",
      "Error while scraping comments: Message: \n",
      "\n",
      "Error while scraping comments: Message: \n",
      "\n",
      "Error while scraping comments: Message: \n",
      "\n",
      "Error while scraping comments: Message: \n",
      "\n",
      "Error while scraping comments: Message: \n",
      "\n",
      "Error while scraping comments: Message: \n",
      "\n",
      "Error while scraping comments: Message: \n",
      "\n",
      "Error while scraping comments: Message: \n",
      "\n",
      "Error while scraping comments: Message: \n",
      "\n",
      "Error while scraping comments: Message: \n",
      "\n",
      "Error while scraping comments: Message: \n",
      "\n",
      "Error while scraping comments: Message: \n",
      "\n",
      "Error while scraping comments: Message: \n",
      "\n",
      "Error while scraping comments: Message: \n",
      "\n",
      "Scrolling attempt 3\n",
      "Error while scraping comments: Message: \n",
      "\n",
      "Scrolling attempt 2\n",
      "Error while scraping comments: Message: \n",
      "\n",
      "Scrolling attempt 1\n",
      "Error while scraping comments: Message: \n",
      "\n",
      "Scrolling attempt 0\n",
      "Error while scraping comments: Message: \n",
      "\n",
      "DataFrame is empty.\n",
      "Scrolling attempt 3\n",
      "Scrolling attempt 2\n",
      "Scrolling attempt 1\n",
      "Scrolling attempt 0\n"
     ]
    },
    {
     "name": "stderr",
     "output_type": "stream",
     "text": [
      "[nltk_data] Downloading package stopwords to\n",
      "[nltk_data]     C:\\Users\\gandj\\AppData\\Roaming\\nltk_data...\n",
      "[nltk_data]   Package stopwords is already up-to-date!\n",
      "[nltk_data] Downloading package punkt to\n",
      "[nltk_data]     C:\\Users\\gandj\\AppData\\Roaming\\nltk_data...\n",
      "[nltk_data]   Package punkt is already up-to-date!\n",
      "[nltk_data] Downloading package vader_lexicon to\n",
      "[nltk_data]     C:\\Users\\gandj\\AppData\\Roaming\\nltk_data...\n",
      "[nltk_data]   Package vader_lexicon is already up-to-date!\n"
     ]
    },
    {
     "name": "stdout",
     "output_type": "stream",
     "text": [
      "Error while scraping comments: Message: \n",
      "\n",
      "Error while scraping comments: Message: \n",
      "\n",
      "Error while scraping comments: Message: \n",
      "\n",
      "Error while scraping comments: Message: \n",
      "\n",
      "Error while scraping comments: Message: \n",
      "\n",
      "Error while scraping comments: Message: \n",
      "\n",
      "Error while scraping comments: Message: \n",
      "\n",
      "Error while scraping comments: Message: \n",
      "\n",
      "Error while scraping comments: Message: \n",
      "\n",
      "Error while scraping comments: Message: \n",
      "\n",
      "Error while scraping comments: Message: \n",
      "\n",
      "Error while scraping comments: Message: \n",
      "\n",
      "Error while scraping comments: Message: \n",
      "\n",
      "Error while scraping comments: Message: \n",
      "\n",
      "Error while scraping comments: Message: \n",
      "\n",
      "Error while scraping comments: Message: \n",
      "\n",
      "Error while scraping comments: Message: \n",
      "\n",
      "Error while scraping comments: Message: \n",
      "\n",
      "Error while scraping comments: Message: \n",
      "\n",
      "Error while scraping comments: Message: \n",
      "\n",
      "Error while scraping comments: Message: \n",
      "\n",
      "Scrolling attempt 3\n",
      "Error while scraping comments: Message: \n",
      "\n",
      "Scrolling attempt 2\n",
      "Error while scraping comments: Message: \n",
      "\n",
      "Scrolling attempt 1\n",
      "Error while scraping comments: Message: \n",
      "\n",
      "Scrolling attempt 0\n",
      "Error while scraping comments: Message: \n",
      "\n",
      "DataFrame is empty.\n",
      "Error while scraping comments: Message: \n",
      "\n",
      "Scrolling attempt 3\n",
      "Scrolling attempt 2\n",
      "Scrolling attempt 1\n",
      "Scrolling attempt 0\n"
     ]
    },
    {
     "name": "stderr",
     "output_type": "stream",
     "text": [
      "[nltk_data] Downloading package stopwords to\n",
      "[nltk_data]     C:\\Users\\gandj\\AppData\\Roaming\\nltk_data...\n",
      "[nltk_data]   Package stopwords is already up-to-date!\n",
      "[nltk_data] Downloading package punkt to\n",
      "[nltk_data]     C:\\Users\\gandj\\AppData\\Roaming\\nltk_data...\n",
      "[nltk_data]   Package punkt is already up-to-date!\n",
      "[nltk_data] Downloading package vader_lexicon to\n",
      "[nltk_data]     C:\\Users\\gandj\\AppData\\Roaming\\nltk_data...\n",
      "[nltk_data]   Package vader_lexicon is already up-to-date!\n"
     ]
    },
    {
     "name": "stdout",
     "output_type": "stream",
     "text": [
      "Error while scraping comments: Message: \n",
      "\n",
      "Scrolling attempt 3\n",
      "Scrolling attempt 2\n",
      "Scrolling attempt 1\n",
      "Scrolling attempt 0\n"
     ]
    },
    {
     "name": "stderr",
     "output_type": "stream",
     "text": [
      "[nltk_data] Downloading package stopwords to\n",
      "[nltk_data]     C:\\Users\\gandj\\AppData\\Roaming\\nltk_data...\n",
      "[nltk_data]   Package stopwords is already up-to-date!\n",
      "[nltk_data] Downloading package punkt to\n",
      "[nltk_data]     C:\\Users\\gandj\\AppData\\Roaming\\nltk_data...\n",
      "[nltk_data]   Package punkt is already up-to-date!\n",
      "[nltk_data] Downloading package vader_lexicon to\n",
      "[nltk_data]     C:\\Users\\gandj\\AppData\\Roaming\\nltk_data...\n",
      "[nltk_data]   Package vader_lexicon is already up-to-date!\n"
     ]
    },
    {
     "name": "stdout",
     "output_type": "stream",
     "text": [
      "Error while scraping comments: Message: \n",
      "\n",
      "Scrolling attempt 3\n",
      "Scrolling attempt 2\n",
      "Scrolling attempt 1\n",
      "Scrolling attempt 0\n"
     ]
    },
    {
     "name": "stderr",
     "output_type": "stream",
     "text": [
      "[nltk_data] Downloading package stopwords to\n",
      "[nltk_data]     C:\\Users\\gandj\\AppData\\Roaming\\nltk_data...\n",
      "[nltk_data]   Package stopwords is already up-to-date!\n",
      "[nltk_data] Downloading package punkt to\n",
      "[nltk_data]     C:\\Users\\gandj\\AppData\\Roaming\\nltk_data...\n",
      "[nltk_data]   Package punkt is already up-to-date!\n",
      "[nltk_data] Downloading package vader_lexicon to\n",
      "[nltk_data]     C:\\Users\\gandj\\AppData\\Roaming\\nltk_data...\n",
      "[nltk_data]   Package vader_lexicon is already up-to-date!\n"
     ]
    },
    {
     "name": "stdout",
     "output_type": "stream",
     "text": [
      "Error while scraping comments: Message: \n",
      "\n",
      "Scrolling attempt 3\n",
      "Scrolling attempt 2\n",
      "Scrolling attempt 1\n",
      "Scrolling attempt 0\n"
     ]
    },
    {
     "name": "stderr",
     "output_type": "stream",
     "text": [
      "[nltk_data] Downloading package stopwords to\n",
      "[nltk_data]     C:\\Users\\gandj\\AppData\\Roaming\\nltk_data...\n",
      "[nltk_data]   Package stopwords is already up-to-date!\n",
      "[nltk_data] Downloading package punkt to\n",
      "[nltk_data]     C:\\Users\\gandj\\AppData\\Roaming\\nltk_data...\n",
      "[nltk_data]   Package punkt is already up-to-date!\n",
      "[nltk_data] Downloading package vader_lexicon to\n",
      "[nltk_data]     C:\\Users\\gandj\\AppData\\Roaming\\nltk_data...\n",
      "[nltk_data]   Package vader_lexicon is already up-to-date!\n"
     ]
    },
    {
     "name": "stdout",
     "output_type": "stream",
     "text": [
      "Error while scraping comments: Message: \n",
      "\n",
      "Error while scraping comments: Message: \n",
      "\n",
      "Error while scraping comments: Message: \n",
      "\n",
      "Error while scraping comments: Message: \n",
      "\n",
      "Error while scraping comments: Message: \n",
      "\n",
      "Error while scraping comments: Message: \n",
      "\n",
      "Error while scraping comments: Message: \n",
      "\n",
      "Error while scraping comments: Message: \n",
      "\n",
      "Error while scraping comments: Message: \n",
      "\n",
      "Error while scraping comments: Message: \n",
      "\n",
      "Error while scraping comments: Message: \n",
      "\n",
      "Error while scraping comments: Message: \n",
      "\n",
      "Error while scraping comments: Message: \n",
      "\n",
      "Error while scraping comments: Message: \n",
      "\n",
      "Error while scraping comments: Message: \n",
      "\n",
      "Error while scraping comments: Message: \n",
      "\n",
      "Error while scraping comments: Message: \n",
      "\n",
      "Error while scraping comments: Message: \n",
      "\n",
      "Error while scraping comments: Message: \n",
      "\n",
      "Error while scraping comments: Message: \n",
      "\n",
      "Error while scraping comments: Message: \n",
      "\n",
      "Error while scraping comments: Message: \n",
      "\n",
      "Error while scraping comments: Message: \n",
      "\n",
      "Error while scraping comments: Message: \n",
      "\n",
      "Error while scraping comments: Message: \n",
      "\n",
      "Error while scraping comments: Message: \n",
      "\n",
      "Scrolling attempt 3\n",
      "Error while scraping comments: Message: \n",
      "\n",
      "Scrolling attempt 2\n",
      "Error while scraping comments: Message: \n",
      "\n",
      "Scrolling attempt 1\n",
      "Error while scraping comments: Message: \n",
      "\n",
      "Scrolling attempt 0\n",
      "Error while scraping comments: Message: \n",
      "\n",
      "DataFrame is empty.\n",
      "Error while scraping comments: Message: \n",
      "\n",
      "Scrolling attempt 3\n",
      "Scrolling attempt 2\n",
      "Scrolling attempt 1\n",
      "Scrolling attempt 0\n"
     ]
    },
    {
     "name": "stderr",
     "output_type": "stream",
     "text": [
      "[nltk_data] Downloading package stopwords to\n",
      "[nltk_data]     C:\\Users\\gandj\\AppData\\Roaming\\nltk_data...\n",
      "[nltk_data]   Package stopwords is already up-to-date!\n",
      "[nltk_data] Downloading package punkt to\n",
      "[nltk_data]     C:\\Users\\gandj\\AppData\\Roaming\\nltk_data...\n",
      "[nltk_data]   Package punkt is already up-to-date!\n",
      "[nltk_data] Downloading package vader_lexicon to\n",
      "[nltk_data]     C:\\Users\\gandj\\AppData\\Roaming\\nltk_data...\n",
      "[nltk_data]   Package vader_lexicon is already up-to-date!\n"
     ]
    },
    {
     "name": "stdout",
     "output_type": "stream",
     "text": [
      "Error while scraping comments: Message: \n",
      "\n",
      "Error while scraping comments: Message: \n",
      "\n",
      "Error while scraping comments: Message: \n",
      "\n",
      "Error while scraping comments: Message: \n",
      "\n",
      "Error while scraping comments: Message: \n",
      "\n",
      "Error while scraping comments: Message: \n",
      "\n",
      "Error while scraping comments: Message: \n",
      "\n",
      "Error while scraping comments: Message: \n",
      "\n",
      "Error while scraping comments: Message: \n",
      "\n",
      "Error while scraping comments: Message: \n",
      "\n",
      "Error while scraping comments: Message: \n",
      "\n",
      "Error while scraping comments: Message: \n",
      "\n",
      "Error while scraping comments: Message: \n",
      "\n",
      "Error while scraping comments: Message: \n",
      "\n",
      "Error while scraping comments: Message: \n",
      "\n",
      "Error while scraping comments: Message: \n",
      "\n",
      "Error while scraping comments: Message: \n",
      "\n",
      "Error while scraping comments: Message: \n",
      "\n",
      "Error while scraping comments: Message: \n",
      "\n",
      "Error while scraping comments: Message: \n",
      "\n",
      "Error while scraping comments: Message: \n",
      "\n",
      "Scrolling attempt 3\n",
      "Error while scraping comments: Message: \n",
      "\n",
      "Scrolling attempt 2\n",
      "Error while scraping comments: Message: \n",
      "\n",
      "Scrolling attempt 1\n",
      "Error while scraping comments: Message: \n",
      "\n",
      "Scrolling attempt 0\n",
      "Error while scraping comments: Message: \n",
      "\n",
      "DataFrame is empty.\n",
      "Error while scraping comments: Message: \n",
      "\n",
      "Error while scraping comments: Message: \n",
      "\n",
      "Error while scraping comments: Message: \n",
      "\n",
      "Error while scraping comments: Message: \n",
      "\n",
      "Error while scraping comments: Message: \n",
      "\n",
      "Error while scraping comments: Message: \n",
      "\n",
      "Error while scraping comments: Message: \n",
      "\n",
      "Error while scraping comments: Message: \n",
      "\n",
      "Error while scraping comments: Message: \n",
      "\n",
      "Error while scraping comments: Message: \n",
      "\n",
      "Error while scraping comments: Message: \n",
      "\n",
      "Error while scraping comments: Message: \n",
      "\n",
      "Error while scraping comments: Message: \n",
      "\n",
      "Error while scraping comments: Message: \n",
      "\n",
      "Error while scraping comments: Message: \n",
      "\n",
      "Error while scraping comments: Message: \n",
      "\n",
      "Error while scraping comments: Message: \n",
      "\n",
      "Error while scraping comments: Message: \n",
      "\n",
      "Error while scraping comments: Message: \n",
      "\n",
      "Error while scraping comments: Message: \n",
      "\n",
      "Error while scraping comments: Message: \n",
      "\n",
      "Error while scraping comments: Message: \n",
      "\n",
      "Error while scraping comments: Message: \n",
      "\n",
      "Error while scraping comments: Message: \n",
      "\n",
      "Error while scraping comments: Message: \n",
      "\n",
      "Error while scraping comments: Message: \n",
      "\n",
      "Error while scraping comments: Message: \n",
      "\n",
      "Error while scraping comments: Message: \n",
      "\n",
      "Scrolling attempt 3\n",
      "Error while scraping comments: Message: \n",
      "\n",
      "Scrolling attempt 2\n",
      "Error while scraping comments: Message: \n",
      "\n",
      "Scrolling attempt 1\n",
      "Error while scraping comments: Message: \n",
      "\n",
      "Scrolling attempt 0\n",
      "Error while scraping comments: Message: \n",
      "\n",
      "DataFrame is empty.\n",
      "Error while scraping comments: Message: \n",
      "\n",
      "Scrolling attempt 3\n",
      "Scrolling attempt 2\n",
      "Scrolling attempt 1\n",
      "Scrolling attempt 0\n"
     ]
    },
    {
     "name": "stderr",
     "output_type": "stream",
     "text": [
      "[nltk_data] Downloading package stopwords to\n",
      "[nltk_data]     C:\\Users\\gandj\\AppData\\Roaming\\nltk_data...\n",
      "[nltk_data]   Package stopwords is already up-to-date!\n",
      "[nltk_data] Downloading package punkt to\n",
      "[nltk_data]     C:\\Users\\gandj\\AppData\\Roaming\\nltk_data...\n",
      "[nltk_data]   Package punkt is already up-to-date!\n",
      "[nltk_data] Downloading package vader_lexicon to\n",
      "[nltk_data]     C:\\Users\\gandj\\AppData\\Roaming\\nltk_data...\n",
      "[nltk_data]   Package vader_lexicon is already up-to-date!\n"
     ]
    },
    {
     "name": "stdout",
     "output_type": "stream",
     "text": [
      "Error while scraping comments: Message: \n",
      "\n",
      "Error while scraping comments: Message: \n",
      "\n",
      "Error while scraping comments: Message: \n",
      "\n",
      "Error while scraping comments: Message: \n",
      "\n",
      "Error while scraping comments: Message: \n",
      "\n",
      "Error while scraping comments: Message: \n",
      "\n",
      "Error while scraping comments: Message: \n",
      "\n",
      "Error while scraping comments: Message: \n",
      "\n",
      "Error while scraping comments: Message: \n",
      "\n",
      "Error while scraping comments: Message: \n",
      "\n",
      "Error while scraping comments: Message: \n",
      "\n",
      "Error while scraping comments: Message: \n",
      "\n",
      "Error while scraping comments: Message: \n",
      "\n",
      "Error while scraping comments: Message: \n",
      "\n",
      "Error while scraping comments: Message: \n",
      "\n",
      "Scrolling attempt 3\n",
      "Error while scraping comments: Message: \n",
      "\n",
      "Scrolling attempt 2\n",
      "Error while scraping comments: Message: \n",
      "\n",
      "Scrolling attempt 1\n",
      "Error while scraping comments: Message: \n",
      "\n",
      "Scrolling attempt 0\n",
      "Error while scraping comments: Message: \n",
      "\n",
      "DataFrame is empty.\n",
      "Error while scraping comments: Message: \n",
      "\n",
      "Error while scraping comments: Message: \n",
      "\n",
      "Error while scraping comments: Message: \n",
      "\n",
      "Error while scraping comments: Message: \n",
      "\n",
      "Error while scraping comments: Message: \n",
      "\n",
      "Error while scraping comments: Message: \n",
      "\n",
      "Error while scraping comments: Message: \n",
      "\n",
      "Error while scraping comments: Message: \n",
      "\n",
      "Error while scraping comments: Message: \n",
      "\n",
      "Error while scraping comments: Message: \n",
      "\n",
      "Error while scraping comments: Message: \n",
      "\n",
      "Error while scraping comments: Message: \n",
      "\n",
      "Error while scraping comments: Message: \n",
      "\n",
      "Error while scraping comments: Message: \n",
      "\n",
      "Error while scraping comments: Message: \n",
      "\n",
      "Error while scraping comments: Message: \n",
      "\n",
      "Error while scraping comments: Message: \n",
      "\n",
      "Error while scraping comments: Message: \n",
      "\n",
      "Error while scraping comments: Message: \n",
      "\n",
      "Error while scraping comments: Message: \n",
      "\n",
      "Error while scraping comments: Message: \n",
      "\n",
      "Scrolling attempt 3\n",
      "Error while scraping comments: Message: \n",
      "\n",
      "Scrolling attempt 2\n",
      "Error while scraping comments: Message: \n",
      "\n",
      "Scrolling attempt 1\n",
      "Error while scraping comments: Message: \n",
      "\n",
      "Scrolling attempt 0\n",
      "Error while scraping comments: Message: \n",
      "\n",
      "DataFrame is empty.\n",
      "Error while scraping comments: Message: \n",
      "\n",
      "Error while scraping comments: Message: \n",
      "\n",
      "Error while scraping comments: Message: \n",
      "\n",
      "Error while scraping comments: Message: \n",
      "\n",
      "Error while scraping comments: Message: \n",
      "\n",
      "Error while scraping comments: Message: \n",
      "\n",
      "Error while scraping comments: Message: \n",
      "\n",
      "Error while scraping comments: Message: \n",
      "\n",
      "Error while scraping comments: Message: \n",
      "\n",
      "Error while scraping comments: Message: \n",
      "\n",
      "Error while scraping comments: Message: \n",
      "\n",
      "Error while scraping comments: Message: \n",
      "\n",
      "Error while scraping comments: Message: \n",
      "\n",
      "Error while scraping comments: Message: \n",
      "\n",
      "Error while scraping comments: Message: \n",
      "\n",
      "Error while scraping comments: Message: \n",
      "\n",
      "Error while scraping comments: Message: \n",
      "\n",
      "Scrolling attempt 3\n",
      "Error while scraping comments: Message: \n",
      "\n",
      "Scrolling attempt 2\n",
      "Error while scraping comments: Message: \n",
      "\n",
      "Scrolling attempt 1\n",
      "Error while scraping comments: Message: \n",
      "\n",
      "Scrolling attempt 0\n",
      "Error while scraping comments: Message: \n",
      "\n",
      "DataFrame is empty.\n",
      "Scrolling attempt 3\n",
      "Scrolling attempt 2\n",
      "Scrolling attempt 1\n",
      "Scrolling attempt 0\n"
     ]
    },
    {
     "name": "stderr",
     "output_type": "stream",
     "text": [
      "[nltk_data] Downloading package stopwords to\n",
      "[nltk_data]     C:\\Users\\gandj\\AppData\\Roaming\\nltk_data...\n",
      "[nltk_data]   Package stopwords is already up-to-date!\n",
      "[nltk_data] Downloading package punkt to\n",
      "[nltk_data]     C:\\Users\\gandj\\AppData\\Roaming\\nltk_data...\n",
      "[nltk_data]   Package punkt is already up-to-date!\n",
      "[nltk_data] Downloading package vader_lexicon to\n",
      "[nltk_data]     C:\\Users\\gandj\\AppData\\Roaming\\nltk_data...\n",
      "[nltk_data]   Package vader_lexicon is already up-to-date!\n"
     ]
    },
    {
     "name": "stdout",
     "output_type": "stream",
     "text": [
      "Error while scraping comments: Message: \n",
      "\n",
      "Error while scraping comments: Message: \n",
      "\n",
      "Error while scraping comments: Message: \n",
      "\n",
      "Error while scraping comments: Message: \n",
      "\n",
      "Error while scraping comments: Message: \n",
      "\n",
      "Error while scraping comments: Message: \n",
      "\n",
      "Error while scraping comments: Message: \n",
      "\n",
      "Error while scraping comments: Message: \n",
      "\n",
      "Error while scraping comments: Message: \n",
      "\n",
      "Error while scraping comments: Message: \n",
      "\n",
      "Error while scraping comments: Message: \n",
      "\n",
      "Error while scraping comments: Message: \n",
      "\n",
      "Error while scraping comments: Message: \n",
      "\n",
      "Scrolling attempt 3\n",
      "Error while scraping comments: Message: \n",
      "\n",
      "Scrolling attempt 2\n",
      "Error while scraping comments: Message: \n",
      "\n",
      "Scrolling attempt 1\n",
      "Error while scraping comments: Message: \n",
      "\n",
      "Scrolling attempt 0\n",
      "Error while scraping comments: Message: \n",
      "\n",
      "DataFrame is empty.\n",
      "Error while scraping comments: Message: \n",
      "\n",
      "Error while scraping comments: Message: \n",
      "\n",
      "Error while scraping comments: Message: \n",
      "\n",
      "Error while scraping comments: Message: \n",
      "\n",
      "Error while scraping comments: Message: \n",
      "\n",
      "Error while scraping comments: Message: \n",
      "\n",
      "Error while scraping comments: Message: \n",
      "\n",
      "Error while scraping comments: Message: \n",
      "\n",
      "Error while scraping comments: Message: \n",
      "\n",
      "Error while scraping comments: Message: \n",
      "\n",
      "Error while scraping comments: Message: \n",
      "\n",
      "Error while scraping comments: Message: \n",
      "\n",
      "Error while scraping comments: Message: \n",
      "\n",
      "Error while scraping comments: Message: \n",
      "\n",
      "Error while scraping comments: Message: \n",
      "\n",
      "Error while scraping comments: Message: \n",
      "\n",
      "Error while scraping comments: Message: \n",
      "\n",
      "Error while scraping comments: Message: \n",
      "\n",
      "Error while scraping comments: Message: \n",
      "\n",
      "Scrolling attempt 3\n",
      "Error while scraping comments: Message: \n",
      "\n",
      "Scrolling attempt 2\n",
      "Error while scraping comments: Message: \n",
      "\n",
      "Scrolling attempt 1\n",
      "Error while scraping comments: Message: \n",
      "\n",
      "Scrolling attempt 0\n",
      "Error while scraping comments: Message: \n",
      "\n",
      "DataFrame is empty.\n",
      "Error while scraping comments: Message: \n",
      "\n",
      "Error while scraping comments: Message: \n",
      "\n",
      "Error while scraping comments: Message: \n",
      "\n",
      "Error while scraping comments: Message: \n",
      "\n",
      "Error while scraping comments: Message: \n",
      "\n",
      "Error while scraping comments: Message: \n",
      "\n",
      "Error while scraping comments: Message: \n",
      "\n",
      "Error while scraping comments: Message: \n",
      "\n",
      "Error while scraping comments: Message: \n",
      "\n",
      "Error while scraping comments: Message: \n",
      "\n",
      "Error while scraping comments: Message: \n",
      "\n",
      "Scrolling attempt 3\n",
      "Error while scraping comments: Message: \n",
      "\n",
      "Scrolling attempt 2\n",
      "Error while scraping comments: Message: \n",
      "\n",
      "Scrolling attempt 1\n",
      "Error while scraping comments: Message: \n",
      "\n",
      "Scrolling attempt 0\n",
      "Error while scraping comments: Message: \n",
      "\n",
      "DataFrame is empty.\n",
      "Error while scraping comments: Message: \n",
      "\n",
      "Scrolling attempt 3\n",
      "Scrolling attempt 2\n",
      "Scrolling attempt 1\n",
      "Scrolling attempt 0\n"
     ]
    },
    {
     "name": "stderr",
     "output_type": "stream",
     "text": [
      "[nltk_data] Downloading package stopwords to\n",
      "[nltk_data]     C:\\Users\\gandj\\AppData\\Roaming\\nltk_data...\n",
      "[nltk_data]   Package stopwords is already up-to-date!\n",
      "[nltk_data] Downloading package punkt to\n",
      "[nltk_data]     C:\\Users\\gandj\\AppData\\Roaming\\nltk_data...\n",
      "[nltk_data]   Package punkt is already up-to-date!\n",
      "[nltk_data] Downloading package vader_lexicon to\n",
      "[nltk_data]     C:\\Users\\gandj\\AppData\\Roaming\\nltk_data...\n",
      "[nltk_data]   Package vader_lexicon is already up-to-date!\n"
     ]
    },
    {
     "name": "stdout",
     "output_type": "stream",
     "text": [
      "Error while scraping comments: Message: \n",
      "\n",
      "Error while scraping comments: Message: \n",
      "\n",
      "Error while scraping comments: Message: \n",
      "\n",
      "Error while scraping comments: Message: \n",
      "\n",
      "Error while scraping comments: Message: \n",
      "\n",
      "Error while scraping comments: Message: \n",
      "\n",
      "Error while scraping comments: Message: \n",
      "\n",
      "Error while scraping comments: Message: \n",
      "\n",
      "Error while scraping comments: Message: \n",
      "\n",
      "Error while scraping comments: Message: \n",
      "\n",
      "Error while scraping comments: Message: \n",
      "\n",
      "Error while scraping comments: Message: \n",
      "\n",
      "Error while scraping comments: Message: \n",
      "\n",
      "Error while scraping comments: Message: \n",
      "\n",
      "Error while scraping comments: Message: \n",
      "\n",
      "Error while scraping comments: Message: \n",
      "\n",
      "Scrolling attempt 3\n",
      "Error while scraping comments: Message: \n",
      "\n",
      "Scrolling attempt 2\n",
      "Error while scraping comments: Message: \n",
      "\n",
      "Scrolling attempt 1\n",
      "Error while scraping comments: Message: \n",
      "\n",
      "Scrolling attempt 0\n",
      "Error while scraping comments: Message: \n",
      "\n",
      "DataFrame is empty.\n",
      "Error while scraping comments: Message: \n",
      "\n",
      "Error while scraping comments: Message: \n",
      "\n",
      "Error while scraping comments: Message: \n",
      "\n",
      "Error while scraping comments: Message: \n",
      "\n",
      "Error while scraping comments: Message: \n",
      "\n",
      "Error while scraping comments: Message: \n",
      "\n",
      "Error while scraping comments: Message: \n",
      "\n",
      "Error while scraping comments: Message: \n",
      "\n",
      "Error while scraping comments: Message: \n",
      "\n",
      "Error while scraping comments: Message: \n",
      "\n",
      "Error while scraping comments: Message: \n",
      "\n",
      "Error while scraping comments: Message: \n",
      "\n",
      "Error while scraping comments: Message: \n",
      "\n",
      "Error while scraping comments: Message: \n",
      "\n",
      "Error while scraping comments: Message: \n",
      "\n",
      "Error while scraping comments: Message: \n",
      "\n",
      "Error while scraping comments: Message: \n",
      "\n",
      "Scrolling attempt 3\n",
      "Error while scraping comments: Message: \n",
      "\n",
      "Error while scraping comments: Message: \n",
      "\n",
      "Error while scraping comments: Message: \n",
      "\n",
      "Error while scraping comments: Message: \n",
      "\n",
      "Error while scraping comments: Message: \n",
      "\n",
      "Error while scraping comments: Message: \n",
      "\n",
      "Error while scraping comments: Message: \n",
      "\n",
      "Scrolling attempt 3\n",
      "Error while scraping comments: Message: \n",
      "\n",
      "Scrolling attempt 2\n",
      "Error while scraping comments: Message: \n",
      "\n",
      "Scrolling attempt 1\n",
      "Error while scraping comments: Message: \n",
      "\n",
      "Scrolling attempt 0\n",
      "Error while scraping comments: Message: \n",
      "\n",
      "DataFrame is empty.\n",
      "Error while scraping comments: Message: \n",
      "\n",
      "Error while scraping comments: Message: \n",
      "\n",
      "Error while scraping comments: Message: \n",
      "\n",
      "Error while scraping comments: Message: \n",
      "\n",
      "Error while scraping comments: Message: \n",
      "\n",
      "Error while scraping comments: Message: \n",
      "\n",
      "Error while scraping comments: Message: \n",
      "\n",
      "Error while scraping comments: Message: \n",
      "\n",
      "Error while scraping comments: Message: \n",
      "\n",
      "Error while scraping comments: Message: \n",
      "\n",
      "Error while scraping comments: Message: \n",
      "\n",
      "Error while scraping comments: Message: \n",
      "\n",
      "Error while scraping comments: Message: \n",
      "\n",
      "Error while scraping comments: Message: \n",
      "\n",
      "Error while scraping comments: Message: \n",
      "\n",
      "Scrolling attempt 3\n",
      "Error while scraping comments: Message: \n",
      "\n",
      "Scrolling attempt 2\n",
      "Error while scraping comments: Message: \n",
      "\n",
      "Scrolling attempt 1\n",
      "Error while scraping comments: Message: \n",
      "\n",
      "Scrolling attempt 0\n",
      "Error while scraping comments: Message: \n",
      "\n",
      "DataFrame is empty.\n",
      "Error while scraping comments: Message: \n",
      "\n",
      "Scrolling attempt 3\n",
      "Scrolling attempt 2\n",
      "Scrolling attempt 1\n",
      "Scrolling attempt 0\n"
     ]
    },
    {
     "name": "stderr",
     "output_type": "stream",
     "text": [
      "[nltk_data] Downloading package stopwords to\n",
      "[nltk_data]     C:\\Users\\gandj\\AppData\\Roaming\\nltk_data...\n",
      "[nltk_data]   Package stopwords is already up-to-date!\n",
      "[nltk_data] Downloading package punkt to\n",
      "[nltk_data]     C:\\Users\\gandj\\AppData\\Roaming\\nltk_data...\n",
      "[nltk_data]   Package punkt is already up-to-date!\n",
      "[nltk_data] Downloading package vader_lexicon to\n",
      "[nltk_data]     C:\\Users\\gandj\\AppData\\Roaming\\nltk_data...\n",
      "[nltk_data]   Package vader_lexicon is already up-to-date!\n"
     ]
    },
    {
     "name": "stdout",
     "output_type": "stream",
     "text": [
      "Error while scraping comments: Message: \n",
      "\n",
      "Error while scraping comments: Message: \n",
      "\n",
      "Error while scraping comments: Message: \n",
      "\n",
      "Error while scraping comments: Message: \n",
      "\n",
      "Error while scraping comments: Message: \n",
      "\n",
      "Error while scraping comments: Message: \n",
      "\n",
      "Error while scraping comments: Message: \n",
      "\n",
      "Error while scraping comments: Message: \n",
      "\n",
      "Error while scraping comments: Message: \n",
      "\n",
      "Error while scraping comments: Message: \n",
      "\n",
      "Error while scraping comments: Message: \n",
      "\n",
      "Error while scraping comments: Message: \n",
      "\n",
      "Error while scraping comments: Message: \n",
      "\n",
      "Error while scraping comments: Message: \n",
      "\n",
      "Error while scraping comments: Message: \n",
      "\n",
      "Error while scraping comments: Message: \n",
      "\n",
      "Error while scraping comments: Message: \n",
      "\n",
      "Error while scraping comments: Message: \n",
      "\n",
      "Error while scraping comments: Message: \n",
      "\n",
      "Error while scraping comments: Message: \n",
      "\n",
      "Scrolling attempt 3\n",
      "Error while scraping comments: Message: \n",
      "\n",
      "Scrolling attempt 2\n",
      "Error while scraping comments: Message: \n",
      "\n",
      "Scrolling attempt 1\n",
      "Error while scraping comments: Message: \n",
      "\n",
      "Scrolling attempt 0\n",
      "Error while scraping comments: Message: \n",
      "\n",
      "DataFrame is empty.\n",
      "Error while scraping comments: Message: \n",
      "\n",
      "Scrolling attempt 3\n",
      "Scrolling attempt 2\n",
      "Scrolling attempt 1\n",
      "Scrolling attempt 0\n"
     ]
    },
    {
     "name": "stderr",
     "output_type": "stream",
     "text": [
      "[nltk_data] Downloading package stopwords to\n",
      "[nltk_data]     C:\\Users\\gandj\\AppData\\Roaming\\nltk_data...\n",
      "[nltk_data]   Package stopwords is already up-to-date!\n",
      "[nltk_data] Downloading package punkt to\n",
      "[nltk_data]     C:\\Users\\gandj\\AppData\\Roaming\\nltk_data...\n",
      "[nltk_data]   Package punkt is already up-to-date!\n",
      "[nltk_data] Downloading package vader_lexicon to\n",
      "[nltk_data]     C:\\Users\\gandj\\AppData\\Roaming\\nltk_data...\n",
      "[nltk_data]   Package vader_lexicon is already up-to-date!\n"
     ]
    },
    {
     "name": "stdout",
     "output_type": "stream",
     "text": [
      "Error while scraping comments: Message: \n",
      "\n",
      "Error while scraping comments: Message: \n",
      "\n",
      "Error while scraping comments: Message: \n",
      "\n",
      "Error while scraping comments: Message: \n",
      "\n",
      "Error while scraping comments: Message: \n",
      "\n",
      "Error while scraping comments: Message: \n",
      "\n",
      "Error while scraping comments: Message: \n",
      "\n",
      "Error while scraping comments: Message: \n",
      "\n",
      "Error while scraping comments: Message: \n",
      "\n",
      "Error while scraping comments: Message: \n",
      "\n",
      "Error while scraping comments: Message: \n",
      "\n",
      "Error while scraping comments: Message: \n",
      "\n",
      "Error while scraping comments: Message: \n",
      "\n",
      "Scrolling attempt 3\n",
      "Error while scraping comments: Message: \n",
      "\n",
      "Scrolling attempt 2\n",
      "Error while scraping comments: Message: \n",
      "\n",
      "Scrolling attempt 1\n",
      "Error while scraping comments: Message: \n",
      "\n",
      "Scrolling attempt 0\n",
      "Error while scraping comments: Message: \n",
      "\n",
      "DataFrame is empty.\n",
      "Error while scraping comments: Message: \n",
      "\n",
      "Scrolling attempt 3\n",
      "Scrolling attempt 2\n",
      "Scrolling attempt 1\n",
      "Scrolling attempt 0\n"
     ]
    },
    {
     "name": "stderr",
     "output_type": "stream",
     "text": [
      "[nltk_data] Downloading package stopwords to\n",
      "[nltk_data]     C:\\Users\\gandj\\AppData\\Roaming\\nltk_data...\n",
      "[nltk_data]   Package stopwords is already up-to-date!\n",
      "[nltk_data] Downloading package punkt to\n",
      "[nltk_data]     C:\\Users\\gandj\\AppData\\Roaming\\nltk_data...\n",
      "[nltk_data]   Package punkt is already up-to-date!\n",
      "[nltk_data] Downloading package vader_lexicon to\n",
      "[nltk_data]     C:\\Users\\gandj\\AppData\\Roaming\\nltk_data...\n",
      "[nltk_data]   Package vader_lexicon is already up-to-date!\n"
     ]
    },
    {
     "name": "stdout",
     "output_type": "stream",
     "text": [
      "Error while scraping comments: Message: \n",
      "\n",
      "Error while scraping comments: Message: \n",
      "\n",
      "Error while scraping comments: Message: \n",
      "\n",
      "Error while scraping comments: Message: \n",
      "\n",
      "Error while scraping comments: Message: \n",
      "\n",
      "Error while scraping comments: Message: \n",
      "\n",
      "Error while scraping comments: Message: \n",
      "\n",
      "Error while scraping comments: Message: \n",
      "\n",
      "Error while scraping comments: Message: \n",
      "\n",
      "Error while scraping comments: Message: \n",
      "\n",
      "Error while scraping comments: Message: \n",
      "\n",
      "Error while scraping comments: Message: \n",
      "\n",
      "Error while scraping comments: Message: \n",
      "\n",
      "Error while scraping comments: Message: \n",
      "\n",
      "Error while scraping comments: Message: \n",
      "\n",
      "Error while scraping comments: Message: \n",
      "\n",
      "Error while scraping comments: Message: \n",
      "\n",
      "Error while scraping comments: Message: \n",
      "\n",
      "Error while scraping comments: Message: \n",
      "\n",
      "Error while scraping comments: Message: \n",
      "\n",
      "Error while scraping comments: Message: \n",
      "\n",
      "Error while scraping comments: Message: \n",
      "\n",
      "Error while scraping comments: Message: \n",
      "\n",
      "Scrolling attempt 3\n",
      "Error while scraping comments: Message: \n",
      "\n",
      "Scrolling attempt 2\n",
      "Error while scraping comments: Message: \n",
      "\n",
      "Scrolling attempt 1\n",
      "Error while scraping comments: Message: \n",
      "\n",
      "Scrolling attempt 0\n",
      "Error while scraping comments: Message: \n",
      "\n",
      "DataFrame is empty.\n",
      "Scrolling attempt 3\n",
      "Scrolling attempt 2\n",
      "Scrolling attempt 1\n",
      "Scrolling attempt 0\n"
     ]
    },
    {
     "name": "stderr",
     "output_type": "stream",
     "text": [
      "[nltk_data] Downloading package stopwords to\n",
      "[nltk_data]     C:\\Users\\gandj\\AppData\\Roaming\\nltk_data...\n",
      "[nltk_data]   Package stopwords is already up-to-date!\n",
      "[nltk_data] Downloading package punkt to\n",
      "[nltk_data]     C:\\Users\\gandj\\AppData\\Roaming\\nltk_data...\n",
      "[nltk_data]   Package punkt is already up-to-date!\n",
      "[nltk_data] Downloading package vader_lexicon to\n",
      "[nltk_data]     C:\\Users\\gandj\\AppData\\Roaming\\nltk_data...\n",
      "[nltk_data]   Package vader_lexicon is already up-to-date!\n"
     ]
    },
    {
     "name": "stdout",
     "output_type": "stream",
     "text": [
      "Error while scraping comments: Message: \n",
      "\n",
      "Scrolling attempt 3\n",
      "Scrolling attempt 3\n",
      "Scrolling attempt 2\n",
      "Scrolling attempt 1\n",
      "Scrolling attempt 0\n"
     ]
    },
    {
     "name": "stderr",
     "output_type": "stream",
     "text": [
      "[nltk_data] Downloading package stopwords to\n",
      "[nltk_data]     C:\\Users\\gandj\\AppData\\Roaming\\nltk_data...\n",
      "[nltk_data]   Package stopwords is already up-to-date!\n",
      "[nltk_data] Downloading package punkt to\n",
      "[nltk_data]     C:\\Users\\gandj\\AppData\\Roaming\\nltk_data...\n",
      "[nltk_data]   Package punkt is already up-to-date!\n",
      "[nltk_data] Downloading package vader_lexicon to\n",
      "[nltk_data]     C:\\Users\\gandj\\AppData\\Roaming\\nltk_data...\n",
      "[nltk_data]   Package vader_lexicon is already up-to-date!\n"
     ]
    },
    {
     "name": "stdout",
     "output_type": "stream",
     "text": [
      "Error while scraping comments: Message: \n",
      "\n",
      "Error while scraping comments: Message: \n",
      "\n",
      "Error while scraping comments: Message: \n",
      "\n",
      "Error while scraping comments: Message: \n",
      "\n",
      "Error while scraping comments: Message: \n",
      "\n",
      "Error while scraping comments: Message: \n",
      "\n",
      "Error while scraping comments: Message: \n",
      "\n",
      "Error while scraping comments: Message: \n",
      "\n",
      "Error while scraping comments: Message: \n",
      "\n",
      "Error while scraping comments: Message: \n",
      "\n",
      "Error while scraping comments: Message: \n",
      "\n",
      "Error while scraping comments: Message: \n",
      "\n",
      "Error while scraping comments: Message: \n",
      "\n",
      "Error while scraping comments: Message: \n",
      "\n",
      "Error while scraping comments: Message: \n",
      "\n",
      "Error while scraping comments: Message: \n",
      "\n",
      "Error while scraping comments: Message: \n",
      "\n",
      "Error while scraping comments: Message: \n",
      "\n",
      "Error while scraping comments: Message: \n",
      "\n",
      "Error while scraping comments: Message: \n",
      "\n",
      "Error while scraping comments: Message: \n",
      "\n",
      "Error while scraping comments: Message: \n",
      "\n",
      "Error while scraping comments: Message: \n",
      "\n",
      "Scrolling attempt 3\n",
      "Error while scraping comments: Message: \n",
      "\n",
      "Scrolling attempt 2\n",
      "Error while scraping comments: Message: \n",
      "\n",
      "Scrolling attempt 1\n",
      "Error while scraping comments: Message: \n",
      "\n",
      "Scrolling attempt 0\n",
      "Error while scraping comments: Message: \n",
      "\n",
      "DataFrame is empty.\n",
      "Error while scraping comments: Message: \n",
      "\n",
      "Error while scraping comments: Message: \n",
      "\n",
      "Error while scraping comments: Message: \n",
      "\n",
      "Error while scraping comments: Message: \n",
      "\n",
      "Error while scraping comments: Message: \n",
      "\n",
      "Error while scraping comments: Message: \n",
      "\n",
      "Error while scraping comments: Message: \n",
      "\n",
      "Error while scraping comments: Message: \n",
      "\n",
      "Error while scraping comments: Message: \n",
      "\n",
      "Error while scraping comments: Message: \n",
      "\n",
      "Error while scraping comments: Message: \n",
      "\n",
      "Error while scraping comments: Message: \n",
      "\n",
      "Error while scraping comments: Message: \n",
      "\n",
      "Error while scraping comments: Message: \n",
      "\n",
      "Error while scraping comments: Message: \n",
      "\n",
      "Error while scraping comments: Message: \n",
      "\n",
      "Scrolling attempt 3\n",
      "Error while scraping comments: Message: \n",
      "\n",
      "Scrolling attempt 2\n",
      "Error while scraping comments: Message: \n",
      "\n",
      "Scrolling attempt 1\n",
      "Error while scraping comments: Message: \n",
      "\n",
      "Scrolling attempt 0\n",
      "Error while scraping comments: Message: \n",
      "\n",
      "DataFrame is empty.\n",
      "Scrolling attempt 3\n",
      "Scrolling attempt 2\n",
      "Scrolling attempt 1\n",
      "Scrolling attempt 0\n"
     ]
    },
    {
     "name": "stderr",
     "output_type": "stream",
     "text": [
      "[nltk_data] Downloading package stopwords to\n",
      "[nltk_data]     C:\\Users\\gandj\\AppData\\Roaming\\nltk_data...\n",
      "[nltk_data]   Package stopwords is already up-to-date!\n",
      "[nltk_data] Downloading package punkt to\n",
      "[nltk_data]     C:\\Users\\gandj\\AppData\\Roaming\\nltk_data...\n",
      "[nltk_data]   Package punkt is already up-to-date!\n",
      "[nltk_data] Downloading package vader_lexicon to\n",
      "[nltk_data]     C:\\Users\\gandj\\AppData\\Roaming\\nltk_data...\n",
      "[nltk_data]   Package vader_lexicon is already up-to-date!\n"
     ]
    },
    {
     "name": "stdout",
     "output_type": "stream",
     "text": [
      "Scrolling attempt 3\n",
      "Scrolling attempt 2\n",
      "Scrolling attempt 1\n",
      "Scrolling attempt 0\n"
     ]
    },
    {
     "name": "stderr",
     "output_type": "stream",
     "text": [
      "[nltk_data] Downloading package stopwords to\n",
      "[nltk_data]     C:\\Users\\gandj\\AppData\\Roaming\\nltk_data...\n",
      "[nltk_data]   Package stopwords is already up-to-date!\n",
      "[nltk_data] Downloading package punkt to\n",
      "[nltk_data]     C:\\Users\\gandj\\AppData\\Roaming\\nltk_data...\n",
      "[nltk_data]   Package punkt is already up-to-date!\n",
      "[nltk_data] Downloading package vader_lexicon to\n",
      "[nltk_data]     C:\\Users\\gandj\\AppData\\Roaming\\nltk_data...\n",
      "[nltk_data]   Package vader_lexicon is already up-to-date!\n"
     ]
    },
    {
     "name": "stdout",
     "output_type": "stream",
     "text": [
      "Scrolling attempt 3\n",
      "Scrolling attempt 2\n",
      "Scrolling attempt 1\n",
      "Scrolling attempt 0\n"
     ]
    },
    {
     "name": "stderr",
     "output_type": "stream",
     "text": [
      "[nltk_data] Downloading package stopwords to\n",
      "[nltk_data]     C:\\Users\\gandj\\AppData\\Roaming\\nltk_data...\n",
      "[nltk_data]   Package stopwords is already up-to-date!\n",
      "[nltk_data] Downloading package punkt to\n",
      "[nltk_data]     C:\\Users\\gandj\\AppData\\Roaming\\nltk_data...\n",
      "[nltk_data]   Package punkt is already up-to-date!\n",
      "[nltk_data] Downloading package vader_lexicon to\n",
      "[nltk_data]     C:\\Users\\gandj\\AppData\\Roaming\\nltk_data...\n",
      "[nltk_data]   Package vader_lexicon is already up-to-date!\n"
     ]
    },
    {
     "name": "stdout",
     "output_type": "stream",
     "text": [
      "Error while scraping comments: Message: \n",
      "\n",
      "Error while scraping comments: Message: \n",
      "\n",
      "Error while scraping comments: Message: \n",
      "\n",
      "Error while scraping comments: Message: \n",
      "\n",
      "Error while scraping comments: Message: \n",
      "\n",
      "Error while scraping comments: Message: \n",
      "\n",
      "Error while scraping comments: Message: \n",
      "\n",
      "Error while scraping comments: Message: \n",
      "\n",
      "Error while scraping comments: Message: \n",
      "\n",
      "Error while scraping comments: Message: \n",
      "\n",
      "Error while scraping comments: Message: \n",
      "\n",
      "Error while scraping comments: Message: \n",
      "\n",
      "Error while scraping comments: Message: \n",
      "\n",
      "Error while scraping comments: Message: \n",
      "\n",
      "Error while scraping comments: Message: \n",
      "\n",
      "Error while scraping comments: Message: \n",
      "\n",
      "Error while scraping comments: Message: \n",
      "\n",
      "Error while scraping comments: Message: \n",
      "\n",
      "Error while scraping comments: Message: \n",
      "\n",
      "Error while scraping comments: Message: \n",
      "\n",
      "Error while scraping comments: Message: \n",
      "\n",
      "Error while scraping comments: Message: \n",
      "\n",
      "Error while scraping comments: Message: \n",
      "\n",
      "Error while scraping comments: Message: \n",
      "\n",
      "Error while scraping comments: Message: \n",
      "\n",
      "Error while scraping comments: Message: \n",
      "\n",
      "Error while scraping comments: Message: \n",
      "\n",
      "Error while scraping comments: Message: \n",
      "\n",
      "Error while scraping comments: Message: \n",
      "\n",
      "Scrolling attempt 3\n",
      "Error while scraping comments: Message: \n",
      "\n",
      "Scrolling attempt 2\n",
      "Error while scraping comments: Message: \n",
      "\n",
      "Scrolling attempt 1\n",
      "Error while scraping comments: Message: \n",
      "\n",
      "Scrolling attempt 0\n",
      "Error while scraping comments: Message: \n",
      "\n",
      "DataFrame is empty.\n",
      "Scrolling attempt 3\n",
      "Scrolling attempt 2\n",
      "Scrolling attempt 1\n",
      "Scrolling attempt 0\n"
     ]
    },
    {
     "name": "stderr",
     "output_type": "stream",
     "text": [
      "[nltk_data] Downloading package stopwords to\n",
      "[nltk_data]     C:\\Users\\gandj\\AppData\\Roaming\\nltk_data...\n",
      "[nltk_data]   Package stopwords is already up-to-date!\n",
      "[nltk_data] Downloading package punkt to\n",
      "[nltk_data]     C:\\Users\\gandj\\AppData\\Roaming\\nltk_data...\n",
      "[nltk_data]   Package punkt is already up-to-date!\n",
      "[nltk_data] Downloading package vader_lexicon to\n",
      "[nltk_data]     C:\\Users\\gandj\\AppData\\Roaming\\nltk_data...\n",
      "[nltk_data]   Package vader_lexicon is already up-to-date!\n"
     ]
    },
    {
     "name": "stdout",
     "output_type": "stream",
     "text": [
      "Error while scraping comments: Message: \n",
      "\n",
      "Scrolling attempt 3\n",
      "Scrolling attempt 2\n",
      "Scrolling attempt 1\n",
      "Scrolling attempt 0\n"
     ]
    },
    {
     "name": "stderr",
     "output_type": "stream",
     "text": [
      "[nltk_data] Downloading package stopwords to\n",
      "[nltk_data]     C:\\Users\\gandj\\AppData\\Roaming\\nltk_data...\n",
      "[nltk_data]   Package stopwords is already up-to-date!\n",
      "[nltk_data] Downloading package punkt to\n",
      "[nltk_data]     C:\\Users\\gandj\\AppData\\Roaming\\nltk_data...\n",
      "[nltk_data]   Package punkt is already up-to-date!\n",
      "[nltk_data] Downloading package vader_lexicon to\n",
      "[nltk_data]     C:\\Users\\gandj\\AppData\\Roaming\\nltk_data...\n",
      "[nltk_data]   Package vader_lexicon is already up-to-date!\n"
     ]
    },
    {
     "name": "stdout",
     "output_type": "stream",
     "text": [
      "Error while scraping comments: Message: \n",
      "\n",
      "Error while scraping comments: Message: \n",
      "\n",
      "Error while scraping comments: Message: \n",
      "\n",
      "Error while scraping comments: Message: \n",
      "\n",
      "Error while scraping comments: Message: \n",
      "\n",
      "Error while scraping comments: Message: \n",
      "\n",
      "Error while scraping comments: Message: \n",
      "\n",
      "Error while scraping comments: Message: \n",
      "\n",
      "Error while scraping comments: Message: \n",
      "\n",
      "Error while scraping comments: Message: \n",
      "\n",
      "Error while scraping comments: Message: \n",
      "\n",
      "Error while scraping comments: Message: \n",
      "\n",
      "Error while scraping comments: Message: \n",
      "\n",
      "Error while scraping comments: Message: \n",
      "\n",
      "Error while scraping comments: Message: \n",
      "\n",
      "Error while scraping comments: Message: \n",
      "\n",
      "Error while scraping comments: Message: \n",
      "\n",
      "Scrolling attempt 3\n",
      "Error while scraping comments: Message: \n",
      "\n",
      "Scrolling attempt 2\n",
      "Error while scraping comments: Message: \n",
      "\n",
      "Scrolling attempt 1\n",
      "Error while scraping comments: Message: \n",
      "\n",
      "Scrolling attempt 0\n",
      "Error while scraping comments: Message: \n",
      "\n",
      "DataFrame is empty.\n",
      "Error while scraping comments: Message: \n",
      "\n",
      "Error while scraping comments: Message: \n",
      "\n",
      "Error while scraping comments: Message: \n",
      "\n",
      "Error while scraping comments: Message: \n",
      "\n",
      "Error while scraping comments: Message: \n",
      "\n",
      "Error while scraping comments: Message: \n",
      "\n",
      "Error while scraping comments: Message: \n",
      "\n",
      "Error while scraping comments: Message: \n",
      "\n",
      "Error while scraping comments: Message: \n",
      "\n",
      "Error while scraping comments: Message: \n",
      "\n",
      "Error while scraping comments: Message: \n",
      "\n",
      "Error while scraping comments: Message: \n",
      "\n",
      "Error while scraping comments: Message: \n",
      "\n",
      "Error while scraping comments: Message: \n",
      "\n",
      "Error while scraping comments: Message: \n",
      "\n",
      "Error while scraping comments: Message: \n",
      "\n",
      "Error while scraping comments: Message: \n",
      "\n",
      "Error while scraping comments: Message: \n",
      "\n",
      "Error while scraping comments: Message: \n",
      "\n",
      "Error while scraping comments: Message: \n",
      "\n",
      "Error while scraping comments: Message: \n",
      "\n",
      "Error while scraping comments: Message: \n",
      "\n",
      "Error while scraping comments: Message: \n",
      "\n",
      "Scrolling attempt 3\n",
      "Error while scraping comments: Message: \n",
      "\n",
      "Scrolling attempt 2\n",
      "Error while scraping comments: Message: \n",
      "\n",
      "Scrolling attempt 1\n",
      "Error while scraping comments: Message: \n",
      "\n",
      "Scrolling attempt 0\n",
      "Error while scraping comments: Message: \n",
      "\n",
      "DataFrame is empty.\n",
      "Error while scraping comments: Message: \n",
      "\n",
      "Scrolling attempt 3\n",
      "Scrolling attempt 2\n",
      "Scrolling attempt 1\n",
      "Scrolling attempt 0\n"
     ]
    },
    {
     "name": "stderr",
     "output_type": "stream",
     "text": [
      "[nltk_data] Downloading package stopwords to\n",
      "[nltk_data]     C:\\Users\\gandj\\AppData\\Roaming\\nltk_data...\n",
      "[nltk_data]   Package stopwords is already up-to-date!\n",
      "[nltk_data] Downloading package punkt to\n",
      "[nltk_data]     C:\\Users\\gandj\\AppData\\Roaming\\nltk_data...\n",
      "[nltk_data]   Package punkt is already up-to-date!\n",
      "[nltk_data] Downloading package vader_lexicon to\n",
      "[nltk_data]     C:\\Users\\gandj\\AppData\\Roaming\\nltk_data...\n",
      "[nltk_data]   Package vader_lexicon is already up-to-date!\n"
     ]
    },
    {
     "name": "stdout",
     "output_type": "stream",
     "text": [
      "Error while scraping comments: Message: \n",
      "\n",
      "Error while scraping comments: Message: \n",
      "\n",
      "Error while scraping comments: Message: \n",
      "\n",
      "Error while scraping comments: Message: \n",
      "\n",
      "Error while scraping comments: Message: \n",
      "\n",
      "Error while scraping comments: Message: \n",
      "\n",
      "Error while scraping comments: Message: \n",
      "\n",
      "Error while scraping comments: Message: \n",
      "\n",
      "Error while scraping comments: Message: \n",
      "\n",
      "Error while scraping comments: Message: \n",
      "\n",
      "Error while scraping comments: Message: \n",
      "\n",
      "Error while scraping comments: Message: \n",
      "\n",
      "Error while scraping comments: Message: \n",
      "\n",
      "Error while scraping comments: Message: \n",
      "\n",
      "Error while scraping comments: Message: \n",
      "\n",
      "Error while scraping comments: Message: \n",
      "\n",
      "Error while scraping comments: Message: \n",
      "\n",
      "Error while scraping comments: Message: \n",
      "\n",
      "Error while scraping comments: Message: \n",
      "\n",
      "Error while scraping comments: Message: \n",
      "\n",
      "Error while scraping comments: Message: \n",
      "\n",
      "Error while scraping comments: Message: \n",
      "\n",
      "Error while scraping comments: Message: \n",
      "\n",
      "Error while scraping comments: Message: \n",
      "\n",
      "Error while scraping comments: Message: \n",
      "\n",
      "Error while scraping comments: Message: \n",
      "\n",
      "Error while scraping comments: Message: \n",
      "\n",
      "Error while scraping comments: Message: \n",
      "\n",
      "Error while scraping comments: Message: \n",
      "\n",
      "Error while scraping comments: Message: \n",
      "\n",
      "Error while scraping comments: Message: \n",
      "\n",
      "Error while scraping comments: Message: \n",
      "\n",
      "Error while scraping comments: Message: \n",
      "\n",
      "Error while scraping comments: Message: \n",
      "\n",
      "Error while scraping comments: Message: \n",
      "\n",
      "Error while scraping comments: Message: \n",
      "\n",
      "Error while scraping comments: Message: \n",
      "\n",
      "Error while scraping comments: Message: \n",
      "\n",
      "Error while scraping comments: Message: \n",
      "\n",
      "Error while scraping comments: Message: \n",
      "\n",
      "Error while scraping comments: Message: \n",
      "\n",
      "Error while scraping comments: Message: \n",
      "\n",
      "Error while scraping comments: Message: \n",
      "\n",
      "Scrolling attempt 3\n",
      "Error while scraping comments: Message: \n",
      "\n",
      "Scrolling attempt 2\n",
      "Error while scraping comments: Message: \n",
      "\n",
      "Scrolling attempt 1\n",
      "Error while scraping comments: Message: \n",
      "\n",
      "Scrolling attempt 0\n",
      "Error while scraping comments: Message: \n",
      "\n",
      "DataFrame is empty.\n",
      "Error while scraping comments: Message: \n",
      "\n",
      "Error while scraping comments: Message: \n",
      "\n",
      "Error while scraping comments: Message: \n",
      "\n",
      "Error while scraping comments: Message: \n",
      "\n",
      "Error while scraping comments: Message: \n",
      "\n",
      "Error while scraping comments: Message: \n",
      "\n",
      "Error while scraping comments: Message: \n",
      "\n",
      "Error while scraping comments: Message: \n",
      "\n",
      "Error while scraping comments: Message: \n",
      "\n",
      "Error while scraping comments: Message: \n",
      "\n",
      "Error while scraping comments: Message: \n",
      "\n",
      "Error while scraping comments: Message: \n",
      "\n",
      "Error while scraping comments: Message: \n",
      "\n",
      "Error while scraping comments: Message: \n",
      "\n",
      "Error while scraping comments: Message: \n",
      "\n",
      "Error while scraping comments: Message: \n",
      "\n",
      "Error while scraping comments: Message: \n",
      "\n",
      "Error while scraping comments: Message: \n",
      "\n",
      "Error while scraping comments: Message: \n",
      "\n",
      "Error while scraping comments: Message: \n",
      "\n",
      "Error while scraping comments: Message: \n",
      "\n",
      "Error while scraping comments: Message: \n",
      "\n",
      "Error while scraping comments: Message: \n",
      "\n",
      "Error while scraping comments: Message: \n",
      "\n",
      "Error while scraping comments: Message: \n",
      "\n",
      "Error while scraping comments: Message: \n",
      "\n",
      "Scrolling attempt 3\n",
      "Error while scraping comments: Message: \n",
      "\n",
      "Scrolling attempt 2\n",
      "Error while scraping comments: Message: \n",
      "\n",
      "Scrolling attempt 1\n",
      "Error while scraping comments: Message: \n",
      "\n",
      "Scrolling attempt 0\n",
      "Error while scraping comments: Message: \n",
      "\n",
      "DataFrame is empty.\n",
      "Error while scraping comments: Message: \n",
      "\n",
      "Error while scraping comments: Message: \n",
      "\n",
      "Error while scraping comments: Message: \n",
      "\n",
      "Error while scraping comments: Message: \n",
      "\n",
      "Error while scraping comments: Message: \n",
      "\n",
      "Error while scraping comments: Message: \n",
      "\n",
      "Error while scraping comments: Message: \n",
      "\n",
      "Error while scraping comments: Message: \n",
      "\n",
      "Error while scraping comments: Message: \n",
      "\n",
      "Error while scraping comments: Message: \n",
      "\n",
      "Error while scraping comments: Message: \n",
      "\n",
      "Error while scraping comments: Message: \n",
      "\n",
      "Error while scraping comments: Message: \n",
      "\n",
      "Error while scraping comments: Message: \n",
      "\n",
      "Error while scraping comments: Message: \n",
      "\n",
      "Error while scraping comments: Message: \n",
      "\n",
      "Error while scraping comments: Message: \n",
      "\n",
      "Error while scraping comments: Message: \n",
      "\n",
      "Error while scraping comments: Message: \n",
      "\n",
      "Error while scraping comments: Message: \n",
      "\n",
      "Error while scraping comments: Message: \n",
      "\n",
      "Error while scraping comments: Message: \n",
      "\n",
      "Error while scraping comments: Message: \n",
      "\n",
      "Error while scraping comments: Message: \n",
      "\n",
      "Error while scraping comments: Message: \n",
      "\n",
      "Error while scraping comments: Message: \n",
      "\n",
      "Error while scraping comments: Message: \n",
      "\n",
      "Error while scraping comments: Message: \n",
      "\n",
      "Error while scraping comments: Message: \n",
      "\n",
      "Error while scraping comments: Message: \n",
      "\n",
      "Error while scraping comments: Message: \n",
      "\n",
      "Error while scraping comments: Message: \n",
      "\n",
      "Error while scraping comments: Message: \n",
      "\n",
      "Error while scraping comments: Message: \n",
      "\n",
      "Error while scraping comments: Message: \n",
      "\n",
      "Error while scraping comments: Message: \n",
      "\n",
      "Error while scraping comments: Message: \n",
      "\n",
      "Error while scraping comments: Message: \n",
      "\n",
      "Error while scraping comments: Message: \n",
      "\n",
      "Error while scraping comments: Message: \n",
      "\n",
      "Error while scraping comments: Message: \n",
      "\n",
      "Error while scraping comments: Message: \n",
      "\n",
      "Error while scraping comments: Message: \n",
      "\n",
      "Error while scraping comments: Message: \n",
      "\n",
      "Error while scraping comments: Message: \n",
      "\n",
      "Error while scraping comments: Message: \n",
      "\n",
      "Error while scraping comments: Message: \n",
      "\n",
      "Error while scraping comments: Message: \n",
      "\n",
      "Scrolling attempt 3\n",
      "Error while scraping comments: Message: \n",
      "\n",
      "Scrolling attempt 2\n",
      "Error while scraping comments: Message: \n",
      "\n",
      "Scrolling attempt 1\n",
      "Error while scraping comments: Message: \n",
      "\n",
      "Scrolling attempt 0\n",
      "Error while scraping comments: Message: \n",
      "\n",
      "DataFrame is empty.\n",
      "Scrolling attempt 3\n",
      "Scrolling attempt 2\n",
      "Scrolling attempt 1\n",
      "Scrolling attempt 0\n"
     ]
    },
    {
     "name": "stderr",
     "output_type": "stream",
     "text": [
      "[nltk_data] Downloading package stopwords to\n",
      "[nltk_data]     C:\\Users\\gandj\\AppData\\Roaming\\nltk_data...\n",
      "[nltk_data]   Package stopwords is already up-to-date!\n",
      "[nltk_data] Downloading package punkt to\n",
      "[nltk_data]     C:\\Users\\gandj\\AppData\\Roaming\\nltk_data...\n",
      "[nltk_data]   Package punkt is already up-to-date!\n",
      "[nltk_data] Downloading package vader_lexicon to\n",
      "[nltk_data]     C:\\Users\\gandj\\AppData\\Roaming\\nltk_data...\n",
      "[nltk_data]   Package vader_lexicon is already up-to-date!\n"
     ]
    },
    {
     "name": "stdout",
     "output_type": "stream",
     "text": [
      "Scrolling attempt 3\n",
      "Scrolling attempt 2\n",
      "Scrolling attempt 1\n",
      "Scrolling attempt 0\n"
     ]
    },
    {
     "name": "stderr",
     "output_type": "stream",
     "text": [
      "[nltk_data] Downloading package stopwords to\n",
      "[nltk_data]     C:\\Users\\gandj\\AppData\\Roaming\\nltk_data...\n",
      "[nltk_data]   Package stopwords is already up-to-date!\n",
      "[nltk_data] Downloading package punkt to\n",
      "[nltk_data]     C:\\Users\\gandj\\AppData\\Roaming\\nltk_data...\n",
      "[nltk_data]   Package punkt is already up-to-date!\n",
      "[nltk_data] Downloading package vader_lexicon to\n",
      "[nltk_data]     C:\\Users\\gandj\\AppData\\Roaming\\nltk_data...\n",
      "[nltk_data]   Package vader_lexicon is already up-to-date!\n"
     ]
    },
    {
     "name": "stdout",
     "output_type": "stream",
     "text": [
      "Scrolling attempt 3\n",
      "Scrolling attempt 2\n",
      "Scrolling attempt 1\n",
      "Scrolling attempt 0\n"
     ]
    },
    {
     "name": "stderr",
     "output_type": "stream",
     "text": [
      "[nltk_data] Downloading package stopwords to\n",
      "[nltk_data]     C:\\Users\\gandj\\AppData\\Roaming\\nltk_data...\n",
      "[nltk_data]   Package stopwords is already up-to-date!\n",
      "[nltk_data] Downloading package punkt to\n",
      "[nltk_data]     C:\\Users\\gandj\\AppData\\Roaming\\nltk_data...\n",
      "[nltk_data]   Package punkt is already up-to-date!\n",
      "[nltk_data] Downloading package vader_lexicon to\n",
      "[nltk_data]     C:\\Users\\gandj\\AppData\\Roaming\\nltk_data...\n",
      "[nltk_data]   Package vader_lexicon is already up-to-date!\n"
     ]
    },
    {
     "name": "stdout",
     "output_type": "stream",
     "text": [
      "Scrolling attempt 3\n",
      "Scrolling attempt 2\n",
      "Scrolling attempt 1\n",
      "Scrolling attempt 0\n"
     ]
    },
    {
     "name": "stderr",
     "output_type": "stream",
     "text": [
      "[nltk_data] Downloading package stopwords to\n",
      "[nltk_data]     C:\\Users\\gandj\\AppData\\Roaming\\nltk_data...\n",
      "[nltk_data]   Package stopwords is already up-to-date!\n",
      "[nltk_data] Downloading package punkt to\n",
      "[nltk_data]     C:\\Users\\gandj\\AppData\\Roaming\\nltk_data...\n",
      "[nltk_data]   Package punkt is already up-to-date!\n",
      "[nltk_data] Downloading package vader_lexicon to\n",
      "[nltk_data]     C:\\Users\\gandj\\AppData\\Roaming\\nltk_data...\n",
      "[nltk_data]   Package vader_lexicon is already up-to-date!\n"
     ]
    },
    {
     "name": "stdout",
     "output_type": "stream",
     "text": [
      "Scrolling attempt 3\n",
      "Scrolling attempt 2\n",
      "Scrolling attempt 1\n",
      "Scrolling attempt 0\n"
     ]
    },
    {
     "name": "stderr",
     "output_type": "stream",
     "text": [
      "[nltk_data] Downloading package stopwords to\n",
      "[nltk_data]     C:\\Users\\gandj\\AppData\\Roaming\\nltk_data...\n",
      "[nltk_data]   Package stopwords is already up-to-date!\n",
      "[nltk_data] Downloading package punkt to\n",
      "[nltk_data]     C:\\Users\\gandj\\AppData\\Roaming\\nltk_data...\n",
      "[nltk_data]   Package punkt is already up-to-date!\n",
      "[nltk_data] Downloading package vader_lexicon to\n",
      "[nltk_data]     C:\\Users\\gandj\\AppData\\Roaming\\nltk_data...\n",
      "[nltk_data]   Package vader_lexicon is already up-to-date!\n"
     ]
    },
    {
     "name": "stdout",
     "output_type": "stream",
     "text": [
      "Scrolling attempt 3\n",
      "Scrolling attempt 2\n",
      "Scrolling attempt 1\n",
      "Scrolling attempt 0\n"
     ]
    },
    {
     "name": "stderr",
     "output_type": "stream",
     "text": [
      "[nltk_data] Downloading package stopwords to\n",
      "[nltk_data]     C:\\Users\\gandj\\AppData\\Roaming\\nltk_data...\n",
      "[nltk_data]   Package stopwords is already up-to-date!\n",
      "[nltk_data] Downloading package punkt to\n",
      "[nltk_data]     C:\\Users\\gandj\\AppData\\Roaming\\nltk_data...\n",
      "[nltk_data]   Package punkt is already up-to-date!\n",
      "[nltk_data] Downloading package vader_lexicon to\n",
      "[nltk_data]     C:\\Users\\gandj\\AppData\\Roaming\\nltk_data...\n",
      "[nltk_data]   Package vader_lexicon is already up-to-date!\n"
     ]
    },
    {
     "name": "stdout",
     "output_type": "stream",
     "text": [
      "Error while scraping comments: Message: \n",
      "\n",
      "Scrolling attempt 3\n",
      "Scrolling attempt 2\n",
      "Scrolling attempt 1\n",
      "Scrolling attempt 0\n"
     ]
    },
    {
     "name": "stderr",
     "output_type": "stream",
     "text": [
      "[nltk_data] Downloading package stopwords to\n",
      "[nltk_data]     C:\\Users\\gandj\\AppData\\Roaming\\nltk_data...\n",
      "[nltk_data]   Package stopwords is already up-to-date!\n",
      "[nltk_data] Downloading package punkt to\n",
      "[nltk_data]     C:\\Users\\gandj\\AppData\\Roaming\\nltk_data...\n",
      "[nltk_data]   Package punkt is already up-to-date!\n",
      "[nltk_data] Downloading package vader_lexicon to\n",
      "[nltk_data]     C:\\Users\\gandj\\AppData\\Roaming\\nltk_data...\n",
      "[nltk_data]   Package vader_lexicon is already up-to-date!\n"
     ]
    },
    {
     "name": "stdout",
     "output_type": "stream",
     "text": [
      "Scrolling attempt 3\n",
      "Scrolling attempt 2\n",
      "Scrolling attempt 1\n",
      "Scrolling attempt 0\n"
     ]
    },
    {
     "name": "stderr",
     "output_type": "stream",
     "text": [
      "[nltk_data] Downloading package stopwords to\n",
      "[nltk_data]     C:\\Users\\gandj\\AppData\\Roaming\\nltk_data...\n",
      "[nltk_data]   Package stopwords is already up-to-date!\n",
      "[nltk_data] Downloading package punkt to\n",
      "[nltk_data]     C:\\Users\\gandj\\AppData\\Roaming\\nltk_data...\n",
      "[nltk_data]   Package punkt is already up-to-date!\n",
      "[nltk_data] Downloading package vader_lexicon to\n",
      "[nltk_data]     C:\\Users\\gandj\\AppData\\Roaming\\nltk_data...\n",
      "[nltk_data]   Package vader_lexicon is already up-to-date!\n"
     ]
    },
    {
     "name": "stdout",
     "output_type": "stream",
     "text": [
      "Scrolling attempt 3\n",
      "Scrolling attempt 2\n",
      "Scrolling attempt 1\n",
      "Scrolling attempt 0\n"
     ]
    },
    {
     "name": "stderr",
     "output_type": "stream",
     "text": [
      "[nltk_data] Downloading package stopwords to\n",
      "[nltk_data]     C:\\Users\\gandj\\AppData\\Roaming\\nltk_data...\n",
      "[nltk_data]   Package stopwords is already up-to-date!\n",
      "[nltk_data] Downloading package punkt to\n",
      "[nltk_data]     C:\\Users\\gandj\\AppData\\Roaming\\nltk_data...\n",
      "[nltk_data]   Package punkt is already up-to-date!\n",
      "[nltk_data] Downloading package vader_lexicon to\n",
      "[nltk_data]     C:\\Users\\gandj\\AppData\\Roaming\\nltk_data...\n",
      "[nltk_data]   Package vader_lexicon is already up-to-date!\n"
     ]
    },
    {
     "name": "stdout",
     "output_type": "stream",
     "text": [
      "Scrolling attempt 3\n",
      "Scrolling attempt 2\n",
      "Scrolling attempt 1\n",
      "Scrolling attempt 0\n"
     ]
    },
    {
     "name": "stderr",
     "output_type": "stream",
     "text": [
      "[nltk_data] Downloading package stopwords to\n",
      "[nltk_data]     C:\\Users\\gandj\\AppData\\Roaming\\nltk_data...\n",
      "[nltk_data]   Package stopwords is already up-to-date!\n",
      "[nltk_data] Downloading package punkt to\n",
      "[nltk_data]     C:\\Users\\gandj\\AppData\\Roaming\\nltk_data...\n",
      "[nltk_data]   Package punkt is already up-to-date!\n",
      "[nltk_data] Downloading package vader_lexicon to\n",
      "[nltk_data]     C:\\Users\\gandj\\AppData\\Roaming\\nltk_data...\n",
      "[nltk_data]   Package vader_lexicon is already up-to-date!\n"
     ]
    },
    {
     "name": "stdout",
     "output_type": "stream",
     "text": [
      "Scrolling attempt 3\n",
      "Scrolling attempt 2\n",
      "Scrolling attempt 1\n",
      "Scrolling attempt 0\n"
     ]
    },
    {
     "name": "stderr",
     "output_type": "stream",
     "text": [
      "[nltk_data] Downloading package stopwords to\n",
      "[nltk_data]     C:\\Users\\gandj\\AppData\\Roaming\\nltk_data...\n",
      "[nltk_data]   Package stopwords is already up-to-date!\n",
      "[nltk_data] Downloading package punkt to\n",
      "[nltk_data]     C:\\Users\\gandj\\AppData\\Roaming\\nltk_data...\n",
      "[nltk_data]   Package punkt is already up-to-date!\n",
      "[nltk_data] Downloading package vader_lexicon to\n",
      "[nltk_data]     C:\\Users\\gandj\\AppData\\Roaming\\nltk_data...\n",
      "[nltk_data]   Package vader_lexicon is already up-to-date!\n"
     ]
    },
    {
     "name": "stdout",
     "output_type": "stream",
     "text": [
      "Error while scraping comments: Message: \n",
      "\n",
      "Scrolling attempt 3\n",
      "Scrolling attempt 2\n",
      "Scrolling attempt 1\n",
      "Scrolling attempt 0\n"
     ]
    },
    {
     "name": "stderr",
     "output_type": "stream",
     "text": [
      "[nltk_data] Downloading package stopwords to\n",
      "[nltk_data]     C:\\Users\\gandj\\AppData\\Roaming\\nltk_data...\n",
      "[nltk_data]   Package stopwords is already up-to-date!\n",
      "[nltk_data] Downloading package punkt to\n",
      "[nltk_data]     C:\\Users\\gandj\\AppData\\Roaming\\nltk_data...\n",
      "[nltk_data]   Package punkt is already up-to-date!\n",
      "[nltk_data] Downloading package vader_lexicon to\n",
      "[nltk_data]     C:\\Users\\gandj\\AppData\\Roaming\\nltk_data...\n",
      "[nltk_data]   Package vader_lexicon is already up-to-date!\n"
     ]
    },
    {
     "name": "stdout",
     "output_type": "stream",
     "text": [
      "Scrolling attempt 3\n",
      "Scrolling attempt 2\n",
      "Scrolling attempt 1\n",
      "Scrolling attempt 0\n"
     ]
    },
    {
     "name": "stderr",
     "output_type": "stream",
     "text": [
      "[nltk_data] Downloading package stopwords to\n",
      "[nltk_data]     C:\\Users\\gandj\\AppData\\Roaming\\nltk_data...\n",
      "[nltk_data]   Package stopwords is already up-to-date!\n",
      "[nltk_data] Downloading package punkt to\n",
      "[nltk_data]     C:\\Users\\gandj\\AppData\\Roaming\\nltk_data...\n",
      "[nltk_data]   Package punkt is already up-to-date!\n",
      "[nltk_data] Downloading package vader_lexicon to\n",
      "[nltk_data]     C:\\Users\\gandj\\AppData\\Roaming\\nltk_data...\n",
      "[nltk_data]   Package vader_lexicon is already up-to-date!\n"
     ]
    },
    {
     "name": "stdout",
     "output_type": "stream",
     "text": [
      "Error while scraping comments: Message: \n",
      "\n",
      "Error while scraping comments: Message: \n",
      "\n",
      "Error while scraping comments: Message: \n",
      "\n",
      "Error while scraping comments: Message: \n",
      "\n",
      "Error while scraping comments: Message: \n",
      "\n",
      "Error while scraping comments: Message: \n",
      "\n",
      "Error while scraping comments: Message: \n",
      "\n",
      "Error while scraping comments: Message: \n",
      "\n",
      "Error while scraping comments: Message: \n",
      "\n",
      "Error while scraping comments: Message: \n",
      "\n",
      "Error while scraping comments: Message: \n",
      "\n",
      "Error while scraping comments: Message: \n",
      "\n",
      "Error while scraping comments: Message: \n",
      "\n",
      "Error while scraping comments: Message: \n",
      "\n",
      "Error while scraping comments: Message: \n",
      "\n",
      "Error while scraping comments: Message: \n",
      "\n",
      "Error while scraping comments: Message: \n",
      "\n",
      "Error while scraping comments: Message: \n",
      "\n",
      "Error while scraping comments: Message: \n",
      "\n",
      "Error while scraping comments: Message: \n",
      "\n",
      "Error while scraping comments: Message: \n",
      "\n",
      "Error while scraping comments: Message: \n",
      "\n",
      "Error while scraping comments: Message: \n",
      "\n",
      "Error while scraping comments: Message: \n",
      "\n",
      "Error while scraping comments: Message: \n",
      "\n",
      "Error while scraping comments: Message: \n",
      "\n",
      "Error while scraping comments: Message: \n",
      "\n",
      "Error while scraping comments: Message: \n",
      "\n",
      "Error while scraping comments: Message: \n",
      "\n",
      "Error while scraping comments: Message: \n",
      "\n",
      "Error while scraping comments: Message: \n",
      "\n",
      "Error while scraping comments: Message: \n",
      "\n",
      "Error while scraping comments: Message: \n",
      "\n",
      "Error while scraping comments: Message: \n",
      "\n",
      "Error while scraping comments: Message: \n",
      "\n",
      "Scrolling attempt 3\n",
      "Error while scraping comments: Message: \n",
      "\n",
      "Scrolling attempt 2\n",
      "Error while scraping comments: Message: \n",
      "\n",
      "Scrolling attempt 1\n",
      "Error while scraping comments: Message: \n",
      "\n",
      "Scrolling attempt 0\n",
      "Error while scraping comments: Message: \n",
      "\n",
      "DataFrame is empty.\n",
      "Error while scraping comments: Message: \n",
      "\n",
      "Error while scraping comments: Message: \n",
      "\n",
      "Error while scraping comments: Message: \n",
      "\n",
      "Error while scraping comments: Message: \n",
      "\n",
      "Error while scraping comments: Message: \n",
      "\n",
      "Error while scraping comments: Message: \n",
      "\n",
      "Error while scraping comments: Message: \n",
      "\n",
      "Error while scraping comments: Message: \n",
      "\n",
      "Error while scraping comments: Message: \n",
      "\n",
      "Error while scraping comments: Message: \n",
      "\n",
      "Error while scraping comments: Message: \n",
      "\n",
      "Error while scraping comments: Message: \n",
      "\n",
      "Error while scraping comments: Message: \n",
      "\n",
      "Error while scraping comments: Message: \n",
      "\n",
      "Error while scraping comments: Message: \n",
      "\n",
      "Error while scraping comments: Message: \n",
      "\n",
      "Error while scraping comments: Message: \n",
      "\n",
      "Error while scraping comments: Message: \n",
      "\n",
      "Error while scraping comments: Message: \n",
      "\n",
      "Error while scraping comments: Message: \n",
      "\n",
      "Error while scraping comments: Message: \n",
      "\n",
      "Error while scraping comments: Message: \n",
      "\n",
      "Error while scraping comments: Message: \n",
      "\n",
      "Error while scraping comments: Message: \n",
      "\n",
      "Error while scraping comments: Message: \n",
      "\n",
      "Error while scraping comments: Message: \n",
      "\n",
      "Error while scraping comments: Message: \n",
      "\n",
      "Error while scraping comments: Message: \n",
      "\n",
      "Error while scraping comments: Message: \n",
      "\n",
      "Scrolling attempt 3\n",
      "Error while scraping comments: Message: \n",
      "\n",
      "Scrolling attempt 2\n",
      "Error while scraping comments: Message: \n",
      "\n",
      "Scrolling attempt 1\n",
      "Error while scraping comments: Message: \n",
      "\n",
      "Scrolling attempt 0\n",
      "Error while scraping comments: Message: \n",
      "\n",
      "DataFrame is empty.\n",
      "Error while scraping comments: Message: \n",
      "\n",
      "Scrolling attempt 3\n",
      "Scrolling attempt 2\n",
      "Scrolling attempt 1\n",
      "Scrolling attempt 0\n"
     ]
    },
    {
     "name": "stderr",
     "output_type": "stream",
     "text": [
      "[nltk_data] Downloading package stopwords to\n",
      "[nltk_data]     C:\\Users\\gandj\\AppData\\Roaming\\nltk_data...\n",
      "[nltk_data]   Package stopwords is already up-to-date!\n",
      "[nltk_data] Downloading package punkt to\n",
      "[nltk_data]     C:\\Users\\gandj\\AppData\\Roaming\\nltk_data...\n",
      "[nltk_data]   Package punkt is already up-to-date!\n",
      "[nltk_data] Downloading package vader_lexicon to\n",
      "[nltk_data]     C:\\Users\\gandj\\AppData\\Roaming\\nltk_data...\n",
      "[nltk_data]   Package vader_lexicon is already up-to-date!\n"
     ]
    },
    {
     "name": "stdout",
     "output_type": "stream",
     "text": [
      "Error while scraping comments: Message: \n",
      "\n",
      "Error while scraping comments: Message: \n",
      "\n",
      "Error while scraping comments: Message: \n",
      "\n",
      "Error while scraping comments: Message: \n",
      "\n",
      "Error while scraping comments: Message: \n",
      "\n",
      "Error while scraping comments: Message: \n",
      "\n",
      "Error while scraping comments: Message: \n",
      "\n",
      "Error while scraping comments: Message: \n",
      "\n",
      "Scrolling attempt 3\n",
      "Error while scraping comments: Message: \n",
      "\n",
      "Scrolling attempt 2\n",
      "Error while scraping comments: Message: \n",
      "\n",
      "Scrolling attempt 1\n",
      "Error while scraping comments: Message: \n",
      "\n",
      "Scrolling attempt 0\n",
      "Error while scraping comments: Message: \n",
      "\n",
      "DataFrame is empty.\n",
      "Error while scraping comments: Message: \n",
      "\n",
      "Error while scraping comments: Message: \n",
      "\n",
      "Error while scraping comments: Message: \n",
      "\n",
      "Error while scraping comments: Message: \n",
      "\n",
      "Error while scraping comments: Message: \n",
      "\n",
      "Error while scraping comments: Message: \n",
      "\n",
      "Error while scraping comments: Message: \n",
      "\n",
      "Error while scraping comments: Message: \n",
      "\n",
      "Error while scraping comments: Message: \n",
      "\n",
      "Error while scraping comments: Message: \n",
      "\n",
      "Scrolling attempt 3\n",
      "Error while scraping comments: Message: \n",
      "\n",
      "Scrolling attempt 2\n",
      "Error while scraping comments: Message: \n",
      "\n",
      "Scrolling attempt 1\n",
      "Error while scraping comments: Message: \n",
      "\n",
      "Scrolling attempt 0\n",
      "Error while scraping comments: Message: \n",
      "\n",
      "DataFrame is empty.\n",
      "Scrolling attempt 3\n",
      "Scrolling attempt 2\n",
      "Scrolling attempt 1\n",
      "Scrolling attempt 0\n"
     ]
    },
    {
     "name": "stderr",
     "output_type": "stream",
     "text": [
      "[nltk_data] Downloading package stopwords to\n",
      "[nltk_data]     C:\\Users\\gandj\\AppData\\Roaming\\nltk_data...\n",
      "[nltk_data]   Package stopwords is already up-to-date!\n",
      "[nltk_data] Downloading package punkt to\n",
      "[nltk_data]     C:\\Users\\gandj\\AppData\\Roaming\\nltk_data...\n",
      "[nltk_data]   Package punkt is already up-to-date!\n",
      "[nltk_data] Downloading package vader_lexicon to\n",
      "[nltk_data]     C:\\Users\\gandj\\AppData\\Roaming\\nltk_data...\n",
      "[nltk_data]   Package vader_lexicon is already up-to-date!\n"
     ]
    },
    {
     "name": "stdout",
     "output_type": "stream",
     "text": [
      "Scrolling attempt 3\n",
      "Scrolling attempt 2\n",
      "Scrolling attempt 1\n",
      "Scrolling attempt 0\n"
     ]
    },
    {
     "name": "stderr",
     "output_type": "stream",
     "text": [
      "[nltk_data] Downloading package stopwords to\n",
      "[nltk_data]     C:\\Users\\gandj\\AppData\\Roaming\\nltk_data...\n",
      "[nltk_data]   Package stopwords is already up-to-date!\n",
      "[nltk_data] Downloading package punkt to\n",
      "[nltk_data]     C:\\Users\\gandj\\AppData\\Roaming\\nltk_data...\n",
      "[nltk_data]   Package punkt is already up-to-date!\n",
      "[nltk_data] Downloading package vader_lexicon to\n",
      "[nltk_data]     C:\\Users\\gandj\\AppData\\Roaming\\nltk_data...\n",
      "[nltk_data]   Package vader_lexicon is already up-to-date!\n"
     ]
    },
    {
     "name": "stdout",
     "output_type": "stream",
     "text": [
      "Error while scraping comments: Message: \n",
      "\n",
      "Scrolling attempt 3\n",
      "Scrolling attempt 2\n",
      "Scrolling attempt 1\n",
      "Scrolling attempt 0\n"
     ]
    },
    {
     "name": "stderr",
     "output_type": "stream",
     "text": [
      "[nltk_data] Downloading package stopwords to\n",
      "[nltk_data]     C:\\Users\\gandj\\AppData\\Roaming\\nltk_data...\n",
      "[nltk_data]   Package stopwords is already up-to-date!\n",
      "[nltk_data] Downloading package punkt to\n",
      "[nltk_data]     C:\\Users\\gandj\\AppData\\Roaming\\nltk_data...\n",
      "[nltk_data]   Package punkt is already up-to-date!\n",
      "[nltk_data] Downloading package vader_lexicon to\n",
      "[nltk_data]     C:\\Users\\gandj\\AppData\\Roaming\\nltk_data...\n",
      "[nltk_data]   Package vader_lexicon is already up-to-date!\n"
     ]
    },
    {
     "name": "stdout",
     "output_type": "stream",
     "text": [
      "Scrolling attempt 3\n",
      "Scrolling attempt 2\n",
      "Scrolling attempt 1\n",
      "Scrolling attempt 0\n"
     ]
    },
    {
     "name": "stderr",
     "output_type": "stream",
     "text": [
      "[nltk_data] Downloading package stopwords to\n",
      "[nltk_data]     C:\\Users\\gandj\\AppData\\Roaming\\nltk_data...\n",
      "[nltk_data]   Package stopwords is already up-to-date!\n",
      "[nltk_data] Downloading package punkt to\n",
      "[nltk_data]     C:\\Users\\gandj\\AppData\\Roaming\\nltk_data...\n",
      "[nltk_data]   Package punkt is already up-to-date!\n",
      "[nltk_data] Downloading package vader_lexicon to\n",
      "[nltk_data]     C:\\Users\\gandj\\AppData\\Roaming\\nltk_data...\n",
      "[nltk_data]   Package vader_lexicon is already up-to-date!\n"
     ]
    },
    {
     "name": "stdout",
     "output_type": "stream",
     "text": [
      "Scrolling attempt 3\n",
      "Scrolling attempt 2\n",
      "Scrolling attempt 1\n",
      "Scrolling attempt 0\n"
     ]
    },
    {
     "name": "stderr",
     "output_type": "stream",
     "text": [
      "[nltk_data] Downloading package stopwords to\n",
      "[nltk_data]     C:\\Users\\gandj\\AppData\\Roaming\\nltk_data...\n",
      "[nltk_data]   Package stopwords is already up-to-date!\n",
      "[nltk_data] Downloading package punkt to\n",
      "[nltk_data]     C:\\Users\\gandj\\AppData\\Roaming\\nltk_data...\n",
      "[nltk_data]   Package punkt is already up-to-date!\n",
      "[nltk_data] Downloading package vader_lexicon to\n",
      "[nltk_data]     C:\\Users\\gandj\\AppData\\Roaming\\nltk_data...\n",
      "[nltk_data]   Package vader_lexicon is already up-to-date!\n"
     ]
    },
    {
     "name": "stdout",
     "output_type": "stream",
     "text": [
      "Error while scraping comments: Message: \n",
      "\n",
      "Error while scraping comments: Message: \n",
      "\n",
      "Error while scraping comments: Message: \n",
      "\n",
      "Error while scraping comments: Message: \n",
      "\n",
      "Error while scraping comments: Message: \n",
      "\n",
      "Error while scraping comments: Message: \n",
      "\n",
      "Error while scraping comments: Message: \n",
      "\n",
      "Error while scraping comments: Message: \n",
      "\n",
      "Error while scraping comments: Message: \n",
      "\n",
      "Error while scraping comments: Message: \n",
      "\n",
      "Error while scraping comments: Message: \n",
      "\n",
      "Error while scraping comments: Message: \n",
      "\n",
      "Scrolling attempt 3\n",
      "Error while scraping comments: Message: \n",
      "\n",
      "Scrolling attempt 2\n",
      "Error while scraping comments: Message: \n",
      "\n",
      "Scrolling attempt 1\n",
      "Error while scraping comments: Message: \n",
      "\n",
      "Scrolling attempt 0\n",
      "Error while scraping comments: Message: \n",
      "\n",
      "DataFrame is empty.\n",
      "Scrolling attempt 3\n",
      "Scrolling attempt 2\n",
      "Scrolling attempt 1\n",
      "Scrolling attempt 0\n"
     ]
    },
    {
     "name": "stderr",
     "output_type": "stream",
     "text": [
      "[nltk_data] Downloading package stopwords to\n",
      "[nltk_data]     C:\\Users\\gandj\\AppData\\Roaming\\nltk_data...\n",
      "[nltk_data]   Package stopwords is already up-to-date!\n",
      "[nltk_data] Downloading package punkt to\n",
      "[nltk_data]     C:\\Users\\gandj\\AppData\\Roaming\\nltk_data...\n",
      "[nltk_data]   Package punkt is already up-to-date!\n",
      "[nltk_data] Downloading package vader_lexicon to\n",
      "[nltk_data]     C:\\Users\\gandj\\AppData\\Roaming\\nltk_data...\n",
      "[nltk_data]   Package vader_lexicon is already up-to-date!\n"
     ]
    },
    {
     "name": "stdout",
     "output_type": "stream",
     "text": [
      "Error while scraping comments: Message: \n",
      "\n",
      "Scrolling attempt 3\n",
      "Scrolling attempt 2\n",
      "Scrolling attempt 1\n",
      "Scrolling attempt 0\n"
     ]
    },
    {
     "name": "stderr",
     "output_type": "stream",
     "text": [
      "[nltk_data] Downloading package stopwords to\n",
      "[nltk_data]     C:\\Users\\gandj\\AppData\\Roaming\\nltk_data...\n",
      "[nltk_data]   Package stopwords is already up-to-date!\n",
      "[nltk_data] Downloading package punkt to\n",
      "[nltk_data]     C:\\Users\\gandj\\AppData\\Roaming\\nltk_data...\n",
      "[nltk_data]   Package punkt is already up-to-date!\n",
      "[nltk_data] Downloading package vader_lexicon to\n",
      "[nltk_data]     C:\\Users\\gandj\\AppData\\Roaming\\nltk_data...\n",
      "[nltk_data]   Package vader_lexicon is already up-to-date!\n"
     ]
    },
    {
     "name": "stdout",
     "output_type": "stream",
     "text": [
      "Scrolling attempt 3\n",
      "Scrolling attempt 2\n",
      "Scrolling attempt 1\n",
      "Scrolling attempt 0\n"
     ]
    },
    {
     "name": "stderr",
     "output_type": "stream",
     "text": [
      "[nltk_data] Downloading package stopwords to\n",
      "[nltk_data]     C:\\Users\\gandj\\AppData\\Roaming\\nltk_data...\n",
      "[nltk_data]   Package stopwords is already up-to-date!\n",
      "[nltk_data] Downloading package punkt to\n",
      "[nltk_data]     C:\\Users\\gandj\\AppData\\Roaming\\nltk_data...\n",
      "[nltk_data]   Package punkt is already up-to-date!\n",
      "[nltk_data] Downloading package vader_lexicon to\n",
      "[nltk_data]     C:\\Users\\gandj\\AppData\\Roaming\\nltk_data...\n",
      "[nltk_data]   Package vader_lexicon is already up-to-date!\n"
     ]
    },
    {
     "name": "stdout",
     "output_type": "stream",
     "text": [
      "Error while scraping comments: Message: \n",
      "\n",
      "Error while scraping comments: Message: \n",
      "\n",
      "Error while scraping comments: Message: \n",
      "\n",
      "Scrolling attempt 3\n",
      "Error while scraping comments: Message: \n",
      "\n",
      "Error while scraping comments: Message: \n",
      "\n",
      "Error while scraping comments: Message: \n",
      "\n",
      "Error while scraping comments: Message: \n",
      "\n",
      "Error while scraping comments: Message: \n",
      "\n",
      "Error while scraping comments: Message: \n",
      "\n",
      "Error while scraping comments: Message: \n",
      "\n",
      "Error while scraping comments: Message: \n",
      "\n",
      "Error while scraping comments: Message: \n",
      "\n",
      "Error while scraping comments: Message: \n",
      "\n",
      "Error while scraping comments: Message: \n",
      "\n",
      "Error while scraping comments: Message: \n",
      "\n",
      "Error while scraping comments: Message: \n",
      "\n",
      "Error while scraping comments: Message: \n",
      "\n",
      "Scrolling attempt 3\n",
      "Error while scraping comments: Message: \n",
      "\n",
      "Scrolling attempt 2\n",
      "Error while scraping comments: Message: \n",
      "\n",
      "Scrolling attempt 1\n",
      "Error while scraping comments: Message: \n",
      "\n",
      "Scrolling attempt 0\n",
      "Error while scraping comments: Message: \n",
      "\n",
      "DataFrame is empty.\n",
      "Scrolling attempt 3\n",
      "Scrolling attempt 2\n",
      "Scrolling attempt 1\n",
      "Scrolling attempt 0\n"
     ]
    },
    {
     "name": "stderr",
     "output_type": "stream",
     "text": [
      "[nltk_data] Downloading package stopwords to\n",
      "[nltk_data]     C:\\Users\\gandj\\AppData\\Roaming\\nltk_data...\n",
      "[nltk_data]   Package stopwords is already up-to-date!\n",
      "[nltk_data] Downloading package punkt to\n",
      "[nltk_data]     C:\\Users\\gandj\\AppData\\Roaming\\nltk_data...\n",
      "[nltk_data]   Package punkt is already up-to-date!\n",
      "[nltk_data] Downloading package vader_lexicon to\n",
      "[nltk_data]     C:\\Users\\gandj\\AppData\\Roaming\\nltk_data...\n",
      "[nltk_data]   Package vader_lexicon is already up-to-date!\n"
     ]
    },
    {
     "name": "stdout",
     "output_type": "stream",
     "text": [
      "Error while scraping comments: Message: \n",
      "\n",
      "Scrolling attempt 3\n",
      "Scrolling attempt 2\n",
      "Scrolling attempt 1\n",
      "Scrolling attempt 0\n"
     ]
    },
    {
     "name": "stderr",
     "output_type": "stream",
     "text": [
      "[nltk_data] Downloading package stopwords to\n",
      "[nltk_data]     C:\\Users\\gandj\\AppData\\Roaming\\nltk_data...\n",
      "[nltk_data]   Package stopwords is already up-to-date!\n",
      "[nltk_data] Downloading package punkt to\n",
      "[nltk_data]     C:\\Users\\gandj\\AppData\\Roaming\\nltk_data...\n",
      "[nltk_data]   Package punkt is already up-to-date!\n",
      "[nltk_data] Downloading package vader_lexicon to\n",
      "[nltk_data]     C:\\Users\\gandj\\AppData\\Roaming\\nltk_data...\n",
      "[nltk_data]   Package vader_lexicon is already up-to-date!\n"
     ]
    },
    {
     "name": "stdout",
     "output_type": "stream",
     "text": [
      "Error while scraping comments: Message: \n",
      "\n",
      "Scrolling attempt 3\n",
      "Scrolling attempt 2\n",
      "Scrolling attempt 1\n",
      "Scrolling attempt 0\n"
     ]
    },
    {
     "name": "stderr",
     "output_type": "stream",
     "text": [
      "[nltk_data] Downloading package stopwords to\n",
      "[nltk_data]     C:\\Users\\gandj\\AppData\\Roaming\\nltk_data...\n",
      "[nltk_data]   Package stopwords is already up-to-date!\n",
      "[nltk_data] Downloading package punkt to\n",
      "[nltk_data]     C:\\Users\\gandj\\AppData\\Roaming\\nltk_data...\n",
      "[nltk_data]   Package punkt is already up-to-date!\n",
      "[nltk_data] Downloading package vader_lexicon to\n",
      "[nltk_data]     C:\\Users\\gandj\\AppData\\Roaming\\nltk_data...\n",
      "[nltk_data]   Package vader_lexicon is already up-to-date!\n"
     ]
    },
    {
     "name": "stdout",
     "output_type": "stream",
     "text": [
      "Error while scraping comments: Message: \n",
      "\n",
      "Error while scraping comments: Message: \n",
      "\n",
      "Error while scraping comments: Message: \n",
      "\n",
      "Error while scraping comments: Message: \n",
      "\n",
      "Error while scraping comments: Message: \n",
      "\n",
      "Error while scraping comments: Message: \n",
      "\n",
      "Error while scraping comments: Message: \n",
      "\n",
      "Error while scraping comments: Message: \n",
      "\n",
      "Error while scraping comments: Message: \n",
      "\n",
      "Error while scraping comments: Message: \n",
      "\n",
      "Error while scraping comments: Message: \n",
      "\n",
      "Error while scraping comments: Message: \n",
      "\n",
      "Error while scraping comments: Message: \n",
      "\n",
      "Error while scraping comments: Message: \n",
      "\n",
      "Error while scraping comments: Message: \n",
      "\n",
      "Error while scraping comments: Message: \n",
      "\n",
      "Error while scraping comments: Message: \n",
      "\n",
      "Error while scraping comments: Message: \n",
      "\n",
      "Error while scraping comments: Message: \n",
      "\n",
      "Error while scraping comments: Message: \n",
      "\n",
      "Error while scraping comments: Message: \n",
      "\n",
      "Error while scraping comments: Message: \n",
      "\n",
      "Error while scraping comments: Message: \n",
      "\n",
      "Error while scraping comments: Message: \n",
      "\n",
      "Error while scraping comments: Message: \n",
      "\n",
      "Error while scraping comments: Message: \n",
      "\n",
      "Error while scraping comments: Message: \n",
      "\n",
      "Error while scraping comments: Message: \n",
      "\n",
      "Error while scraping comments: Message: \n",
      "\n",
      "Error while scraping comments: Message: \n",
      "\n",
      "Error while scraping comments: Message: \n",
      "\n",
      "Error while scraping comments: Message: \n",
      "\n",
      "Error while scraping comments: Message: \n",
      "\n",
      "Error while scraping comments: Message: \n",
      "\n",
      "Scrolling attempt 3\n",
      "Error while scraping comments: Message: \n",
      "\n",
      "Scrolling attempt 2\n",
      "Error while scraping comments: Message: \n",
      "\n",
      "Scrolling attempt 1\n",
      "Error while scraping comments: Message: \n",
      "\n",
      "Scrolling attempt 0\n",
      "Error while scraping comments: Message: \n",
      "\n",
      "DataFrame is empty.\n",
      "Error while scraping comments: Message: \n",
      "\n",
      "Error while scraping comments: Message: \n",
      "\n",
      "Error while scraping comments: Message: \n",
      "\n",
      "Error while scraping comments: Message: \n",
      "\n",
      "Error while scraping comments: Message: \n",
      "\n",
      "Error while scraping comments: Message: \n",
      "\n",
      "Error while scraping comments: Message: \n",
      "\n",
      "Error while scraping comments: Message: \n",
      "\n",
      "Error while scraping comments: Message: \n",
      "\n",
      "Error while scraping comments: Message: \n",
      "\n",
      "Error while scraping comments: Message: \n",
      "\n",
      "Error while scraping comments: Message: \n",
      "\n",
      "Error while scraping comments: Message: \n",
      "\n",
      "Error while scraping comments: Message: \n",
      "\n",
      "Error while scraping comments: Message: \n",
      "\n",
      "Error while scraping comments: Message: \n",
      "\n",
      "Error while scraping comments: Message: \n",
      "\n",
      "Error while scraping comments: Message: \n",
      "\n",
      "Error while scraping comments: Message: \n",
      "\n",
      "Error while scraping comments: Message: \n",
      "\n",
      "Error while scraping comments: Message: \n",
      "\n",
      "Error while scraping comments: Message: \n",
      "\n",
      "Error while scraping comments: Message: \n",
      "\n",
      "Error while scraping comments: Message: \n",
      "\n",
      "Error while scraping comments: Message: \n",
      "\n",
      "Error while scraping comments: Message: \n",
      "\n",
      "Error while scraping comments: Message: \n",
      "\n",
      "Error while scraping comments: Message: \n",
      "\n",
      "Error while scraping comments: Message: \n",
      "\n",
      "Error while scraping comments: Message: \n",
      "\n",
      "Error while scraping comments: Message: \n",
      "\n",
      "Error while scraping comments: Message: \n",
      "\n",
      "Error while scraping comments: Message: \n",
      "\n",
      "Error while scraping comments: Message: \n",
      "\n",
      "Error while scraping comments: Message: \n",
      "\n",
      "Error while scraping comments: Message: \n",
      "\n",
      "Error while scraping comments: Message: \n",
      "\n",
      "Error while scraping comments: Message: \n",
      "\n",
      "Error while scraping comments: Message: \n",
      "\n",
      "Error while scraping comments: Message: \n",
      "\n",
      "Error while scraping comments: Message: \n",
      "\n",
      "Error while scraping comments: Message: \n",
      "\n",
      "Error while scraping comments: Message: \n",
      "\n",
      "Error while scraping comments: Message: \n",
      "\n",
      "Error while scraping comments: Message: \n",
      "\n",
      "Error while scraping comments: Message: \n",
      "\n",
      "Error while scraping comments: Message: \n",
      "\n",
      "Error while scraping comments: Message: \n",
      "\n",
      "Error while scraping comments: Message: \n",
      "\n",
      "Error while scraping comments: Message: \n",
      "\n",
      "Error while scraping comments: Message: \n",
      "\n",
      "Scrolling attempt 3\n",
      "Error while scraping comments: Message: \n",
      "\n",
      "Scrolling attempt 2\n",
      "Error while scraping comments: Message: \n",
      "\n",
      "Scrolling attempt 1\n",
      "Error while scraping comments: Message: \n",
      "\n",
      "Scrolling attempt 0\n",
      "Error while scraping comments: Message: \n",
      "\n",
      "DataFrame is empty.\n",
      "Error while scraping comments: Message: \n",
      "\n",
      "Scrolling attempt 3\n",
      "Scrolling attempt 2\n",
      "Scrolling attempt 1\n",
      "Scrolling attempt 0\n"
     ]
    },
    {
     "name": "stderr",
     "output_type": "stream",
     "text": [
      "[nltk_data] Downloading package stopwords to\n",
      "[nltk_data]     C:\\Users\\gandj\\AppData\\Roaming\\nltk_data...\n",
      "[nltk_data]   Package stopwords is already up-to-date!\n",
      "[nltk_data] Downloading package punkt to\n",
      "[nltk_data]     C:\\Users\\gandj\\AppData\\Roaming\\nltk_data...\n",
      "[nltk_data]   Package punkt is already up-to-date!\n",
      "[nltk_data] Downloading package vader_lexicon to\n",
      "[nltk_data]     C:\\Users\\gandj\\AppData\\Roaming\\nltk_data...\n",
      "[nltk_data]   Package vader_lexicon is already up-to-date!\n"
     ]
    },
    {
     "name": "stdout",
     "output_type": "stream",
     "text": [
      "Error while scraping comments: Message: \n",
      "\n",
      "Scrolling attempt 3\n",
      "Scrolling attempt 2\n",
      "Scrolling attempt 1\n",
      "Scrolling attempt 0\n"
     ]
    },
    {
     "name": "stderr",
     "output_type": "stream",
     "text": [
      "[nltk_data] Downloading package stopwords to\n",
      "[nltk_data]     C:\\Users\\gandj\\AppData\\Roaming\\nltk_data...\n",
      "[nltk_data]   Package stopwords is already up-to-date!\n",
      "[nltk_data] Downloading package punkt to\n",
      "[nltk_data]     C:\\Users\\gandj\\AppData\\Roaming\\nltk_data...\n",
      "[nltk_data]   Package punkt is already up-to-date!\n",
      "[nltk_data] Downloading package vader_lexicon to\n",
      "[nltk_data]     C:\\Users\\gandj\\AppData\\Roaming\\nltk_data...\n",
      "[nltk_data]   Package vader_lexicon is already up-to-date!\n"
     ]
    },
    {
     "name": "stdout",
     "output_type": "stream",
     "text": [
      "Error while scraping comments: Message: \n",
      "\n",
      "Error while scraping comments: Message: \n",
      "\n",
      "Error while scraping comments: Message: \n",
      "\n",
      "Error while scraping comments: Message: \n",
      "\n",
      "Error while scraping comments: Message: \n",
      "\n",
      "Error while scraping comments: Message: \n",
      "\n",
      "Error while scraping comments: Message: \n",
      "\n",
      "Error while scraping comments: Message: \n",
      "\n",
      "Error while scraping comments: Message: \n",
      "\n",
      "Error while scraping comments: Message: \n",
      "\n",
      "Error while scraping comments: Message: \n",
      "\n",
      "Error while scraping comments: Message: \n",
      "\n",
      "Error while scraping comments: Message: \n",
      "\n",
      "Error while scraping comments: Message: \n",
      "\n",
      "Error while scraping comments: Message: \n",
      "\n",
      "Error while scraping comments: Message: \n",
      "\n",
      "Error while scraping comments: Message: \n",
      "\n",
      "Error while scraping comments: Message: \n",
      "\n",
      "Error while scraping comments: Message: \n",
      "\n",
      "Scrolling attempt 3\n",
      "Error while scraping comments: Message: \n",
      "\n",
      "Scrolling attempt 2\n",
      "Error while scraping comments: Message: \n",
      "\n",
      "Scrolling attempt 1\n",
      "Error while scraping comments: Message: \n",
      "\n",
      "Scrolling attempt 0\n",
      "Error while scraping comments: Message: \n",
      "\n",
      "DataFrame is empty.\n",
      "Error while scraping comments: Message: \n",
      "\n",
      "Scrolling attempt 3\n",
      "Scrolling attempt 2\n",
      "Scrolling attempt 1\n",
      "Scrolling attempt 0\n"
     ]
    },
    {
     "name": "stderr",
     "output_type": "stream",
     "text": [
      "[nltk_data] Downloading package stopwords to\n",
      "[nltk_data]     C:\\Users\\gandj\\AppData\\Roaming\\nltk_data...\n",
      "[nltk_data]   Package stopwords is already up-to-date!\n",
      "[nltk_data] Downloading package punkt to\n",
      "[nltk_data]     C:\\Users\\gandj\\AppData\\Roaming\\nltk_data...\n",
      "[nltk_data]   Package punkt is already up-to-date!\n",
      "[nltk_data] Downloading package vader_lexicon to\n",
      "[nltk_data]     C:\\Users\\gandj\\AppData\\Roaming\\nltk_data...\n",
      "[nltk_data]   Package vader_lexicon is already up-to-date!\n"
     ]
    },
    {
     "name": "stdout",
     "output_type": "stream",
     "text": [
      "Scrolling attempt 3\n",
      "Scrolling attempt 2\n",
      "Scrolling attempt 1\n",
      "Scrolling attempt 0\n"
     ]
    },
    {
     "name": "stderr",
     "output_type": "stream",
     "text": [
      "[nltk_data] Downloading package stopwords to\n",
      "[nltk_data]     C:\\Users\\gandj\\AppData\\Roaming\\nltk_data...\n",
      "[nltk_data]   Package stopwords is already up-to-date!\n",
      "[nltk_data] Downloading package punkt to\n",
      "[nltk_data]     C:\\Users\\gandj\\AppData\\Roaming\\nltk_data...\n",
      "[nltk_data]   Package punkt is already up-to-date!\n",
      "[nltk_data] Downloading package vader_lexicon to\n",
      "[nltk_data]     C:\\Users\\gandj\\AppData\\Roaming\\nltk_data...\n",
      "[nltk_data]   Package vader_lexicon is already up-to-date!\n"
     ]
    },
    {
     "name": "stdout",
     "output_type": "stream",
     "text": [
      "Scrolling attempt 3\n",
      "Scrolling attempt 2\n",
      "Scrolling attempt 1\n",
      "Scrolling attempt 0\n"
     ]
    },
    {
     "name": "stderr",
     "output_type": "stream",
     "text": [
      "[nltk_data] Downloading package stopwords to\n",
      "[nltk_data]     C:\\Users\\gandj\\AppData\\Roaming\\nltk_data...\n",
      "[nltk_data]   Package stopwords is already up-to-date!\n",
      "[nltk_data] Downloading package punkt to\n",
      "[nltk_data]     C:\\Users\\gandj\\AppData\\Roaming\\nltk_data...\n",
      "[nltk_data]   Package punkt is already up-to-date!\n",
      "[nltk_data] Downloading package vader_lexicon to\n",
      "[nltk_data]     C:\\Users\\gandj\\AppData\\Roaming\\nltk_data...\n",
      "[nltk_data]   Package vader_lexicon is already up-to-date!\n"
     ]
    },
    {
     "name": "stdout",
     "output_type": "stream",
     "text": [
      "Error while scraping comments: Message: \n",
      "\n",
      "Error while scraping comments: Message: \n",
      "\n",
      "Error while scraping comments: Message: \n",
      "\n",
      "Error while scraping comments: Message: \n",
      "\n",
      "Error while scraping comments: Message: \n",
      "\n",
      "Error while scraping comments: Message: \n",
      "\n",
      "Error while scraping comments: Message: \n",
      "\n",
      "Error while scraping comments: Message: \n",
      "\n",
      "Error while scraping comments: Message: \n",
      "\n",
      "Error while scraping comments: Message: \n",
      "\n",
      "Error while scraping comments: Message: \n",
      "\n",
      "Error while scraping comments: Message: \n",
      "\n",
      "Scrolling attempt 3\n",
      "Error while scraping comments: Message: \n",
      "\n",
      "Scrolling attempt 2\n",
      "Error while scraping comments: Message: \n",
      "\n",
      "Scrolling attempt 1\n",
      "Error while scraping comments: Message: \n",
      "\n",
      "Scrolling attempt 0\n",
      "Error while scraping comments: Message: \n",
      "\n",
      "DataFrame is empty.\n",
      "Error while scraping comments: Message: \n",
      "\n",
      "Error while scraping comments: Message: \n",
      "\n",
      "Error while scraping comments: Message: \n",
      "\n",
      "Error while scraping comments: Message: \n",
      "\n",
      "Error while scraping comments: Message: \n",
      "\n",
      "Error while scraping comments: Message: \n",
      "\n",
      "Error while scraping comments: Message: \n",
      "\n",
      "Error while scraping comments: Message: \n",
      "\n",
      "Error while scraping comments: Message: \n",
      "\n",
      "Error while scraping comments: Message: \n",
      "\n",
      "Error while scraping comments: Message: \n",
      "\n",
      "Error while scraping comments: Message: \n",
      "\n",
      "Scrolling attempt 3\n",
      "Error while scraping comments: Message: \n",
      "\n",
      "Scrolling attempt 2\n",
      "Error while scraping comments: Message: \n",
      "\n",
      "Scrolling attempt 1\n",
      "Error while scraping comments: Message: \n",
      "\n",
      "Scrolling attempt 0\n",
      "Error while scraping comments: Message: \n",
      "\n",
      "DataFrame is empty.\n",
      "Error while scraping comments: Message: \n",
      "\n",
      "Scrolling attempt 3\n",
      "Scrolling attempt 2\n",
      "Scrolling attempt 1\n",
      "Scrolling attempt 0\n"
     ]
    },
    {
     "name": "stderr",
     "output_type": "stream",
     "text": [
      "[nltk_data] Downloading package stopwords to\n",
      "[nltk_data]     C:\\Users\\gandj\\AppData\\Roaming\\nltk_data...\n",
      "[nltk_data]   Package stopwords is already up-to-date!\n",
      "[nltk_data] Downloading package punkt to\n",
      "[nltk_data]     C:\\Users\\gandj\\AppData\\Roaming\\nltk_data...\n",
      "[nltk_data]   Package punkt is already up-to-date!\n",
      "[nltk_data] Downloading package vader_lexicon to\n",
      "[nltk_data]     C:\\Users\\gandj\\AppData\\Roaming\\nltk_data...\n",
      "[nltk_data]   Package vader_lexicon is already up-to-date!\n"
     ]
    },
    {
     "name": "stdout",
     "output_type": "stream",
     "text": [
      "Scrolling attempt 3\n",
      "Scrolling attempt 2\n",
      "Scrolling attempt 1\n",
      "Scrolling attempt 0\n"
     ]
    },
    {
     "name": "stderr",
     "output_type": "stream",
     "text": [
      "[nltk_data] Downloading package stopwords to\n",
      "[nltk_data]     C:\\Users\\gandj\\AppData\\Roaming\\nltk_data...\n",
      "[nltk_data]   Package stopwords is already up-to-date!\n",
      "[nltk_data] Downloading package punkt to\n",
      "[nltk_data]     C:\\Users\\gandj\\AppData\\Roaming\\nltk_data...\n",
      "[nltk_data]   Package punkt is already up-to-date!\n",
      "[nltk_data] Downloading package vader_lexicon to\n",
      "[nltk_data]     C:\\Users\\gandj\\AppData\\Roaming\\nltk_data...\n",
      "[nltk_data]   Package vader_lexicon is already up-to-date!\n"
     ]
    },
    {
     "name": "stdout",
     "output_type": "stream",
     "text": [
      "Error while scraping comments: Message: \n",
      "\n",
      "Error while scraping comments: Message: \n",
      "\n",
      "Error while scraping comments: Message: \n",
      "\n",
      "Error while scraping comments: Message: \n",
      "\n",
      "Error while scraping comments: Message: \n",
      "\n",
      "Error while scraping comments: Message: \n",
      "\n",
      "Error while scraping comments: Message: \n",
      "\n",
      "Error while scraping comments: Message: \n",
      "\n",
      "Error while scraping comments: Message: \n",
      "\n",
      "Error while scraping comments: Message: \n",
      "\n",
      "Error while scraping comments: Message: \n",
      "\n",
      "Error while scraping comments: Message: \n",
      "\n",
      "Error while scraping comments: Message: \n",
      "\n",
      "Error while scraping comments: Message: \n",
      "\n",
      "Error while scraping comments: Message: \n",
      "\n",
      "Error while scraping comments: Message: \n",
      "\n",
      "Error while scraping comments: Message: \n",
      "\n",
      "Error while scraping comments: Message: \n",
      "\n",
      "Scrolling attempt 3\n",
      "Error while scraping comments: Message: \n",
      "\n",
      "Scrolling attempt 2\n",
      "Error while scraping comments: Message: \n",
      "\n",
      "Scrolling attempt 1\n",
      "Error while scraping comments: Message: \n",
      "\n",
      "Scrolling attempt 0\n",
      "Error while scraping comments: Message: \n",
      "\n",
      "DataFrame is empty.\n",
      "Error while scraping comments: Message: \n",
      "\n",
      "Error while scraping comments: Message: \n",
      "\n",
      "Error while scraping comments: Message: \n",
      "\n",
      "Error while scraping comments: Message: \n",
      "\n",
      "Error while scraping comments: Message: \n",
      "\n",
      "Error while scraping comments: Message: \n",
      "\n",
      "Error while scraping comments: Message: \n",
      "\n",
      "Error while scraping comments: Message: \n",
      "\n",
      "Error while scraping comments: Message: \n",
      "\n",
      "Error while scraping comments: Message: \n",
      "\n",
      "Error while scraping comments: Message: \n",
      "\n",
      "Error while scraping comments: Message: \n",
      "\n",
      "Error while scraping comments: Message: \n",
      "\n",
      "Error while scraping comments: Message: \n",
      "\n",
      "Error while scraping comments: Message: \n",
      "\n",
      "Scrolling attempt 3\n",
      "Error while scraping comments: Message: \n",
      "\n",
      "Scrolling attempt 2\n",
      "Error while scraping comments: Message: \n",
      "\n",
      "Scrolling attempt 1\n",
      "Error while scraping comments: Message: \n",
      "\n",
      "Scrolling attempt 0\n",
      "Error while scraping comments: Message: \n",
      "\n",
      "DataFrame is empty.\n",
      "Error while scraping comments: Message: \n",
      "\n",
      "Scrolling attempt 3\n",
      "Scrolling attempt 2\n",
      "Scrolling attempt 1\n",
      "Scrolling attempt 0\n"
     ]
    },
    {
     "name": "stderr",
     "output_type": "stream",
     "text": [
      "[nltk_data] Downloading package stopwords to\n",
      "[nltk_data]     C:\\Users\\gandj\\AppData\\Roaming\\nltk_data...\n",
      "[nltk_data]   Package stopwords is already up-to-date!\n",
      "[nltk_data] Downloading package punkt to\n",
      "[nltk_data]     C:\\Users\\gandj\\AppData\\Roaming\\nltk_data...\n",
      "[nltk_data]   Package punkt is already up-to-date!\n",
      "[nltk_data] Downloading package vader_lexicon to\n",
      "[nltk_data]     C:\\Users\\gandj\\AppData\\Roaming\\nltk_data...\n",
      "[nltk_data]   Package vader_lexicon is already up-to-date!\n"
     ]
    },
    {
     "name": "stdout",
     "output_type": "stream",
     "text": [
      "Error while scraping comments: Message: \n",
      "\n",
      "Scrolling attempt 3\n",
      "Scrolling attempt 2\n",
      "Scrolling attempt 1\n",
      "Scrolling attempt 0\n"
     ]
    },
    {
     "name": "stderr",
     "output_type": "stream",
     "text": [
      "[nltk_data] Downloading package stopwords to\n",
      "[nltk_data]     C:\\Users\\gandj\\AppData\\Roaming\\nltk_data...\n",
      "[nltk_data]   Package stopwords is already up-to-date!\n",
      "[nltk_data] Downloading package punkt to\n",
      "[nltk_data]     C:\\Users\\gandj\\AppData\\Roaming\\nltk_data...\n",
      "[nltk_data]   Package punkt is already up-to-date!\n",
      "[nltk_data] Downloading package vader_lexicon to\n",
      "[nltk_data]     C:\\Users\\gandj\\AppData\\Roaming\\nltk_data...\n",
      "[nltk_data]   Package vader_lexicon is already up-to-date!\n"
     ]
    },
    {
     "name": "stdout",
     "output_type": "stream",
     "text": [
      "Scrolling attempt 3\n",
      "Scrolling attempt 2\n",
      "Scrolling attempt 1\n",
      "Scrolling attempt 0\n"
     ]
    },
    {
     "name": "stderr",
     "output_type": "stream",
     "text": [
      "[nltk_data] Downloading package stopwords to\n",
      "[nltk_data]     C:\\Users\\gandj\\AppData\\Roaming\\nltk_data...\n",
      "[nltk_data]   Package stopwords is already up-to-date!\n",
      "[nltk_data] Downloading package punkt to\n",
      "[nltk_data]     C:\\Users\\gandj\\AppData\\Roaming\\nltk_data...\n",
      "[nltk_data]   Package punkt is already up-to-date!\n",
      "[nltk_data] Downloading package vader_lexicon to\n",
      "[nltk_data]     C:\\Users\\gandj\\AppData\\Roaming\\nltk_data...\n",
      "[nltk_data]   Package vader_lexicon is already up-to-date!\n"
     ]
    },
    {
     "name": "stdout",
     "output_type": "stream",
     "text": [
      "Error while scraping comments: Message: \n",
      "\n",
      "Scrolling attempt 3\n",
      "Scrolling attempt 2\n",
      "Scrolling attempt 1\n",
      "Scrolling attempt 0\n"
     ]
    },
    {
     "name": "stderr",
     "output_type": "stream",
     "text": [
      "[nltk_data] Downloading package stopwords to\n",
      "[nltk_data]     C:\\Users\\gandj\\AppData\\Roaming\\nltk_data...\n",
      "[nltk_data]   Package stopwords is already up-to-date!\n",
      "[nltk_data] Downloading package punkt to\n",
      "[nltk_data]     C:\\Users\\gandj\\AppData\\Roaming\\nltk_data...\n",
      "[nltk_data]   Package punkt is already up-to-date!\n",
      "[nltk_data] Downloading package vader_lexicon to\n",
      "[nltk_data]     C:\\Users\\gandj\\AppData\\Roaming\\nltk_data...\n",
      "[nltk_data]   Package vader_lexicon is already up-to-date!\n"
     ]
    },
    {
     "name": "stdout",
     "output_type": "stream",
     "text": [
      "Error while scraping comments: Message: \n",
      "\n",
      "Error while scraping comments: Message: \n",
      "\n",
      "Error while scraping comments: Message: \n",
      "\n",
      "Error while scraping comments: Message: \n",
      "\n",
      "Error while scraping comments: Message: \n",
      "\n",
      "Error while scraping comments: Message: \n",
      "\n",
      "Error while scraping comments: Message: \n",
      "\n",
      "Error while scraping comments: Message: \n",
      "\n",
      "Error while scraping comments: Message: \n",
      "\n",
      "Error while scraping comments: Message: \n",
      "\n",
      "Error while scraping comments: Message: \n",
      "\n",
      "Error while scraping comments: Message: \n",
      "\n",
      "Error while scraping comments: Message: \n",
      "\n",
      "Error while scraping comments: Message: \n",
      "\n",
      "Scrolling attempt 3\n",
      "Error while scraping comments: Message: \n",
      "\n",
      "Scrolling attempt 2\n",
      "Error while scraping comments: Message: \n",
      "\n",
      "Scrolling attempt 1\n",
      "Error while scraping comments: Message: \n",
      "\n",
      "Scrolling attempt 0\n",
      "Error while scraping comments: Message: \n",
      "\n",
      "DataFrame is empty.\n",
      "Error while scraping comments: Message: \n",
      "\n",
      "Scrolling attempt 3\n",
      "Scrolling attempt 2\n",
      "Scrolling attempt 1\n",
      "Scrolling attempt 0\n"
     ]
    },
    {
     "name": "stderr",
     "output_type": "stream",
     "text": [
      "[nltk_data] Downloading package stopwords to\n",
      "[nltk_data]     C:\\Users\\gandj\\AppData\\Roaming\\nltk_data...\n",
      "[nltk_data]   Package stopwords is already up-to-date!\n",
      "[nltk_data] Downloading package punkt to\n",
      "[nltk_data]     C:\\Users\\gandj\\AppData\\Roaming\\nltk_data...\n",
      "[nltk_data]   Package punkt is already up-to-date!\n",
      "[nltk_data] Downloading package vader_lexicon to\n",
      "[nltk_data]     C:\\Users\\gandj\\AppData\\Roaming\\nltk_data...\n",
      "[nltk_data]   Package vader_lexicon is already up-to-date!\n"
     ]
    },
    {
     "name": "stdout",
     "output_type": "stream",
     "text": [
      "Error while scraping comments: Message: \n",
      "\n",
      "Error while scraping comments: Message: \n",
      "\n",
      "Error while scraping comments: Message: \n",
      "\n",
      "Error while scraping comments: Message: \n",
      "\n",
      "Error while scraping comments: Message: \n",
      "\n",
      "Error while scraping comments: Message: \n",
      "\n",
      "Error while scraping comments: Message: \n",
      "\n",
      "Error while scraping comments: Message: \n",
      "\n",
      "Error while scraping comments: Message: \n",
      "\n",
      "Error while scraping comments: Message: \n",
      "\n",
      "Error while scraping comments: Message: \n",
      "\n",
      "Error while scraping comments: Message: \n",
      "\n",
      "Error while scraping comments: Message: \n",
      "\n",
      "Error while scraping comments: Message: \n",
      "\n",
      "Error while scraping comments: Message: \n",
      "\n",
      "Error while scraping comments: Message: \n",
      "\n",
      "Error while scraping comments: Message: \n",
      "\n",
      "Error while scraping comments: Message: \n",
      "\n",
      "Error while scraping comments: Message: \n",
      "\n",
      "Error while scraping comments: Message: \n",
      "\n",
      "Error while scraping comments: Message: \n",
      "\n",
      "Error while scraping comments: Message: \n",
      "\n",
      "Error while scraping comments: Message: \n",
      "\n",
      "Error while scraping comments: Message: \n",
      "\n",
      "Scrolling attempt 3\n",
      "Error while scraping comments: Message: \n",
      "\n",
      "Scrolling attempt 2\n",
      "Error while scraping comments: Message: \n",
      "\n",
      "Scrolling attempt 1\n",
      "Error while scraping comments: Message: \n",
      "\n",
      "Scrolling attempt 0\n",
      "Error while scraping comments: Message: \n",
      "\n",
      "DataFrame is empty.\n",
      "Scrolling attempt 3\n",
      "Scrolling attempt 2\n",
      "Scrolling attempt 1\n",
      "Scrolling attempt 0\n"
     ]
    },
    {
     "name": "stderr",
     "output_type": "stream",
     "text": [
      "[nltk_data] Downloading package stopwords to\n",
      "[nltk_data]     C:\\Users\\gandj\\AppData\\Roaming\\nltk_data...\n",
      "[nltk_data]   Package stopwords is already up-to-date!\n",
      "[nltk_data] Downloading package punkt to\n",
      "[nltk_data]     C:\\Users\\gandj\\AppData\\Roaming\\nltk_data...\n",
      "[nltk_data]   Package punkt is already up-to-date!\n",
      "[nltk_data] Downloading package vader_lexicon to\n",
      "[nltk_data]     C:\\Users\\gandj\\AppData\\Roaming\\nltk_data...\n",
      "[nltk_data]   Package vader_lexicon is already up-to-date!\n"
     ]
    },
    {
     "name": "stdout",
     "output_type": "stream",
     "text": [
      "Scrolling attempt 3\n",
      "Scrolling attempt 2\n",
      "Scrolling attempt 1\n",
      "Scrolling attempt 0\n"
     ]
    },
    {
     "name": "stderr",
     "output_type": "stream",
     "text": [
      "[nltk_data] Downloading package stopwords to\n",
      "[nltk_data]     C:\\Users\\gandj\\AppData\\Roaming\\nltk_data...\n",
      "[nltk_data]   Package stopwords is already up-to-date!\n",
      "[nltk_data] Downloading package punkt to\n",
      "[nltk_data]     C:\\Users\\gandj\\AppData\\Roaming\\nltk_data...\n",
      "[nltk_data]   Package punkt is already up-to-date!\n",
      "[nltk_data] Downloading package vader_lexicon to\n",
      "[nltk_data]     C:\\Users\\gandj\\AppData\\Roaming\\nltk_data...\n",
      "[nltk_data]   Package vader_lexicon is already up-to-date!\n"
     ]
    },
    {
     "name": "stdout",
     "output_type": "stream",
     "text": [
      "Error while scraping comments: Message: \n",
      "\n",
      "Error while scraping comments: Message: \n",
      "\n",
      "Error while scraping comments: Message: \n",
      "\n",
      "Error while scraping comments: Message: \n",
      "\n",
      "Error while scraping comments: Message: \n",
      "\n",
      "Error while scraping comments: Message: \n",
      "\n",
      "Error while scraping comments: Message: \n",
      "\n",
      "Error while scraping comments: Message: \n",
      "\n",
      "Error while scraping comments: Message: \n",
      "\n",
      "Error while scraping comments: Message: \n",
      "\n",
      "Error while scraping comments: Message: \n",
      "\n",
      "Error while scraping comments: Message: \n",
      "\n",
      "Error while scraping comments: Message: \n",
      "\n",
      "Error while scraping comments: Message: \n",
      "\n",
      "Scrolling attempt 3\n",
      "Error while scraping comments: Message: \n",
      "\n",
      "Scrolling attempt 2\n",
      "Error while scraping comments: Message: \n",
      "\n",
      "Scrolling attempt 1\n",
      "Error while scraping comments: Message: \n",
      "\n",
      "Scrolling attempt 0\n",
      "Error while scraping comments: Message: \n",
      "\n",
      "DataFrame is empty.\n",
      "Scrolling attempt 3\n",
      "Scrolling attempt 2\n",
      "Scrolling attempt 1\n",
      "Scrolling attempt 0\n"
     ]
    },
    {
     "name": "stderr",
     "output_type": "stream",
     "text": [
      "[nltk_data] Downloading package stopwords to\n",
      "[nltk_data]     C:\\Users\\gandj\\AppData\\Roaming\\nltk_data...\n",
      "[nltk_data]   Package stopwords is already up-to-date!\n",
      "[nltk_data] Downloading package punkt to\n",
      "[nltk_data]     C:\\Users\\gandj\\AppData\\Roaming\\nltk_data...\n",
      "[nltk_data]   Package punkt is already up-to-date!\n",
      "[nltk_data] Downloading package vader_lexicon to\n",
      "[nltk_data]     C:\\Users\\gandj\\AppData\\Roaming\\nltk_data...\n",
      "[nltk_data]   Package vader_lexicon is already up-to-date!\n"
     ]
    },
    {
     "name": "stdout",
     "output_type": "stream",
     "text": [
      "Error while scraping comments: Message: \n",
      "\n",
      "Scrolling attempt 3\n",
      "Scrolling attempt 2\n",
      "Scrolling attempt 1\n",
      "Scrolling attempt 0\n"
     ]
    },
    {
     "name": "stderr",
     "output_type": "stream",
     "text": [
      "[nltk_data] Downloading package stopwords to\n",
      "[nltk_data]     C:\\Users\\gandj\\AppData\\Roaming\\nltk_data...\n",
      "[nltk_data]   Package stopwords is already up-to-date!\n",
      "[nltk_data] Downloading package punkt to\n",
      "[nltk_data]     C:\\Users\\gandj\\AppData\\Roaming\\nltk_data...\n",
      "[nltk_data]   Package punkt is already up-to-date!\n",
      "[nltk_data] Downloading package vader_lexicon to\n",
      "[nltk_data]     C:\\Users\\gandj\\AppData\\Roaming\\nltk_data...\n",
      "[nltk_data]   Package vader_lexicon is already up-to-date!\n"
     ]
    },
    {
     "name": "stdout",
     "output_type": "stream",
     "text": [
      "Error while scraping comments: Message: \n",
      "\n",
      "Error while scraping comments: Message: \n",
      "\n",
      "Error while scraping comments: Message: \n",
      "\n",
      "Error while scraping comments: Message: \n",
      "\n",
      "Error while scraping comments: Message: \n",
      "\n",
      "Error while scraping comments: Message: \n",
      "\n",
      "Error while scraping comments: Message: \n",
      "\n",
      "Error while scraping comments: Message: \n",
      "\n",
      "Scrolling attempt 3\n",
      "Error while scraping comments: Message: \n",
      "\n",
      "Scrolling attempt 2\n",
      "Error while scraping comments: Message: \n",
      "\n",
      "Scrolling attempt 1\n",
      "Error while scraping comments: Message: \n",
      "\n",
      "Scrolling attempt 0\n",
      "Error while scraping comments: Message: \n",
      "\n",
      "DataFrame is empty.\n",
      "Error while scraping comments: Message: \n",
      "\n",
      "Error while scraping comments: Message: \n",
      "\n",
      "Error while scraping comments: Message: \n",
      "\n",
      "Error while scraping comments: Message: \n",
      "\n",
      "Error while scraping comments: Message: \n",
      "\n",
      "Error while scraping comments: Message: \n",
      "\n",
      "Error while scraping comments: Message: \n",
      "\n",
      "Error while scraping comments: Message: \n",
      "\n",
      "Error while scraping comments: Message: \n",
      "\n",
      "Error while scraping comments: Message: \n",
      "\n",
      "Error while scraping comments: Message: \n",
      "\n",
      "Error while scraping comments: Message: \n",
      "\n",
      "Error while scraping comments: Message: \n",
      "\n",
      "Error while scraping comments: Message: \n",
      "\n",
      "Error while scraping comments: Message: \n",
      "\n",
      "Error while scraping comments: Message: \n",
      "\n",
      "Scrolling attempt 3\n",
      "Error while scraping comments: Message: \n",
      "\n",
      "Scrolling attempt 2\n",
      "Error while scraping comments: Message: \n",
      "\n",
      "Scrolling attempt 1\n",
      "Error while scraping comments: Message: \n",
      "\n",
      "Scrolling attempt 0\n",
      "Error while scraping comments: Message: \n",
      "\n",
      "DataFrame is empty.\n",
      "Error while scraping comments: Message: \n",
      "\n",
      "Error while scraping comments: Message: \n",
      "\n",
      "Error while scraping comments: Message: \n",
      "\n",
      "Error while scraping comments: Message: \n",
      "\n",
      "Error while scraping comments: Message: \n",
      "\n",
      "Error while scraping comments: Message: \n",
      "\n",
      "Error while scraping comments: Message: \n",
      "\n",
      "Error while scraping comments: Message: \n",
      "\n",
      "Error while scraping comments: Message: \n",
      "\n",
      "Error while scraping comments: Message: \n",
      "\n",
      "Error while scraping comments: Message: \n",
      "\n",
      "Error while scraping comments: Message: \n",
      "\n",
      "Scrolling attempt 3\n",
      "Error while scraping comments: Message: \n",
      "\n",
      "Scrolling attempt 2\n",
      "Error while scraping comments: Message: \n",
      "\n",
      "Scrolling attempt 1\n",
      "Error while scraping comments: Message: \n",
      "\n",
      "Scrolling attempt 0\n",
      "Error while scraping comments: Message: \n",
      "\n",
      "DataFrame is empty.\n",
      "Scrolling attempt 3\n",
      "Scrolling attempt 2\n",
      "Scrolling attempt 1\n",
      "Scrolling attempt 0\n"
     ]
    },
    {
     "name": "stderr",
     "output_type": "stream",
     "text": [
      "[nltk_data] Downloading package stopwords to\n",
      "[nltk_data]     C:\\Users\\gandj\\AppData\\Roaming\\nltk_data...\n",
      "[nltk_data]   Package stopwords is already up-to-date!\n",
      "[nltk_data] Downloading package punkt to\n",
      "[nltk_data]     C:\\Users\\gandj\\AppData\\Roaming\\nltk_data...\n",
      "[nltk_data]   Package punkt is already up-to-date!\n",
      "[nltk_data] Downloading package vader_lexicon to\n",
      "[nltk_data]     C:\\Users\\gandj\\AppData\\Roaming\\nltk_data...\n",
      "[nltk_data]   Package vader_lexicon is already up-to-date!\n"
     ]
    }
   ],
   "source": [
    "df_comment_dict={}\n",
    "for video in lst_YouTube_comments:\n",
    "    df_comment_dict['df_comment_'+video]=comment_WWE_YouTube_DataFrame(video)\n",
    "    locals().update(df_comment_dict)"
   ]
  },
  {
   "cell_type": "code",
   "execution_count": 4,
   "id": "2eba5827",
   "metadata": {
    "scrolled": false
   },
   "outputs": [],
   "source": [
    "import pandas as pd\n",
    "dict_keys=list(df_comment_dict.keys())\n",
    "\n",
    "loop_values=dict_keys[2:]\n",
    "\n",
    "df=pd.concat([pd.DataFrame(df_comment_dict[dict_keys[0]]),pd.DataFrame(df_comment_dict[dict_keys[1]])])\n",
    "for x in loop_values:\n",
    "    df=pd.concat([df,df_comment_dict[x]])"
   ]
  },
  {
   "cell_type": "code",
   "execution_count": 6,
   "id": "7c2a5364",
   "metadata": {},
   "outputs": [],
   "source": [
    "df.to_csv('WWE_Comments.CSV')"
   ]
  },
  {
   "cell_type": "code",
   "execution_count": 7,
   "id": "4fbd0a64",
   "metadata": {},
   "outputs": [
    {
     "data": {
      "text/html": [
       "<div>\n",
       "<style scoped>\n",
       "    .dataframe tbody tr th:only-of-type {\n",
       "        vertical-align: middle;\n",
       "    }\n",
       "\n",
       "    .dataframe tbody tr th {\n",
       "        vertical-align: top;\n",
       "    }\n",
       "\n",
       "    .dataframe thead th {\n",
       "        text-align: right;\n",
       "    }\n",
       "</style>\n",
       "<table border=\"1\" class=\"dataframe\">\n",
       "  <thead>\n",
       "    <tr style=\"text-align: right;\">\n",
       "      <th></th>\n",
       "      <th>comment</th>\n",
       "      <th>Date</th>\n",
       "      <th>Date_Month</th>\n",
       "      <th>word_comment</th>\n",
       "      <th>word_comment_tag_words</th>\n",
       "      <th>Sentiment</th>\n",
       "    </tr>\n",
       "  </thead>\n",
       "  <tbody>\n",
       "    <tr>\n",
       "      <th>0</th>\n",
       "      <td>216 man Rey cant catch a break from betrayals\\n</td>\n",
       "      <td>2024-03-30</td>\n",
       "      <td>2024-03-01</td>\n",
       "      <td>[216, man, Rey, cant, catch, break, betrayals]</td>\n",
       "      <td>[216, Rey]</td>\n",
       "      <td>Neutral</td>\n",
       "    </tr>\n",
       "    <tr>\n",
       "      <th>1</th>\n",
       "      <td>I smell a double turn Seth Turns on Cody The R...</td>\n",
       "      <td>2024-03-30</td>\n",
       "      <td>2024-03-01</td>\n",
       "      <td>[smell, double, turn, Seth, Turns, Cody, Rock,...</td>\n",
       "      <td>[Seth, Turns, Cody, Rock, Turns, Roman]</td>\n",
       "      <td>Neutral</td>\n",
       "    </tr>\n",
       "    <tr>\n",
       "      <th>2</th>\n",
       "      <td>The Rock killed the PG Era</td>\n",
       "      <td>2024-03-30</td>\n",
       "      <td>2024-03-01</td>\n",
       "      <td>[Rock, killed, PG, Era]</td>\n",
       "      <td>[Rock, PG, Era]</td>\n",
       "      <td>Negative</td>\n",
       "    </tr>\n",
       "    <tr>\n",
       "      <th>3</th>\n",
       "      <td>I dont see WWE commissioning a new Smackdown t...</td>\n",
       "      <td>2024-03-30</td>\n",
       "      <td>2024-03-01</td>\n",
       "      <td>[dont, see, WWE, commissioning, new, Smackdown...</td>\n",
       "      <td>[WWE, Smackdown, Wrestlemania, Picture, RTruth...</td>\n",
       "      <td>Positive</td>\n",
       "    </tr>\n",
       "    <tr>\n",
       "      <th>4</th>\n",
       "      <td>If WWE make Seth turn on Cody resulting in Rom...</td>\n",
       "      <td>2024-03-30</td>\n",
       "      <td>2024-03-01</td>\n",
       "      <td>[WWE, make, Seth, turn, Cody, resulting, Roman...</td>\n",
       "      <td>[WWE, Seth, Cody, Roman, Roman, Champion]</td>\n",
       "      <td>Positive</td>\n",
       "    </tr>\n",
       "  </tbody>\n",
       "</table>\n",
       "</div>"
      ],
      "text/plain": [
       "                                             comment       Date Date_Month  \\\n",
       "0    216 man Rey cant catch a break from betrayals\\n 2024-03-30 2024-03-01   \n",
       "1  I smell a double turn Seth Turns on Cody The R... 2024-03-30 2024-03-01   \n",
       "2                         The Rock killed the PG Era 2024-03-30 2024-03-01   \n",
       "3  I dont see WWE commissioning a new Smackdown t... 2024-03-30 2024-03-01   \n",
       "4  If WWE make Seth turn on Cody resulting in Rom... 2024-03-30 2024-03-01   \n",
       "\n",
       "                                        word_comment  \\\n",
       "0     [216, man, Rey, cant, catch, break, betrayals]   \n",
       "1  [smell, double, turn, Seth, Turns, Cody, Rock,...   \n",
       "2                            [Rock, killed, PG, Era]   \n",
       "3  [dont, see, WWE, commissioning, new, Smackdown...   \n",
       "4  [WWE, make, Seth, turn, Cody, resulting, Roman...   \n",
       "\n",
       "                              word_comment_tag_words Sentiment  \n",
       "0                                         [216, Rey]   Neutral  \n",
       "1            [Seth, Turns, Cody, Rock, Turns, Roman]   Neutral  \n",
       "2                                    [Rock, PG, Era]  Negative  \n",
       "3  [WWE, Smackdown, Wrestlemania, Picture, RTruth...  Positive  \n",
       "4          [WWE, Seth, Cody, Roman, Roman, Champion]  Positive  "
      ]
     },
     "execution_count": 7,
     "metadata": {},
     "output_type": "execute_result"
    }
   ],
   "source": [
    "df.head()"
   ]
  },
  {
   "cell_type": "code",
   "execution_count": 19,
   "id": "d5421588",
   "metadata": {},
   "outputs": [
    {
     "data": {
      "text/html": [
       "<div>\n",
       "<style scoped>\n",
       "    .dataframe tbody tr th:only-of-type {\n",
       "        vertical-align: middle;\n",
       "    }\n",
       "\n",
       "    .dataframe tbody tr th {\n",
       "        vertical-align: top;\n",
       "    }\n",
       "\n",
       "    .dataframe thead th {\n",
       "        text-align: right;\n",
       "    }\n",
       "</style>\n",
       "<table border=\"1\" class=\"dataframe\">\n",
       "  <thead>\n",
       "    <tr style=\"text-align: right;\">\n",
       "      <th></th>\n",
       "      <th>comment</th>\n",
       "      <th>Date</th>\n",
       "      <th>Date_Month</th>\n",
       "      <th>word_comment</th>\n",
       "      <th>word_comment_tag_words</th>\n",
       "      <th>Sentiment</th>\n",
       "    </tr>\n",
       "  </thead>\n",
       "  <tbody>\n",
       "    <tr>\n",
       "      <th>0</th>\n",
       "      <td>216 man Rey cant catch a break from betrayals\\n</td>\n",
       "      <td>2024-03-30</td>\n",
       "      <td>2024-03-01</td>\n",
       "      <td>['216', 'man', 'Rey', 'cant', 'catch', 'break'...</td>\n",
       "      <td>['216', 'Rey']</td>\n",
       "      <td>Neutral</td>\n",
       "    </tr>\n",
       "    <tr>\n",
       "      <th>1</th>\n",
       "      <td>I smell a double turn Seth Turns on Cody The R...</td>\n",
       "      <td>2024-03-30</td>\n",
       "      <td>2024-03-01</td>\n",
       "      <td>['smell', 'double', 'turn', 'Seth', 'Turns', '...</td>\n",
       "      <td>['Seth', 'Turns', 'Cody', 'Rock', 'Turns', 'Ro...</td>\n",
       "      <td>Neutral</td>\n",
       "    </tr>\n",
       "    <tr>\n",
       "      <th>2</th>\n",
       "      <td>The Rock killed the PG Era</td>\n",
       "      <td>2024-03-30</td>\n",
       "      <td>2024-03-01</td>\n",
       "      <td>['Rock', 'killed', 'PG', 'Era']</td>\n",
       "      <td>['Rock', 'PG', 'Era']</td>\n",
       "      <td>Negative</td>\n",
       "    </tr>\n",
       "    <tr>\n",
       "      <th>3</th>\n",
       "      <td>I dont see WWE commissioning a new Smackdown t...</td>\n",
       "      <td>2024-03-30</td>\n",
       "      <td>2024-03-01</td>\n",
       "      <td>['dont', 'see', 'WWE', 'commissioning', 'new',...</td>\n",
       "      <td>['WWE', 'Smackdown', 'Wrestlemania', 'Picture'...</td>\n",
       "      <td>Positive</td>\n",
       "    </tr>\n",
       "    <tr>\n",
       "      <th>4</th>\n",
       "      <td>If WWE make Seth turn on Cody resulting in Rom...</td>\n",
       "      <td>2024-03-30</td>\n",
       "      <td>2024-03-01</td>\n",
       "      <td>['WWE', 'make', 'Seth', 'turn', 'Cody', 'resul...</td>\n",
       "      <td>['WWE', 'Seth', 'Cody', 'Roman', 'Roman', 'Cha...</td>\n",
       "      <td>Positive</td>\n",
       "    </tr>\n",
       "  </tbody>\n",
       "</table>\n",
       "</div>"
      ],
      "text/plain": [
       "                                             comment        Date  Date_Month  \\\n",
       "0    216 man Rey cant catch a break from betrayals\\n  2024-03-30  2024-03-01   \n",
       "1  I smell a double turn Seth Turns on Cody The R...  2024-03-30  2024-03-01   \n",
       "2                         The Rock killed the PG Era  2024-03-30  2024-03-01   \n",
       "3  I dont see WWE commissioning a new Smackdown t...  2024-03-30  2024-03-01   \n",
       "4  If WWE make Seth turn on Cody resulting in Rom...  2024-03-30  2024-03-01   \n",
       "\n",
       "                                        word_comment  \\\n",
       "0  ['216', 'man', 'Rey', 'cant', 'catch', 'break'...   \n",
       "1  ['smell', 'double', 'turn', 'Seth', 'Turns', '...   \n",
       "2                    ['Rock', 'killed', 'PG', 'Era']   \n",
       "3  ['dont', 'see', 'WWE', 'commissioning', 'new',...   \n",
       "4  ['WWE', 'make', 'Seth', 'turn', 'Cody', 'resul...   \n",
       "\n",
       "                              word_comment_tag_words Sentiment  \n",
       "0                                     ['216', 'Rey']   Neutral  \n",
       "1  ['Seth', 'Turns', 'Cody', 'Rock', 'Turns', 'Ro...   Neutral  \n",
       "2                              ['Rock', 'PG', 'Era']  Negative  \n",
       "3  ['WWE', 'Smackdown', 'Wrestlemania', 'Picture'...  Positive  \n",
       "4  ['WWE', 'Seth', 'Cody', 'Roman', 'Roman', 'Cha...  Positive  "
      ]
     },
     "execution_count": 19,
     "metadata": {},
     "output_type": "execute_result"
    }
   ],
   "source": [
    "import pandas as pd\n",
    "import numpy as np\n",
    "import matplotlib.pyplot as plt\n",
    "import seaborn as sns\n",
    "\n",
    "df=pd.read_csv(r\"C:\\Users\\gandj\\OneDrive\\Desktop\\Case_Study\\WWE\\WWE_Comments.CSV\").iloc[:,1:]\n",
    "df.head()"
   ]
  },
  {
   "cell_type": "code",
   "execution_count": 31,
   "id": "629b0e74",
   "metadata": {},
   "outputs": [],
   "source": [
    "# %load \"C:\\Users\\gandj\\OneDrive\\Desktop\\Case_Study\\WWE\\DataFrame_Wrestler_Count.py\"\n",
    "#Getting a DataFrame with the Word Count of Wrestlers\n",
    "def Wrestler_Comment_Count(dataframe,URL):\n",
    "    import pandas as pd\n",
    "    from collections import Counter\n",
    "    from bs4 import BeautifulSoup\n",
    "    from bs4 import Comment\n",
    "    import requests\n",
    "    \n",
    "    def get_date(url):\n",
    "        url=URL\n",
    "        data=requests.get(url).text\n",
    "        soup=BeautifulSoup(data,'html.parser')\n",
    "        test=soup.find('meta', itemprop ='datePublished')\n",
    "\n",
    "        content_value = test.get('content')\n",
    "        return content_value.split('T')[0]\n",
    "    \n",
    "    step_list=[x for lst in dataframe.iloc[:,4] for x in lst]\n",
    "    df_count=Counter(step_list)\n",
    "    df_count_dict=dict(df_count)\n",
    "    sorted_word_count=dict(sorted(df_count_dict.items(),key=lambda item:item[1],reverse=True))\n",
    "    \n",
    "    df_app=pd.DataFrame(sorted_word_count.items(),columns=['Word','Count'])\n",
    "    date=pd.to_datetime(get_date(URL))\n",
    "    df_app['Date']=date\n",
    "    #how to filter out non-string values\n",
    "    df_app['Word']=df_app['Word'][df_app['Word'].apply(lambda x: x.isalpha())]\n",
    "    df_app['Word']=df_app['Word'].astype(str)\n",
    "    df_app=df_app[df_app['Word']!='nan']\n",
    "    \n",
    "    url=\"https://www.thesmackdownhotel.com/roster/?promotion=wwe&date=all-time\"\n",
    "    data=requests.get(url).text\n",
    "    soup=BeautifulSoup(data,'html.parser')\n",
    "    #getting the section where the needed information is loacted\n",
    "    test=soup.find('div', class_ ='roster_section roster2k22')\n",
    "    #list comprehension to get all Names\n",
    "    wrestler=[x.get('title') for x in test.find_all('a')]\n",
    "    \n",
    "    #splitting each string value by the space\n",
    "    name_split=[x.split(' ') for x in wrestler]\n",
    "    #nested list comprehension\n",
    "    plural_name_split = [[k + 's' for k in x.split(' ')] for x in wrestler]\n",
    "    #splitting each string value by the space and truning all string values into lower case\n",
    "    lower_name_split=[x.lower().split(' ') for x in wrestler]\n",
    "    #nested list comprehension\n",
    "    plural_lower_name_split=[[k + \"s\" for k in x.lower().split(' ')] for x in wrestler]\n",
    "    #putting each string value from a list into a list of its own\n",
    "    sep_list=[[str(x)] for x in wrestler]\n",
    "    #nested list comprehension\n",
    "    plural_sep_list=[[k + 's' for k in [str(x)]] for x in wrestler]\n",
    "    #putting each string value from a list into a list of its own and transforming all letter to lower case\n",
    "    sep_list_lower=[[str(x.lower())] for x in wrestler]\n",
    "\n",
    "    plural_lower_sep_list=[[k + \"s\" for k in [str(x.lower())]] for x in wrestler]\n",
    "\n",
    "    dict_value=[]\n",
    "    for x in range(0,len(wrestler)):\n",
    "        new_input=sep_list[x]+plural_sep_list[x]+sep_list_lower[x]+plural_lower_sep_list[x]+name_split[x]+plural_name_split[x]\n",
    "        dict_value.append(new_input)\n",
    "    \n",
    "    wrestler_dict=dict(zip(wrestler,dict_value))\n",
    "    \n",
    "    del wrestler_dict['Aalyah Mysterio'][5]\n",
    "    del wrestler_dict['Aalyah Mysterio'][6]\n",
    "    del wrestler_dict['AJ Lee'][4]\n",
    "    del wrestler_dict['AJ Lee'][5]\n",
    "    del wrestler_dict['The Rock'][4]\n",
    "    del wrestler_dict['The Rock'][5]\n",
    "    del wrestler_dict['The Miz'][4]\n",
    "    del wrestler_dict['The Miz'][5]\n",
    "    del wrestler_dict['The Undertaker'][4]\n",
    "    del wrestler_dict['The Undertaker'][5]\n",
    "    del wrestler_dict['John Morrison'][4]\n",
    "    del wrestler_dict['John Morrison'][5]\n",
    "    del wrestler_dict['Austin Theory'][4]\n",
    "    del wrestler_dict['Austin Theory'][5]\n",
    "    del wrestler_dict['Dominik Mysterio'][5]\n",
    "    del wrestler_dict['Dominik Mysterio'][6]\n",
    "    del wrestler_dict['Chris Benoit'][0]\n",
    "    del wrestler_dict['Chris Benoit'][0]\n",
    "    del wrestler_dict['Chris Benoit'][0]\n",
    "    del wrestler_dict['Chris Benoit'][0]\n",
    "    del wrestler_dict['Chris Benoit'][0]\n",
    "    del wrestler_dict['Chris Benoit'][1]\n",
    "    first_val=['Adam Cole','Adam Pearce','Adam Rose','Angel Hayze','Austin Aries','Bam Neely','Big Boss Man','Big Cass','Big Daddy V',\n",
    "              'Big John Studd','Big Show','Billy Kidman','Bill Watts','Blake Beverly','Bobby Fish','Bobby Heenan','Chris Candido',\n",
    "              'Chris Kanyon','Chris Masters','Chris Park','Drake Maverick','Duke Droese','Eddie Dennis','Eddie Gilbert','Eddie Graham',\n",
    "              'Eric Bischoff','Jeff Hardy','Jeff Jarrett','Jimmy Hart','Jimmy Jacobs','Jimmy Smith','Jimmy Snuka','Kevin Nash','Randy Savage',\n",
    "              'Rob Conway','Rob Gronkowski','Shawn Daivari','Shawn Spears','Shawn Stasiak','Luther Reigns','Rocco Rock','Drew Gulak',\n",
    "              'John Laurinaitis','Linda McMahon','Mr. Stone']\n",
    "    for x in first_val:\n",
    "        del wrestler_dict[x][4:]\n",
    "    wrestler_dict['WWE']=['WWE','wwe']\n",
    "    wrestler_dict['Raw']=['RAW','Raw','raw']\n",
    "    wrestler_dict['Smack Down']=['Smack Down','smack down','Smack down','Smack','smack','Down','down','Smackdown','SmackDown',\n",
    "                                'smackdown']\n",
    "    wrestler_dict['WrestleMania']=['WrestleMania','wrestlemania','WM','wm','Wrestlemania','Mania','mania']\n",
    "    wrestler_dict['Royal Rumble']=['Royal Rumble','royal rumble','RR','rr','Royal rumble']\n",
    "    wrestler_dict['Elimination Chamber']=['Elimination Chamber','elimination chamber','EC','ec','Elimination chamber']\n",
    "    wrestler_dict['NXT Vengeance Day']=['Vengeance Day','vengeance day']\n",
    "    wrestler_dict['NXT Roadblock']=['Roadblock','roadblock']\n",
    "    wrestler_dict['NXT Stand & Deliver']=['Stand & Deliver','stand & deliver']\n",
    "    wrestler_dict['Backlash']=['Backlash','backlash']\n",
    "    wrestler_dict['NXT Battleground']=['Battleground','battleground']\n",
    "    wrestler_dict['Money in the Bank']=['Money in the Bank','vengeance day','money in the bank','MITB','mitb']\n",
    "    wrestler_dict['NXT Heatwave']=['Heatwave','heatwave']\n",
    "    wrestler_dict['Summer Slam']=['Summer Slam','summer slam']\n",
    "    wrestler_dict['Bash in Berlin']=['Bash in Berlin','bash in berlin','BIB','bib']\n",
    "    wrestler_dict['Survivor Series']=['Survivor Series','survivor series','Survivor series']\n",
    "    wrestler_dict['The Bloodline']=['Bloodline','bloodline','The Bloodline','the bloodline']\n",
    "    wrestler_dict['The Judgment Day']=['The Judgment Day','the judgment day','Judgment Day','judgment day', 'Judgment','judgment',\n",
    "                                      'Day','day']\n",
    "    wrestler_dict['Seth Rollins']=['Seth Rollins','Seth Rollinss','Seth','Seth ','Seths','seth','seths','Rollins','rollins','Rollinss','rollinss']\n",
    "    wrestler_dict['McMahon']=['McMahon','mcmahon','Mcmahon','mcMahon','McMahons','mcmahons','Mcmahons','mcMahons']\n",
    "    wrestler_dict['Golden Era']=['Golden Era','golden era','Golden','golden']\n",
    "    wrestler_dict['Attitude Era']=['Attitude Era','attitude era','Attitude','attitude','Era','era']\n",
    "    wrestler_dict['Ruthless Aggression Era']=['Ruthless Aggression Era','ruthless aggression era',\n",
    "                                              'Ruthless','ruthless','Aggression','aggression',]\n",
    "    wrestler_dict['PG Era']=['PG Era','pg era','PG','pg']\n",
    "    wrestler_dict['New Era']=['New Era','new era','New','new']\n",
    "    wrestler_dict['The Rock'].append('Dwayne')\n",
    "    wrestler_dict['The Rock'].append('Dwaynes')\n",
    "    wrestler_dict['The Rock'].append('dwayne')\n",
    "    wrestler_dict['The Rock'].append('dwaynes')\n",
    "    del wrestler_dict['Seth ']\n",
    "    wrestler_dict['Stone Cold Steve Austin']=wrestler_dict['Steve Austin']\n",
    "    del wrestler_dict['Steve Austin']\n",
    "    wrestler_dict['Stone Cold Steve Austin'].append('Stone')\n",
    "    wrestler_dict['Stone Cold Steve Austin'].append('Stones')\n",
    "    wrestler_dict['Stone Cold Steve Austin'].append('stone')\n",
    "    wrestler_dict['Stone Cold Steve Austin'].append('stones')\n",
    "    wrestler_dict['Stone Cold Steve Austin'].append('Cold')\n",
    "    wrestler_dict['Stone Cold Steve Austin'].append('Colds')\n",
    "    wrestler_dict['Stone Cold Steve Austin'].append('cold')\n",
    "    wrestler_dict['Stone Cold Steve Austin'].append('colds')\n",
    "    wrestler_dict['Stone Cold Steve Austin'].append('Stone Cold')\n",
    "    wrestler_dict['Stone Cold Steve Austin'].append('Stone Colds')\n",
    "    wrestler_dict['Stone Cold Steve Austin'].append('Stone cold')\n",
    "    wrestler_dict['Stone Cold Steve Austin'].append('Stone colds')\n",
    "    wrestler_dict['Stone Cold Steve Austin'].append('stone cold')\n",
    "    wrestler_dict['Stone Cold Steve Austin'].append('stone cold')\n",
    "    wrestler_dict['Shawn Michaels'].append('HBK')\n",
    "    wrestler_dict['Shawn Michaels'].append('HBKs')\n",
    "    wrestler_dict['Shawn Michaels'].append('hbk')\n",
    "    wrestler_dict['Shawn Michaels'].append('hbks')\n",
    "    del wrestler_dict[\"Paul \"]\n",
    "    wrestler_dict['Triple H']=['Triple H','Triple Hs','triple h','triple hs','Triple','Triples','triple','triples','H','Hs',\n",
    "                              'h','hs','HHH','HHHs','hhh','hhhs','Hunter','Hunters','hunter','hunters']\n",
    "    \n",
    "    #def function to get the key for the corrosponding value\n",
    "    def find_key(dictionary, value):\n",
    "        keys = []\n",
    "        for key, val in dictionary.items():\n",
    "            if value in val:\n",
    "                keys.append(key)\n",
    "        return keys if keys else None  # If no matching keys found, return None\n",
    "\n",
    "    #mapping the column values to the matching dictionary values\n",
    "    df_app['Wrestler'] = df_app['Word'].map(lambda x: find_key(wrestler_dict, x))\n",
    "    #this line allows us to remove the list from each value, otherwise the \"Wrestler\" column would have \n",
    "    df_app['Wrestler'] = df_app['Wrestler'].apply(lambda x: x[0] if isinstance(x, list) else x)\n",
    "    date=pd.to_datetime(get_date(URL))\n",
    "    df_app['Month_Date']=date.to_period('M').to_timestamp()\n",
    "    return df_app"
   ]
  },
  {
   "cell_type": "code",
   "execution_count": 32,
   "id": "d163e803",
   "metadata": {},
   "outputs": [
    {
     "name": "stdout",
     "output_type": "stream",
     "text": [
      "Error while scraping comments: Message: \n",
      "\n",
      "Scrolling attempt 3\n",
      "Scrolling attempt 2\n",
      "Scrolling attempt 1\n",
      "Scrolling attempt 0\n"
     ]
    },
    {
     "name": "stderr",
     "output_type": "stream",
     "text": [
      "[nltk_data] Downloading package stopwords to\n",
      "[nltk_data]     C:\\Users\\gandj\\AppData\\Roaming\\nltk_data...\n",
      "[nltk_data]   Package stopwords is already up-to-date!\n",
      "[nltk_data] Downloading package punkt to\n",
      "[nltk_data]     C:\\Users\\gandj\\AppData\\Roaming\\nltk_data...\n",
      "[nltk_data]   Package punkt is already up-to-date!\n",
      "[nltk_data] Downloading package vader_lexicon to\n",
      "[nltk_data]     C:\\Users\\gandj\\AppData\\Roaming\\nltk_data...\n",
      "[nltk_data]   Package vader_lexicon is already up-to-date!\n"
     ]
    },
    {
     "data": {
      "text/html": [
       "<div>\n",
       "<style scoped>\n",
       "    .dataframe tbody tr th:only-of-type {\n",
       "        vertical-align: middle;\n",
       "    }\n",
       "\n",
       "    .dataframe tbody tr th {\n",
       "        vertical-align: top;\n",
       "    }\n",
       "\n",
       "    .dataframe thead th {\n",
       "        text-align: right;\n",
       "    }\n",
       "</style>\n",
       "<table border=\"1\" class=\"dataframe\">\n",
       "  <thead>\n",
       "    <tr style=\"text-align: right;\">\n",
       "      <th></th>\n",
       "      <th>Word</th>\n",
       "      <th>Count</th>\n",
       "      <th>Date</th>\n",
       "      <th>Wrestler</th>\n",
       "      <th>Month_Date</th>\n",
       "    </tr>\n",
       "  </thead>\n",
       "  <tbody>\n",
       "    <tr>\n",
       "      <th>0</th>\n",
       "      <td>Cody</td>\n",
       "      <td>58</td>\n",
       "      <td>2024-03-31</td>\n",
       "      <td>Cody Rhodes</td>\n",
       "      <td>2024-03-01</td>\n",
       "    </tr>\n",
       "    <tr>\n",
       "      <th>1</th>\n",
       "      <td>Becky</td>\n",
       "      <td>47</td>\n",
       "      <td>2024-03-31</td>\n",
       "      <td>Becky Lynch</td>\n",
       "      <td>2024-03-01</td>\n",
       "    </tr>\n",
       "    <tr>\n",
       "      <th>2</th>\n",
       "      <td>Roman</td>\n",
       "      <td>41</td>\n",
       "      <td>2024-03-31</td>\n",
       "      <td>Roman Reigns</td>\n",
       "      <td>2024-03-01</td>\n",
       "    </tr>\n",
       "    <tr>\n",
       "      <th>3</th>\n",
       "      <td>Lynch</td>\n",
       "      <td>22</td>\n",
       "      <td>2024-03-31</td>\n",
       "      <td>Becky Lynch</td>\n",
       "      <td>2024-03-01</td>\n",
       "    </tr>\n",
       "    <tr>\n",
       "      <th>4</th>\n",
       "      <td>WWE</td>\n",
       "      <td>21</td>\n",
       "      <td>2024-03-31</td>\n",
       "      <td>WWE</td>\n",
       "      <td>2024-03-01</td>\n",
       "    </tr>\n",
       "    <tr>\n",
       "      <th>...</th>\n",
       "      <td>...</td>\n",
       "      <td>...</td>\n",
       "      <td>...</td>\n",
       "      <td>...</td>\n",
       "      <td>...</td>\n",
       "    </tr>\n",
       "    <tr>\n",
       "      <th>386</th>\n",
       "      <td>Really</td>\n",
       "      <td>1</td>\n",
       "      <td>2024-03-31</td>\n",
       "      <td>None</td>\n",
       "      <td>2024-03-01</td>\n",
       "    </tr>\n",
       "    <tr>\n",
       "      <th>387</th>\n",
       "      <td>Overrated</td>\n",
       "      <td>1</td>\n",
       "      <td>2024-03-31</td>\n",
       "      <td>None</td>\n",
       "      <td>2024-03-01</td>\n",
       "    </tr>\n",
       "    <tr>\n",
       "      <th>388</th>\n",
       "      <td>Woke</td>\n",
       "      <td>1</td>\n",
       "      <td>2024-03-31</td>\n",
       "      <td>None</td>\n",
       "      <td>2024-03-01</td>\n",
       "    </tr>\n",
       "    <tr>\n",
       "      <th>389</th>\n",
       "      <td>NOTHING</td>\n",
       "      <td>1</td>\n",
       "      <td>2024-03-31</td>\n",
       "      <td>None</td>\n",
       "      <td>2024-03-01</td>\n",
       "    </tr>\n",
       "    <tr>\n",
       "      <th>390</th>\n",
       "      <td>BLM</td>\n",
       "      <td>1</td>\n",
       "      <td>2024-03-31</td>\n",
       "      <td>None</td>\n",
       "      <td>2024-03-01</td>\n",
       "    </tr>\n",
       "  </tbody>\n",
       "</table>\n",
       "<p>342 rows × 5 columns</p>\n",
       "</div>"
      ],
      "text/plain": [
       "          Word  Count       Date      Wrestler Month_Date\n",
       "0         Cody     58 2024-03-31   Cody Rhodes 2024-03-01\n",
       "1        Becky     47 2024-03-31   Becky Lynch 2024-03-01\n",
       "2        Roman     41 2024-03-31  Roman Reigns 2024-03-01\n",
       "3        Lynch     22 2024-03-31   Becky Lynch 2024-03-01\n",
       "4          WWE     21 2024-03-31           WWE 2024-03-01\n",
       "..         ...    ...        ...           ...        ...\n",
       "386     Really      1 2024-03-31          None 2024-03-01\n",
       "387  Overrated      1 2024-03-31          None 2024-03-01\n",
       "388       Woke      1 2024-03-31          None 2024-03-01\n",
       "389    NOTHING      1 2024-03-31          None 2024-03-01\n",
       "390        BLM      1 2024-03-31          None 2024-03-01\n",
       "\n",
       "[342 rows x 5 columns]"
      ]
     },
     "execution_count": 32,
     "metadata": {},
     "output_type": "execute_result"
    }
   ],
   "source": [
    "test=Wrestler_Comment_Count(comment_WWE_YouTube_DataFrame('https://www.youtube.com/watch?v=Qzlp8Ep1ZS0'),\n",
    "                            'https://www.youtube.com/watch?v=Qzlp8Ep1ZS0')\n",
    "test"
   ]
  },
  {
   "cell_type": "code",
   "execution_count": 39,
   "id": "60049459",
   "metadata": {
    "scrolled": true
   },
   "outputs": [
    {
     "name": "stdout",
     "output_type": "stream",
     "text": [
      "Scrolling attempt 1\n",
      "Scrolling attempt 0\n"
     ]
    },
    {
     "name": "stderr",
     "output_type": "stream",
     "text": [
      "[nltk_data] Downloading package stopwords to\n",
      "[nltk_data]     C:\\Users\\gandj\\AppData\\Roaming\\nltk_data...\n",
      "[nltk_data]   Package stopwords is already up-to-date!\n",
      "[nltk_data] Downloading package punkt to\n",
      "[nltk_data]     C:\\Users\\gandj\\AppData\\Roaming\\nltk_data...\n",
      "[nltk_data]   Package punkt is already up-to-date!\n",
      "[nltk_data] Downloading package vader_lexicon to\n",
      "[nltk_data]     C:\\Users\\gandj\\AppData\\Roaming\\nltk_data...\n",
      "[nltk_data]   Package vader_lexicon is already up-to-date!\n"
     ]
    },
    {
     "name": "stdout",
     "output_type": "stream",
     "text": [
      "Error while scraping comments: Message: \n",
      "\n",
      "Scrolling attempt 1\n",
      "Scrolling attempt 0\n"
     ]
    },
    {
     "name": "stderr",
     "output_type": "stream",
     "text": [
      "[nltk_data] Downloading package stopwords to\n",
      "[nltk_data]     C:\\Users\\gandj\\AppData\\Roaming\\nltk_data...\n",
      "[nltk_data]   Package stopwords is already up-to-date!\n",
      "[nltk_data] Downloading package punkt to\n",
      "[nltk_data]     C:\\Users\\gandj\\AppData\\Roaming\\nltk_data...\n",
      "[nltk_data]   Package punkt is already up-to-date!\n",
      "[nltk_data] Downloading package vader_lexicon to\n",
      "[nltk_data]     C:\\Users\\gandj\\AppData\\Roaming\\nltk_data...\n",
      "[nltk_data]   Package vader_lexicon is already up-to-date!\n"
     ]
    },
    {
     "name": "stdout",
     "output_type": "stream",
     "text": [
      "Error while scraping comments: Message: \n",
      "\n",
      "Scrolling attempt 1\n",
      "Scrolling attempt 0\n"
     ]
    },
    {
     "name": "stderr",
     "output_type": "stream",
     "text": [
      "[nltk_data] Downloading package stopwords to\n",
      "[nltk_data]     C:\\Users\\gandj\\AppData\\Roaming\\nltk_data...\n",
      "[nltk_data]   Package stopwords is already up-to-date!\n",
      "[nltk_data] Downloading package punkt to\n",
      "[nltk_data]     C:\\Users\\gandj\\AppData\\Roaming\\nltk_data...\n",
      "[nltk_data]   Package punkt is already up-to-date!\n",
      "[nltk_data] Downloading package vader_lexicon to\n",
      "[nltk_data]     C:\\Users\\gandj\\AppData\\Roaming\\nltk_data...\n",
      "[nltk_data]   Package vader_lexicon is already up-to-date!\n"
     ]
    },
    {
     "name": "stdout",
     "output_type": "stream",
     "text": [
      "Error while scraping comments: Message: \n",
      "\n",
      "Scrolling attempt 1\n",
      "Scrolling attempt 0\n"
     ]
    },
    {
     "name": "stderr",
     "output_type": "stream",
     "text": [
      "[nltk_data] Downloading package stopwords to\n",
      "[nltk_data]     C:\\Users\\gandj\\AppData\\Roaming\\nltk_data...\n",
      "[nltk_data]   Package stopwords is already up-to-date!\n",
      "[nltk_data] Downloading package punkt to\n",
      "[nltk_data]     C:\\Users\\gandj\\AppData\\Roaming\\nltk_data...\n",
      "[nltk_data]   Package punkt is already up-to-date!\n",
      "[nltk_data] Downloading package vader_lexicon to\n",
      "[nltk_data]     C:\\Users\\gandj\\AppData\\Roaming\\nltk_data...\n",
      "[nltk_data]   Package vader_lexicon is already up-to-date!\n"
     ]
    },
    {
     "name": "stdout",
     "output_type": "stream",
     "text": [
      "Error while scraping comments: Message: \n",
      "\n",
      "Scrolling attempt 1\n",
      "Scrolling attempt 0\n"
     ]
    },
    {
     "name": "stderr",
     "output_type": "stream",
     "text": [
      "[nltk_data] Downloading package stopwords to\n",
      "[nltk_data]     C:\\Users\\gandj\\AppData\\Roaming\\nltk_data...\n",
      "[nltk_data]   Package stopwords is already up-to-date!\n",
      "[nltk_data] Downloading package punkt to\n",
      "[nltk_data]     C:\\Users\\gandj\\AppData\\Roaming\\nltk_data...\n",
      "[nltk_data]   Package punkt is already up-to-date!\n",
      "[nltk_data] Downloading package vader_lexicon to\n",
      "[nltk_data]     C:\\Users\\gandj\\AppData\\Roaming\\nltk_data...\n",
      "[nltk_data]   Package vader_lexicon is already up-to-date!\n"
     ]
    },
    {
     "name": "stdout",
     "output_type": "stream",
     "text": [
      "Error while scraping comments: Message: \n",
      "\n",
      "Scrolling attempt 1\n",
      "Scrolling attempt 0\n"
     ]
    },
    {
     "name": "stderr",
     "output_type": "stream",
     "text": [
      "[nltk_data] Downloading package stopwords to\n",
      "[nltk_data]     C:\\Users\\gandj\\AppData\\Roaming\\nltk_data...\n",
      "[nltk_data]   Package stopwords is already up-to-date!\n",
      "[nltk_data] Downloading package punkt to\n",
      "[nltk_data]     C:\\Users\\gandj\\AppData\\Roaming\\nltk_data...\n",
      "[nltk_data]   Package punkt is already up-to-date!\n",
      "[nltk_data] Downloading package vader_lexicon to\n",
      "[nltk_data]     C:\\Users\\gandj\\AppData\\Roaming\\nltk_data...\n",
      "[nltk_data]   Package vader_lexicon is already up-to-date!\n"
     ]
    },
    {
     "name": "stdout",
     "output_type": "stream",
     "text": [
      "Scrolling attempt 1\n",
      "Scrolling attempt 0\n"
     ]
    },
    {
     "name": "stderr",
     "output_type": "stream",
     "text": [
      "[nltk_data] Downloading package stopwords to\n",
      "[nltk_data]     C:\\Users\\gandj\\AppData\\Roaming\\nltk_data...\n",
      "[nltk_data]   Package stopwords is already up-to-date!\n",
      "[nltk_data] Downloading package punkt to\n",
      "[nltk_data]     C:\\Users\\gandj\\AppData\\Roaming\\nltk_data...\n",
      "[nltk_data]   Package punkt is already up-to-date!\n",
      "[nltk_data] Downloading package vader_lexicon to\n",
      "[nltk_data]     C:\\Users\\gandj\\AppData\\Roaming\\nltk_data...\n",
      "[nltk_data]   Package vader_lexicon is already up-to-date!\n"
     ]
    },
    {
     "name": "stdout",
     "output_type": "stream",
     "text": [
      "Error while scraping comments: Message: \n",
      "\n",
      "Scrolling attempt 1\n",
      "Scrolling attempt 0\n"
     ]
    },
    {
     "name": "stderr",
     "output_type": "stream",
     "text": [
      "[nltk_data] Downloading package stopwords to\n",
      "[nltk_data]     C:\\Users\\gandj\\AppData\\Roaming\\nltk_data...\n",
      "[nltk_data]   Package stopwords is already up-to-date!\n",
      "[nltk_data] Downloading package punkt to\n",
      "[nltk_data]     C:\\Users\\gandj\\AppData\\Roaming\\nltk_data...\n",
      "[nltk_data]   Package punkt is already up-to-date!\n",
      "[nltk_data] Downloading package vader_lexicon to\n",
      "[nltk_data]     C:\\Users\\gandj\\AppData\\Roaming\\nltk_data...\n",
      "[nltk_data]   Package vader_lexicon is already up-to-date!\n"
     ]
    },
    {
     "name": "stdout",
     "output_type": "stream",
     "text": [
      "Error while scraping comments: Message: \n",
      "\n",
      "Scrolling attempt 1\n",
      "Scrolling attempt 0\n"
     ]
    },
    {
     "name": "stderr",
     "output_type": "stream",
     "text": [
      "[nltk_data] Downloading package stopwords to\n",
      "[nltk_data]     C:\\Users\\gandj\\AppData\\Roaming\\nltk_data...\n",
      "[nltk_data]   Package stopwords is already up-to-date!\n",
      "[nltk_data] Downloading package punkt to\n",
      "[nltk_data]     C:\\Users\\gandj\\AppData\\Roaming\\nltk_data...\n",
      "[nltk_data]   Package punkt is already up-to-date!\n",
      "[nltk_data] Downloading package vader_lexicon to\n",
      "[nltk_data]     C:\\Users\\gandj\\AppData\\Roaming\\nltk_data...\n",
      "[nltk_data]   Package vader_lexicon is already up-to-date!\n"
     ]
    },
    {
     "name": "stdout",
     "output_type": "stream",
     "text": [
      "Error while scraping comments: Message: \n",
      "\n",
      "Scrolling attempt 1\n",
      "Scrolling attempt 0\n"
     ]
    },
    {
     "name": "stderr",
     "output_type": "stream",
     "text": [
      "[nltk_data] Downloading package stopwords to\n",
      "[nltk_data]     C:\\Users\\gandj\\AppData\\Roaming\\nltk_data...\n",
      "[nltk_data]   Package stopwords is already up-to-date!\n",
      "[nltk_data] Downloading package punkt to\n",
      "[nltk_data]     C:\\Users\\gandj\\AppData\\Roaming\\nltk_data...\n",
      "[nltk_data]   Package punkt is already up-to-date!\n",
      "[nltk_data] Downloading package vader_lexicon to\n",
      "[nltk_data]     C:\\Users\\gandj\\AppData\\Roaming\\nltk_data...\n",
      "[nltk_data]   Package vader_lexicon is already up-to-date!\n"
     ]
    },
    {
     "name": "stdout",
     "output_type": "stream",
     "text": [
      "Scrolling attempt 1\n",
      "Scrolling attempt 0\n"
     ]
    },
    {
     "name": "stderr",
     "output_type": "stream",
     "text": [
      "[nltk_data] Downloading package stopwords to\n",
      "[nltk_data]     C:\\Users\\gandj\\AppData\\Roaming\\nltk_data...\n",
      "[nltk_data]   Package stopwords is already up-to-date!\n",
      "[nltk_data] Downloading package punkt to\n",
      "[nltk_data]     C:\\Users\\gandj\\AppData\\Roaming\\nltk_data...\n",
      "[nltk_data]   Package punkt is already up-to-date!\n",
      "[nltk_data] Downloading package vader_lexicon to\n",
      "[nltk_data]     C:\\Users\\gandj\\AppData\\Roaming\\nltk_data...\n",
      "[nltk_data]   Package vader_lexicon is already up-to-date!\n"
     ]
    },
    {
     "name": "stdout",
     "output_type": "stream",
     "text": [
      "Error while scraping comments: Message: \n",
      "\n",
      "Scrolling attempt 1\n",
      "Scrolling attempt 0\n"
     ]
    },
    {
     "name": "stderr",
     "output_type": "stream",
     "text": [
      "[nltk_data] Downloading package stopwords to\n",
      "[nltk_data]     C:\\Users\\gandj\\AppData\\Roaming\\nltk_data...\n",
      "[nltk_data]   Package stopwords is already up-to-date!\n",
      "[nltk_data] Downloading package punkt to\n",
      "[nltk_data]     C:\\Users\\gandj\\AppData\\Roaming\\nltk_data...\n",
      "[nltk_data]   Package punkt is already up-to-date!\n",
      "[nltk_data] Downloading package vader_lexicon to\n",
      "[nltk_data]     C:\\Users\\gandj\\AppData\\Roaming\\nltk_data...\n",
      "[nltk_data]   Package vader_lexicon is already up-to-date!\n"
     ]
    },
    {
     "name": "stdout",
     "output_type": "stream",
     "text": [
      "Error while scraping comments: Message: \n",
      "\n",
      "Scrolling attempt 1\n",
      "Scrolling attempt 0\n"
     ]
    },
    {
     "name": "stderr",
     "output_type": "stream",
     "text": [
      "[nltk_data] Downloading package stopwords to\n",
      "[nltk_data]     C:\\Users\\gandj\\AppData\\Roaming\\nltk_data...\n",
      "[nltk_data]   Package stopwords is already up-to-date!\n",
      "[nltk_data] Downloading package punkt to\n",
      "[nltk_data]     C:\\Users\\gandj\\AppData\\Roaming\\nltk_data...\n",
      "[nltk_data]   Package punkt is already up-to-date!\n",
      "[nltk_data] Downloading package vader_lexicon to\n",
      "[nltk_data]     C:\\Users\\gandj\\AppData\\Roaming\\nltk_data...\n",
      "[nltk_data]   Package vader_lexicon is already up-to-date!\n"
     ]
    },
    {
     "name": "stdout",
     "output_type": "stream",
     "text": [
      "Error while scraping comments: Message: \n",
      "\n",
      "Scrolling attempt 1\n",
      "Scrolling attempt 0\n"
     ]
    },
    {
     "name": "stderr",
     "output_type": "stream",
     "text": [
      "[nltk_data] Downloading package stopwords to\n",
      "[nltk_data]     C:\\Users\\gandj\\AppData\\Roaming\\nltk_data...\n",
      "[nltk_data]   Package stopwords is already up-to-date!\n",
      "[nltk_data] Downloading package punkt to\n",
      "[nltk_data]     C:\\Users\\gandj\\AppData\\Roaming\\nltk_data...\n",
      "[nltk_data]   Package punkt is already up-to-date!\n",
      "[nltk_data] Downloading package vader_lexicon to\n",
      "[nltk_data]     C:\\Users\\gandj\\AppData\\Roaming\\nltk_data...\n",
      "[nltk_data]   Package vader_lexicon is already up-to-date!\n"
     ]
    },
    {
     "name": "stdout",
     "output_type": "stream",
     "text": [
      "Error while scraping comments: Message: \n",
      "\n",
      "Scrolling attempt 1\n",
      "Scrolling attempt 0\n"
     ]
    },
    {
     "name": "stderr",
     "output_type": "stream",
     "text": [
      "[nltk_data] Downloading package stopwords to\n",
      "[nltk_data]     C:\\Users\\gandj\\AppData\\Roaming\\nltk_data...\n",
      "[nltk_data]   Package stopwords is already up-to-date!\n",
      "[nltk_data] Downloading package punkt to\n",
      "[nltk_data]     C:\\Users\\gandj\\AppData\\Roaming\\nltk_data...\n",
      "[nltk_data]   Package punkt is already up-to-date!\n",
      "[nltk_data] Downloading package vader_lexicon to\n",
      "[nltk_data]     C:\\Users\\gandj\\AppData\\Roaming\\nltk_data...\n",
      "[nltk_data]   Package vader_lexicon is already up-to-date!\n"
     ]
    },
    {
     "name": "stdout",
     "output_type": "stream",
     "text": [
      "Error while scraping comments: Message: \n",
      "\n",
      "Scrolling attempt 1\n",
      "Scrolling attempt 0\n"
     ]
    },
    {
     "name": "stderr",
     "output_type": "stream",
     "text": [
      "[nltk_data] Downloading package stopwords to\n",
      "[nltk_data]     C:\\Users\\gandj\\AppData\\Roaming\\nltk_data...\n",
      "[nltk_data]   Package stopwords is already up-to-date!\n",
      "[nltk_data] Downloading package punkt to\n",
      "[nltk_data]     C:\\Users\\gandj\\AppData\\Roaming\\nltk_data...\n",
      "[nltk_data]   Package punkt is already up-to-date!\n",
      "[nltk_data] Downloading package vader_lexicon to\n",
      "[nltk_data]     C:\\Users\\gandj\\AppData\\Roaming\\nltk_data...\n",
      "[nltk_data]   Package vader_lexicon is already up-to-date!\n"
     ]
    },
    {
     "name": "stdout",
     "output_type": "stream",
     "text": [
      "Error while scraping comments: Message: \n",
      "\n",
      "Scrolling attempt 1\n",
      "Scrolling attempt 0\n"
     ]
    },
    {
     "name": "stderr",
     "output_type": "stream",
     "text": [
      "[nltk_data] Downloading package stopwords to\n",
      "[nltk_data]     C:\\Users\\gandj\\AppData\\Roaming\\nltk_data...\n",
      "[nltk_data]   Package stopwords is already up-to-date!\n",
      "[nltk_data] Downloading package punkt to\n",
      "[nltk_data]     C:\\Users\\gandj\\AppData\\Roaming\\nltk_data...\n",
      "[nltk_data]   Package punkt is already up-to-date!\n",
      "[nltk_data] Downloading package vader_lexicon to\n",
      "[nltk_data]     C:\\Users\\gandj\\AppData\\Roaming\\nltk_data...\n",
      "[nltk_data]   Package vader_lexicon is already up-to-date!\n"
     ]
    },
    {
     "name": "stdout",
     "output_type": "stream",
     "text": [
      "Error while scraping comments: Message: \n",
      "\n",
      "Scrolling attempt 1\n",
      "Scrolling attempt 0\n"
     ]
    },
    {
     "name": "stderr",
     "output_type": "stream",
     "text": [
      "[nltk_data] Downloading package stopwords to\n",
      "[nltk_data]     C:\\Users\\gandj\\AppData\\Roaming\\nltk_data...\n",
      "[nltk_data]   Package stopwords is already up-to-date!\n",
      "[nltk_data] Downloading package punkt to\n",
      "[nltk_data]     C:\\Users\\gandj\\AppData\\Roaming\\nltk_data...\n",
      "[nltk_data]   Package punkt is already up-to-date!\n",
      "[nltk_data] Downloading package vader_lexicon to\n",
      "[nltk_data]     C:\\Users\\gandj\\AppData\\Roaming\\nltk_data...\n",
      "[nltk_data]   Package vader_lexicon is already up-to-date!\n"
     ]
    },
    {
     "name": "stdout",
     "output_type": "stream",
     "text": [
      "Error while scraping comments: Message: \n",
      "\n",
      "Error while scraping comments: Message: \n",
      "\n",
      "Error while scraping comments: Message: \n",
      "\n",
      "Error while scraping comments: Message: \n",
      "\n",
      "Error while scraping comments: Message: \n",
      "\n",
      "Error while scraping comments: Message: \n",
      "\n",
      "Error while scraping comments: Message: \n",
      "\n",
      "Error while scraping comments: Message: \n",
      "\n",
      "Error while scraping comments: Message: \n",
      "\n",
      "Error while scraping comments: Message: \n",
      "\n",
      "Error while scraping comments: Message: \n",
      "\n",
      "Error while scraping comments: Message: \n",
      "\n",
      "Error while scraping comments: Message: \n",
      "\n",
      "Scrolling attempt 1\n",
      "Error while scraping comments: Message: \n",
      "\n",
      "Scrolling attempt 0\n",
      "Error while scraping comments: Message: \n",
      "\n",
      "DataFrame is empty.\n",
      "No data returned for video https://www.youtube.com/watch?v=qD7kY2IY_uY\n",
      "Error while scraping comments: Message: \n",
      "\n",
      "Scrolling attempt 1\n",
      "Scrolling attempt 0\n"
     ]
    },
    {
     "name": "stderr",
     "output_type": "stream",
     "text": [
      "[nltk_data] Downloading package stopwords to\n",
      "[nltk_data]     C:\\Users\\gandj\\AppData\\Roaming\\nltk_data...\n",
      "[nltk_data]   Package stopwords is already up-to-date!\n",
      "[nltk_data] Downloading package punkt to\n",
      "[nltk_data]     C:\\Users\\gandj\\AppData\\Roaming\\nltk_data...\n",
      "[nltk_data]   Package punkt is already up-to-date!\n",
      "[nltk_data] Downloading package vader_lexicon to\n",
      "[nltk_data]     C:\\Users\\gandj\\AppData\\Roaming\\nltk_data...\n",
      "[nltk_data]   Package vader_lexicon is already up-to-date!\n"
     ]
    },
    {
     "name": "stdout",
     "output_type": "stream",
     "text": [
      "Error while scraping comments: Message: \n",
      "\n",
      "Scrolling attempt 1\n",
      "Scrolling attempt 0\n"
     ]
    },
    {
     "name": "stderr",
     "output_type": "stream",
     "text": [
      "[nltk_data] Downloading package stopwords to\n",
      "[nltk_data]     C:\\Users\\gandj\\AppData\\Roaming\\nltk_data...\n",
      "[nltk_data]   Package stopwords is already up-to-date!\n",
      "[nltk_data] Downloading package punkt to\n",
      "[nltk_data]     C:\\Users\\gandj\\AppData\\Roaming\\nltk_data...\n",
      "[nltk_data]   Package punkt is already up-to-date!\n",
      "[nltk_data] Downloading package vader_lexicon to\n",
      "[nltk_data]     C:\\Users\\gandj\\AppData\\Roaming\\nltk_data...\n",
      "[nltk_data]   Package vader_lexicon is already up-to-date!\n"
     ]
    },
    {
     "name": "stdout",
     "output_type": "stream",
     "text": [
      "Error while scraping comments: Message: \n",
      "\n",
      "Scrolling attempt 1\n",
      "Scrolling attempt 0\n"
     ]
    },
    {
     "name": "stderr",
     "output_type": "stream",
     "text": [
      "[nltk_data] Downloading package stopwords to\n",
      "[nltk_data]     C:\\Users\\gandj\\AppData\\Roaming\\nltk_data...\n",
      "[nltk_data]   Package stopwords is already up-to-date!\n",
      "[nltk_data] Downloading package punkt to\n",
      "[nltk_data]     C:\\Users\\gandj\\AppData\\Roaming\\nltk_data...\n",
      "[nltk_data]   Package punkt is already up-to-date!\n",
      "[nltk_data] Downloading package vader_lexicon to\n",
      "[nltk_data]     C:\\Users\\gandj\\AppData\\Roaming\\nltk_data...\n",
      "[nltk_data]   Package vader_lexicon is already up-to-date!\n"
     ]
    },
    {
     "name": "stdout",
     "output_type": "stream",
     "text": [
      "Error while scraping comments: Message: \n",
      "\n",
      "Scrolling attempt 1\n",
      "Scrolling attempt 0\n"
     ]
    },
    {
     "name": "stderr",
     "output_type": "stream",
     "text": [
      "[nltk_data] Downloading package stopwords to\n",
      "[nltk_data]     C:\\Users\\gandj\\AppData\\Roaming\\nltk_data...\n",
      "[nltk_data]   Package stopwords is already up-to-date!\n",
      "[nltk_data] Downloading package punkt to\n",
      "[nltk_data]     C:\\Users\\gandj\\AppData\\Roaming\\nltk_data...\n",
      "[nltk_data]   Package punkt is already up-to-date!\n",
      "[nltk_data] Downloading package vader_lexicon to\n",
      "[nltk_data]     C:\\Users\\gandj\\AppData\\Roaming\\nltk_data...\n",
      "[nltk_data]   Package vader_lexicon is already up-to-date!\n"
     ]
    },
    {
     "name": "stdout",
     "output_type": "stream",
     "text": [
      "Error while scraping comments: Message: \n",
      "\n",
      "Scrolling attempt 1\n",
      "Scrolling attempt 0\n"
     ]
    },
    {
     "name": "stderr",
     "output_type": "stream",
     "text": [
      "[nltk_data] Downloading package stopwords to\n",
      "[nltk_data]     C:\\Users\\gandj\\AppData\\Roaming\\nltk_data...\n",
      "[nltk_data]   Package stopwords is already up-to-date!\n",
      "[nltk_data] Downloading package punkt to\n",
      "[nltk_data]     C:\\Users\\gandj\\AppData\\Roaming\\nltk_data...\n",
      "[nltk_data]   Package punkt is already up-to-date!\n",
      "[nltk_data] Downloading package vader_lexicon to\n",
      "[nltk_data]     C:\\Users\\gandj\\AppData\\Roaming\\nltk_data...\n",
      "[nltk_data]   Package vader_lexicon is already up-to-date!\n"
     ]
    },
    {
     "name": "stdout",
     "output_type": "stream",
     "text": [
      "Scrolling attempt 1\n",
      "Scrolling attempt 0\n"
     ]
    },
    {
     "name": "stderr",
     "output_type": "stream",
     "text": [
      "[nltk_data] Downloading package stopwords to\n",
      "[nltk_data]     C:\\Users\\gandj\\AppData\\Roaming\\nltk_data...\n",
      "[nltk_data]   Package stopwords is already up-to-date!\n",
      "[nltk_data] Downloading package punkt to\n",
      "[nltk_data]     C:\\Users\\gandj\\AppData\\Roaming\\nltk_data...\n",
      "[nltk_data]   Package punkt is already up-to-date!\n",
      "[nltk_data] Downloading package vader_lexicon to\n",
      "[nltk_data]     C:\\Users\\gandj\\AppData\\Roaming\\nltk_data...\n",
      "[nltk_data]   Package vader_lexicon is already up-to-date!\n"
     ]
    },
    {
     "name": "stdout",
     "output_type": "stream",
     "text": [
      "Error while scraping comments: Message: \n",
      "\n",
      "Scrolling attempt 1\n",
      "Scrolling attempt 0\n"
     ]
    },
    {
     "name": "stderr",
     "output_type": "stream",
     "text": [
      "[nltk_data] Downloading package stopwords to\n",
      "[nltk_data]     C:\\Users\\gandj\\AppData\\Roaming\\nltk_data...\n",
      "[nltk_data]   Package stopwords is already up-to-date!\n",
      "[nltk_data] Downloading package punkt to\n",
      "[nltk_data]     C:\\Users\\gandj\\AppData\\Roaming\\nltk_data...\n",
      "[nltk_data]   Package punkt is already up-to-date!\n",
      "[nltk_data] Downloading package vader_lexicon to\n",
      "[nltk_data]     C:\\Users\\gandj\\AppData\\Roaming\\nltk_data...\n",
      "[nltk_data]   Package vader_lexicon is already up-to-date!\n"
     ]
    },
    {
     "name": "stdout",
     "output_type": "stream",
     "text": [
      "Error while scraping comments: Message: \n",
      "\n",
      "Scrolling attempt 1\n",
      "Scrolling attempt 0\n"
     ]
    },
    {
     "name": "stderr",
     "output_type": "stream",
     "text": [
      "[nltk_data] Downloading package stopwords to\n",
      "[nltk_data]     C:\\Users\\gandj\\AppData\\Roaming\\nltk_data...\n",
      "[nltk_data]   Package stopwords is already up-to-date!\n",
      "[nltk_data] Downloading package punkt to\n",
      "[nltk_data]     C:\\Users\\gandj\\AppData\\Roaming\\nltk_data...\n",
      "[nltk_data]   Package punkt is already up-to-date!\n",
      "[nltk_data] Downloading package vader_lexicon to\n",
      "[nltk_data]     C:\\Users\\gandj\\AppData\\Roaming\\nltk_data...\n",
      "[nltk_data]   Package vader_lexicon is already up-to-date!\n"
     ]
    },
    {
     "name": "stdout",
     "output_type": "stream",
     "text": [
      "Error while scraping comments: Message: \n",
      "\n",
      "Error while scraping comments: Message: \n",
      "\n",
      "Error while scraping comments: Message: \n",
      "\n",
      "Error while scraping comments: Message: \n",
      "\n",
      "Error while scraping comments: Message: \n",
      "\n",
      "Error while scraping comments: Message: \n",
      "\n",
      "Error while scraping comments: Message: \n",
      "\n",
      "Error while scraping comments: Message: \n",
      "\n",
      "Error while scraping comments: Message: \n",
      "\n",
      "Error while scraping comments: Message: \n",
      "\n",
      "Error while scraping comments: Message: \n",
      "\n",
      "Error while scraping comments: Message: \n",
      "\n",
      "Error while scraping comments: Message: \n",
      "\n",
      "Error while scraping comments: Message: \n",
      "\n",
      "Error while scraping comments: Message: \n",
      "\n",
      "Error while scraping comments: Message: \n",
      "\n",
      "Error while scraping comments: Message: \n",
      "\n",
      "Error while scraping comments: Message: \n",
      "\n",
      "Error while scraping comments: Message: \n",
      "\n",
      "Scrolling attempt 1\n",
      "Error while scraping comments: Message: \n",
      "\n",
      "Scrolling attempt 0\n",
      "Error while scraping comments: Message: \n",
      "\n",
      "DataFrame is empty.\n",
      "No data returned for video https://www.youtube.com/watch?v=mdeOdQPCoU4\n",
      "Error while scraping comments: Message: \n",
      "\n",
      "Scrolling attempt 1\n",
      "Scrolling attempt 0\n"
     ]
    },
    {
     "name": "stderr",
     "output_type": "stream",
     "text": [
      "[nltk_data] Downloading package stopwords to\n",
      "[nltk_data]     C:\\Users\\gandj\\AppData\\Roaming\\nltk_data...\n",
      "[nltk_data]   Package stopwords is already up-to-date!\n",
      "[nltk_data] Downloading package punkt to\n",
      "[nltk_data]     C:\\Users\\gandj\\AppData\\Roaming\\nltk_data...\n",
      "[nltk_data]   Package punkt is already up-to-date!\n",
      "[nltk_data] Downloading package vader_lexicon to\n",
      "[nltk_data]     C:\\Users\\gandj\\AppData\\Roaming\\nltk_data...\n",
      "[nltk_data]   Package vader_lexicon is already up-to-date!\n"
     ]
    },
    {
     "name": "stdout",
     "output_type": "stream",
     "text": [
      "Error while scraping comments: Message: \n",
      "\n",
      "Scrolling attempt 1\n",
      "Scrolling attempt 0\n"
     ]
    },
    {
     "name": "stderr",
     "output_type": "stream",
     "text": [
      "[nltk_data] Downloading package stopwords to\n",
      "[nltk_data]     C:\\Users\\gandj\\AppData\\Roaming\\nltk_data...\n",
      "[nltk_data]   Package stopwords is already up-to-date!\n",
      "[nltk_data] Downloading package punkt to\n",
      "[nltk_data]     C:\\Users\\gandj\\AppData\\Roaming\\nltk_data...\n",
      "[nltk_data]   Package punkt is already up-to-date!\n",
      "[nltk_data] Downloading package vader_lexicon to\n",
      "[nltk_data]     C:\\Users\\gandj\\AppData\\Roaming\\nltk_data...\n",
      "[nltk_data]   Package vader_lexicon is already up-to-date!\n"
     ]
    },
    {
     "name": "stdout",
     "output_type": "stream",
     "text": [
      "Scrolling attempt 1\n",
      "Scrolling attempt 0\n"
     ]
    },
    {
     "name": "stderr",
     "output_type": "stream",
     "text": [
      "[nltk_data] Downloading package stopwords to\n",
      "[nltk_data]     C:\\Users\\gandj\\AppData\\Roaming\\nltk_data...\n",
      "[nltk_data]   Package stopwords is already up-to-date!\n",
      "[nltk_data] Downloading package punkt to\n",
      "[nltk_data]     C:\\Users\\gandj\\AppData\\Roaming\\nltk_data...\n",
      "[nltk_data]   Package punkt is already up-to-date!\n",
      "[nltk_data] Downloading package vader_lexicon to\n",
      "[nltk_data]     C:\\Users\\gandj\\AppData\\Roaming\\nltk_data...\n",
      "[nltk_data]   Package vader_lexicon is already up-to-date!\n"
     ]
    },
    {
     "name": "stdout",
     "output_type": "stream",
     "text": [
      "Error while scraping comments: Message: \n",
      "\n",
      "Scrolling attempt 1\n",
      "Scrolling attempt 0\n"
     ]
    },
    {
     "name": "stderr",
     "output_type": "stream",
     "text": [
      "[nltk_data] Downloading package stopwords to\n",
      "[nltk_data]     C:\\Users\\gandj\\AppData\\Roaming\\nltk_data...\n",
      "[nltk_data]   Package stopwords is already up-to-date!\n",
      "[nltk_data] Downloading package punkt to\n",
      "[nltk_data]     C:\\Users\\gandj\\AppData\\Roaming\\nltk_data...\n",
      "[nltk_data]   Package punkt is already up-to-date!\n",
      "[nltk_data] Downloading package vader_lexicon to\n",
      "[nltk_data]     C:\\Users\\gandj\\AppData\\Roaming\\nltk_data...\n",
      "[nltk_data]   Package vader_lexicon is already up-to-date!\n"
     ]
    },
    {
     "name": "stdout",
     "output_type": "stream",
     "text": [
      "Scrolling attempt 1\n",
      "Scrolling attempt 0\n"
     ]
    },
    {
     "name": "stderr",
     "output_type": "stream",
     "text": [
      "[nltk_data] Downloading package stopwords to\n",
      "[nltk_data]     C:\\Users\\gandj\\AppData\\Roaming\\nltk_data...\n",
      "[nltk_data]   Package stopwords is already up-to-date!\n",
      "[nltk_data] Downloading package punkt to\n",
      "[nltk_data]     C:\\Users\\gandj\\AppData\\Roaming\\nltk_data...\n",
      "[nltk_data]   Package punkt is already up-to-date!\n",
      "[nltk_data] Downloading package vader_lexicon to\n",
      "[nltk_data]     C:\\Users\\gandj\\AppData\\Roaming\\nltk_data...\n",
      "[nltk_data]   Package vader_lexicon is already up-to-date!\n"
     ]
    },
    {
     "name": "stdout",
     "output_type": "stream",
     "text": [
      "Error while scraping comments: Message: \n",
      "\n",
      "Scrolling attempt 1\n",
      "Scrolling attempt 0\n"
     ]
    },
    {
     "name": "stderr",
     "output_type": "stream",
     "text": [
      "[nltk_data] Downloading package stopwords to\n",
      "[nltk_data]     C:\\Users\\gandj\\AppData\\Roaming\\nltk_data...\n",
      "[nltk_data]   Package stopwords is already up-to-date!\n",
      "[nltk_data] Downloading package punkt to\n",
      "[nltk_data]     C:\\Users\\gandj\\AppData\\Roaming\\nltk_data...\n",
      "[nltk_data]   Package punkt is already up-to-date!\n",
      "[nltk_data] Downloading package vader_lexicon to\n",
      "[nltk_data]     C:\\Users\\gandj\\AppData\\Roaming\\nltk_data...\n",
      "[nltk_data]   Package vader_lexicon is already up-to-date!\n"
     ]
    },
    {
     "name": "stdout",
     "output_type": "stream",
     "text": [
      "Error while scraping comments: Message: \n",
      "\n",
      "Scrolling attempt 1\n",
      "Scrolling attempt 0\n"
     ]
    },
    {
     "name": "stderr",
     "output_type": "stream",
     "text": [
      "[nltk_data] Downloading package stopwords to\n",
      "[nltk_data]     C:\\Users\\gandj\\AppData\\Roaming\\nltk_data...\n",
      "[nltk_data]   Package stopwords is already up-to-date!\n",
      "[nltk_data] Downloading package punkt to\n",
      "[nltk_data]     C:\\Users\\gandj\\AppData\\Roaming\\nltk_data...\n",
      "[nltk_data]   Package punkt is already up-to-date!\n",
      "[nltk_data] Downloading package vader_lexicon to\n",
      "[nltk_data]     C:\\Users\\gandj\\AppData\\Roaming\\nltk_data...\n",
      "[nltk_data]   Package vader_lexicon is already up-to-date!\n"
     ]
    },
    {
     "name": "stdout",
     "output_type": "stream",
     "text": [
      "Error while scraping comments: Message: \n",
      "\n",
      "Error while scraping comments: Message: \n",
      "\n",
      "Error while scraping comments: Message: \n",
      "\n",
      "Error while scraping comments: Message: \n",
      "\n",
      "Error while scraping comments: Message: \n",
      "\n",
      "Error while scraping comments: Message: \n",
      "\n",
      "Error while scraping comments: Message: \n",
      "\n",
      "Error while scraping comments: Message: \n",
      "\n",
      "Error while scraping comments: Message: \n",
      "\n",
      "Error while scraping comments: Message: \n",
      "\n",
      "Error while scraping comments: Message: \n",
      "\n",
      "Error while scraping comments: Message: \n",
      "\n",
      "Error while scraping comments: Message: \n",
      "\n",
      "Error while scraping comments: Message: \n",
      "\n",
      "Error while scraping comments: Message: \n",
      "\n",
      "Error while scraping comments: Message: \n",
      "\n",
      "Error while scraping comments: Message: \n",
      "\n",
      "Error while scraping comments: Message: \n",
      "\n",
      "Error while scraping comments: Message: \n",
      "\n",
      "Error while scraping comments: Message: \n",
      "\n",
      "Error while scraping comments: Message: \n",
      "\n",
      "Error while scraping comments: Message: \n",
      "\n",
      "Error while scraping comments: Message: \n",
      "\n",
      "Scrolling attempt 1\n",
      "Error while scraping comments: Message: \n",
      "\n",
      "Scrolling attempt 0\n",
      "Error while scraping comments: Message: \n",
      "\n",
      "DataFrame is empty.\n",
      "No data returned for video https://www.youtube.com/watch?v=8qesVfr27sE\n",
      "Error while scraping comments: Message: \n",
      "\n",
      "Scrolling attempt 1\n",
      "Scrolling attempt 0\n"
     ]
    },
    {
     "name": "stderr",
     "output_type": "stream",
     "text": [
      "[nltk_data] Downloading package stopwords to\n",
      "[nltk_data]     C:\\Users\\gandj\\AppData\\Roaming\\nltk_data...\n",
      "[nltk_data]   Package stopwords is already up-to-date!\n",
      "[nltk_data] Downloading package punkt to\n",
      "[nltk_data]     C:\\Users\\gandj\\AppData\\Roaming\\nltk_data...\n",
      "[nltk_data]   Package punkt is already up-to-date!\n",
      "[nltk_data] Downloading package vader_lexicon to\n",
      "[nltk_data]     C:\\Users\\gandj\\AppData\\Roaming\\nltk_data...\n",
      "[nltk_data]   Package vader_lexicon is already up-to-date!\n"
     ]
    },
    {
     "name": "stdout",
     "output_type": "stream",
     "text": [
      "Error while scraping comments: Message: \n",
      "\n",
      "Scrolling attempt 1\n",
      "Scrolling attempt 0\n"
     ]
    },
    {
     "name": "stderr",
     "output_type": "stream",
     "text": [
      "[nltk_data] Downloading package stopwords to\n",
      "[nltk_data]     C:\\Users\\gandj\\AppData\\Roaming\\nltk_data...\n",
      "[nltk_data]   Package stopwords is already up-to-date!\n",
      "[nltk_data] Downloading package punkt to\n",
      "[nltk_data]     C:\\Users\\gandj\\AppData\\Roaming\\nltk_data...\n",
      "[nltk_data]   Package punkt is already up-to-date!\n",
      "[nltk_data] Downloading package vader_lexicon to\n",
      "[nltk_data]     C:\\Users\\gandj\\AppData\\Roaming\\nltk_data...\n",
      "[nltk_data]   Package vader_lexicon is already up-to-date!\n"
     ]
    },
    {
     "name": "stdout",
     "output_type": "stream",
     "text": [
      "Error while scraping comments: Message: \n",
      "\n",
      "Scrolling attempt 1\n",
      "Scrolling attempt 0\n"
     ]
    },
    {
     "name": "stderr",
     "output_type": "stream",
     "text": [
      "[nltk_data] Downloading package stopwords to\n",
      "[nltk_data]     C:\\Users\\gandj\\AppData\\Roaming\\nltk_data...\n",
      "[nltk_data]   Package stopwords is already up-to-date!\n",
      "[nltk_data] Downloading package punkt to\n",
      "[nltk_data]     C:\\Users\\gandj\\AppData\\Roaming\\nltk_data...\n",
      "[nltk_data]   Package punkt is already up-to-date!\n",
      "[nltk_data] Downloading package vader_lexicon to\n",
      "[nltk_data]     C:\\Users\\gandj\\AppData\\Roaming\\nltk_data...\n",
      "[nltk_data]   Package vader_lexicon is already up-to-date!\n"
     ]
    },
    {
     "name": "stdout",
     "output_type": "stream",
     "text": [
      "Error while scraping comments: Message: \n",
      "\n",
      "Scrolling attempt 1\n",
      "Scrolling attempt 0\n"
     ]
    },
    {
     "name": "stderr",
     "output_type": "stream",
     "text": [
      "[nltk_data] Downloading package stopwords to\n",
      "[nltk_data]     C:\\Users\\gandj\\AppData\\Roaming\\nltk_data...\n",
      "[nltk_data]   Package stopwords is already up-to-date!\n",
      "[nltk_data] Downloading package punkt to\n",
      "[nltk_data]     C:\\Users\\gandj\\AppData\\Roaming\\nltk_data...\n",
      "[nltk_data]   Package punkt is already up-to-date!\n",
      "[nltk_data] Downloading package vader_lexicon to\n",
      "[nltk_data]     C:\\Users\\gandj\\AppData\\Roaming\\nltk_data...\n",
      "[nltk_data]   Package vader_lexicon is already up-to-date!\n"
     ]
    },
    {
     "name": "stdout",
     "output_type": "stream",
     "text": [
      "Error while scraping comments: Message: \n",
      "\n",
      "Scrolling attempt 1\n",
      "Scrolling attempt 0\n"
     ]
    },
    {
     "name": "stderr",
     "output_type": "stream",
     "text": [
      "[nltk_data] Downloading package stopwords to\n",
      "[nltk_data]     C:\\Users\\gandj\\AppData\\Roaming\\nltk_data...\n",
      "[nltk_data]   Package stopwords is already up-to-date!\n",
      "[nltk_data] Downloading package punkt to\n",
      "[nltk_data]     C:\\Users\\gandj\\AppData\\Roaming\\nltk_data...\n",
      "[nltk_data]   Package punkt is already up-to-date!\n",
      "[nltk_data] Downloading package vader_lexicon to\n",
      "[nltk_data]     C:\\Users\\gandj\\AppData\\Roaming\\nltk_data...\n",
      "[nltk_data]   Package vader_lexicon is already up-to-date!\n"
     ]
    },
    {
     "name": "stdout",
     "output_type": "stream",
     "text": [
      "Error while scraping comments: Message: \n",
      "\n",
      "Scrolling attempt 1\n",
      "Scrolling attempt 0\n"
     ]
    },
    {
     "name": "stderr",
     "output_type": "stream",
     "text": [
      "[nltk_data] Downloading package stopwords to\n",
      "[nltk_data]     C:\\Users\\gandj\\AppData\\Roaming\\nltk_data...\n",
      "[nltk_data]   Package stopwords is already up-to-date!\n",
      "[nltk_data] Downloading package punkt to\n",
      "[nltk_data]     C:\\Users\\gandj\\AppData\\Roaming\\nltk_data...\n",
      "[nltk_data]   Package punkt is already up-to-date!\n",
      "[nltk_data] Downloading package vader_lexicon to\n",
      "[nltk_data]     C:\\Users\\gandj\\AppData\\Roaming\\nltk_data...\n",
      "[nltk_data]   Package vader_lexicon is already up-to-date!\n"
     ]
    },
    {
     "name": "stdout",
     "output_type": "stream",
     "text": [
      "Error while scraping comments: Message: \n",
      "\n",
      "Scrolling attempt 1\n",
      "Scrolling attempt 0\n"
     ]
    },
    {
     "name": "stderr",
     "output_type": "stream",
     "text": [
      "[nltk_data] Downloading package stopwords to\n",
      "[nltk_data]     C:\\Users\\gandj\\AppData\\Roaming\\nltk_data...\n",
      "[nltk_data]   Package stopwords is already up-to-date!\n",
      "[nltk_data] Downloading package punkt to\n",
      "[nltk_data]     C:\\Users\\gandj\\AppData\\Roaming\\nltk_data...\n",
      "[nltk_data]   Package punkt is already up-to-date!\n",
      "[nltk_data] Downloading package vader_lexicon to\n",
      "[nltk_data]     C:\\Users\\gandj\\AppData\\Roaming\\nltk_data...\n",
      "[nltk_data]   Package vader_lexicon is already up-to-date!\n"
     ]
    },
    {
     "name": "stdout",
     "output_type": "stream",
     "text": [
      "Error while scraping comments: Message: \n",
      "\n",
      "Error while scraping comments: Message: \n",
      "\n",
      "Error while scraping comments: Message: \n",
      "\n",
      "Error while scraping comments: Message: \n",
      "\n",
      "Error while scraping comments: Message: \n",
      "\n",
      "Error while scraping comments: Message: \n",
      "\n",
      "Error while scraping comments: Message: \n",
      "\n",
      "Error while scraping comments: Message: \n",
      "\n",
      "Error while scraping comments: Message: \n",
      "\n",
      "Error while scraping comments: Message: \n",
      "\n",
      "Error while scraping comments: Message: \n",
      "\n",
      "Error while scraping comments: Message: \n",
      "\n",
      "Error while scraping comments: Message: \n",
      "\n",
      "Error while scraping comments: Message: \n",
      "\n",
      "Error while scraping comments: Message: \n",
      "\n",
      "Error while scraping comments: Message: \n",
      "\n",
      "Error while scraping comments: Message: \n",
      "\n",
      "Error while scraping comments: Message: \n",
      "\n",
      "Error while scraping comments: Message: \n",
      "\n",
      "Error while scraping comments: Message: \n",
      "\n",
      "Error while scraping comments: Message: \n",
      "\n",
      "Error while scraping comments: Message: \n",
      "\n",
      "Error while scraping comments: Message: \n",
      "\n",
      "Scrolling attempt 1\n",
      "Error while scraping comments: Message: \n",
      "\n",
      "Scrolling attempt 0\n",
      "Error while scraping comments: Message: \n",
      "\n",
      "DataFrame is empty.\n",
      "No data returned for video https://www.youtube.com/watch?v=l0027JlnHfI\n",
      "Error while scraping comments: Message: \n",
      "\n",
      "Scrolling attempt 1\n",
      "Scrolling attempt 0\n"
     ]
    },
    {
     "name": "stderr",
     "output_type": "stream",
     "text": [
      "[nltk_data] Downloading package stopwords to\n",
      "[nltk_data]     C:\\Users\\gandj\\AppData\\Roaming\\nltk_data...\n",
      "[nltk_data]   Package stopwords is already up-to-date!\n",
      "[nltk_data] Downloading package punkt to\n",
      "[nltk_data]     C:\\Users\\gandj\\AppData\\Roaming\\nltk_data...\n",
      "[nltk_data]   Package punkt is already up-to-date!\n",
      "[nltk_data] Downloading package vader_lexicon to\n",
      "[nltk_data]     C:\\Users\\gandj\\AppData\\Roaming\\nltk_data...\n",
      "[nltk_data]   Package vader_lexicon is already up-to-date!\n"
     ]
    },
    {
     "name": "stdout",
     "output_type": "stream",
     "text": [
      "Error while scraping comments: Message: \n",
      "\n",
      "Scrolling attempt 1\n",
      "Scrolling attempt 0\n"
     ]
    },
    {
     "name": "stderr",
     "output_type": "stream",
     "text": [
      "[nltk_data] Downloading package stopwords to\n",
      "[nltk_data]     C:\\Users\\gandj\\AppData\\Roaming\\nltk_data...\n",
      "[nltk_data]   Package stopwords is already up-to-date!\n",
      "[nltk_data] Downloading package punkt to\n",
      "[nltk_data]     C:\\Users\\gandj\\AppData\\Roaming\\nltk_data...\n",
      "[nltk_data]   Package punkt is already up-to-date!\n",
      "[nltk_data] Downloading package vader_lexicon to\n",
      "[nltk_data]     C:\\Users\\gandj\\AppData\\Roaming\\nltk_data...\n",
      "[nltk_data]   Package vader_lexicon is already up-to-date!\n"
     ]
    },
    {
     "name": "stdout",
     "output_type": "stream",
     "text": [
      "Error while scraping comments: Message: \n",
      "\n",
      "Scrolling attempt 1\n",
      "Scrolling attempt 0\n"
     ]
    },
    {
     "name": "stderr",
     "output_type": "stream",
     "text": [
      "[nltk_data] Downloading package stopwords to\n",
      "[nltk_data]     C:\\Users\\gandj\\AppData\\Roaming\\nltk_data...\n",
      "[nltk_data]   Package stopwords is already up-to-date!\n",
      "[nltk_data] Downloading package punkt to\n",
      "[nltk_data]     C:\\Users\\gandj\\AppData\\Roaming\\nltk_data...\n",
      "[nltk_data]   Package punkt is already up-to-date!\n",
      "[nltk_data] Downloading package vader_lexicon to\n",
      "[nltk_data]     C:\\Users\\gandj\\AppData\\Roaming\\nltk_data...\n",
      "[nltk_data]   Package vader_lexicon is already up-to-date!\n"
     ]
    },
    {
     "name": "stdout",
     "output_type": "stream",
     "text": [
      "Error while scraping comments: Message: \n",
      "\n",
      "Scrolling attempt 1\n",
      "Scrolling attempt 0\n"
     ]
    },
    {
     "name": "stderr",
     "output_type": "stream",
     "text": [
      "[nltk_data] Downloading package stopwords to\n",
      "[nltk_data]     C:\\Users\\gandj\\AppData\\Roaming\\nltk_data...\n",
      "[nltk_data]   Package stopwords is already up-to-date!\n",
      "[nltk_data] Downloading package punkt to\n",
      "[nltk_data]     C:\\Users\\gandj\\AppData\\Roaming\\nltk_data...\n",
      "[nltk_data]   Package punkt is already up-to-date!\n",
      "[nltk_data] Downloading package vader_lexicon to\n",
      "[nltk_data]     C:\\Users\\gandj\\AppData\\Roaming\\nltk_data...\n",
      "[nltk_data]   Package vader_lexicon is already up-to-date!\n"
     ]
    },
    {
     "name": "stdout",
     "output_type": "stream",
     "text": [
      "Error while scraping comments: Message: \n",
      "\n",
      "Scrolling attempt 1\n",
      "Scrolling attempt 0\n"
     ]
    },
    {
     "name": "stderr",
     "output_type": "stream",
     "text": [
      "[nltk_data] Downloading package stopwords to\n",
      "[nltk_data]     C:\\Users\\gandj\\AppData\\Roaming\\nltk_data...\n",
      "[nltk_data]   Package stopwords is already up-to-date!\n",
      "[nltk_data] Downloading package punkt to\n",
      "[nltk_data]     C:\\Users\\gandj\\AppData\\Roaming\\nltk_data...\n",
      "[nltk_data]   Package punkt is already up-to-date!\n",
      "[nltk_data] Downloading package vader_lexicon to\n",
      "[nltk_data]     C:\\Users\\gandj\\AppData\\Roaming\\nltk_data...\n",
      "[nltk_data]   Package vader_lexicon is already up-to-date!\n"
     ]
    },
    {
     "name": "stdout",
     "output_type": "stream",
     "text": [
      "Scrolling attempt 1\n",
      "Scrolling attempt 0\n"
     ]
    },
    {
     "name": "stderr",
     "output_type": "stream",
     "text": [
      "[nltk_data] Downloading package stopwords to\n",
      "[nltk_data]     C:\\Users\\gandj\\AppData\\Roaming\\nltk_data...\n",
      "[nltk_data]   Package stopwords is already up-to-date!\n",
      "[nltk_data] Downloading package punkt to\n",
      "[nltk_data]     C:\\Users\\gandj\\AppData\\Roaming\\nltk_data...\n",
      "[nltk_data]   Package punkt is already up-to-date!\n",
      "[nltk_data] Downloading package vader_lexicon to\n",
      "[nltk_data]     C:\\Users\\gandj\\AppData\\Roaming\\nltk_data...\n",
      "[nltk_data]   Package vader_lexicon is already up-to-date!\n"
     ]
    },
    {
     "name": "stdout",
     "output_type": "stream",
     "text": [
      "Error while scraping comments: Message: \n",
      "\n",
      "Scrolling attempt 1\n",
      "Scrolling attempt 0\n"
     ]
    },
    {
     "name": "stderr",
     "output_type": "stream",
     "text": [
      "[nltk_data] Downloading package stopwords to\n",
      "[nltk_data]     C:\\Users\\gandj\\AppData\\Roaming\\nltk_data...\n",
      "[nltk_data]   Package stopwords is already up-to-date!\n",
      "[nltk_data] Downloading package punkt to\n",
      "[nltk_data]     C:\\Users\\gandj\\AppData\\Roaming\\nltk_data...\n",
      "[nltk_data]   Package punkt is already up-to-date!\n",
      "[nltk_data] Downloading package vader_lexicon to\n",
      "[nltk_data]     C:\\Users\\gandj\\AppData\\Roaming\\nltk_data...\n",
      "[nltk_data]   Package vader_lexicon is already up-to-date!\n"
     ]
    },
    {
     "name": "stdout",
     "output_type": "stream",
     "text": [
      "Error while scraping comments: Message: \n",
      "\n",
      "Scrolling attempt 1\n",
      "Scrolling attempt 0\n"
     ]
    },
    {
     "name": "stderr",
     "output_type": "stream",
     "text": [
      "[nltk_data] Downloading package stopwords to\n",
      "[nltk_data]     C:\\Users\\gandj\\AppData\\Roaming\\nltk_data...\n",
      "[nltk_data]   Package stopwords is already up-to-date!\n",
      "[nltk_data] Downloading package punkt to\n",
      "[nltk_data]     C:\\Users\\gandj\\AppData\\Roaming\\nltk_data...\n",
      "[nltk_data]   Package punkt is already up-to-date!\n",
      "[nltk_data] Downloading package vader_lexicon to\n",
      "[nltk_data]     C:\\Users\\gandj\\AppData\\Roaming\\nltk_data...\n",
      "[nltk_data]   Package vader_lexicon is already up-to-date!\n"
     ]
    },
    {
     "name": "stdout",
     "output_type": "stream",
     "text": [
      "Error while scraping comments: Message: \n",
      "\n",
      "Scrolling attempt 1\n",
      "Scrolling attempt 0\n"
     ]
    },
    {
     "name": "stderr",
     "output_type": "stream",
     "text": [
      "[nltk_data] Downloading package stopwords to\n",
      "[nltk_data]     C:\\Users\\gandj\\AppData\\Roaming\\nltk_data...\n",
      "[nltk_data]   Package stopwords is already up-to-date!\n",
      "[nltk_data] Downloading package punkt to\n",
      "[nltk_data]     C:\\Users\\gandj\\AppData\\Roaming\\nltk_data...\n",
      "[nltk_data]   Package punkt is already up-to-date!\n",
      "[nltk_data] Downloading package vader_lexicon to\n",
      "[nltk_data]     C:\\Users\\gandj\\AppData\\Roaming\\nltk_data...\n",
      "[nltk_data]   Package vader_lexicon is already up-to-date!\n"
     ]
    },
    {
     "name": "stdout",
     "output_type": "stream",
     "text": [
      "Error while scraping comments: Message: \n",
      "\n",
      "Scrolling attempt 1\n",
      "Scrolling attempt 0\n"
     ]
    },
    {
     "name": "stderr",
     "output_type": "stream",
     "text": [
      "[nltk_data] Downloading package stopwords to\n",
      "[nltk_data]     C:\\Users\\gandj\\AppData\\Roaming\\nltk_data...\n",
      "[nltk_data]   Package stopwords is already up-to-date!\n",
      "[nltk_data] Downloading package punkt to\n",
      "[nltk_data]     C:\\Users\\gandj\\AppData\\Roaming\\nltk_data...\n",
      "[nltk_data]   Package punkt is already up-to-date!\n",
      "[nltk_data] Downloading package vader_lexicon to\n",
      "[nltk_data]     C:\\Users\\gandj\\AppData\\Roaming\\nltk_data...\n",
      "[nltk_data]   Package vader_lexicon is already up-to-date!\n"
     ]
    },
    {
     "name": "stdout",
     "output_type": "stream",
     "text": [
      "Error while scraping comments: Message: \n",
      "\n",
      "Scrolling attempt 1\n",
      "Scrolling attempt 0\n"
     ]
    },
    {
     "name": "stderr",
     "output_type": "stream",
     "text": [
      "[nltk_data] Downloading package stopwords to\n",
      "[nltk_data]     C:\\Users\\gandj\\AppData\\Roaming\\nltk_data...\n",
      "[nltk_data]   Package stopwords is already up-to-date!\n",
      "[nltk_data] Downloading package punkt to\n",
      "[nltk_data]     C:\\Users\\gandj\\AppData\\Roaming\\nltk_data...\n",
      "[nltk_data]   Package punkt is already up-to-date!\n",
      "[nltk_data] Downloading package vader_lexicon to\n",
      "[nltk_data]     C:\\Users\\gandj\\AppData\\Roaming\\nltk_data...\n",
      "[nltk_data]   Package vader_lexicon is already up-to-date!\n"
     ]
    },
    {
     "name": "stdout",
     "output_type": "stream",
     "text": [
      "Error while scraping comments: Message: \n",
      "\n",
      "Scrolling attempt 1\n",
      "Scrolling attempt 0\n"
     ]
    },
    {
     "name": "stderr",
     "output_type": "stream",
     "text": [
      "[nltk_data] Downloading package stopwords to\n",
      "[nltk_data]     C:\\Users\\gandj\\AppData\\Roaming\\nltk_data...\n",
      "[nltk_data]   Package stopwords is already up-to-date!\n",
      "[nltk_data] Downloading package punkt to\n",
      "[nltk_data]     C:\\Users\\gandj\\AppData\\Roaming\\nltk_data...\n",
      "[nltk_data]   Package punkt is already up-to-date!\n",
      "[nltk_data] Downloading package vader_lexicon to\n",
      "[nltk_data]     C:\\Users\\gandj\\AppData\\Roaming\\nltk_data...\n",
      "[nltk_data]   Package vader_lexicon is already up-to-date!\n"
     ]
    },
    {
     "name": "stdout",
     "output_type": "stream",
     "text": [
      "Error while scraping comments: Message: \n",
      "\n",
      "Scrolling attempt 1\n",
      "Scrolling attempt 0\n"
     ]
    },
    {
     "name": "stderr",
     "output_type": "stream",
     "text": [
      "[nltk_data] Downloading package stopwords to\n",
      "[nltk_data]     C:\\Users\\gandj\\AppData\\Roaming\\nltk_data...\n",
      "[nltk_data]   Package stopwords is already up-to-date!\n",
      "[nltk_data] Downloading package punkt to\n",
      "[nltk_data]     C:\\Users\\gandj\\AppData\\Roaming\\nltk_data...\n",
      "[nltk_data]   Package punkt is already up-to-date!\n",
      "[nltk_data] Downloading package vader_lexicon to\n",
      "[nltk_data]     C:\\Users\\gandj\\AppData\\Roaming\\nltk_data...\n",
      "[nltk_data]   Package vader_lexicon is already up-to-date!\n"
     ]
    },
    {
     "name": "stdout",
     "output_type": "stream",
     "text": [
      "Error while scraping comments: Message: \n",
      "\n",
      "Scrolling attempt 1\n",
      "Scrolling attempt 0\n"
     ]
    },
    {
     "name": "stderr",
     "output_type": "stream",
     "text": [
      "[nltk_data] Downloading package stopwords to\n",
      "[nltk_data]     C:\\Users\\gandj\\AppData\\Roaming\\nltk_data...\n",
      "[nltk_data]   Package stopwords is already up-to-date!\n",
      "[nltk_data] Downloading package punkt to\n",
      "[nltk_data]     C:\\Users\\gandj\\AppData\\Roaming\\nltk_data...\n",
      "[nltk_data]   Package punkt is already up-to-date!\n",
      "[nltk_data] Downloading package vader_lexicon to\n",
      "[nltk_data]     C:\\Users\\gandj\\AppData\\Roaming\\nltk_data...\n",
      "[nltk_data]   Package vader_lexicon is already up-to-date!\n"
     ]
    },
    {
     "name": "stdout",
     "output_type": "stream",
     "text": [
      "Error while scraping comments: Message: \n",
      "\n",
      "Scrolling attempt 1\n",
      "Scrolling attempt 0\n"
     ]
    },
    {
     "name": "stderr",
     "output_type": "stream",
     "text": [
      "[nltk_data] Downloading package stopwords to\n",
      "[nltk_data]     C:\\Users\\gandj\\AppData\\Roaming\\nltk_data...\n",
      "[nltk_data]   Package stopwords is already up-to-date!\n",
      "[nltk_data] Downloading package punkt to\n",
      "[nltk_data]     C:\\Users\\gandj\\AppData\\Roaming\\nltk_data...\n",
      "[nltk_data]   Package punkt is already up-to-date!\n",
      "[nltk_data] Downloading package vader_lexicon to\n",
      "[nltk_data]     C:\\Users\\gandj\\AppData\\Roaming\\nltk_data...\n",
      "[nltk_data]   Package vader_lexicon is already up-to-date!\n"
     ]
    },
    {
     "name": "stdout",
     "output_type": "stream",
     "text": [
      "Error while scraping comments: Message: \n",
      "\n",
      "Scrolling attempt 1\n",
      "Scrolling attempt 0\n"
     ]
    },
    {
     "name": "stderr",
     "output_type": "stream",
     "text": [
      "[nltk_data] Downloading package stopwords to\n",
      "[nltk_data]     C:\\Users\\gandj\\AppData\\Roaming\\nltk_data...\n",
      "[nltk_data]   Package stopwords is already up-to-date!\n",
      "[nltk_data] Downloading package punkt to\n",
      "[nltk_data]     C:\\Users\\gandj\\AppData\\Roaming\\nltk_data...\n",
      "[nltk_data]   Package punkt is already up-to-date!\n",
      "[nltk_data] Downloading package vader_lexicon to\n",
      "[nltk_data]     C:\\Users\\gandj\\AppData\\Roaming\\nltk_data...\n",
      "[nltk_data]   Package vader_lexicon is already up-to-date!\n"
     ]
    },
    {
     "name": "stdout",
     "output_type": "stream",
     "text": [
      "Error while scraping comments: Message: \n",
      "\n",
      "Scrolling attempt 1\n",
      "Scrolling attempt 0\n"
     ]
    },
    {
     "name": "stderr",
     "output_type": "stream",
     "text": [
      "[nltk_data] Downloading package stopwords to\n",
      "[nltk_data]     C:\\Users\\gandj\\AppData\\Roaming\\nltk_data...\n",
      "[nltk_data]   Package stopwords is already up-to-date!\n",
      "[nltk_data] Downloading package punkt to\n",
      "[nltk_data]     C:\\Users\\gandj\\AppData\\Roaming\\nltk_data...\n",
      "[nltk_data]   Package punkt is already up-to-date!\n",
      "[nltk_data] Downloading package vader_lexicon to\n",
      "[nltk_data]     C:\\Users\\gandj\\AppData\\Roaming\\nltk_data...\n",
      "[nltk_data]   Package vader_lexicon is already up-to-date!\n"
     ]
    },
    {
     "name": "stdout",
     "output_type": "stream",
     "text": [
      "Error while scraping comments: Message: \n",
      "\n",
      "Scrolling attempt 1\n",
      "Scrolling attempt 0\n"
     ]
    },
    {
     "name": "stderr",
     "output_type": "stream",
     "text": [
      "[nltk_data] Downloading package stopwords to\n",
      "[nltk_data]     C:\\Users\\gandj\\AppData\\Roaming\\nltk_data...\n",
      "[nltk_data]   Package stopwords is already up-to-date!\n",
      "[nltk_data] Downloading package punkt to\n",
      "[nltk_data]     C:\\Users\\gandj\\AppData\\Roaming\\nltk_data...\n",
      "[nltk_data]   Package punkt is already up-to-date!\n",
      "[nltk_data] Downloading package vader_lexicon to\n",
      "[nltk_data]     C:\\Users\\gandj\\AppData\\Roaming\\nltk_data...\n",
      "[nltk_data]   Package vader_lexicon is already up-to-date!\n"
     ]
    },
    {
     "name": "stdout",
     "output_type": "stream",
     "text": [
      "Error while scraping comments: Message: \n",
      "\n",
      "Scrolling attempt 1\n",
      "Scrolling attempt 0\n"
     ]
    },
    {
     "name": "stderr",
     "output_type": "stream",
     "text": [
      "[nltk_data] Downloading package stopwords to\n",
      "[nltk_data]     C:\\Users\\gandj\\AppData\\Roaming\\nltk_data...\n",
      "[nltk_data]   Package stopwords is already up-to-date!\n",
      "[nltk_data] Downloading package punkt to\n",
      "[nltk_data]     C:\\Users\\gandj\\AppData\\Roaming\\nltk_data...\n",
      "[nltk_data]   Package punkt is already up-to-date!\n",
      "[nltk_data] Downloading package vader_lexicon to\n",
      "[nltk_data]     C:\\Users\\gandj\\AppData\\Roaming\\nltk_data...\n",
      "[nltk_data]   Package vader_lexicon is already up-to-date!\n"
     ]
    },
    {
     "name": "stdout",
     "output_type": "stream",
     "text": [
      "Error while scraping comments: Message: \n",
      "\n",
      "Scrolling attempt 1\n",
      "Scrolling attempt 0\n"
     ]
    },
    {
     "name": "stderr",
     "output_type": "stream",
     "text": [
      "[nltk_data] Downloading package stopwords to\n",
      "[nltk_data]     C:\\Users\\gandj\\AppData\\Roaming\\nltk_data...\n",
      "[nltk_data]   Package stopwords is already up-to-date!\n",
      "[nltk_data] Downloading package punkt to\n",
      "[nltk_data]     C:\\Users\\gandj\\AppData\\Roaming\\nltk_data...\n",
      "[nltk_data]   Package punkt is already up-to-date!\n",
      "[nltk_data] Downloading package vader_lexicon to\n",
      "[nltk_data]     C:\\Users\\gandj\\AppData\\Roaming\\nltk_data...\n",
      "[nltk_data]   Package vader_lexicon is already up-to-date!\n"
     ]
    },
    {
     "name": "stdout",
     "output_type": "stream",
     "text": [
      "Error while scraping comments: Message: \n",
      "\n",
      "Scrolling attempt 1\n",
      "Scrolling attempt 0\n"
     ]
    },
    {
     "name": "stderr",
     "output_type": "stream",
     "text": [
      "[nltk_data] Downloading package stopwords to\n",
      "[nltk_data]     C:\\Users\\gandj\\AppData\\Roaming\\nltk_data...\n",
      "[nltk_data]   Package stopwords is already up-to-date!\n",
      "[nltk_data] Downloading package punkt to\n",
      "[nltk_data]     C:\\Users\\gandj\\AppData\\Roaming\\nltk_data...\n",
      "[nltk_data]   Package punkt is already up-to-date!\n",
      "[nltk_data] Downloading package vader_lexicon to\n",
      "[nltk_data]     C:\\Users\\gandj\\AppData\\Roaming\\nltk_data...\n",
      "[nltk_data]   Package vader_lexicon is already up-to-date!\n"
     ]
    },
    {
     "name": "stdout",
     "output_type": "stream",
     "text": [
      "Error while scraping comments: Message: \n",
      "\n",
      "Scrolling attempt 1\n",
      "Scrolling attempt 0\n"
     ]
    },
    {
     "name": "stderr",
     "output_type": "stream",
     "text": [
      "[nltk_data] Downloading package stopwords to\n",
      "[nltk_data]     C:\\Users\\gandj\\AppData\\Roaming\\nltk_data...\n",
      "[nltk_data]   Package stopwords is already up-to-date!\n",
      "[nltk_data] Downloading package punkt to\n",
      "[nltk_data]     C:\\Users\\gandj\\AppData\\Roaming\\nltk_data...\n",
      "[nltk_data]   Package punkt is already up-to-date!\n",
      "[nltk_data] Downloading package vader_lexicon to\n",
      "[nltk_data]     C:\\Users\\gandj\\AppData\\Roaming\\nltk_data...\n",
      "[nltk_data]   Package vader_lexicon is already up-to-date!\n"
     ]
    },
    {
     "name": "stdout",
     "output_type": "stream",
     "text": [
      "Error while scraping comments: Message: \n",
      "\n",
      "Scrolling attempt 1\n",
      "Scrolling attempt 0\n"
     ]
    },
    {
     "name": "stderr",
     "output_type": "stream",
     "text": [
      "[nltk_data] Downloading package stopwords to\n",
      "[nltk_data]     C:\\Users\\gandj\\AppData\\Roaming\\nltk_data...\n",
      "[nltk_data]   Package stopwords is already up-to-date!\n",
      "[nltk_data] Downloading package punkt to\n",
      "[nltk_data]     C:\\Users\\gandj\\AppData\\Roaming\\nltk_data...\n",
      "[nltk_data]   Package punkt is already up-to-date!\n",
      "[nltk_data] Downloading package vader_lexicon to\n",
      "[nltk_data]     C:\\Users\\gandj\\AppData\\Roaming\\nltk_data...\n",
      "[nltk_data]   Package vader_lexicon is already up-to-date!\n"
     ]
    },
    {
     "name": "stdout",
     "output_type": "stream",
     "text": [
      "Error while scraping comments: Message: \n",
      "\n",
      "Scrolling attempt 1\n",
      "Scrolling attempt 0\n"
     ]
    },
    {
     "name": "stderr",
     "output_type": "stream",
     "text": [
      "[nltk_data] Downloading package stopwords to\n",
      "[nltk_data]     C:\\Users\\gandj\\AppData\\Roaming\\nltk_data...\n",
      "[nltk_data]   Package stopwords is already up-to-date!\n",
      "[nltk_data] Downloading package punkt to\n",
      "[nltk_data]     C:\\Users\\gandj\\AppData\\Roaming\\nltk_data...\n",
      "[nltk_data]   Package punkt is already up-to-date!\n",
      "[nltk_data] Downloading package vader_lexicon to\n",
      "[nltk_data]     C:\\Users\\gandj\\AppData\\Roaming\\nltk_data...\n",
      "[nltk_data]   Package vader_lexicon is already up-to-date!\n"
     ]
    },
    {
     "name": "stdout",
     "output_type": "stream",
     "text": [
      "Scrolling attempt 1\n",
      "Scrolling attempt 0\n"
     ]
    },
    {
     "name": "stderr",
     "output_type": "stream",
     "text": [
      "[nltk_data] Downloading package stopwords to\n",
      "[nltk_data]     C:\\Users\\gandj\\AppData\\Roaming\\nltk_data...\n",
      "[nltk_data]   Package stopwords is already up-to-date!\n",
      "[nltk_data] Downloading package punkt to\n",
      "[nltk_data]     C:\\Users\\gandj\\AppData\\Roaming\\nltk_data...\n",
      "[nltk_data]   Package punkt is already up-to-date!\n",
      "[nltk_data] Downloading package vader_lexicon to\n",
      "[nltk_data]     C:\\Users\\gandj\\AppData\\Roaming\\nltk_data...\n",
      "[nltk_data]   Package vader_lexicon is already up-to-date!\n"
     ]
    },
    {
     "name": "stdout",
     "output_type": "stream",
     "text": [
      "Scrolling attempt 1\n",
      "Scrolling attempt 0\n"
     ]
    },
    {
     "name": "stderr",
     "output_type": "stream",
     "text": [
      "[nltk_data] Downloading package stopwords to\n",
      "[nltk_data]     C:\\Users\\gandj\\AppData\\Roaming\\nltk_data...\n",
      "[nltk_data]   Package stopwords is already up-to-date!\n",
      "[nltk_data] Downloading package punkt to\n",
      "[nltk_data]     C:\\Users\\gandj\\AppData\\Roaming\\nltk_data...\n",
      "[nltk_data]   Package punkt is already up-to-date!\n",
      "[nltk_data] Downloading package vader_lexicon to\n",
      "[nltk_data]     C:\\Users\\gandj\\AppData\\Roaming\\nltk_data...\n",
      "[nltk_data]   Package vader_lexicon is already up-to-date!\n"
     ]
    },
    {
     "name": "stdout",
     "output_type": "stream",
     "text": [
      "Scrolling attempt 1\n",
      "Scrolling attempt 0\n"
     ]
    },
    {
     "name": "stderr",
     "output_type": "stream",
     "text": [
      "[nltk_data] Downloading package stopwords to\n",
      "[nltk_data]     C:\\Users\\gandj\\AppData\\Roaming\\nltk_data...\n",
      "[nltk_data]   Package stopwords is already up-to-date!\n",
      "[nltk_data] Downloading package punkt to\n",
      "[nltk_data]     C:\\Users\\gandj\\AppData\\Roaming\\nltk_data...\n",
      "[nltk_data]   Package punkt is already up-to-date!\n",
      "[nltk_data] Downloading package vader_lexicon to\n",
      "[nltk_data]     C:\\Users\\gandj\\AppData\\Roaming\\nltk_data...\n",
      "[nltk_data]   Package vader_lexicon is already up-to-date!\n"
     ]
    },
    {
     "name": "stdout",
     "output_type": "stream",
     "text": [
      "Error while scraping comments: Message: \n",
      "\n",
      "Scrolling attempt 1\n",
      "Scrolling attempt 0\n"
     ]
    },
    {
     "name": "stderr",
     "output_type": "stream",
     "text": [
      "[nltk_data] Downloading package stopwords to\n",
      "[nltk_data]     C:\\Users\\gandj\\AppData\\Roaming\\nltk_data...\n",
      "[nltk_data]   Package stopwords is already up-to-date!\n",
      "[nltk_data] Downloading package punkt to\n",
      "[nltk_data]     C:\\Users\\gandj\\AppData\\Roaming\\nltk_data...\n",
      "[nltk_data]   Package punkt is already up-to-date!\n",
      "[nltk_data] Downloading package vader_lexicon to\n",
      "[nltk_data]     C:\\Users\\gandj\\AppData\\Roaming\\nltk_data...\n",
      "[nltk_data]   Package vader_lexicon is already up-to-date!\n"
     ]
    },
    {
     "name": "stdout",
     "output_type": "stream",
     "text": [
      "Scrolling attempt 1\n",
      "Scrolling attempt 0\n"
     ]
    },
    {
     "name": "stderr",
     "output_type": "stream",
     "text": [
      "[nltk_data] Downloading package stopwords to\n",
      "[nltk_data]     C:\\Users\\gandj\\AppData\\Roaming\\nltk_data...\n",
      "[nltk_data]   Package stopwords is already up-to-date!\n",
      "[nltk_data] Downloading package punkt to\n",
      "[nltk_data]     C:\\Users\\gandj\\AppData\\Roaming\\nltk_data...\n",
      "[nltk_data]   Package punkt is already up-to-date!\n",
      "[nltk_data] Downloading package vader_lexicon to\n",
      "[nltk_data]     C:\\Users\\gandj\\AppData\\Roaming\\nltk_data...\n",
      "[nltk_data]   Package vader_lexicon is already up-to-date!\n"
     ]
    },
    {
     "name": "stdout",
     "output_type": "stream",
     "text": [
      "Error while scraping comments: Message: \n",
      "\n",
      "Scrolling attempt 1\n",
      "Scrolling attempt 0\n"
     ]
    },
    {
     "name": "stderr",
     "output_type": "stream",
     "text": [
      "[nltk_data] Downloading package stopwords to\n",
      "[nltk_data]     C:\\Users\\gandj\\AppData\\Roaming\\nltk_data...\n",
      "[nltk_data]   Package stopwords is already up-to-date!\n",
      "[nltk_data] Downloading package punkt to\n",
      "[nltk_data]     C:\\Users\\gandj\\AppData\\Roaming\\nltk_data...\n",
      "[nltk_data]   Package punkt is already up-to-date!\n",
      "[nltk_data] Downloading package vader_lexicon to\n",
      "[nltk_data]     C:\\Users\\gandj\\AppData\\Roaming\\nltk_data...\n",
      "[nltk_data]   Package vader_lexicon is already up-to-date!\n"
     ]
    },
    {
     "name": "stdout",
     "output_type": "stream",
     "text": [
      "Error while scraping comments: Message: \n",
      "\n",
      "Scrolling attempt 1\n",
      "Scrolling attempt 0\n"
     ]
    },
    {
     "name": "stderr",
     "output_type": "stream",
     "text": [
      "[nltk_data] Downloading package stopwords to\n",
      "[nltk_data]     C:\\Users\\gandj\\AppData\\Roaming\\nltk_data...\n",
      "[nltk_data]   Package stopwords is already up-to-date!\n",
      "[nltk_data] Downloading package punkt to\n",
      "[nltk_data]     C:\\Users\\gandj\\AppData\\Roaming\\nltk_data...\n",
      "[nltk_data]   Package punkt is already up-to-date!\n",
      "[nltk_data] Downloading package vader_lexicon to\n",
      "[nltk_data]     C:\\Users\\gandj\\AppData\\Roaming\\nltk_data...\n",
      "[nltk_data]   Package vader_lexicon is already up-to-date!\n"
     ]
    },
    {
     "name": "stdout",
     "output_type": "stream",
     "text": [
      "Scrolling attempt 1\n",
      "Scrolling attempt 0\n"
     ]
    },
    {
     "name": "stderr",
     "output_type": "stream",
     "text": [
      "[nltk_data] Downloading package stopwords to\n",
      "[nltk_data]     C:\\Users\\gandj\\AppData\\Roaming\\nltk_data...\n",
      "[nltk_data]   Package stopwords is already up-to-date!\n",
      "[nltk_data] Downloading package punkt to\n",
      "[nltk_data]     C:\\Users\\gandj\\AppData\\Roaming\\nltk_data...\n",
      "[nltk_data]   Package punkt is already up-to-date!\n",
      "[nltk_data] Downloading package vader_lexicon to\n",
      "[nltk_data]     C:\\Users\\gandj\\AppData\\Roaming\\nltk_data...\n",
      "[nltk_data]   Package vader_lexicon is already up-to-date!\n"
     ]
    },
    {
     "name": "stdout",
     "output_type": "stream",
     "text": [
      "Error while scraping comments: Message: \n",
      "\n",
      "Scrolling attempt 1\n",
      "Scrolling attempt 0\n"
     ]
    },
    {
     "name": "stderr",
     "output_type": "stream",
     "text": [
      "[nltk_data] Downloading package stopwords to\n",
      "[nltk_data]     C:\\Users\\gandj\\AppData\\Roaming\\nltk_data...\n",
      "[nltk_data]   Package stopwords is already up-to-date!\n",
      "[nltk_data] Downloading package punkt to\n",
      "[nltk_data]     C:\\Users\\gandj\\AppData\\Roaming\\nltk_data...\n",
      "[nltk_data]   Package punkt is already up-to-date!\n",
      "[nltk_data] Downloading package vader_lexicon to\n",
      "[nltk_data]     C:\\Users\\gandj\\AppData\\Roaming\\nltk_data...\n",
      "[nltk_data]   Package vader_lexicon is already up-to-date!\n"
     ]
    },
    {
     "name": "stdout",
     "output_type": "stream",
     "text": [
      "Error while scraping comments: Message: \n",
      "\n",
      "Scrolling attempt 1\n",
      "Scrolling attempt 0\n"
     ]
    },
    {
     "name": "stderr",
     "output_type": "stream",
     "text": [
      "[nltk_data] Downloading package stopwords to\n",
      "[nltk_data]     C:\\Users\\gandj\\AppData\\Roaming\\nltk_data...\n",
      "[nltk_data]   Package stopwords is already up-to-date!\n",
      "[nltk_data] Downloading package punkt to\n",
      "[nltk_data]     C:\\Users\\gandj\\AppData\\Roaming\\nltk_data...\n",
      "[nltk_data]   Package punkt is already up-to-date!\n",
      "[nltk_data] Downloading package vader_lexicon to\n",
      "[nltk_data]     C:\\Users\\gandj\\AppData\\Roaming\\nltk_data...\n",
      "[nltk_data]   Package vader_lexicon is already up-to-date!\n"
     ]
    },
    {
     "name": "stdout",
     "output_type": "stream",
     "text": [
      "Scrolling attempt 1\n",
      "Scrolling attempt 0\n"
     ]
    },
    {
     "name": "stderr",
     "output_type": "stream",
     "text": [
      "[nltk_data] Downloading package stopwords to\n",
      "[nltk_data]     C:\\Users\\gandj\\AppData\\Roaming\\nltk_data...\n",
      "[nltk_data]   Package stopwords is already up-to-date!\n",
      "[nltk_data] Downloading package punkt to\n",
      "[nltk_data]     C:\\Users\\gandj\\AppData\\Roaming\\nltk_data...\n",
      "[nltk_data]   Package punkt is already up-to-date!\n",
      "[nltk_data] Downloading package vader_lexicon to\n",
      "[nltk_data]     C:\\Users\\gandj\\AppData\\Roaming\\nltk_data...\n",
      "[nltk_data]   Package vader_lexicon is already up-to-date!\n"
     ]
    },
    {
     "name": "stdout",
     "output_type": "stream",
     "text": [
      "Error while scraping comments: Message: \n",
      "\n",
      "Scrolling attempt 1\n",
      "Scrolling attempt 0\n"
     ]
    },
    {
     "name": "stderr",
     "output_type": "stream",
     "text": [
      "[nltk_data] Downloading package stopwords to\n",
      "[nltk_data]     C:\\Users\\gandj\\AppData\\Roaming\\nltk_data...\n",
      "[nltk_data]   Package stopwords is already up-to-date!\n",
      "[nltk_data] Downloading package punkt to\n",
      "[nltk_data]     C:\\Users\\gandj\\AppData\\Roaming\\nltk_data...\n",
      "[nltk_data]   Package punkt is already up-to-date!\n",
      "[nltk_data] Downloading package vader_lexicon to\n",
      "[nltk_data]     C:\\Users\\gandj\\AppData\\Roaming\\nltk_data...\n",
      "[nltk_data]   Package vader_lexicon is already up-to-date!\n"
     ]
    },
    {
     "name": "stdout",
     "output_type": "stream",
     "text": [
      "Error while scraping comments: Message: \n",
      "\n",
      "Scrolling attempt 1\n",
      "Scrolling attempt 0\n"
     ]
    },
    {
     "name": "stderr",
     "output_type": "stream",
     "text": [
      "[nltk_data] Downloading package stopwords to\n",
      "[nltk_data]     C:\\Users\\gandj\\AppData\\Roaming\\nltk_data...\n",
      "[nltk_data]   Package stopwords is already up-to-date!\n",
      "[nltk_data] Downloading package punkt to\n",
      "[nltk_data]     C:\\Users\\gandj\\AppData\\Roaming\\nltk_data...\n",
      "[nltk_data]   Package punkt is already up-to-date!\n",
      "[nltk_data] Downloading package vader_lexicon to\n",
      "[nltk_data]     C:\\Users\\gandj\\AppData\\Roaming\\nltk_data...\n",
      "[nltk_data]   Package vader_lexicon is already up-to-date!\n"
     ]
    },
    {
     "name": "stdout",
     "output_type": "stream",
     "text": [
      "Error while scraping comments: Message: \n",
      "\n",
      "Scrolling attempt 1\n",
      "Scrolling attempt 0\n"
     ]
    },
    {
     "name": "stderr",
     "output_type": "stream",
     "text": [
      "[nltk_data] Downloading package stopwords to\n",
      "[nltk_data]     C:\\Users\\gandj\\AppData\\Roaming\\nltk_data...\n",
      "[nltk_data]   Package stopwords is already up-to-date!\n",
      "[nltk_data] Downloading package punkt to\n",
      "[nltk_data]     C:\\Users\\gandj\\AppData\\Roaming\\nltk_data...\n",
      "[nltk_data]   Package punkt is already up-to-date!\n",
      "[nltk_data] Downloading package vader_lexicon to\n",
      "[nltk_data]     C:\\Users\\gandj\\AppData\\Roaming\\nltk_data...\n",
      "[nltk_data]   Package vader_lexicon is already up-to-date!\n"
     ]
    },
    {
     "name": "stdout",
     "output_type": "stream",
     "text": [
      "Error while scraping comments: Message: \n",
      "\n",
      "Scrolling attempt 1\n",
      "Scrolling attempt 0\n"
     ]
    },
    {
     "name": "stderr",
     "output_type": "stream",
     "text": [
      "[nltk_data] Downloading package stopwords to\n",
      "[nltk_data]     C:\\Users\\gandj\\AppData\\Roaming\\nltk_data...\n",
      "[nltk_data]   Package stopwords is already up-to-date!\n",
      "[nltk_data] Downloading package punkt to\n",
      "[nltk_data]     C:\\Users\\gandj\\AppData\\Roaming\\nltk_data...\n",
      "[nltk_data]   Package punkt is already up-to-date!\n",
      "[nltk_data] Downloading package vader_lexicon to\n",
      "[nltk_data]     C:\\Users\\gandj\\AppData\\Roaming\\nltk_data...\n",
      "[nltk_data]   Package vader_lexicon is already up-to-date!\n"
     ]
    },
    {
     "name": "stdout",
     "output_type": "stream",
     "text": [
      "Scrolling attempt 1\n",
      "Scrolling attempt 0\n"
     ]
    },
    {
     "name": "stderr",
     "output_type": "stream",
     "text": [
      "[nltk_data] Downloading package stopwords to\n",
      "[nltk_data]     C:\\Users\\gandj\\AppData\\Roaming\\nltk_data...\n",
      "[nltk_data]   Package stopwords is already up-to-date!\n",
      "[nltk_data] Downloading package punkt to\n",
      "[nltk_data]     C:\\Users\\gandj\\AppData\\Roaming\\nltk_data...\n",
      "[nltk_data]   Package punkt is already up-to-date!\n",
      "[nltk_data] Downloading package vader_lexicon to\n",
      "[nltk_data]     C:\\Users\\gandj\\AppData\\Roaming\\nltk_data...\n",
      "[nltk_data]   Package vader_lexicon is already up-to-date!\n"
     ]
    },
    {
     "name": "stdout",
     "output_type": "stream",
     "text": [
      "Error while scraping comments: Message: \n",
      "\n",
      "Scrolling attempt 1\n",
      "Scrolling attempt 0\n"
     ]
    },
    {
     "name": "stderr",
     "output_type": "stream",
     "text": [
      "[nltk_data] Downloading package stopwords to\n",
      "[nltk_data]     C:\\Users\\gandj\\AppData\\Roaming\\nltk_data...\n",
      "[nltk_data]   Package stopwords is already up-to-date!\n",
      "[nltk_data] Downloading package punkt to\n",
      "[nltk_data]     C:\\Users\\gandj\\AppData\\Roaming\\nltk_data...\n",
      "[nltk_data]   Package punkt is already up-to-date!\n",
      "[nltk_data] Downloading package vader_lexicon to\n",
      "[nltk_data]     C:\\Users\\gandj\\AppData\\Roaming\\nltk_data...\n",
      "[nltk_data]   Package vader_lexicon is already up-to-date!\n"
     ]
    },
    {
     "name": "stdout",
     "output_type": "stream",
     "text": [
      "Error while scraping comments: Message: \n",
      "\n",
      "Scrolling attempt 1\n",
      "Scrolling attempt 0\n"
     ]
    },
    {
     "name": "stderr",
     "output_type": "stream",
     "text": [
      "[nltk_data] Downloading package stopwords to\n",
      "[nltk_data]     C:\\Users\\gandj\\AppData\\Roaming\\nltk_data...\n",
      "[nltk_data]   Package stopwords is already up-to-date!\n",
      "[nltk_data] Downloading package punkt to\n",
      "[nltk_data]     C:\\Users\\gandj\\AppData\\Roaming\\nltk_data...\n",
      "[nltk_data]   Package punkt is already up-to-date!\n",
      "[nltk_data] Downloading package vader_lexicon to\n",
      "[nltk_data]     C:\\Users\\gandj\\AppData\\Roaming\\nltk_data...\n",
      "[nltk_data]   Package vader_lexicon is already up-to-date!\n"
     ]
    },
    {
     "name": "stdout",
     "output_type": "stream",
     "text": [
      "Error while scraping comments: Message: \n",
      "\n",
      "Scrolling attempt 1\n",
      "Scrolling attempt 0\n"
     ]
    },
    {
     "name": "stderr",
     "output_type": "stream",
     "text": [
      "[nltk_data] Downloading package stopwords to\n",
      "[nltk_data]     C:\\Users\\gandj\\AppData\\Roaming\\nltk_data...\n",
      "[nltk_data]   Package stopwords is already up-to-date!\n",
      "[nltk_data] Downloading package punkt to\n",
      "[nltk_data]     C:\\Users\\gandj\\AppData\\Roaming\\nltk_data...\n",
      "[nltk_data]   Package punkt is already up-to-date!\n",
      "[nltk_data] Downloading package vader_lexicon to\n",
      "[nltk_data]     C:\\Users\\gandj\\AppData\\Roaming\\nltk_data...\n",
      "[nltk_data]   Package vader_lexicon is already up-to-date!\n"
     ]
    },
    {
     "name": "stdout",
     "output_type": "stream",
     "text": [
      "Error while scraping comments: Message: \n",
      "\n",
      "Scrolling attempt 1\n",
      "Scrolling attempt 0\n"
     ]
    },
    {
     "name": "stderr",
     "output_type": "stream",
     "text": [
      "[nltk_data] Downloading package stopwords to\n",
      "[nltk_data]     C:\\Users\\gandj\\AppData\\Roaming\\nltk_data...\n",
      "[nltk_data]   Package stopwords is already up-to-date!\n",
      "[nltk_data] Downloading package punkt to\n",
      "[nltk_data]     C:\\Users\\gandj\\AppData\\Roaming\\nltk_data...\n",
      "[nltk_data]   Package punkt is already up-to-date!\n",
      "[nltk_data] Downloading package vader_lexicon to\n",
      "[nltk_data]     C:\\Users\\gandj\\AppData\\Roaming\\nltk_data...\n",
      "[nltk_data]   Package vader_lexicon is already up-to-date!\n"
     ]
    },
    {
     "name": "stdout",
     "output_type": "stream",
     "text": [
      "Error while scraping comments: Message: \n",
      "\n",
      "Scrolling attempt 1\n",
      "Scrolling attempt 0\n"
     ]
    },
    {
     "name": "stderr",
     "output_type": "stream",
     "text": [
      "[nltk_data] Downloading package stopwords to\n",
      "[nltk_data]     C:\\Users\\gandj\\AppData\\Roaming\\nltk_data...\n",
      "[nltk_data]   Package stopwords is already up-to-date!\n",
      "[nltk_data] Downloading package punkt to\n",
      "[nltk_data]     C:\\Users\\gandj\\AppData\\Roaming\\nltk_data...\n",
      "[nltk_data]   Package punkt is already up-to-date!\n",
      "[nltk_data] Downloading package vader_lexicon to\n",
      "[nltk_data]     C:\\Users\\gandj\\AppData\\Roaming\\nltk_data...\n",
      "[nltk_data]   Package vader_lexicon is already up-to-date!\n"
     ]
    },
    {
     "name": "stdout",
     "output_type": "stream",
     "text": [
      "Error while scraping comments: Message: \n",
      "\n",
      "Scrolling attempt 1\n",
      "Scrolling attempt 0\n"
     ]
    },
    {
     "name": "stderr",
     "output_type": "stream",
     "text": [
      "[nltk_data] Downloading package stopwords to\n",
      "[nltk_data]     C:\\Users\\gandj\\AppData\\Roaming\\nltk_data...\n",
      "[nltk_data]   Package stopwords is already up-to-date!\n",
      "[nltk_data] Downloading package punkt to\n",
      "[nltk_data]     C:\\Users\\gandj\\AppData\\Roaming\\nltk_data...\n",
      "[nltk_data]   Package punkt is already up-to-date!\n",
      "[nltk_data] Downloading package vader_lexicon to\n",
      "[nltk_data]     C:\\Users\\gandj\\AppData\\Roaming\\nltk_data...\n",
      "[nltk_data]   Package vader_lexicon is already up-to-date!\n"
     ]
    },
    {
     "name": "stdout",
     "output_type": "stream",
     "text": [
      "Error while scraping comments: Message: \n",
      "\n",
      "Scrolling attempt 1\n",
      "Scrolling attempt 0\n"
     ]
    },
    {
     "name": "stderr",
     "output_type": "stream",
     "text": [
      "[nltk_data] Downloading package stopwords to\n",
      "[nltk_data]     C:\\Users\\gandj\\AppData\\Roaming\\nltk_data...\n",
      "[nltk_data]   Package stopwords is already up-to-date!\n",
      "[nltk_data] Downloading package punkt to\n",
      "[nltk_data]     C:\\Users\\gandj\\AppData\\Roaming\\nltk_data...\n",
      "[nltk_data]   Package punkt is already up-to-date!\n",
      "[nltk_data] Downloading package vader_lexicon to\n",
      "[nltk_data]     C:\\Users\\gandj\\AppData\\Roaming\\nltk_data...\n",
      "[nltk_data]   Package vader_lexicon is already up-to-date!\n"
     ]
    },
    {
     "name": "stdout",
     "output_type": "stream",
     "text": [
      "Error while scraping comments: Message: \n",
      "\n",
      "Scrolling attempt 1\n",
      "Scrolling attempt 0\n"
     ]
    },
    {
     "name": "stderr",
     "output_type": "stream",
     "text": [
      "[nltk_data] Downloading package stopwords to\n",
      "[nltk_data]     C:\\Users\\gandj\\AppData\\Roaming\\nltk_data...\n",
      "[nltk_data]   Package stopwords is already up-to-date!\n",
      "[nltk_data] Downloading package punkt to\n",
      "[nltk_data]     C:\\Users\\gandj\\AppData\\Roaming\\nltk_data...\n",
      "[nltk_data]   Package punkt is already up-to-date!\n",
      "[nltk_data] Downloading package vader_lexicon to\n",
      "[nltk_data]     C:\\Users\\gandj\\AppData\\Roaming\\nltk_data...\n",
      "[nltk_data]   Package vader_lexicon is already up-to-date!\n"
     ]
    },
    {
     "name": "stdout",
     "output_type": "stream",
     "text": [
      "Error while scraping comments: Message: \n",
      "\n",
      "Scrolling attempt 1\n",
      "Scrolling attempt 0\n"
     ]
    },
    {
     "name": "stderr",
     "output_type": "stream",
     "text": [
      "[nltk_data] Downloading package stopwords to\n",
      "[nltk_data]     C:\\Users\\gandj\\AppData\\Roaming\\nltk_data...\n",
      "[nltk_data]   Package stopwords is already up-to-date!\n",
      "[nltk_data] Downloading package punkt to\n",
      "[nltk_data]     C:\\Users\\gandj\\AppData\\Roaming\\nltk_data...\n",
      "[nltk_data]   Package punkt is already up-to-date!\n",
      "[nltk_data] Downloading package vader_lexicon to\n",
      "[nltk_data]     C:\\Users\\gandj\\AppData\\Roaming\\nltk_data...\n",
      "[nltk_data]   Package vader_lexicon is already up-to-date!\n"
     ]
    },
    {
     "name": "stdout",
     "output_type": "stream",
     "text": [
      "Error while scraping comments: Message: \n",
      "\n",
      "Scrolling attempt 1\n",
      "Scrolling attempt 0\n"
     ]
    },
    {
     "name": "stderr",
     "output_type": "stream",
     "text": [
      "[nltk_data] Downloading package stopwords to\n",
      "[nltk_data]     C:\\Users\\gandj\\AppData\\Roaming\\nltk_data...\n",
      "[nltk_data]   Package stopwords is already up-to-date!\n",
      "[nltk_data] Downloading package punkt to\n",
      "[nltk_data]     C:\\Users\\gandj\\AppData\\Roaming\\nltk_data...\n",
      "[nltk_data]   Package punkt is already up-to-date!\n",
      "[nltk_data] Downloading package vader_lexicon to\n",
      "[nltk_data]     C:\\Users\\gandj\\AppData\\Roaming\\nltk_data...\n",
      "[nltk_data]   Package vader_lexicon is already up-to-date!\n"
     ]
    },
    {
     "name": "stdout",
     "output_type": "stream",
     "text": [
      "Error while scraping comments: Message: \n",
      "\n",
      "Scrolling attempt 1\n",
      "Scrolling attempt 0\n"
     ]
    },
    {
     "name": "stderr",
     "output_type": "stream",
     "text": [
      "[nltk_data] Downloading package stopwords to\n",
      "[nltk_data]     C:\\Users\\gandj\\AppData\\Roaming\\nltk_data...\n",
      "[nltk_data]   Package stopwords is already up-to-date!\n",
      "[nltk_data] Downloading package punkt to\n",
      "[nltk_data]     C:\\Users\\gandj\\AppData\\Roaming\\nltk_data...\n",
      "[nltk_data]   Package punkt is already up-to-date!\n",
      "[nltk_data] Downloading package vader_lexicon to\n",
      "[nltk_data]     C:\\Users\\gandj\\AppData\\Roaming\\nltk_data...\n",
      "[nltk_data]   Package vader_lexicon is already up-to-date!\n"
     ]
    },
    {
     "name": "stdout",
     "output_type": "stream",
     "text": [
      "Error while scraping comments: Message: \n",
      "\n",
      "Error while scraping comments: Message: \n",
      "\n",
      "Error while scraping comments: Message: \n",
      "\n",
      "Error while scraping comments: Message: \n",
      "\n",
      "Error while scraping comments: Message: \n",
      "\n",
      "Error while scraping comments: Message: \n",
      "\n",
      "Error while scraping comments: Message: \n",
      "\n",
      "Error while scraping comments: Message: \n",
      "\n",
      "Error while scraping comments: Message: \n",
      "\n",
      "Error while scraping comments: Message: \n",
      "\n",
      "Error while scraping comments: Message: \n",
      "\n",
      "Error while scraping comments: Message: \n",
      "\n",
      "Error while scraping comments: Message: \n",
      "\n",
      "Error while scraping comments: Message: \n",
      "\n",
      "Error while scraping comments: Message: \n",
      "\n",
      "Error while scraping comments: Message: \n",
      "\n",
      "Error while scraping comments: Message: \n",
      "\n",
      "Error while scraping comments: Message: \n",
      "\n",
      "Scrolling attempt 1\n",
      "Error while scraping comments: Message: \n",
      "\n",
      "Scrolling attempt 0\n",
      "Error while scraping comments: Message: \n",
      "\n",
      "DataFrame is empty.\n",
      "No data returned for video https://www.youtube.com/watch?v=My3AT5Km-wE\n",
      "Error while scraping comments: Message: \n",
      "\n",
      "Scrolling attempt 1\n",
      "Scrolling attempt 0\n"
     ]
    },
    {
     "name": "stderr",
     "output_type": "stream",
     "text": [
      "[nltk_data] Downloading package stopwords to\n",
      "[nltk_data]     C:\\Users\\gandj\\AppData\\Roaming\\nltk_data...\n",
      "[nltk_data]   Package stopwords is already up-to-date!\n",
      "[nltk_data] Downloading package punkt to\n",
      "[nltk_data]     C:\\Users\\gandj\\AppData\\Roaming\\nltk_data...\n",
      "[nltk_data]   Package punkt is already up-to-date!\n",
      "[nltk_data] Downloading package vader_lexicon to\n",
      "[nltk_data]     C:\\Users\\gandj\\AppData\\Roaming\\nltk_data...\n",
      "[nltk_data]   Package vader_lexicon is already up-to-date!\n"
     ]
    },
    {
     "name": "stdout",
     "output_type": "stream",
     "text": [
      "Error while scraping comments: Message: \n",
      "\n",
      "Scrolling attempt 1\n",
      "Scrolling attempt 0\n"
     ]
    },
    {
     "name": "stderr",
     "output_type": "stream",
     "text": [
      "[nltk_data] Downloading package stopwords to\n",
      "[nltk_data]     C:\\Users\\gandj\\AppData\\Roaming\\nltk_data...\n",
      "[nltk_data]   Package stopwords is already up-to-date!\n",
      "[nltk_data] Downloading package punkt to\n",
      "[nltk_data]     C:\\Users\\gandj\\AppData\\Roaming\\nltk_data...\n",
      "[nltk_data]   Package punkt is already up-to-date!\n",
      "[nltk_data] Downloading package vader_lexicon to\n",
      "[nltk_data]     C:\\Users\\gandj\\AppData\\Roaming\\nltk_data...\n",
      "[nltk_data]   Package vader_lexicon is already up-to-date!\n"
     ]
    },
    {
     "name": "stdout",
     "output_type": "stream",
     "text": [
      "Error while scraping comments: Message: \n",
      "\n",
      "Scrolling attempt 1\n",
      "Scrolling attempt 0\n"
     ]
    },
    {
     "name": "stderr",
     "output_type": "stream",
     "text": [
      "[nltk_data] Downloading package stopwords to\n",
      "[nltk_data]     C:\\Users\\gandj\\AppData\\Roaming\\nltk_data...\n",
      "[nltk_data]   Package stopwords is already up-to-date!\n",
      "[nltk_data] Downloading package punkt to\n",
      "[nltk_data]     C:\\Users\\gandj\\AppData\\Roaming\\nltk_data...\n",
      "[nltk_data]   Package punkt is already up-to-date!\n",
      "[nltk_data] Downloading package vader_lexicon to\n",
      "[nltk_data]     C:\\Users\\gandj\\AppData\\Roaming\\nltk_data...\n",
      "[nltk_data]   Package vader_lexicon is already up-to-date!\n"
     ]
    },
    {
     "name": "stdout",
     "output_type": "stream",
     "text": [
      "Error while scraping comments: Message: \n",
      "\n",
      "Scrolling attempt 1\n",
      "Scrolling attempt 0\n"
     ]
    },
    {
     "name": "stderr",
     "output_type": "stream",
     "text": [
      "[nltk_data] Downloading package stopwords to\n",
      "[nltk_data]     C:\\Users\\gandj\\AppData\\Roaming\\nltk_data...\n",
      "[nltk_data]   Package stopwords is already up-to-date!\n",
      "[nltk_data] Downloading package punkt to\n",
      "[nltk_data]     C:\\Users\\gandj\\AppData\\Roaming\\nltk_data...\n",
      "[nltk_data]   Package punkt is already up-to-date!\n",
      "[nltk_data] Downloading package vader_lexicon to\n",
      "[nltk_data]     C:\\Users\\gandj\\AppData\\Roaming\\nltk_data...\n",
      "[nltk_data]   Package vader_lexicon is already up-to-date!\n"
     ]
    },
    {
     "name": "stdout",
     "output_type": "stream",
     "text": [
      "Error while scraping comments: Message: \n",
      "\n",
      "Scrolling attempt 1\n",
      "Scrolling attempt 0\n"
     ]
    },
    {
     "name": "stderr",
     "output_type": "stream",
     "text": [
      "[nltk_data] Downloading package stopwords to\n",
      "[nltk_data]     C:\\Users\\gandj\\AppData\\Roaming\\nltk_data...\n",
      "[nltk_data]   Package stopwords is already up-to-date!\n",
      "[nltk_data] Downloading package punkt to\n",
      "[nltk_data]     C:\\Users\\gandj\\AppData\\Roaming\\nltk_data...\n",
      "[nltk_data]   Package punkt is already up-to-date!\n",
      "[nltk_data] Downloading package vader_lexicon to\n",
      "[nltk_data]     C:\\Users\\gandj\\AppData\\Roaming\\nltk_data...\n",
      "[nltk_data]   Package vader_lexicon is already up-to-date!\n"
     ]
    },
    {
     "name": "stdout",
     "output_type": "stream",
     "text": [
      "Error while scraping comments: Message: \n",
      "\n",
      "Scrolling attempt 1\n",
      "Scrolling attempt 0\n"
     ]
    },
    {
     "name": "stderr",
     "output_type": "stream",
     "text": [
      "[nltk_data] Downloading package stopwords to\n",
      "[nltk_data]     C:\\Users\\gandj\\AppData\\Roaming\\nltk_data...\n",
      "[nltk_data]   Package stopwords is already up-to-date!\n",
      "[nltk_data] Downloading package punkt to\n",
      "[nltk_data]     C:\\Users\\gandj\\AppData\\Roaming\\nltk_data...\n",
      "[nltk_data]   Package punkt is already up-to-date!\n",
      "[nltk_data] Downloading package vader_lexicon to\n",
      "[nltk_data]     C:\\Users\\gandj\\AppData\\Roaming\\nltk_data...\n",
      "[nltk_data]   Package vader_lexicon is already up-to-date!\n"
     ]
    },
    {
     "name": "stdout",
     "output_type": "stream",
     "text": [
      "Error while scraping comments: Message: \n",
      "\n",
      "Scrolling attempt 1\n",
      "Scrolling attempt 0\n"
     ]
    },
    {
     "name": "stderr",
     "output_type": "stream",
     "text": [
      "[nltk_data] Downloading package stopwords to\n",
      "[nltk_data]     C:\\Users\\gandj\\AppData\\Roaming\\nltk_data...\n",
      "[nltk_data]   Package stopwords is already up-to-date!\n",
      "[nltk_data] Downloading package punkt to\n",
      "[nltk_data]     C:\\Users\\gandj\\AppData\\Roaming\\nltk_data...\n",
      "[nltk_data]   Package punkt is already up-to-date!\n",
      "[nltk_data] Downloading package vader_lexicon to\n",
      "[nltk_data]     C:\\Users\\gandj\\AppData\\Roaming\\nltk_data...\n",
      "[nltk_data]   Package vader_lexicon is already up-to-date!\n"
     ]
    },
    {
     "name": "stdout",
     "output_type": "stream",
     "text": [
      "Error while scraping comments: Message: \n",
      "\n",
      "Scrolling attempt 1\n",
      "Scrolling attempt 0\n"
     ]
    },
    {
     "name": "stderr",
     "output_type": "stream",
     "text": [
      "[nltk_data] Downloading package stopwords to\n",
      "[nltk_data]     C:\\Users\\gandj\\AppData\\Roaming\\nltk_data...\n",
      "[nltk_data]   Package stopwords is already up-to-date!\n",
      "[nltk_data] Downloading package punkt to\n",
      "[nltk_data]     C:\\Users\\gandj\\AppData\\Roaming\\nltk_data...\n",
      "[nltk_data]   Package punkt is already up-to-date!\n",
      "[nltk_data] Downloading package vader_lexicon to\n",
      "[nltk_data]     C:\\Users\\gandj\\AppData\\Roaming\\nltk_data...\n",
      "[nltk_data]   Package vader_lexicon is already up-to-date!\n"
     ]
    },
    {
     "name": "stdout",
     "output_type": "stream",
     "text": [
      "Scrolling attempt 1\n",
      "Scrolling attempt 0\n"
     ]
    },
    {
     "name": "stderr",
     "output_type": "stream",
     "text": [
      "[nltk_data] Downloading package stopwords to\n",
      "[nltk_data]     C:\\Users\\gandj\\AppData\\Roaming\\nltk_data...\n",
      "[nltk_data]   Package stopwords is already up-to-date!\n",
      "[nltk_data] Downloading package punkt to\n",
      "[nltk_data]     C:\\Users\\gandj\\AppData\\Roaming\\nltk_data...\n",
      "[nltk_data]   Package punkt is already up-to-date!\n",
      "[nltk_data] Downloading package vader_lexicon to\n",
      "[nltk_data]     C:\\Users\\gandj\\AppData\\Roaming\\nltk_data...\n",
      "[nltk_data]   Package vader_lexicon is already up-to-date!\n"
     ]
    },
    {
     "name": "stdout",
     "output_type": "stream",
     "text": [
      "Error while scraping comments: Message: \n",
      "\n",
      "Scrolling attempt 1\n",
      "Scrolling attempt 0\n"
     ]
    },
    {
     "name": "stderr",
     "output_type": "stream",
     "text": [
      "[nltk_data] Downloading package stopwords to\n",
      "[nltk_data]     C:\\Users\\gandj\\AppData\\Roaming\\nltk_data...\n",
      "[nltk_data]   Package stopwords is already up-to-date!\n",
      "[nltk_data] Downloading package punkt to\n",
      "[nltk_data]     C:\\Users\\gandj\\AppData\\Roaming\\nltk_data...\n",
      "[nltk_data]   Package punkt is already up-to-date!\n",
      "[nltk_data] Downloading package vader_lexicon to\n",
      "[nltk_data]     C:\\Users\\gandj\\AppData\\Roaming\\nltk_data...\n",
      "[nltk_data]   Package vader_lexicon is already up-to-date!\n"
     ]
    },
    {
     "name": "stdout",
     "output_type": "stream",
     "text": [
      "Error while scraping comments: Message: \n",
      "\n",
      "Scrolling attempt 1\n",
      "Scrolling attempt 0\n"
     ]
    },
    {
     "name": "stderr",
     "output_type": "stream",
     "text": [
      "[nltk_data] Downloading package stopwords to\n",
      "[nltk_data]     C:\\Users\\gandj\\AppData\\Roaming\\nltk_data...\n",
      "[nltk_data]   Package stopwords is already up-to-date!\n",
      "[nltk_data] Downloading package punkt to\n",
      "[nltk_data]     C:\\Users\\gandj\\AppData\\Roaming\\nltk_data...\n",
      "[nltk_data]   Package punkt is already up-to-date!\n",
      "[nltk_data] Downloading package vader_lexicon to\n",
      "[nltk_data]     C:\\Users\\gandj\\AppData\\Roaming\\nltk_data...\n",
      "[nltk_data]   Package vader_lexicon is already up-to-date!\n"
     ]
    },
    {
     "name": "stdout",
     "output_type": "stream",
     "text": [
      "Error while scraping comments: Message: \n",
      "\n",
      "Scrolling attempt 1\n",
      "Scrolling attempt 0\n"
     ]
    },
    {
     "name": "stderr",
     "output_type": "stream",
     "text": [
      "[nltk_data] Downloading package stopwords to\n",
      "[nltk_data]     C:\\Users\\gandj\\AppData\\Roaming\\nltk_data...\n",
      "[nltk_data]   Package stopwords is already up-to-date!\n",
      "[nltk_data] Downloading package punkt to\n",
      "[nltk_data]     C:\\Users\\gandj\\AppData\\Roaming\\nltk_data...\n",
      "[nltk_data]   Package punkt is already up-to-date!\n",
      "[nltk_data] Downloading package vader_lexicon to\n",
      "[nltk_data]     C:\\Users\\gandj\\AppData\\Roaming\\nltk_data...\n",
      "[nltk_data]   Package vader_lexicon is already up-to-date!\n"
     ]
    },
    {
     "name": "stdout",
     "output_type": "stream",
     "text": [
      "Error while scraping comments: Message: \n",
      "\n",
      "Scrolling attempt 1\n",
      "Scrolling attempt 0\n"
     ]
    },
    {
     "name": "stderr",
     "output_type": "stream",
     "text": [
      "[nltk_data] Downloading package stopwords to\n",
      "[nltk_data]     C:\\Users\\gandj\\AppData\\Roaming\\nltk_data...\n",
      "[nltk_data]   Package stopwords is already up-to-date!\n",
      "[nltk_data] Downloading package punkt to\n",
      "[nltk_data]     C:\\Users\\gandj\\AppData\\Roaming\\nltk_data...\n",
      "[nltk_data]   Package punkt is already up-to-date!\n",
      "[nltk_data] Downloading package vader_lexicon to\n",
      "[nltk_data]     C:\\Users\\gandj\\AppData\\Roaming\\nltk_data...\n",
      "[nltk_data]   Package vader_lexicon is already up-to-date!\n"
     ]
    },
    {
     "name": "stdout",
     "output_type": "stream",
     "text": [
      "Error while scraping comments: Message: \n",
      "\n",
      "Error while scraping comments: Message: \n",
      "\n",
      "Error while scraping comments: Message: \n",
      "\n",
      "Error while scraping comments: Message: \n",
      "\n",
      "Error while scraping comments: Message: \n",
      "\n",
      "Error while scraping comments: Message: \n",
      "\n",
      "Error while scraping comments: Message: \n",
      "\n",
      "Error while scraping comments: Message: \n",
      "\n",
      "Error while scraping comments: Message: \n",
      "\n",
      "Error while scraping comments: Message: \n",
      "\n",
      "Error while scraping comments: Message: \n",
      "\n",
      "Error while scraping comments: Message: \n",
      "\n",
      "Error while scraping comments: Message: \n",
      "\n",
      "Error while scraping comments: Message: \n",
      "\n",
      "Error while scraping comments: Message: \n",
      "\n",
      "Error while scraping comments: Message: \n",
      "\n",
      "Error while scraping comments: Message: \n",
      "\n",
      "Error while scraping comments: Message: \n",
      "\n",
      "Error while scraping comments: Message: \n",
      "\n",
      "Error while scraping comments: Message: \n",
      "\n",
      "Error while scraping comments: Message: \n",
      "\n",
      "Error while scraping comments: Message: \n",
      "\n",
      "Error while scraping comments: Message: \n",
      "\n",
      "Error while scraping comments: Message: \n",
      "\n",
      "Error while scraping comments: Message: \n",
      "\n",
      "Error while scraping comments: Message: \n",
      "\n",
      "Error while scraping comments: Message: \n",
      "\n",
      "Error while scraping comments: Message: \n",
      "\n",
      "Error while scraping comments: Message: \n",
      "\n",
      "Error while scraping comments: Message: \n",
      "\n",
      "Error while scraping comments: Message: \n",
      "\n",
      "Error while scraping comments: Message: \n",
      "\n",
      "Error while scraping comments: Message: \n",
      "\n",
      "Error while scraping comments: Message: \n",
      "\n",
      "Error while scraping comments: Message: \n",
      "\n",
      "Error while scraping comments: Message: \n",
      "\n",
      "Error while scraping comments: Message: \n",
      "\n",
      "Error while scraping comments: Message: \n",
      "\n",
      "Error while scraping comments: Message: \n",
      "\n",
      "Error while scraping comments: Message: \n",
      "\n",
      "Error while scraping comments: Message: \n",
      "\n",
      "Error while scraping comments: Message: \n",
      "\n",
      "Error while scraping comments: Message: \n",
      "\n",
      "Error while scraping comments: Message: \n",
      "\n",
      "Error while scraping comments: Message: \n",
      "\n",
      "Scrolling attempt 1\n",
      "Error while scraping comments: Message: \n",
      "\n",
      "Scrolling attempt 0\n",
      "Error while scraping comments: Message: \n",
      "\n",
      "DataFrame is empty.\n",
      "No data returned for video https://www.youtube.com/watch?v=NmDu5oKqcjY\n",
      "Error while scraping comments: Message: \n",
      "\n",
      "Scrolling attempt 1\n",
      "Scrolling attempt 0\n"
     ]
    },
    {
     "name": "stderr",
     "output_type": "stream",
     "text": [
      "[nltk_data] Downloading package stopwords to\n",
      "[nltk_data]     C:\\Users\\gandj\\AppData\\Roaming\\nltk_data...\n",
      "[nltk_data]   Package stopwords is already up-to-date!\n",
      "[nltk_data] Downloading package punkt to\n",
      "[nltk_data]     C:\\Users\\gandj\\AppData\\Roaming\\nltk_data...\n",
      "[nltk_data]   Package punkt is already up-to-date!\n",
      "[nltk_data] Downloading package vader_lexicon to\n",
      "[nltk_data]     C:\\Users\\gandj\\AppData\\Roaming\\nltk_data...\n",
      "[nltk_data]   Package vader_lexicon is already up-to-date!\n"
     ]
    },
    {
     "name": "stdout",
     "output_type": "stream",
     "text": [
      "Error while scraping comments: Message: \n",
      "\n",
      "Scrolling attempt 1\n",
      "Scrolling attempt 0\n"
     ]
    },
    {
     "name": "stderr",
     "output_type": "stream",
     "text": [
      "[nltk_data] Downloading package stopwords to\n",
      "[nltk_data]     C:\\Users\\gandj\\AppData\\Roaming\\nltk_data...\n",
      "[nltk_data]   Package stopwords is already up-to-date!\n",
      "[nltk_data] Downloading package punkt to\n",
      "[nltk_data]     C:\\Users\\gandj\\AppData\\Roaming\\nltk_data...\n",
      "[nltk_data]   Package punkt is already up-to-date!\n",
      "[nltk_data] Downloading package vader_lexicon to\n",
      "[nltk_data]     C:\\Users\\gandj\\AppData\\Roaming\\nltk_data...\n",
      "[nltk_data]   Package vader_lexicon is already up-to-date!\n"
     ]
    },
    {
     "name": "stdout",
     "output_type": "stream",
     "text": [
      "Error while scraping comments: Message: \n",
      "\n",
      "Scrolling attempt 1\n",
      "Scrolling attempt 0\n"
     ]
    },
    {
     "name": "stderr",
     "output_type": "stream",
     "text": [
      "[nltk_data] Downloading package stopwords to\n",
      "[nltk_data]     C:\\Users\\gandj\\AppData\\Roaming\\nltk_data...\n",
      "[nltk_data]   Package stopwords is already up-to-date!\n",
      "[nltk_data] Downloading package punkt to\n",
      "[nltk_data]     C:\\Users\\gandj\\AppData\\Roaming\\nltk_data...\n",
      "[nltk_data]   Package punkt is already up-to-date!\n",
      "[nltk_data] Downloading package vader_lexicon to\n",
      "[nltk_data]     C:\\Users\\gandj\\AppData\\Roaming\\nltk_data...\n",
      "[nltk_data]   Package vader_lexicon is already up-to-date!\n"
     ]
    },
    {
     "name": "stdout",
     "output_type": "stream",
     "text": [
      "Error while scraping comments: Message: \n",
      "\n",
      "Scrolling attempt 1\n",
      "Scrolling attempt 0\n"
     ]
    },
    {
     "name": "stderr",
     "output_type": "stream",
     "text": [
      "[nltk_data] Downloading package stopwords to\n",
      "[nltk_data]     C:\\Users\\gandj\\AppData\\Roaming\\nltk_data...\n",
      "[nltk_data]   Package stopwords is already up-to-date!\n",
      "[nltk_data] Downloading package punkt to\n",
      "[nltk_data]     C:\\Users\\gandj\\AppData\\Roaming\\nltk_data...\n",
      "[nltk_data]   Package punkt is already up-to-date!\n",
      "[nltk_data] Downloading package vader_lexicon to\n",
      "[nltk_data]     C:\\Users\\gandj\\AppData\\Roaming\\nltk_data...\n",
      "[nltk_data]   Package vader_lexicon is already up-to-date!\n"
     ]
    },
    {
     "name": "stdout",
     "output_type": "stream",
     "text": [
      "Error while scraping comments: Message: \n",
      "\n",
      "Scrolling attempt 1\n",
      "Scrolling attempt 0\n"
     ]
    },
    {
     "name": "stderr",
     "output_type": "stream",
     "text": [
      "[nltk_data] Downloading package stopwords to\n",
      "[nltk_data]     C:\\Users\\gandj\\AppData\\Roaming\\nltk_data...\n",
      "[nltk_data]   Package stopwords is already up-to-date!\n",
      "[nltk_data] Downloading package punkt to\n",
      "[nltk_data]     C:\\Users\\gandj\\AppData\\Roaming\\nltk_data...\n",
      "[nltk_data]   Package punkt is already up-to-date!\n",
      "[nltk_data] Downloading package vader_lexicon to\n",
      "[nltk_data]     C:\\Users\\gandj\\AppData\\Roaming\\nltk_data...\n",
      "[nltk_data]   Package vader_lexicon is already up-to-date!\n"
     ]
    },
    {
     "name": "stdout",
     "output_type": "stream",
     "text": [
      "Error while scraping comments: Message: \n",
      "\n",
      "Scrolling attempt 1\n",
      "Scrolling attempt 0\n"
     ]
    },
    {
     "name": "stderr",
     "output_type": "stream",
     "text": [
      "[nltk_data] Downloading package stopwords to\n",
      "[nltk_data]     C:\\Users\\gandj\\AppData\\Roaming\\nltk_data...\n",
      "[nltk_data]   Package stopwords is already up-to-date!\n",
      "[nltk_data] Downloading package punkt to\n",
      "[nltk_data]     C:\\Users\\gandj\\AppData\\Roaming\\nltk_data...\n",
      "[nltk_data]   Package punkt is already up-to-date!\n",
      "[nltk_data] Downloading package vader_lexicon to\n",
      "[nltk_data]     C:\\Users\\gandj\\AppData\\Roaming\\nltk_data...\n",
      "[nltk_data]   Package vader_lexicon is already up-to-date!\n"
     ]
    },
    {
     "name": "stdout",
     "output_type": "stream",
     "text": [
      "Error while scraping comments: Message: \n",
      "\n",
      "Scrolling attempt 1\n",
      "Scrolling attempt 0\n"
     ]
    },
    {
     "name": "stderr",
     "output_type": "stream",
     "text": [
      "[nltk_data] Downloading package stopwords to\n",
      "[nltk_data]     C:\\Users\\gandj\\AppData\\Roaming\\nltk_data...\n",
      "[nltk_data]   Package stopwords is already up-to-date!\n",
      "[nltk_data] Downloading package punkt to\n",
      "[nltk_data]     C:\\Users\\gandj\\AppData\\Roaming\\nltk_data...\n",
      "[nltk_data]   Package punkt is already up-to-date!\n",
      "[nltk_data] Downloading package vader_lexicon to\n",
      "[nltk_data]     C:\\Users\\gandj\\AppData\\Roaming\\nltk_data...\n",
      "[nltk_data]   Package vader_lexicon is already up-to-date!\n"
     ]
    },
    {
     "name": "stdout",
     "output_type": "stream",
     "text": [
      "Scrolling attempt 1\n",
      "Scrolling attempt 0\n"
     ]
    },
    {
     "name": "stderr",
     "output_type": "stream",
     "text": [
      "[nltk_data] Downloading package stopwords to\n",
      "[nltk_data]     C:\\Users\\gandj\\AppData\\Roaming\\nltk_data...\n",
      "[nltk_data]   Package stopwords is already up-to-date!\n",
      "[nltk_data] Downloading package punkt to\n",
      "[nltk_data]     C:\\Users\\gandj\\AppData\\Roaming\\nltk_data...\n",
      "[nltk_data]   Package punkt is already up-to-date!\n",
      "[nltk_data] Downloading package vader_lexicon to\n",
      "[nltk_data]     C:\\Users\\gandj\\AppData\\Roaming\\nltk_data...\n",
      "[nltk_data]   Package vader_lexicon is already up-to-date!\n"
     ]
    },
    {
     "name": "stdout",
     "output_type": "stream",
     "text": [
      "Error while scraping comments: Message: \n",
      "\n",
      "Scrolling attempt 1\n",
      "Scrolling attempt 0\n"
     ]
    },
    {
     "name": "stderr",
     "output_type": "stream",
     "text": [
      "[nltk_data] Downloading package stopwords to\n",
      "[nltk_data]     C:\\Users\\gandj\\AppData\\Roaming\\nltk_data...\n",
      "[nltk_data]   Package stopwords is already up-to-date!\n",
      "[nltk_data] Downloading package punkt to\n",
      "[nltk_data]     C:\\Users\\gandj\\AppData\\Roaming\\nltk_data...\n",
      "[nltk_data]   Package punkt is already up-to-date!\n",
      "[nltk_data] Downloading package vader_lexicon to\n",
      "[nltk_data]     C:\\Users\\gandj\\AppData\\Roaming\\nltk_data...\n",
      "[nltk_data]   Package vader_lexicon is already up-to-date!\n"
     ]
    },
    {
     "name": "stdout",
     "output_type": "stream",
     "text": [
      "Error while scraping comments: Message: \n",
      "\n",
      "Scrolling attempt 1\n",
      "Scrolling attempt 0\n"
     ]
    },
    {
     "name": "stderr",
     "output_type": "stream",
     "text": [
      "[nltk_data] Downloading package stopwords to\n",
      "[nltk_data]     C:\\Users\\gandj\\AppData\\Roaming\\nltk_data...\n",
      "[nltk_data]   Package stopwords is already up-to-date!\n",
      "[nltk_data] Downloading package punkt to\n",
      "[nltk_data]     C:\\Users\\gandj\\AppData\\Roaming\\nltk_data...\n",
      "[nltk_data]   Package punkt is already up-to-date!\n",
      "[nltk_data] Downloading package vader_lexicon to\n",
      "[nltk_data]     C:\\Users\\gandj\\AppData\\Roaming\\nltk_data...\n",
      "[nltk_data]   Package vader_lexicon is already up-to-date!\n"
     ]
    },
    {
     "name": "stdout",
     "output_type": "stream",
     "text": [
      "Error while scraping comments: Message: \n",
      "\n",
      "Scrolling attempt 1\n",
      "Scrolling attempt 0\n"
     ]
    },
    {
     "name": "stderr",
     "output_type": "stream",
     "text": [
      "[nltk_data] Downloading package stopwords to\n",
      "[nltk_data]     C:\\Users\\gandj\\AppData\\Roaming\\nltk_data...\n",
      "[nltk_data]   Package stopwords is already up-to-date!\n",
      "[nltk_data] Downloading package punkt to\n",
      "[nltk_data]     C:\\Users\\gandj\\AppData\\Roaming\\nltk_data...\n",
      "[nltk_data]   Package punkt is already up-to-date!\n",
      "[nltk_data] Downloading package vader_lexicon to\n",
      "[nltk_data]     C:\\Users\\gandj\\AppData\\Roaming\\nltk_data...\n",
      "[nltk_data]   Package vader_lexicon is already up-to-date!\n"
     ]
    },
    {
     "name": "stdout",
     "output_type": "stream",
     "text": [
      "Error while scraping comments: Message: \n",
      "\n",
      "Scrolling attempt 1\n",
      "Scrolling attempt 0\n"
     ]
    },
    {
     "name": "stderr",
     "output_type": "stream",
     "text": [
      "[nltk_data] Downloading package stopwords to\n",
      "[nltk_data]     C:\\Users\\gandj\\AppData\\Roaming\\nltk_data...\n",
      "[nltk_data]   Package stopwords is already up-to-date!\n",
      "[nltk_data] Downloading package punkt to\n",
      "[nltk_data]     C:\\Users\\gandj\\AppData\\Roaming\\nltk_data...\n",
      "[nltk_data]   Package punkt is already up-to-date!\n",
      "[nltk_data] Downloading package vader_lexicon to\n",
      "[nltk_data]     C:\\Users\\gandj\\AppData\\Roaming\\nltk_data...\n",
      "[nltk_data]   Package vader_lexicon is already up-to-date!\n"
     ]
    },
    {
     "name": "stdout",
     "output_type": "stream",
     "text": [
      "Scrolling attempt 1\n",
      "Scrolling attempt 0\n"
     ]
    },
    {
     "name": "stderr",
     "output_type": "stream",
     "text": [
      "[nltk_data] Downloading package stopwords to\n",
      "[nltk_data]     C:\\Users\\gandj\\AppData\\Roaming\\nltk_data...\n",
      "[nltk_data]   Package stopwords is already up-to-date!\n",
      "[nltk_data] Downloading package punkt to\n",
      "[nltk_data]     C:\\Users\\gandj\\AppData\\Roaming\\nltk_data...\n",
      "[nltk_data]   Package punkt is already up-to-date!\n",
      "[nltk_data] Downloading package vader_lexicon to\n",
      "[nltk_data]     C:\\Users\\gandj\\AppData\\Roaming\\nltk_data...\n",
      "[nltk_data]   Package vader_lexicon is already up-to-date!\n"
     ]
    },
    {
     "name": "stdout",
     "output_type": "stream",
     "text": [
      "Error while scraping comments: Message: \n",
      "\n",
      "Scrolling attempt 1\n",
      "Scrolling attempt 0\n"
     ]
    },
    {
     "name": "stderr",
     "output_type": "stream",
     "text": [
      "[nltk_data] Downloading package stopwords to\n",
      "[nltk_data]     C:\\Users\\gandj\\AppData\\Roaming\\nltk_data...\n",
      "[nltk_data]   Package stopwords is already up-to-date!\n",
      "[nltk_data] Downloading package punkt to\n",
      "[nltk_data]     C:\\Users\\gandj\\AppData\\Roaming\\nltk_data...\n",
      "[nltk_data]   Package punkt is already up-to-date!\n",
      "[nltk_data] Downloading package vader_lexicon to\n",
      "[nltk_data]     C:\\Users\\gandj\\AppData\\Roaming\\nltk_data...\n",
      "[nltk_data]   Package vader_lexicon is already up-to-date!\n"
     ]
    },
    {
     "name": "stdout",
     "output_type": "stream",
     "text": [
      "Error while scraping comments: Message: \n",
      "\n",
      "Scrolling attempt 1\n",
      "Scrolling attempt 0\n"
     ]
    },
    {
     "name": "stderr",
     "output_type": "stream",
     "text": [
      "[nltk_data] Downloading package stopwords to\n",
      "[nltk_data]     C:\\Users\\gandj\\AppData\\Roaming\\nltk_data...\n",
      "[nltk_data]   Package stopwords is already up-to-date!\n",
      "[nltk_data] Downloading package punkt to\n",
      "[nltk_data]     C:\\Users\\gandj\\AppData\\Roaming\\nltk_data...\n",
      "[nltk_data]   Package punkt is already up-to-date!\n",
      "[nltk_data] Downloading package vader_lexicon to\n",
      "[nltk_data]     C:\\Users\\gandj\\AppData\\Roaming\\nltk_data...\n",
      "[nltk_data]   Package vader_lexicon is already up-to-date!\n"
     ]
    },
    {
     "name": "stdout",
     "output_type": "stream",
     "text": [
      "Error while scraping comments: Message: \n",
      "\n",
      "Scrolling attempt 1\n",
      "Scrolling attempt 0\n"
     ]
    },
    {
     "name": "stderr",
     "output_type": "stream",
     "text": [
      "[nltk_data] Downloading package stopwords to\n",
      "[nltk_data]     C:\\Users\\gandj\\AppData\\Roaming\\nltk_data...\n",
      "[nltk_data]   Package stopwords is already up-to-date!\n",
      "[nltk_data] Downloading package punkt to\n",
      "[nltk_data]     C:\\Users\\gandj\\AppData\\Roaming\\nltk_data...\n",
      "[nltk_data]   Package punkt is already up-to-date!\n",
      "[nltk_data] Downloading package vader_lexicon to\n",
      "[nltk_data]     C:\\Users\\gandj\\AppData\\Roaming\\nltk_data...\n",
      "[nltk_data]   Package vader_lexicon is already up-to-date!\n"
     ]
    },
    {
     "name": "stdout",
     "output_type": "stream",
     "text": [
      "Error while scraping comments: Message: \n",
      "\n",
      "Scrolling attempt 1\n",
      "Scrolling attempt 0\n"
     ]
    },
    {
     "name": "stderr",
     "output_type": "stream",
     "text": [
      "[nltk_data] Downloading package stopwords to\n",
      "[nltk_data]     C:\\Users\\gandj\\AppData\\Roaming\\nltk_data...\n",
      "[nltk_data]   Package stopwords is already up-to-date!\n",
      "[nltk_data] Downloading package punkt to\n",
      "[nltk_data]     C:\\Users\\gandj\\AppData\\Roaming\\nltk_data...\n",
      "[nltk_data]   Package punkt is already up-to-date!\n",
      "[nltk_data] Downloading package vader_lexicon to\n",
      "[nltk_data]     C:\\Users\\gandj\\AppData\\Roaming\\nltk_data...\n",
      "[nltk_data]   Package vader_lexicon is already up-to-date!\n"
     ]
    },
    {
     "name": "stdout",
     "output_type": "stream",
     "text": [
      "Error while scraping comments: Message: \n",
      "\n",
      "Scrolling attempt 1\n",
      "Scrolling attempt 0\n"
     ]
    },
    {
     "name": "stderr",
     "output_type": "stream",
     "text": [
      "[nltk_data] Downloading package stopwords to\n",
      "[nltk_data]     C:\\Users\\gandj\\AppData\\Roaming\\nltk_data...\n",
      "[nltk_data]   Package stopwords is already up-to-date!\n",
      "[nltk_data] Downloading package punkt to\n",
      "[nltk_data]     C:\\Users\\gandj\\AppData\\Roaming\\nltk_data...\n",
      "[nltk_data]   Package punkt is already up-to-date!\n",
      "[nltk_data] Downloading package vader_lexicon to\n",
      "[nltk_data]     C:\\Users\\gandj\\AppData\\Roaming\\nltk_data...\n",
      "[nltk_data]   Package vader_lexicon is already up-to-date!\n"
     ]
    },
    {
     "name": "stdout",
     "output_type": "stream",
     "text": [
      "Error while scraping comments: Message: \n",
      "\n",
      "Scrolling attempt 1\n",
      "Scrolling attempt 0\n"
     ]
    },
    {
     "name": "stderr",
     "output_type": "stream",
     "text": [
      "[nltk_data] Downloading package stopwords to\n",
      "[nltk_data]     C:\\Users\\gandj\\AppData\\Roaming\\nltk_data...\n",
      "[nltk_data]   Package stopwords is already up-to-date!\n",
      "[nltk_data] Downloading package punkt to\n",
      "[nltk_data]     C:\\Users\\gandj\\AppData\\Roaming\\nltk_data...\n",
      "[nltk_data]   Package punkt is already up-to-date!\n",
      "[nltk_data] Downloading package vader_lexicon to\n",
      "[nltk_data]     C:\\Users\\gandj\\AppData\\Roaming\\nltk_data...\n",
      "[nltk_data]   Package vader_lexicon is already up-to-date!\n"
     ]
    },
    {
     "name": "stdout",
     "output_type": "stream",
     "text": [
      "Error while scraping comments: Message: \n",
      "\n",
      "Scrolling attempt 1\n",
      "Scrolling attempt 0\n"
     ]
    },
    {
     "name": "stderr",
     "output_type": "stream",
     "text": [
      "[nltk_data] Downloading package stopwords to\n",
      "[nltk_data]     C:\\Users\\gandj\\AppData\\Roaming\\nltk_data...\n",
      "[nltk_data]   Package stopwords is already up-to-date!\n",
      "[nltk_data] Downloading package punkt to\n",
      "[nltk_data]     C:\\Users\\gandj\\AppData\\Roaming\\nltk_data...\n",
      "[nltk_data]   Package punkt is already up-to-date!\n",
      "[nltk_data] Downloading package vader_lexicon to\n",
      "[nltk_data]     C:\\Users\\gandj\\AppData\\Roaming\\nltk_data...\n",
      "[nltk_data]   Package vader_lexicon is already up-to-date!\n"
     ]
    },
    {
     "name": "stdout",
     "output_type": "stream",
     "text": [
      "Error while scraping comments: Message: \n",
      "\n",
      "Scrolling attempt 1\n",
      "Scrolling attempt 0\n"
     ]
    },
    {
     "name": "stderr",
     "output_type": "stream",
     "text": [
      "[nltk_data] Downloading package stopwords to\n",
      "[nltk_data]     C:\\Users\\gandj\\AppData\\Roaming\\nltk_data...\n",
      "[nltk_data]   Package stopwords is already up-to-date!\n",
      "[nltk_data] Downloading package punkt to\n",
      "[nltk_data]     C:\\Users\\gandj\\AppData\\Roaming\\nltk_data...\n",
      "[nltk_data]   Package punkt is already up-to-date!\n",
      "[nltk_data] Downloading package vader_lexicon to\n",
      "[nltk_data]     C:\\Users\\gandj\\AppData\\Roaming\\nltk_data...\n",
      "[nltk_data]   Package vader_lexicon is already up-to-date!\n"
     ]
    },
    {
     "name": "stdout",
     "output_type": "stream",
     "text": [
      "Error while scraping comments: Message: \n",
      "\n",
      "Scrolling attempt 1\n",
      "Scrolling attempt 0\n"
     ]
    },
    {
     "name": "stderr",
     "output_type": "stream",
     "text": [
      "[nltk_data] Downloading package stopwords to\n",
      "[nltk_data]     C:\\Users\\gandj\\AppData\\Roaming\\nltk_data...\n",
      "[nltk_data]   Package stopwords is already up-to-date!\n",
      "[nltk_data] Downloading package punkt to\n",
      "[nltk_data]     C:\\Users\\gandj\\AppData\\Roaming\\nltk_data...\n",
      "[nltk_data]   Package punkt is already up-to-date!\n",
      "[nltk_data] Downloading package vader_lexicon to\n",
      "[nltk_data]     C:\\Users\\gandj\\AppData\\Roaming\\nltk_data...\n",
      "[nltk_data]   Package vader_lexicon is already up-to-date!\n"
     ]
    },
    {
     "name": "stdout",
     "output_type": "stream",
     "text": [
      "Error while scraping comments: Message: \n",
      "\n",
      "Scrolling attempt 1\n",
      "Scrolling attempt 0\n"
     ]
    },
    {
     "name": "stderr",
     "output_type": "stream",
     "text": [
      "[nltk_data] Downloading package stopwords to\n",
      "[nltk_data]     C:\\Users\\gandj\\AppData\\Roaming\\nltk_data...\n",
      "[nltk_data]   Package stopwords is already up-to-date!\n",
      "[nltk_data] Downloading package punkt to\n",
      "[nltk_data]     C:\\Users\\gandj\\AppData\\Roaming\\nltk_data...\n",
      "[nltk_data]   Package punkt is already up-to-date!\n",
      "[nltk_data] Downloading package vader_lexicon to\n",
      "[nltk_data]     C:\\Users\\gandj\\AppData\\Roaming\\nltk_data...\n",
      "[nltk_data]   Package vader_lexicon is already up-to-date!\n"
     ]
    },
    {
     "name": "stdout",
     "output_type": "stream",
     "text": [
      "Scrolling attempt 1\n",
      "Scrolling attempt 0\n"
     ]
    },
    {
     "name": "stderr",
     "output_type": "stream",
     "text": [
      "[nltk_data] Downloading package stopwords to\n",
      "[nltk_data]     C:\\Users\\gandj\\AppData\\Roaming\\nltk_data...\n",
      "[nltk_data]   Package stopwords is already up-to-date!\n",
      "[nltk_data] Downloading package punkt to\n",
      "[nltk_data]     C:\\Users\\gandj\\AppData\\Roaming\\nltk_data...\n",
      "[nltk_data]   Package punkt is already up-to-date!\n",
      "[nltk_data] Downloading package vader_lexicon to\n",
      "[nltk_data]     C:\\Users\\gandj\\AppData\\Roaming\\nltk_data...\n",
      "[nltk_data]   Package vader_lexicon is already up-to-date!\n"
     ]
    },
    {
     "name": "stdout",
     "output_type": "stream",
     "text": [
      "Scrolling attempt 1\n",
      "Scrolling attempt 0\n"
     ]
    },
    {
     "name": "stderr",
     "output_type": "stream",
     "text": [
      "[nltk_data] Downloading package stopwords to\n",
      "[nltk_data]     C:\\Users\\gandj\\AppData\\Roaming\\nltk_data...\n",
      "[nltk_data]   Package stopwords is already up-to-date!\n",
      "[nltk_data] Downloading package punkt to\n",
      "[nltk_data]     C:\\Users\\gandj\\AppData\\Roaming\\nltk_data...\n",
      "[nltk_data]   Package punkt is already up-to-date!\n",
      "[nltk_data] Downloading package vader_lexicon to\n",
      "[nltk_data]     C:\\Users\\gandj\\AppData\\Roaming\\nltk_data...\n",
      "[nltk_data]   Package vader_lexicon is already up-to-date!\n"
     ]
    },
    {
     "name": "stdout",
     "output_type": "stream",
     "text": [
      "Error while scraping comments: Message: \n",
      "\n",
      "Scrolling attempt 1\n",
      "Scrolling attempt 0\n"
     ]
    },
    {
     "name": "stderr",
     "output_type": "stream",
     "text": [
      "[nltk_data] Downloading package stopwords to\n",
      "[nltk_data]     C:\\Users\\gandj\\AppData\\Roaming\\nltk_data...\n",
      "[nltk_data]   Package stopwords is already up-to-date!\n",
      "[nltk_data] Downloading package punkt to\n",
      "[nltk_data]     C:\\Users\\gandj\\AppData\\Roaming\\nltk_data...\n",
      "[nltk_data]   Package punkt is already up-to-date!\n",
      "[nltk_data] Downloading package vader_lexicon to\n",
      "[nltk_data]     C:\\Users\\gandj\\AppData\\Roaming\\nltk_data...\n",
      "[nltk_data]   Package vader_lexicon is already up-to-date!\n"
     ]
    },
    {
     "name": "stdout",
     "output_type": "stream",
     "text": [
      "Error while scraping comments: Message: \n",
      "\n",
      "Scrolling attempt 1\n",
      "Scrolling attempt 0\n"
     ]
    },
    {
     "name": "stderr",
     "output_type": "stream",
     "text": [
      "[nltk_data] Downloading package stopwords to\n",
      "[nltk_data]     C:\\Users\\gandj\\AppData\\Roaming\\nltk_data...\n",
      "[nltk_data]   Package stopwords is already up-to-date!\n",
      "[nltk_data] Downloading package punkt to\n",
      "[nltk_data]     C:\\Users\\gandj\\AppData\\Roaming\\nltk_data...\n",
      "[nltk_data]   Package punkt is already up-to-date!\n",
      "[nltk_data] Downloading package vader_lexicon to\n",
      "[nltk_data]     C:\\Users\\gandj\\AppData\\Roaming\\nltk_data...\n",
      "[nltk_data]   Package vader_lexicon is already up-to-date!\n"
     ]
    },
    {
     "name": "stdout",
     "output_type": "stream",
     "text": [
      "Error while scraping comments: Message: \n",
      "\n",
      "Error while scraping comments: Message: \n",
      "\n",
      "Error while scraping comments: Message: \n",
      "\n",
      "Error while scraping comments: Message: \n",
      "\n",
      "Error while scraping comments: Message: \n",
      "\n",
      "Error while scraping comments: Message: \n",
      "\n",
      "Error while scraping comments: Message: \n",
      "\n",
      "Error while scraping comments: Message: \n",
      "\n",
      "Error while scraping comments: Message: \n",
      "\n",
      "Error while scraping comments: Message: \n",
      "\n",
      "Error while scraping comments: Message: \n",
      "\n",
      "Error while scraping comments: Message: \n",
      "\n",
      "Error while scraping comments: Message: \n",
      "\n",
      "Error while scraping comments: Message: \n",
      "\n",
      "Scrolling attempt 1\n",
      "Error while scraping comments: Message: \n",
      "\n",
      "Scrolling attempt 0\n",
      "Error while scraping comments: Message: \n",
      "\n",
      "DataFrame is empty.\n",
      "No data returned for video https://www.youtube.com/watch?v=6Ze0CCFscmU\n",
      "Error while scraping comments: Message: \n",
      "\n",
      "Scrolling attempt 1\n",
      "Scrolling attempt 0\n"
     ]
    },
    {
     "name": "stderr",
     "output_type": "stream",
     "text": [
      "[nltk_data] Downloading package stopwords to\n",
      "[nltk_data]     C:\\Users\\gandj\\AppData\\Roaming\\nltk_data...\n",
      "[nltk_data]   Package stopwords is already up-to-date!\n",
      "[nltk_data] Downloading package punkt to\n",
      "[nltk_data]     C:\\Users\\gandj\\AppData\\Roaming\\nltk_data...\n",
      "[nltk_data]   Package punkt is already up-to-date!\n",
      "[nltk_data] Downloading package vader_lexicon to\n",
      "[nltk_data]     C:\\Users\\gandj\\AppData\\Roaming\\nltk_data...\n",
      "[nltk_data]   Package vader_lexicon is already up-to-date!\n"
     ]
    },
    {
     "name": "stdout",
     "output_type": "stream",
     "text": [
      "Error while scraping comments: Message: \n",
      "\n",
      "Scrolling attempt 1\n",
      "Scrolling attempt 0\n"
     ]
    },
    {
     "name": "stderr",
     "output_type": "stream",
     "text": [
      "[nltk_data] Downloading package stopwords to\n",
      "[nltk_data]     C:\\Users\\gandj\\AppData\\Roaming\\nltk_data...\n",
      "[nltk_data]   Package stopwords is already up-to-date!\n",
      "[nltk_data] Downloading package punkt to\n",
      "[nltk_data]     C:\\Users\\gandj\\AppData\\Roaming\\nltk_data...\n",
      "[nltk_data]   Package punkt is already up-to-date!\n",
      "[nltk_data] Downloading package vader_lexicon to\n",
      "[nltk_data]     C:\\Users\\gandj\\AppData\\Roaming\\nltk_data...\n",
      "[nltk_data]   Package vader_lexicon is already up-to-date!\n"
     ]
    },
    {
     "name": "stdout",
     "output_type": "stream",
     "text": [
      "Error while scraping comments: Message: \n",
      "\n",
      "Scrolling attempt 1\n",
      "Scrolling attempt 0\n"
     ]
    },
    {
     "name": "stderr",
     "output_type": "stream",
     "text": [
      "[nltk_data] Downloading package stopwords to\n",
      "[nltk_data]     C:\\Users\\gandj\\AppData\\Roaming\\nltk_data...\n",
      "[nltk_data]   Package stopwords is already up-to-date!\n",
      "[nltk_data] Downloading package punkt to\n",
      "[nltk_data]     C:\\Users\\gandj\\AppData\\Roaming\\nltk_data...\n",
      "[nltk_data]   Package punkt is already up-to-date!\n",
      "[nltk_data] Downloading package vader_lexicon to\n",
      "[nltk_data]     C:\\Users\\gandj\\AppData\\Roaming\\nltk_data...\n",
      "[nltk_data]   Package vader_lexicon is already up-to-date!\n"
     ]
    },
    {
     "name": "stdout",
     "output_type": "stream",
     "text": [
      "Error while scraping comments: Message: \n",
      "\n",
      "Scrolling attempt 1\n",
      "Scrolling attempt 0\n"
     ]
    },
    {
     "name": "stderr",
     "output_type": "stream",
     "text": [
      "[nltk_data] Downloading package stopwords to\n",
      "[nltk_data]     C:\\Users\\gandj\\AppData\\Roaming\\nltk_data...\n",
      "[nltk_data]   Package stopwords is already up-to-date!\n",
      "[nltk_data] Downloading package punkt to\n",
      "[nltk_data]     C:\\Users\\gandj\\AppData\\Roaming\\nltk_data...\n",
      "[nltk_data]   Package punkt is already up-to-date!\n",
      "[nltk_data] Downloading package vader_lexicon to\n",
      "[nltk_data]     C:\\Users\\gandj\\AppData\\Roaming\\nltk_data...\n",
      "[nltk_data]   Package vader_lexicon is already up-to-date!\n"
     ]
    },
    {
     "name": "stdout",
     "output_type": "stream",
     "text": [
      "Error while scraping comments: Message: \n",
      "\n",
      "Scrolling attempt 1\n",
      "Scrolling attempt 0\n"
     ]
    },
    {
     "name": "stderr",
     "output_type": "stream",
     "text": [
      "[nltk_data] Downloading package stopwords to\n",
      "[nltk_data]     C:\\Users\\gandj\\AppData\\Roaming\\nltk_data...\n",
      "[nltk_data]   Package stopwords is already up-to-date!\n",
      "[nltk_data] Downloading package punkt to\n",
      "[nltk_data]     C:\\Users\\gandj\\AppData\\Roaming\\nltk_data...\n",
      "[nltk_data]   Package punkt is already up-to-date!\n",
      "[nltk_data] Downloading package vader_lexicon to\n",
      "[nltk_data]     C:\\Users\\gandj\\AppData\\Roaming\\nltk_data...\n",
      "[nltk_data]   Package vader_lexicon is already up-to-date!\n"
     ]
    },
    {
     "name": "stdout",
     "output_type": "stream",
     "text": [
      "Error while scraping comments: Message: \n",
      "\n",
      "Scrolling attempt 1\n",
      "Scrolling attempt 0\n"
     ]
    },
    {
     "name": "stderr",
     "output_type": "stream",
     "text": [
      "[nltk_data] Downloading package stopwords to\n",
      "[nltk_data]     C:\\Users\\gandj\\AppData\\Roaming\\nltk_data...\n",
      "[nltk_data]   Package stopwords is already up-to-date!\n",
      "[nltk_data] Downloading package punkt to\n",
      "[nltk_data]     C:\\Users\\gandj\\AppData\\Roaming\\nltk_data...\n",
      "[nltk_data]   Package punkt is already up-to-date!\n",
      "[nltk_data] Downloading package vader_lexicon to\n",
      "[nltk_data]     C:\\Users\\gandj\\AppData\\Roaming\\nltk_data...\n",
      "[nltk_data]   Package vader_lexicon is already up-to-date!\n"
     ]
    },
    {
     "name": "stdout",
     "output_type": "stream",
     "text": [
      "Error while scraping comments: Message: \n",
      "\n",
      "Scrolling attempt 1\n",
      "Scrolling attempt 0\n"
     ]
    },
    {
     "name": "stderr",
     "output_type": "stream",
     "text": [
      "[nltk_data] Downloading package stopwords to\n",
      "[nltk_data]     C:\\Users\\gandj\\AppData\\Roaming\\nltk_data...\n",
      "[nltk_data]   Package stopwords is already up-to-date!\n",
      "[nltk_data] Downloading package punkt to\n",
      "[nltk_data]     C:\\Users\\gandj\\AppData\\Roaming\\nltk_data...\n",
      "[nltk_data]   Package punkt is already up-to-date!\n",
      "[nltk_data] Downloading package vader_lexicon to\n",
      "[nltk_data]     C:\\Users\\gandj\\AppData\\Roaming\\nltk_data...\n",
      "[nltk_data]   Package vader_lexicon is already up-to-date!\n"
     ]
    },
    {
     "name": "stdout",
     "output_type": "stream",
     "text": [
      "Error while scraping comments: Message: \n",
      "\n",
      "Scrolling attempt 1\n",
      "Scrolling attempt 0\n"
     ]
    },
    {
     "name": "stderr",
     "output_type": "stream",
     "text": [
      "[nltk_data] Downloading package stopwords to\n",
      "[nltk_data]     C:\\Users\\gandj\\AppData\\Roaming\\nltk_data...\n",
      "[nltk_data]   Package stopwords is already up-to-date!\n",
      "[nltk_data] Downloading package punkt to\n",
      "[nltk_data]     C:\\Users\\gandj\\AppData\\Roaming\\nltk_data...\n",
      "[nltk_data]   Package punkt is already up-to-date!\n",
      "[nltk_data] Downloading package vader_lexicon to\n",
      "[nltk_data]     C:\\Users\\gandj\\AppData\\Roaming\\nltk_data...\n",
      "[nltk_data]   Package vader_lexicon is already up-to-date!\n"
     ]
    },
    {
     "name": "stdout",
     "output_type": "stream",
     "text": [
      "Error while scraping comments: Message: \n",
      "\n",
      "Scrolling attempt 1\n",
      "Scrolling attempt 0\n"
     ]
    },
    {
     "name": "stderr",
     "output_type": "stream",
     "text": [
      "[nltk_data] Downloading package stopwords to\n",
      "[nltk_data]     C:\\Users\\gandj\\AppData\\Roaming\\nltk_data...\n",
      "[nltk_data]   Package stopwords is already up-to-date!\n",
      "[nltk_data] Downloading package punkt to\n",
      "[nltk_data]     C:\\Users\\gandj\\AppData\\Roaming\\nltk_data...\n",
      "[nltk_data]   Package punkt is already up-to-date!\n",
      "[nltk_data] Downloading package vader_lexicon to\n",
      "[nltk_data]     C:\\Users\\gandj\\AppData\\Roaming\\nltk_data...\n",
      "[nltk_data]   Package vader_lexicon is already up-to-date!\n"
     ]
    },
    {
     "name": "stdout",
     "output_type": "stream",
     "text": [
      "Error while scraping comments: Message: \n",
      "\n",
      "Scrolling attempt 1\n",
      "Scrolling attempt 0\n"
     ]
    },
    {
     "name": "stderr",
     "output_type": "stream",
     "text": [
      "[nltk_data] Downloading package stopwords to\n",
      "[nltk_data]     C:\\Users\\gandj\\AppData\\Roaming\\nltk_data...\n",
      "[nltk_data]   Package stopwords is already up-to-date!\n",
      "[nltk_data] Downloading package punkt to\n",
      "[nltk_data]     C:\\Users\\gandj\\AppData\\Roaming\\nltk_data...\n",
      "[nltk_data]   Package punkt is already up-to-date!\n",
      "[nltk_data] Downloading package vader_lexicon to\n",
      "[nltk_data]     C:\\Users\\gandj\\AppData\\Roaming\\nltk_data...\n",
      "[nltk_data]   Package vader_lexicon is already up-to-date!\n"
     ]
    },
    {
     "name": "stdout",
     "output_type": "stream",
     "text": [
      "Error while scraping comments: Message: \n",
      "\n",
      "Scrolling attempt 1\n",
      "Scrolling attempt 0\n"
     ]
    },
    {
     "name": "stderr",
     "output_type": "stream",
     "text": [
      "[nltk_data] Downloading package stopwords to\n",
      "[nltk_data]     C:\\Users\\gandj\\AppData\\Roaming\\nltk_data...\n",
      "[nltk_data]   Package stopwords is already up-to-date!\n",
      "[nltk_data] Downloading package punkt to\n",
      "[nltk_data]     C:\\Users\\gandj\\AppData\\Roaming\\nltk_data...\n",
      "[nltk_data]   Package punkt is already up-to-date!\n",
      "[nltk_data] Downloading package vader_lexicon to\n",
      "[nltk_data]     C:\\Users\\gandj\\AppData\\Roaming\\nltk_data...\n",
      "[nltk_data]   Package vader_lexicon is already up-to-date!\n"
     ]
    },
    {
     "name": "stdout",
     "output_type": "stream",
     "text": [
      "Error while scraping comments: Message: \n",
      "\n",
      "Scrolling attempt 1\n",
      "Scrolling attempt 0\n"
     ]
    },
    {
     "name": "stderr",
     "output_type": "stream",
     "text": [
      "[nltk_data] Downloading package stopwords to\n",
      "[nltk_data]     C:\\Users\\gandj\\AppData\\Roaming\\nltk_data...\n",
      "[nltk_data]   Package stopwords is already up-to-date!\n",
      "[nltk_data] Downloading package punkt to\n",
      "[nltk_data]     C:\\Users\\gandj\\AppData\\Roaming\\nltk_data...\n",
      "[nltk_data]   Package punkt is already up-to-date!\n",
      "[nltk_data] Downloading package vader_lexicon to\n",
      "[nltk_data]     C:\\Users\\gandj\\AppData\\Roaming\\nltk_data...\n",
      "[nltk_data]   Package vader_lexicon is already up-to-date!\n"
     ]
    },
    {
     "name": "stdout",
     "output_type": "stream",
     "text": [
      "Error while scraping comments: Message: \n",
      "\n",
      "Scrolling attempt 1\n",
      "Scrolling attempt 0\n"
     ]
    },
    {
     "name": "stderr",
     "output_type": "stream",
     "text": [
      "[nltk_data] Downloading package stopwords to\n",
      "[nltk_data]     C:\\Users\\gandj\\AppData\\Roaming\\nltk_data...\n",
      "[nltk_data]   Package stopwords is already up-to-date!\n",
      "[nltk_data] Downloading package punkt to\n",
      "[nltk_data]     C:\\Users\\gandj\\AppData\\Roaming\\nltk_data...\n",
      "[nltk_data]   Package punkt is already up-to-date!\n",
      "[nltk_data] Downloading package vader_lexicon to\n",
      "[nltk_data]     C:\\Users\\gandj\\AppData\\Roaming\\nltk_data...\n",
      "[nltk_data]   Package vader_lexicon is already up-to-date!\n"
     ]
    },
    {
     "name": "stdout",
     "output_type": "stream",
     "text": [
      "Error while scraping comments: Message: \n",
      "\n",
      "Scrolling attempt 1\n",
      "Scrolling attempt 0\n"
     ]
    },
    {
     "name": "stderr",
     "output_type": "stream",
     "text": [
      "[nltk_data] Downloading package stopwords to\n",
      "[nltk_data]     C:\\Users\\gandj\\AppData\\Roaming\\nltk_data...\n",
      "[nltk_data]   Package stopwords is already up-to-date!\n",
      "[nltk_data] Downloading package punkt to\n",
      "[nltk_data]     C:\\Users\\gandj\\AppData\\Roaming\\nltk_data...\n",
      "[nltk_data]   Package punkt is already up-to-date!\n",
      "[nltk_data] Downloading package vader_lexicon to\n",
      "[nltk_data]     C:\\Users\\gandj\\AppData\\Roaming\\nltk_data...\n",
      "[nltk_data]   Package vader_lexicon is already up-to-date!\n"
     ]
    },
    {
     "name": "stdout",
     "output_type": "stream",
     "text": [
      "Error while scraping comments: Message: \n",
      "\n",
      "Scrolling attempt 1\n",
      "Scrolling attempt 0\n"
     ]
    },
    {
     "name": "stderr",
     "output_type": "stream",
     "text": [
      "[nltk_data] Downloading package stopwords to\n",
      "[nltk_data]     C:\\Users\\gandj\\AppData\\Roaming\\nltk_data...\n",
      "[nltk_data]   Package stopwords is already up-to-date!\n",
      "[nltk_data] Downloading package punkt to\n",
      "[nltk_data]     C:\\Users\\gandj\\AppData\\Roaming\\nltk_data...\n",
      "[nltk_data]   Package punkt is already up-to-date!\n",
      "[nltk_data] Downloading package vader_lexicon to\n",
      "[nltk_data]     C:\\Users\\gandj\\AppData\\Roaming\\nltk_data...\n",
      "[nltk_data]   Package vader_lexicon is already up-to-date!\n"
     ]
    },
    {
     "name": "stdout",
     "output_type": "stream",
     "text": [
      "Error while scraping comments: Message: \n",
      "\n",
      "Scrolling attempt 1\n",
      "Scrolling attempt 0\n"
     ]
    },
    {
     "name": "stderr",
     "output_type": "stream",
     "text": [
      "[nltk_data] Downloading package stopwords to\n",
      "[nltk_data]     C:\\Users\\gandj\\AppData\\Roaming\\nltk_data...\n",
      "[nltk_data]   Package stopwords is already up-to-date!\n",
      "[nltk_data] Downloading package punkt to\n",
      "[nltk_data]     C:\\Users\\gandj\\AppData\\Roaming\\nltk_data...\n",
      "[nltk_data]   Package punkt is already up-to-date!\n",
      "[nltk_data] Downloading package vader_lexicon to\n",
      "[nltk_data]     C:\\Users\\gandj\\AppData\\Roaming\\nltk_data...\n",
      "[nltk_data]   Package vader_lexicon is already up-to-date!\n"
     ]
    },
    {
     "name": "stdout",
     "output_type": "stream",
     "text": [
      "Error while scraping comments: Message: \n",
      "\n",
      "Scrolling attempt 1\n",
      "Scrolling attempt 0\n"
     ]
    },
    {
     "name": "stderr",
     "output_type": "stream",
     "text": [
      "[nltk_data] Downloading package stopwords to\n",
      "[nltk_data]     C:\\Users\\gandj\\AppData\\Roaming\\nltk_data...\n",
      "[nltk_data]   Package stopwords is already up-to-date!\n",
      "[nltk_data] Downloading package punkt to\n",
      "[nltk_data]     C:\\Users\\gandj\\AppData\\Roaming\\nltk_data...\n",
      "[nltk_data]   Package punkt is already up-to-date!\n",
      "[nltk_data] Downloading package vader_lexicon to\n",
      "[nltk_data]     C:\\Users\\gandj\\AppData\\Roaming\\nltk_data...\n",
      "[nltk_data]   Package vader_lexicon is already up-to-date!\n"
     ]
    },
    {
     "name": "stdout",
     "output_type": "stream",
     "text": [
      "Error while scraping comments: Message: \n",
      "\n",
      "Scrolling attempt 1\n",
      "Scrolling attempt 0\n"
     ]
    },
    {
     "name": "stderr",
     "output_type": "stream",
     "text": [
      "[nltk_data] Downloading package stopwords to\n",
      "[nltk_data]     C:\\Users\\gandj\\AppData\\Roaming\\nltk_data...\n",
      "[nltk_data]   Package stopwords is already up-to-date!\n",
      "[nltk_data] Downloading package punkt to\n",
      "[nltk_data]     C:\\Users\\gandj\\AppData\\Roaming\\nltk_data...\n",
      "[nltk_data]   Package punkt is already up-to-date!\n",
      "[nltk_data] Downloading package vader_lexicon to\n",
      "[nltk_data]     C:\\Users\\gandj\\AppData\\Roaming\\nltk_data...\n",
      "[nltk_data]   Package vader_lexicon is already up-to-date!\n"
     ]
    },
    {
     "name": "stdout",
     "output_type": "stream",
     "text": [
      "Error while scraping comments: Message: \n",
      "\n",
      "Scrolling attempt 1\n",
      "Scrolling attempt 0\n"
     ]
    },
    {
     "name": "stderr",
     "output_type": "stream",
     "text": [
      "[nltk_data] Downloading package stopwords to\n",
      "[nltk_data]     C:\\Users\\gandj\\AppData\\Roaming\\nltk_data...\n",
      "[nltk_data]   Package stopwords is already up-to-date!\n",
      "[nltk_data] Downloading package punkt to\n",
      "[nltk_data]     C:\\Users\\gandj\\AppData\\Roaming\\nltk_data...\n",
      "[nltk_data]   Package punkt is already up-to-date!\n",
      "[nltk_data] Downloading package vader_lexicon to\n",
      "[nltk_data]     C:\\Users\\gandj\\AppData\\Roaming\\nltk_data...\n",
      "[nltk_data]   Package vader_lexicon is already up-to-date!\n"
     ]
    },
    {
     "name": "stdout",
     "output_type": "stream",
     "text": [
      "Error while scraping comments: Message: \n",
      "\n",
      "Scrolling attempt 1\n",
      "Scrolling attempt 0\n"
     ]
    },
    {
     "name": "stderr",
     "output_type": "stream",
     "text": [
      "[nltk_data] Downloading package stopwords to\n",
      "[nltk_data]     C:\\Users\\gandj\\AppData\\Roaming\\nltk_data...\n",
      "[nltk_data]   Package stopwords is already up-to-date!\n",
      "[nltk_data] Downloading package punkt to\n",
      "[nltk_data]     C:\\Users\\gandj\\AppData\\Roaming\\nltk_data...\n",
      "[nltk_data]   Package punkt is already up-to-date!\n",
      "[nltk_data] Downloading package vader_lexicon to\n",
      "[nltk_data]     C:\\Users\\gandj\\AppData\\Roaming\\nltk_data...\n",
      "[nltk_data]   Package vader_lexicon is already up-to-date!\n"
     ]
    },
    {
     "name": "stdout",
     "output_type": "stream",
     "text": [
      "Error while scraping comments: Message: \n",
      "\n",
      "Scrolling attempt 1\n",
      "Scrolling attempt 0\n"
     ]
    },
    {
     "name": "stderr",
     "output_type": "stream",
     "text": [
      "[nltk_data] Downloading package stopwords to\n",
      "[nltk_data]     C:\\Users\\gandj\\AppData\\Roaming\\nltk_data...\n",
      "[nltk_data]   Package stopwords is already up-to-date!\n",
      "[nltk_data] Downloading package punkt to\n",
      "[nltk_data]     C:\\Users\\gandj\\AppData\\Roaming\\nltk_data...\n",
      "[nltk_data]   Package punkt is already up-to-date!\n",
      "[nltk_data] Downloading package vader_lexicon to\n",
      "[nltk_data]     C:\\Users\\gandj\\AppData\\Roaming\\nltk_data...\n",
      "[nltk_data]   Package vader_lexicon is already up-to-date!\n"
     ]
    },
    {
     "name": "stdout",
     "output_type": "stream",
     "text": [
      "Error while scraping comments: Message: \n",
      "\n",
      "Scrolling attempt 1\n",
      "Scrolling attempt 0\n"
     ]
    },
    {
     "name": "stderr",
     "output_type": "stream",
     "text": [
      "[nltk_data] Downloading package stopwords to\n",
      "[nltk_data]     C:\\Users\\gandj\\AppData\\Roaming\\nltk_data...\n",
      "[nltk_data]   Package stopwords is already up-to-date!\n",
      "[nltk_data] Downloading package punkt to\n",
      "[nltk_data]     C:\\Users\\gandj\\AppData\\Roaming\\nltk_data...\n",
      "[nltk_data]   Package punkt is already up-to-date!\n",
      "[nltk_data] Downloading package vader_lexicon to\n",
      "[nltk_data]     C:\\Users\\gandj\\AppData\\Roaming\\nltk_data...\n",
      "[nltk_data]   Package vader_lexicon is already up-to-date!\n"
     ]
    },
    {
     "name": "stdout",
     "output_type": "stream",
     "text": [
      "Error while scraping comments: Message: \n",
      "\n",
      "Scrolling attempt 1\n",
      "Scrolling attempt 0\n"
     ]
    },
    {
     "name": "stderr",
     "output_type": "stream",
     "text": [
      "[nltk_data] Downloading package stopwords to\n",
      "[nltk_data]     C:\\Users\\gandj\\AppData\\Roaming\\nltk_data...\n",
      "[nltk_data]   Package stopwords is already up-to-date!\n",
      "[nltk_data] Downloading package punkt to\n",
      "[nltk_data]     C:\\Users\\gandj\\AppData\\Roaming\\nltk_data...\n",
      "[nltk_data]   Package punkt is already up-to-date!\n",
      "[nltk_data] Downloading package vader_lexicon to\n",
      "[nltk_data]     C:\\Users\\gandj\\AppData\\Roaming\\nltk_data...\n",
      "[nltk_data]   Package vader_lexicon is already up-to-date!\n"
     ]
    },
    {
     "name": "stdout",
     "output_type": "stream",
     "text": [
      "Error while scraping comments: Message: \n",
      "\n",
      "Error while scraping comments: Message: \n",
      "\n",
      "Error while scraping comments: Message: \n",
      "\n",
      "Error while scraping comments: Message: \n",
      "\n",
      "Error while scraping comments: Message: \n",
      "\n",
      "Error while scraping comments: Message: \n",
      "\n",
      "Error while scraping comments: Message: \n",
      "\n",
      "Error while scraping comments: Message: \n",
      "\n",
      "Error while scraping comments: Message: \n",
      "\n",
      "Error while scraping comments: Message: \n",
      "\n",
      "Error while scraping comments: Message: \n",
      "\n",
      "Error while scraping comments: Message: \n",
      "\n",
      "Error while scraping comments: Message: \n",
      "\n",
      "Scrolling attempt 1\n",
      "Error while scraping comments: Message: \n",
      "\n",
      "Scrolling attempt 0\n",
      "Error while scraping comments: Message: \n",
      "\n",
      "DataFrame is empty.\n",
      "No data returned for video https://www.youtube.com/watch?v=J1HQ1V6mHzo\n",
      "Scrolling attempt 1\n",
      "Scrolling attempt 0\n"
     ]
    },
    {
     "name": "stderr",
     "output_type": "stream",
     "text": [
      "[nltk_data] Downloading package stopwords to\n",
      "[nltk_data]     C:\\Users\\gandj\\AppData\\Roaming\\nltk_data...\n",
      "[nltk_data]   Package stopwords is already up-to-date!\n",
      "[nltk_data] Downloading package punkt to\n",
      "[nltk_data]     C:\\Users\\gandj\\AppData\\Roaming\\nltk_data...\n",
      "[nltk_data]   Package punkt is already up-to-date!\n",
      "[nltk_data] Downloading package vader_lexicon to\n",
      "[nltk_data]     C:\\Users\\gandj\\AppData\\Roaming\\nltk_data...\n",
      "[nltk_data]   Package vader_lexicon is already up-to-date!\n"
     ]
    },
    {
     "name": "stdout",
     "output_type": "stream",
     "text": [
      "Error while scraping comments: Message: \n",
      "\n",
      "Scrolling attempt 1\n",
      "Scrolling attempt 0\n"
     ]
    },
    {
     "name": "stderr",
     "output_type": "stream",
     "text": [
      "[nltk_data] Downloading package stopwords to\n",
      "[nltk_data]     C:\\Users\\gandj\\AppData\\Roaming\\nltk_data...\n",
      "[nltk_data]   Package stopwords is already up-to-date!\n",
      "[nltk_data] Downloading package punkt to\n",
      "[nltk_data]     C:\\Users\\gandj\\AppData\\Roaming\\nltk_data...\n",
      "[nltk_data]   Package punkt is already up-to-date!\n",
      "[nltk_data] Downloading package vader_lexicon to\n",
      "[nltk_data]     C:\\Users\\gandj\\AppData\\Roaming\\nltk_data...\n",
      "[nltk_data]   Package vader_lexicon is already up-to-date!\n"
     ]
    },
    {
     "name": "stdout",
     "output_type": "stream",
     "text": [
      "Scrolling attempt 1\n",
      "Scrolling attempt 0\n"
     ]
    },
    {
     "name": "stderr",
     "output_type": "stream",
     "text": [
      "[nltk_data] Downloading package stopwords to\n",
      "[nltk_data]     C:\\Users\\gandj\\AppData\\Roaming\\nltk_data...\n",
      "[nltk_data]   Package stopwords is already up-to-date!\n",
      "[nltk_data] Downloading package punkt to\n",
      "[nltk_data]     C:\\Users\\gandj\\AppData\\Roaming\\nltk_data...\n",
      "[nltk_data]   Package punkt is already up-to-date!\n",
      "[nltk_data] Downloading package vader_lexicon to\n",
      "[nltk_data]     C:\\Users\\gandj\\AppData\\Roaming\\nltk_data...\n",
      "[nltk_data]   Package vader_lexicon is already up-to-date!\n"
     ]
    },
    {
     "name": "stdout",
     "output_type": "stream",
     "text": [
      "Error while scraping comments: Message: \n",
      "\n",
      "Scrolling attempt 1\n",
      "Scrolling attempt 0\n"
     ]
    },
    {
     "name": "stderr",
     "output_type": "stream",
     "text": [
      "[nltk_data] Downloading package stopwords to\n",
      "[nltk_data]     C:\\Users\\gandj\\AppData\\Roaming\\nltk_data...\n",
      "[nltk_data]   Package stopwords is already up-to-date!\n",
      "[nltk_data] Downloading package punkt to\n",
      "[nltk_data]     C:\\Users\\gandj\\AppData\\Roaming\\nltk_data...\n",
      "[nltk_data]   Package punkt is already up-to-date!\n",
      "[nltk_data] Downloading package vader_lexicon to\n",
      "[nltk_data]     C:\\Users\\gandj\\AppData\\Roaming\\nltk_data...\n",
      "[nltk_data]   Package vader_lexicon is already up-to-date!\n"
     ]
    },
    {
     "name": "stdout",
     "output_type": "stream",
     "text": [
      "Error while scraping comments: Message: \n",
      "\n",
      "Scrolling attempt 1\n",
      "Scrolling attempt 0\n"
     ]
    },
    {
     "name": "stderr",
     "output_type": "stream",
     "text": [
      "[nltk_data] Downloading package stopwords to\n",
      "[nltk_data]     C:\\Users\\gandj\\AppData\\Roaming\\nltk_data...\n",
      "[nltk_data]   Package stopwords is already up-to-date!\n",
      "[nltk_data] Downloading package punkt to\n",
      "[nltk_data]     C:\\Users\\gandj\\AppData\\Roaming\\nltk_data...\n",
      "[nltk_data]   Package punkt is already up-to-date!\n",
      "[nltk_data] Downloading package vader_lexicon to\n",
      "[nltk_data]     C:\\Users\\gandj\\AppData\\Roaming\\nltk_data...\n",
      "[nltk_data]   Package vader_lexicon is already up-to-date!\n"
     ]
    },
    {
     "name": "stdout",
     "output_type": "stream",
     "text": [
      "Error while scraping comments: Message: \n",
      "\n",
      "Scrolling attempt 1\n",
      "Scrolling attempt 0\n"
     ]
    },
    {
     "name": "stderr",
     "output_type": "stream",
     "text": [
      "[nltk_data] Downloading package stopwords to\n",
      "[nltk_data]     C:\\Users\\gandj\\AppData\\Roaming\\nltk_data...\n",
      "[nltk_data]   Package stopwords is already up-to-date!\n",
      "[nltk_data] Downloading package punkt to\n",
      "[nltk_data]     C:\\Users\\gandj\\AppData\\Roaming\\nltk_data...\n",
      "[nltk_data]   Package punkt is already up-to-date!\n",
      "[nltk_data] Downloading package vader_lexicon to\n",
      "[nltk_data]     C:\\Users\\gandj\\AppData\\Roaming\\nltk_data...\n",
      "[nltk_data]   Package vader_lexicon is already up-to-date!\n"
     ]
    },
    {
     "name": "stdout",
     "output_type": "stream",
     "text": [
      "Scrolling attempt 1\n",
      "Scrolling attempt 0\n"
     ]
    },
    {
     "name": "stderr",
     "output_type": "stream",
     "text": [
      "[nltk_data] Downloading package stopwords to\n",
      "[nltk_data]     C:\\Users\\gandj\\AppData\\Roaming\\nltk_data...\n",
      "[nltk_data]   Package stopwords is already up-to-date!\n",
      "[nltk_data] Downloading package punkt to\n",
      "[nltk_data]     C:\\Users\\gandj\\AppData\\Roaming\\nltk_data...\n",
      "[nltk_data]   Package punkt is already up-to-date!\n",
      "[nltk_data] Downloading package vader_lexicon to\n",
      "[nltk_data]     C:\\Users\\gandj\\AppData\\Roaming\\nltk_data...\n",
      "[nltk_data]   Package vader_lexicon is already up-to-date!\n"
     ]
    },
    {
     "name": "stdout",
     "output_type": "stream",
     "text": [
      "Error while scraping comments: Message: \n",
      "\n",
      "Scrolling attempt 1\n",
      "Scrolling attempt 0\n"
     ]
    },
    {
     "name": "stderr",
     "output_type": "stream",
     "text": [
      "[nltk_data] Downloading package stopwords to\n",
      "[nltk_data]     C:\\Users\\gandj\\AppData\\Roaming\\nltk_data...\n",
      "[nltk_data]   Package stopwords is already up-to-date!\n",
      "[nltk_data] Downloading package punkt to\n",
      "[nltk_data]     C:\\Users\\gandj\\AppData\\Roaming\\nltk_data...\n",
      "[nltk_data]   Package punkt is already up-to-date!\n",
      "[nltk_data] Downloading package vader_lexicon to\n",
      "[nltk_data]     C:\\Users\\gandj\\AppData\\Roaming\\nltk_data...\n",
      "[nltk_data]   Package vader_lexicon is already up-to-date!\n"
     ]
    },
    {
     "name": "stdout",
     "output_type": "stream",
     "text": [
      "Error while scraping comments: Message: \n",
      "\n",
      "Scrolling attempt 1\n",
      "Scrolling attempt 0\n"
     ]
    },
    {
     "name": "stderr",
     "output_type": "stream",
     "text": [
      "[nltk_data] Downloading package stopwords to\n",
      "[nltk_data]     C:\\Users\\gandj\\AppData\\Roaming\\nltk_data...\n",
      "[nltk_data]   Package stopwords is already up-to-date!\n",
      "[nltk_data] Downloading package punkt to\n",
      "[nltk_data]     C:\\Users\\gandj\\AppData\\Roaming\\nltk_data...\n",
      "[nltk_data]   Package punkt is already up-to-date!\n",
      "[nltk_data] Downloading package vader_lexicon to\n",
      "[nltk_data]     C:\\Users\\gandj\\AppData\\Roaming\\nltk_data...\n",
      "[nltk_data]   Package vader_lexicon is already up-to-date!\n"
     ]
    },
    {
     "name": "stdout",
     "output_type": "stream",
     "text": [
      "Error while scraping comments: Message: \n",
      "\n",
      "Scrolling attempt 1\n",
      "Scrolling attempt 0\n"
     ]
    },
    {
     "name": "stderr",
     "output_type": "stream",
     "text": [
      "[nltk_data] Downloading package stopwords to\n",
      "[nltk_data]     C:\\Users\\gandj\\AppData\\Roaming\\nltk_data...\n",
      "[nltk_data]   Package stopwords is already up-to-date!\n",
      "[nltk_data] Downloading package punkt to\n",
      "[nltk_data]     C:\\Users\\gandj\\AppData\\Roaming\\nltk_data...\n",
      "[nltk_data]   Package punkt is already up-to-date!\n",
      "[nltk_data] Downloading package vader_lexicon to\n",
      "[nltk_data]     C:\\Users\\gandj\\AppData\\Roaming\\nltk_data...\n",
      "[nltk_data]   Package vader_lexicon is already up-to-date!\n"
     ]
    },
    {
     "name": "stdout",
     "output_type": "stream",
     "text": [
      "Error while scraping comments: Message: \n",
      "\n",
      "Scrolling attempt 1\n",
      "Scrolling attempt 0\n"
     ]
    },
    {
     "name": "stderr",
     "output_type": "stream",
     "text": [
      "[nltk_data] Downloading package stopwords to\n",
      "[nltk_data]     C:\\Users\\gandj\\AppData\\Roaming\\nltk_data...\n",
      "[nltk_data]   Package stopwords is already up-to-date!\n",
      "[nltk_data] Downloading package punkt to\n",
      "[nltk_data]     C:\\Users\\gandj\\AppData\\Roaming\\nltk_data...\n",
      "[nltk_data]   Package punkt is already up-to-date!\n",
      "[nltk_data] Downloading package vader_lexicon to\n",
      "[nltk_data]     C:\\Users\\gandj\\AppData\\Roaming\\nltk_data...\n",
      "[nltk_data]   Package vader_lexicon is already up-to-date!\n"
     ]
    },
    {
     "name": "stdout",
     "output_type": "stream",
     "text": [
      "Error while scraping comments: Message: \n",
      "\n",
      "Error while scraping comments: Message: \n",
      "\n",
      "Error while scraping comments: Message: \n",
      "\n",
      "Error while scraping comments: Message: \n",
      "\n",
      "Error while scraping comments: Message: \n",
      "\n",
      "Error while scraping comments: Message: \n",
      "\n",
      "Error while scraping comments: Message: \n",
      "\n",
      "Error while scraping comments: Message: \n",
      "\n",
      "Error while scraping comments: Message: \n",
      "\n",
      "Error while scraping comments: Message: \n",
      "\n",
      "Error while scraping comments: Message: \n",
      "\n",
      "Error while scraping comments: Message: \n",
      "\n",
      "Error while scraping comments: Message: \n",
      "\n",
      "Error while scraping comments: Message: \n",
      "\n",
      "Error while scraping comments: Message: \n",
      "\n",
      "Error while scraping comments: Message: \n",
      "\n",
      "Error while scraping comments: Message: \n",
      "\n",
      "Error while scraping comments: Message: \n",
      "\n",
      "Error while scraping comments: Message: \n",
      "\n",
      "Error while scraping comments: Message: \n",
      "\n",
      "Scrolling attempt 1\n",
      "Error while scraping comments: Message: \n",
      "\n",
      "Scrolling attempt 0\n",
      "Error while scraping comments: Message: \n",
      "\n",
      "DataFrame is empty.\n",
      "No data returned for video https://www.youtube.com/watch?v=UOR6iGlmuV4\n",
      "Error while scraping comments: Message: \n",
      "\n",
      "Scrolling attempt 1\n",
      "Scrolling attempt 0\n"
     ]
    },
    {
     "name": "stderr",
     "output_type": "stream",
     "text": [
      "[nltk_data] Downloading package stopwords to\n",
      "[nltk_data]     C:\\Users\\gandj\\AppData\\Roaming\\nltk_data...\n",
      "[nltk_data]   Package stopwords is already up-to-date!\n",
      "[nltk_data] Downloading package punkt to\n",
      "[nltk_data]     C:\\Users\\gandj\\AppData\\Roaming\\nltk_data...\n",
      "[nltk_data]   Package punkt is already up-to-date!\n",
      "[nltk_data] Downloading package vader_lexicon to\n",
      "[nltk_data]     C:\\Users\\gandj\\AppData\\Roaming\\nltk_data...\n",
      "[nltk_data]   Package vader_lexicon is already up-to-date!\n"
     ]
    },
    {
     "name": "stdout",
     "output_type": "stream",
     "text": [
      "Error while scraping comments: Message: \n",
      "\n",
      "Scrolling attempt 1\n",
      "Scrolling attempt 0\n"
     ]
    },
    {
     "name": "stderr",
     "output_type": "stream",
     "text": [
      "[nltk_data] Downloading package stopwords to\n",
      "[nltk_data]     C:\\Users\\gandj\\AppData\\Roaming\\nltk_data...\n",
      "[nltk_data]   Package stopwords is already up-to-date!\n",
      "[nltk_data] Downloading package punkt to\n",
      "[nltk_data]     C:\\Users\\gandj\\AppData\\Roaming\\nltk_data...\n",
      "[nltk_data]   Package punkt is already up-to-date!\n",
      "[nltk_data] Downloading package vader_lexicon to\n",
      "[nltk_data]     C:\\Users\\gandj\\AppData\\Roaming\\nltk_data...\n",
      "[nltk_data]   Package vader_lexicon is already up-to-date!\n"
     ]
    },
    {
     "name": "stdout",
     "output_type": "stream",
     "text": [
      "Error while scraping comments: Message: \n",
      "\n",
      "Scrolling attempt 1\n",
      "Scrolling attempt 0\n"
     ]
    },
    {
     "name": "stderr",
     "output_type": "stream",
     "text": [
      "[nltk_data] Downloading package stopwords to\n",
      "[nltk_data]     C:\\Users\\gandj\\AppData\\Roaming\\nltk_data...\n",
      "[nltk_data]   Package stopwords is already up-to-date!\n",
      "[nltk_data] Downloading package punkt to\n",
      "[nltk_data]     C:\\Users\\gandj\\AppData\\Roaming\\nltk_data...\n",
      "[nltk_data]   Package punkt is already up-to-date!\n",
      "[nltk_data] Downloading package vader_lexicon to\n",
      "[nltk_data]     C:\\Users\\gandj\\AppData\\Roaming\\nltk_data...\n",
      "[nltk_data]   Package vader_lexicon is already up-to-date!\n"
     ]
    },
    {
     "name": "stdout",
     "output_type": "stream",
     "text": [
      "Error while scraping comments: Message: \n",
      "\n",
      "Scrolling attempt 1\n",
      "Scrolling attempt 0\n"
     ]
    },
    {
     "name": "stderr",
     "output_type": "stream",
     "text": [
      "[nltk_data] Downloading package stopwords to\n",
      "[nltk_data]     C:\\Users\\gandj\\AppData\\Roaming\\nltk_data...\n",
      "[nltk_data]   Package stopwords is already up-to-date!\n",
      "[nltk_data] Downloading package punkt to\n",
      "[nltk_data]     C:\\Users\\gandj\\AppData\\Roaming\\nltk_data...\n",
      "[nltk_data]   Package punkt is already up-to-date!\n",
      "[nltk_data] Downloading package vader_lexicon to\n",
      "[nltk_data]     C:\\Users\\gandj\\AppData\\Roaming\\nltk_data...\n",
      "[nltk_data]   Package vader_lexicon is already up-to-date!\n"
     ]
    },
    {
     "name": "stdout",
     "output_type": "stream",
     "text": [
      "Error while scraping comments: Message: \n",
      "\n",
      "Scrolling attempt 1\n",
      "Scrolling attempt 0\n"
     ]
    },
    {
     "name": "stderr",
     "output_type": "stream",
     "text": [
      "[nltk_data] Downloading package stopwords to\n",
      "[nltk_data]     C:\\Users\\gandj\\AppData\\Roaming\\nltk_data...\n",
      "[nltk_data]   Package stopwords is already up-to-date!\n",
      "[nltk_data] Downloading package punkt to\n",
      "[nltk_data]     C:\\Users\\gandj\\AppData\\Roaming\\nltk_data...\n",
      "[nltk_data]   Package punkt is already up-to-date!\n",
      "[nltk_data] Downloading package vader_lexicon to\n",
      "[nltk_data]     C:\\Users\\gandj\\AppData\\Roaming\\nltk_data...\n",
      "[nltk_data]   Package vader_lexicon is already up-to-date!\n"
     ]
    },
    {
     "name": "stdout",
     "output_type": "stream",
     "text": [
      "Error while scraping comments: Message: \n",
      "\n",
      "Scrolling attempt 1\n",
      "Scrolling attempt 0\n"
     ]
    },
    {
     "name": "stderr",
     "output_type": "stream",
     "text": [
      "[nltk_data] Downloading package stopwords to\n",
      "[nltk_data]     C:\\Users\\gandj\\AppData\\Roaming\\nltk_data...\n",
      "[nltk_data]   Package stopwords is already up-to-date!\n",
      "[nltk_data] Downloading package punkt to\n",
      "[nltk_data]     C:\\Users\\gandj\\AppData\\Roaming\\nltk_data...\n",
      "[nltk_data]   Package punkt is already up-to-date!\n",
      "[nltk_data] Downloading package vader_lexicon to\n",
      "[nltk_data]     C:\\Users\\gandj\\AppData\\Roaming\\nltk_data...\n",
      "[nltk_data]   Package vader_lexicon is already up-to-date!\n"
     ]
    },
    {
     "name": "stdout",
     "output_type": "stream",
     "text": [
      "Error while scraping comments: Message: \n",
      "\n",
      "Scrolling attempt 1\n",
      "Scrolling attempt 0\n"
     ]
    },
    {
     "name": "stderr",
     "output_type": "stream",
     "text": [
      "[nltk_data] Downloading package stopwords to\n",
      "[nltk_data]     C:\\Users\\gandj\\AppData\\Roaming\\nltk_data...\n",
      "[nltk_data]   Package stopwords is already up-to-date!\n",
      "[nltk_data] Downloading package punkt to\n",
      "[nltk_data]     C:\\Users\\gandj\\AppData\\Roaming\\nltk_data...\n",
      "[nltk_data]   Package punkt is already up-to-date!\n",
      "[nltk_data] Downloading package vader_lexicon to\n",
      "[nltk_data]     C:\\Users\\gandj\\AppData\\Roaming\\nltk_data...\n",
      "[nltk_data]   Package vader_lexicon is already up-to-date!\n"
     ]
    },
    {
     "name": "stdout",
     "output_type": "stream",
     "text": [
      "Error while scraping comments: Message: \n",
      "\n",
      "Scrolling attempt 1\n",
      "Scrolling attempt 0\n"
     ]
    },
    {
     "name": "stderr",
     "output_type": "stream",
     "text": [
      "[nltk_data] Downloading package stopwords to\n",
      "[nltk_data]     C:\\Users\\gandj\\AppData\\Roaming\\nltk_data...\n",
      "[nltk_data]   Package stopwords is already up-to-date!\n",
      "[nltk_data] Downloading package punkt to\n",
      "[nltk_data]     C:\\Users\\gandj\\AppData\\Roaming\\nltk_data...\n",
      "[nltk_data]   Package punkt is already up-to-date!\n",
      "[nltk_data] Downloading package vader_lexicon to\n",
      "[nltk_data]     C:\\Users\\gandj\\AppData\\Roaming\\nltk_data...\n",
      "[nltk_data]   Package vader_lexicon is already up-to-date!\n"
     ]
    },
    {
     "name": "stdout",
     "output_type": "stream",
     "text": [
      "Error while scraping comments: Message: \n",
      "\n",
      "Scrolling attempt 1\n",
      "Scrolling attempt 0\n"
     ]
    },
    {
     "name": "stderr",
     "output_type": "stream",
     "text": [
      "[nltk_data] Downloading package stopwords to\n",
      "[nltk_data]     C:\\Users\\gandj\\AppData\\Roaming\\nltk_data...\n",
      "[nltk_data]   Package stopwords is already up-to-date!\n",
      "[nltk_data] Downloading package punkt to\n",
      "[nltk_data]     C:\\Users\\gandj\\AppData\\Roaming\\nltk_data...\n",
      "[nltk_data]   Package punkt is already up-to-date!\n",
      "[nltk_data] Downloading package vader_lexicon to\n",
      "[nltk_data]     C:\\Users\\gandj\\AppData\\Roaming\\nltk_data...\n",
      "[nltk_data]   Package vader_lexicon is already up-to-date!\n"
     ]
    },
    {
     "name": "stdout",
     "output_type": "stream",
     "text": [
      "Error while scraping comments: Message: \n",
      "\n",
      "Scrolling attempt 1\n",
      "Scrolling attempt 0\n"
     ]
    },
    {
     "name": "stderr",
     "output_type": "stream",
     "text": [
      "[nltk_data] Downloading package stopwords to\n",
      "[nltk_data]     C:\\Users\\gandj\\AppData\\Roaming\\nltk_data...\n",
      "[nltk_data]   Package stopwords is already up-to-date!\n",
      "[nltk_data] Downloading package punkt to\n",
      "[nltk_data]     C:\\Users\\gandj\\AppData\\Roaming\\nltk_data...\n",
      "[nltk_data]   Package punkt is already up-to-date!\n",
      "[nltk_data] Downloading package vader_lexicon to\n",
      "[nltk_data]     C:\\Users\\gandj\\AppData\\Roaming\\nltk_data...\n",
      "[nltk_data]   Package vader_lexicon is already up-to-date!\n"
     ]
    },
    {
     "name": "stdout",
     "output_type": "stream",
     "text": [
      "Error while scraping comments: Message: \n",
      "\n",
      "Scrolling attempt 1\n",
      "Scrolling attempt 0\n"
     ]
    },
    {
     "name": "stderr",
     "output_type": "stream",
     "text": [
      "[nltk_data] Downloading package stopwords to\n",
      "[nltk_data]     C:\\Users\\gandj\\AppData\\Roaming\\nltk_data...\n",
      "[nltk_data]   Package stopwords is already up-to-date!\n",
      "[nltk_data] Downloading package punkt to\n",
      "[nltk_data]     C:\\Users\\gandj\\AppData\\Roaming\\nltk_data...\n",
      "[nltk_data]   Package punkt is already up-to-date!\n",
      "[nltk_data] Downloading package vader_lexicon to\n",
      "[nltk_data]     C:\\Users\\gandj\\AppData\\Roaming\\nltk_data...\n",
      "[nltk_data]   Package vader_lexicon is already up-to-date!\n"
     ]
    },
    {
     "name": "stdout",
     "output_type": "stream",
     "text": [
      "Error while scraping comments: Message: \n",
      "\n",
      "Scrolling attempt 1\n",
      "Scrolling attempt 0\n"
     ]
    },
    {
     "name": "stderr",
     "output_type": "stream",
     "text": [
      "[nltk_data] Downloading package stopwords to\n",
      "[nltk_data]     C:\\Users\\gandj\\AppData\\Roaming\\nltk_data...\n",
      "[nltk_data]   Package stopwords is already up-to-date!\n",
      "[nltk_data] Downloading package punkt to\n",
      "[nltk_data]     C:\\Users\\gandj\\AppData\\Roaming\\nltk_data...\n",
      "[nltk_data]   Package punkt is already up-to-date!\n",
      "[nltk_data] Downloading package vader_lexicon to\n",
      "[nltk_data]     C:\\Users\\gandj\\AppData\\Roaming\\nltk_data...\n",
      "[nltk_data]   Package vader_lexicon is already up-to-date!\n"
     ]
    },
    {
     "name": "stdout",
     "output_type": "stream",
     "text": [
      "Error while scraping comments: Message: \n",
      "\n",
      "Scrolling attempt 1\n",
      "Scrolling attempt 0\n"
     ]
    },
    {
     "name": "stderr",
     "output_type": "stream",
     "text": [
      "[nltk_data] Downloading package stopwords to\n",
      "[nltk_data]     C:\\Users\\gandj\\AppData\\Roaming\\nltk_data...\n",
      "[nltk_data]   Package stopwords is already up-to-date!\n",
      "[nltk_data] Downloading package punkt to\n",
      "[nltk_data]     C:\\Users\\gandj\\AppData\\Roaming\\nltk_data...\n",
      "[nltk_data]   Package punkt is already up-to-date!\n",
      "[nltk_data] Downloading package vader_lexicon to\n",
      "[nltk_data]     C:\\Users\\gandj\\AppData\\Roaming\\nltk_data...\n",
      "[nltk_data]   Package vader_lexicon is already up-to-date!\n"
     ]
    },
    {
     "name": "stdout",
     "output_type": "stream",
     "text": [
      "Error while scraping comments: Message: \n",
      "\n",
      "Scrolling attempt 1\n",
      "Scrolling attempt 0\n"
     ]
    },
    {
     "name": "stderr",
     "output_type": "stream",
     "text": [
      "[nltk_data] Downloading package stopwords to\n",
      "[nltk_data]     C:\\Users\\gandj\\AppData\\Roaming\\nltk_data...\n",
      "[nltk_data]   Package stopwords is already up-to-date!\n",
      "[nltk_data] Downloading package punkt to\n",
      "[nltk_data]     C:\\Users\\gandj\\AppData\\Roaming\\nltk_data...\n",
      "[nltk_data]   Package punkt is already up-to-date!\n",
      "[nltk_data] Downloading package vader_lexicon to\n",
      "[nltk_data]     C:\\Users\\gandj\\AppData\\Roaming\\nltk_data...\n",
      "[nltk_data]   Package vader_lexicon is already up-to-date!\n"
     ]
    },
    {
     "name": "stdout",
     "output_type": "stream",
     "text": [
      "Error while scraping comments: Message: \n",
      "\n",
      "Scrolling attempt 1\n",
      "Scrolling attempt 0\n"
     ]
    },
    {
     "name": "stderr",
     "output_type": "stream",
     "text": [
      "[nltk_data] Downloading package stopwords to\n",
      "[nltk_data]     C:\\Users\\gandj\\AppData\\Roaming\\nltk_data...\n",
      "[nltk_data]   Package stopwords is already up-to-date!\n",
      "[nltk_data] Downloading package punkt to\n",
      "[nltk_data]     C:\\Users\\gandj\\AppData\\Roaming\\nltk_data...\n",
      "[nltk_data]   Package punkt is already up-to-date!\n",
      "[nltk_data] Downloading package vader_lexicon to\n",
      "[nltk_data]     C:\\Users\\gandj\\AppData\\Roaming\\nltk_data...\n",
      "[nltk_data]   Package vader_lexicon is already up-to-date!\n"
     ]
    },
    {
     "name": "stdout",
     "output_type": "stream",
     "text": [
      "Error while scraping comments: Message: \n",
      "\n",
      "Scrolling attempt 1\n",
      "Scrolling attempt 0\n"
     ]
    },
    {
     "name": "stderr",
     "output_type": "stream",
     "text": [
      "[nltk_data] Downloading package stopwords to\n",
      "[nltk_data]     C:\\Users\\gandj\\AppData\\Roaming\\nltk_data...\n",
      "[nltk_data]   Package stopwords is already up-to-date!\n",
      "[nltk_data] Downloading package punkt to\n",
      "[nltk_data]     C:\\Users\\gandj\\AppData\\Roaming\\nltk_data...\n",
      "[nltk_data]   Package punkt is already up-to-date!\n",
      "[nltk_data] Downloading package vader_lexicon to\n",
      "[nltk_data]     C:\\Users\\gandj\\AppData\\Roaming\\nltk_data...\n",
      "[nltk_data]   Package vader_lexicon is already up-to-date!\n"
     ]
    },
    {
     "name": "stdout",
     "output_type": "stream",
     "text": [
      "Scrolling attempt 1\n",
      "Scrolling attempt 0\n"
     ]
    },
    {
     "name": "stderr",
     "output_type": "stream",
     "text": [
      "[nltk_data] Downloading package stopwords to\n",
      "[nltk_data]     C:\\Users\\gandj\\AppData\\Roaming\\nltk_data...\n",
      "[nltk_data]   Package stopwords is already up-to-date!\n",
      "[nltk_data] Downloading package punkt to\n",
      "[nltk_data]     C:\\Users\\gandj\\AppData\\Roaming\\nltk_data...\n",
      "[nltk_data]   Package punkt is already up-to-date!\n",
      "[nltk_data] Downloading package vader_lexicon to\n",
      "[nltk_data]     C:\\Users\\gandj\\AppData\\Roaming\\nltk_data...\n",
      "[nltk_data]   Package vader_lexicon is already up-to-date!\n"
     ]
    },
    {
     "name": "stdout",
     "output_type": "stream",
     "text": [
      "Error while scraping comments: Message: \n",
      "\n",
      "Scrolling attempt 1\n",
      "Scrolling attempt 0\n"
     ]
    },
    {
     "name": "stderr",
     "output_type": "stream",
     "text": [
      "[nltk_data] Downloading package stopwords to\n",
      "[nltk_data]     C:\\Users\\gandj\\AppData\\Roaming\\nltk_data...\n",
      "[nltk_data]   Package stopwords is already up-to-date!\n",
      "[nltk_data] Downloading package punkt to\n",
      "[nltk_data]     C:\\Users\\gandj\\AppData\\Roaming\\nltk_data...\n",
      "[nltk_data]   Package punkt is already up-to-date!\n",
      "[nltk_data] Downloading package vader_lexicon to\n",
      "[nltk_data]     C:\\Users\\gandj\\AppData\\Roaming\\nltk_data...\n",
      "[nltk_data]   Package vader_lexicon is already up-to-date!\n"
     ]
    },
    {
     "name": "stdout",
     "output_type": "stream",
     "text": [
      "Error while scraping comments: Message: \n",
      "\n",
      "Scrolling attempt 1\n",
      "Scrolling attempt 0\n"
     ]
    },
    {
     "name": "stderr",
     "output_type": "stream",
     "text": [
      "[nltk_data] Downloading package stopwords to\n",
      "[nltk_data]     C:\\Users\\gandj\\AppData\\Roaming\\nltk_data...\n",
      "[nltk_data]   Package stopwords is already up-to-date!\n",
      "[nltk_data] Downloading package punkt to\n",
      "[nltk_data]     C:\\Users\\gandj\\AppData\\Roaming\\nltk_data...\n",
      "[nltk_data]   Package punkt is already up-to-date!\n",
      "[nltk_data] Downloading package vader_lexicon to\n",
      "[nltk_data]     C:\\Users\\gandj\\AppData\\Roaming\\nltk_data...\n",
      "[nltk_data]   Package vader_lexicon is already up-to-date!\n"
     ]
    },
    {
     "name": "stdout",
     "output_type": "stream",
     "text": [
      "Error while scraping comments: Message: \n",
      "\n",
      "Scrolling attempt 1\n",
      "Scrolling attempt 0\n"
     ]
    },
    {
     "name": "stderr",
     "output_type": "stream",
     "text": [
      "[nltk_data] Downloading package stopwords to\n",
      "[nltk_data]     C:\\Users\\gandj\\AppData\\Roaming\\nltk_data...\n",
      "[nltk_data]   Package stopwords is already up-to-date!\n",
      "[nltk_data] Downloading package punkt to\n",
      "[nltk_data]     C:\\Users\\gandj\\AppData\\Roaming\\nltk_data...\n",
      "[nltk_data]   Package punkt is already up-to-date!\n",
      "[nltk_data] Downloading package vader_lexicon to\n",
      "[nltk_data]     C:\\Users\\gandj\\AppData\\Roaming\\nltk_data...\n",
      "[nltk_data]   Package vader_lexicon is already up-to-date!\n"
     ]
    },
    {
     "name": "stdout",
     "output_type": "stream",
     "text": [
      "Error while scraping comments: Message: \n",
      "\n",
      "Scrolling attempt 1\n",
      "Scrolling attempt 0\n"
     ]
    },
    {
     "name": "stderr",
     "output_type": "stream",
     "text": [
      "[nltk_data] Downloading package stopwords to\n",
      "[nltk_data]     C:\\Users\\gandj\\AppData\\Roaming\\nltk_data...\n",
      "[nltk_data]   Package stopwords is already up-to-date!\n",
      "[nltk_data] Downloading package punkt to\n",
      "[nltk_data]     C:\\Users\\gandj\\AppData\\Roaming\\nltk_data...\n",
      "[nltk_data]   Package punkt is already up-to-date!\n",
      "[nltk_data] Downloading package vader_lexicon to\n",
      "[nltk_data]     C:\\Users\\gandj\\AppData\\Roaming\\nltk_data...\n",
      "[nltk_data]   Package vader_lexicon is already up-to-date!\n"
     ]
    },
    {
     "name": "stdout",
     "output_type": "stream",
     "text": [
      "Error while scraping comments: Message: \n",
      "\n",
      "Scrolling attempt 1\n",
      "Scrolling attempt 0\n"
     ]
    },
    {
     "name": "stderr",
     "output_type": "stream",
     "text": [
      "[nltk_data] Downloading package stopwords to\n",
      "[nltk_data]     C:\\Users\\gandj\\AppData\\Roaming\\nltk_data...\n",
      "[nltk_data]   Package stopwords is already up-to-date!\n",
      "[nltk_data] Downloading package punkt to\n",
      "[nltk_data]     C:\\Users\\gandj\\AppData\\Roaming\\nltk_data...\n",
      "[nltk_data]   Package punkt is already up-to-date!\n",
      "[nltk_data] Downloading package vader_lexicon to\n",
      "[nltk_data]     C:\\Users\\gandj\\AppData\\Roaming\\nltk_data...\n",
      "[nltk_data]   Package vader_lexicon is already up-to-date!\n"
     ]
    },
    {
     "name": "stdout",
     "output_type": "stream",
     "text": [
      "Error while scraping comments: Message: \n",
      "\n",
      "Scrolling attempt 1\n",
      "Scrolling attempt 0\n"
     ]
    },
    {
     "name": "stderr",
     "output_type": "stream",
     "text": [
      "[nltk_data] Downloading package stopwords to\n",
      "[nltk_data]     C:\\Users\\gandj\\AppData\\Roaming\\nltk_data...\n",
      "[nltk_data]   Package stopwords is already up-to-date!\n",
      "[nltk_data] Downloading package punkt to\n",
      "[nltk_data]     C:\\Users\\gandj\\AppData\\Roaming\\nltk_data...\n",
      "[nltk_data]   Package punkt is already up-to-date!\n",
      "[nltk_data] Downloading package vader_lexicon to\n",
      "[nltk_data]     C:\\Users\\gandj\\AppData\\Roaming\\nltk_data...\n",
      "[nltk_data]   Package vader_lexicon is already up-to-date!\n"
     ]
    },
    {
     "name": "stdout",
     "output_type": "stream",
     "text": [
      "Error while scraping comments: Message: \n",
      "\n",
      "Scrolling attempt 1\n",
      "Scrolling attempt 0\n"
     ]
    },
    {
     "name": "stderr",
     "output_type": "stream",
     "text": [
      "[nltk_data] Downloading package stopwords to\n",
      "[nltk_data]     C:\\Users\\gandj\\AppData\\Roaming\\nltk_data...\n",
      "[nltk_data]   Package stopwords is already up-to-date!\n",
      "[nltk_data] Downloading package punkt to\n",
      "[nltk_data]     C:\\Users\\gandj\\AppData\\Roaming\\nltk_data...\n",
      "[nltk_data]   Package punkt is already up-to-date!\n",
      "[nltk_data] Downloading package vader_lexicon to\n",
      "[nltk_data]     C:\\Users\\gandj\\AppData\\Roaming\\nltk_data...\n",
      "[nltk_data]   Package vader_lexicon is already up-to-date!\n"
     ]
    },
    {
     "name": "stdout",
     "output_type": "stream",
     "text": [
      "Scrolling attempt 1\n",
      "Scrolling attempt 0\n"
     ]
    },
    {
     "name": "stderr",
     "output_type": "stream",
     "text": [
      "[nltk_data] Downloading package stopwords to\n",
      "[nltk_data]     C:\\Users\\gandj\\AppData\\Roaming\\nltk_data...\n",
      "[nltk_data]   Package stopwords is already up-to-date!\n",
      "[nltk_data] Downloading package punkt to\n",
      "[nltk_data]     C:\\Users\\gandj\\AppData\\Roaming\\nltk_data...\n",
      "[nltk_data]   Package punkt is already up-to-date!\n",
      "[nltk_data] Downloading package vader_lexicon to\n",
      "[nltk_data]     C:\\Users\\gandj\\AppData\\Roaming\\nltk_data...\n",
      "[nltk_data]   Package vader_lexicon is already up-to-date!\n"
     ]
    },
    {
     "name": "stdout",
     "output_type": "stream",
     "text": [
      "Error while scraping comments: Message: \n",
      "\n",
      "Scrolling attempt 1\n",
      "Scrolling attempt 0\n"
     ]
    },
    {
     "name": "stderr",
     "output_type": "stream",
     "text": [
      "[nltk_data] Downloading package stopwords to\n",
      "[nltk_data]     C:\\Users\\gandj\\AppData\\Roaming\\nltk_data...\n",
      "[nltk_data]   Package stopwords is already up-to-date!\n",
      "[nltk_data] Downloading package punkt to\n",
      "[nltk_data]     C:\\Users\\gandj\\AppData\\Roaming\\nltk_data...\n",
      "[nltk_data]   Package punkt is already up-to-date!\n",
      "[nltk_data] Downloading package vader_lexicon to\n",
      "[nltk_data]     C:\\Users\\gandj\\AppData\\Roaming\\nltk_data...\n",
      "[nltk_data]   Package vader_lexicon is already up-to-date!\n"
     ]
    },
    {
     "name": "stdout",
     "output_type": "stream",
     "text": [
      "Error while scraping comments: Message: \n",
      "\n",
      "Scrolling attempt 1\n",
      "Scrolling attempt 0\n"
     ]
    },
    {
     "name": "stderr",
     "output_type": "stream",
     "text": [
      "[nltk_data] Downloading package stopwords to\n",
      "[nltk_data]     C:\\Users\\gandj\\AppData\\Roaming\\nltk_data...\n",
      "[nltk_data]   Package stopwords is already up-to-date!\n",
      "[nltk_data] Downloading package punkt to\n",
      "[nltk_data]     C:\\Users\\gandj\\AppData\\Roaming\\nltk_data...\n",
      "[nltk_data]   Package punkt is already up-to-date!\n",
      "[nltk_data] Downloading package vader_lexicon to\n",
      "[nltk_data]     C:\\Users\\gandj\\AppData\\Roaming\\nltk_data...\n",
      "[nltk_data]   Package vader_lexicon is already up-to-date!\n"
     ]
    },
    {
     "name": "stdout",
     "output_type": "stream",
     "text": [
      "Scrolling attempt 1\n",
      "Scrolling attempt 0\n"
     ]
    },
    {
     "name": "stderr",
     "output_type": "stream",
     "text": [
      "[nltk_data] Downloading package stopwords to\n",
      "[nltk_data]     C:\\Users\\gandj\\AppData\\Roaming\\nltk_data...\n",
      "[nltk_data]   Package stopwords is already up-to-date!\n",
      "[nltk_data] Downloading package punkt to\n",
      "[nltk_data]     C:\\Users\\gandj\\AppData\\Roaming\\nltk_data...\n",
      "[nltk_data]   Package punkt is already up-to-date!\n",
      "[nltk_data] Downloading package vader_lexicon to\n",
      "[nltk_data]     C:\\Users\\gandj\\AppData\\Roaming\\nltk_data...\n",
      "[nltk_data]   Package vader_lexicon is already up-to-date!\n"
     ]
    }
   ],
   "source": [
    "df_comment_dict = {}\n",
    "df_count_dict = {}\n",
    "\n",
    "for video in lst_YouTube_comments:\n",
    "    df_com_count = comment_WWE_YouTube_DataFrame(video)\n",
    "    \n",
    "    #if a data frame is without any data, the loop prints the linke which did not generate any output\n",
    "    #so the loop will not lead to an error\n",
    "    if df_com_count is not None and len(df_com_count) == 2:\n",
    "        df_comment_dict['df_comment_' + video] = df_com_count[0]\n",
    "        df_count_dict['df_count_' + video] = df_com_count[1]\n",
    "    else:\n",
    "        print(f\"No data returned for video {video}\")\n",
    "\n",
    "# Update locals() with the dictionaries\n",
    "locals().update(df_comment_dict)\n",
    "locals().update(df_count_dict)"
   ]
  },
  {
   "cell_type": "code",
   "execution_count": 40,
   "id": "46555046",
   "metadata": {},
   "outputs": [],
   "source": [
    "import pandas as pd\n",
    "dict_keys=list(df_comment_dict.keys())\n",
    "\n",
    "loop_values=dict_keys[2:]\n",
    "\n",
    "df=pd.concat([pd.DataFrame(df_comment_dict[dict_keys[0]]),pd.DataFrame(df_comment_dict[dict_keys[1]])])\n",
    "for x in loop_values:\n",
    "    df=pd.concat([df,df_comment_dict[x]])"
   ]
  },
  {
   "cell_type": "code",
   "execution_count": 41,
   "id": "41f27e56",
   "metadata": {},
   "outputs": [
    {
     "data": {
      "text/html": [
       "<div>\n",
       "<style scoped>\n",
       "    .dataframe tbody tr th:only-of-type {\n",
       "        vertical-align: middle;\n",
       "    }\n",
       "\n",
       "    .dataframe tbody tr th {\n",
       "        vertical-align: top;\n",
       "    }\n",
       "\n",
       "    .dataframe thead th {\n",
       "        text-align: right;\n",
       "    }\n",
       "</style>\n",
       "<table border=\"1\" class=\"dataframe\">\n",
       "  <thead>\n",
       "    <tr style=\"text-align: right;\">\n",
       "      <th></th>\n",
       "      <th>comment</th>\n",
       "      <th>Date</th>\n",
       "      <th>Date_Month</th>\n",
       "      <th>word_comment</th>\n",
       "      <th>word_comment_tag_words</th>\n",
       "      <th>Sentiment</th>\n",
       "    </tr>\n",
       "  </thead>\n",
       "  <tbody>\n",
       "    <tr>\n",
       "      <th>0</th>\n",
       "      <td>The Rock showing up late and blowing it off li...</td>\n",
       "      <td>2024-04-05</td>\n",
       "      <td>2024-04-01</td>\n",
       "      <td>[Rock, showing, late, blowing, like, doesnt, g...</td>\n",
       "      <td>[Rock]</td>\n",
       "      <td>Positive</td>\n",
       "    </tr>\n",
       "    <tr>\n",
       "      <th>1</th>\n",
       "      <td>The Rock showing up late is perfect for his ch...</td>\n",
       "      <td>2024-04-05</td>\n",
       "      <td>2024-04-01</td>\n",
       "      <td>[Rock, showing, late, perfect, character]</td>\n",
       "      <td>[Rock]</td>\n",
       "      <td>Positive</td>\n",
       "    </tr>\n",
       "    <tr>\n",
       "      <th>2</th>\n",
       "      <td>If Meltzer is reporting why AEW and Tony Kahn ...</td>\n",
       "      <td>2024-04-05</td>\n",
       "      <td>2024-04-01</td>\n",
       "      <td>[Meltzer, reporting, AEW, Tony, Kahn, released...</td>\n",
       "      <td>[Meltzer, AEW, Tony, Kahn]</td>\n",
       "      <td>Positive</td>\n",
       "    </tr>\n",
       "    <tr>\n",
       "      <th>3</th>\n",
       "      <td>047  Hes not taking a break after Mania hes CO...</td>\n",
       "      <td>2024-04-05</td>\n",
       "      <td>2024-04-01</td>\n",
       "      <td>[047, Hes, taking, break, Mania, hes, COMING, ...</td>\n",
       "      <td>[047, Hes, Mania, COMING, Mania]</td>\n",
       "      <td>Neutral</td>\n",
       "    </tr>\n",
       "    <tr>\n",
       "      <th>4</th>\n",
       "      <td>Oh roman leaving for a break after mania Woooo...</td>\n",
       "      <td>2024-04-05</td>\n",
       "      <td>2024-04-01</td>\n",
       "      <td>[Oh, roman, leaving, break, mania, Woooooow, s...</td>\n",
       "      <td>[Oh, Woooooow]</td>\n",
       "      <td>Positive</td>\n",
       "    </tr>\n",
       "    <tr>\n",
       "      <th>...</th>\n",
       "      <td>...</td>\n",
       "      <td>...</td>\n",
       "      <td>...</td>\n",
       "      <td>...</td>\n",
       "      <td>...</td>\n",
       "      <td>...</td>\n",
       "    </tr>\n",
       "    <tr>\n",
       "      <th>4181</th>\n",
       "      <td>MJF should win</td>\n",
       "      <td>2023-03-05</td>\n",
       "      <td>2023-03-01</td>\n",
       "      <td>[MJF, win]</td>\n",
       "      <td>[MJF]</td>\n",
       "      <td>Positive</td>\n",
       "    </tr>\n",
       "    <tr>\n",
       "      <th>4182</th>\n",
       "      <td>Disappointed the rock isnt at WrestleMania Nop...</td>\n",
       "      <td>2023-03-05</td>\n",
       "      <td>2023-03-01</td>\n",
       "      <td>[Disappointed, rock, isnt, WrestleMania, Nope,...</td>\n",
       "      <td>[Disappointed, WrestleMania, Nope, Im, Id, Joh...</td>\n",
       "      <td>Positive</td>\n",
       "    </tr>\n",
       "    <tr>\n",
       "      <th>4183</th>\n",
       "      <td>I cant stand this blood line crap they need to...</td>\n",
       "      <td>2023-03-05</td>\n",
       "      <td>2023-03-01</td>\n",
       "      <td>[cant, stand, blood, line, crap, need, rock, c...</td>\n",
       "      <td>[]</td>\n",
       "      <td>Positive</td>\n",
       "    </tr>\n",
       "    <tr>\n",
       "      <th>4184</th>\n",
       "      <td>AEW is trying to hard to defeat WWE but all th...</td>\n",
       "      <td>2023-03-05</td>\n",
       "      <td>2023-03-01</td>\n",
       "      <td>[AEW, trying, hard, defeat, WWE, end, cheap, i...</td>\n",
       "      <td>[AEW, WWE, AEW]</td>\n",
       "      <td>Negative</td>\n",
       "    </tr>\n",
       "    <tr>\n",
       "      <th>4185</th>\n",
       "      <td>Hey Daniel Bryan keep your opinions to yoursel...</td>\n",
       "      <td>2023-03-05</td>\n",
       "      <td>2023-03-01</td>\n",
       "      <td>[Hey, Daniel, Bryan, keep, opinions, nobody, c...</td>\n",
       "      <td>[Hey, Daniel, Bryan]</td>\n",
       "      <td>Positive</td>\n",
       "    </tr>\n",
       "  </tbody>\n",
       "</table>\n",
       "<p>68943 rows × 6 columns</p>\n",
       "</div>"
      ],
      "text/plain": [
       "                                                comment       Date Date_Month  \\\n",
       "0     The Rock showing up late and blowing it off li... 2024-04-05 2024-04-01   \n",
       "1     The Rock showing up late is perfect for his ch... 2024-04-05 2024-04-01   \n",
       "2     If Meltzer is reporting why AEW and Tony Kahn ... 2024-04-05 2024-04-01   \n",
       "3     047  Hes not taking a break after Mania hes CO... 2024-04-05 2024-04-01   \n",
       "4     Oh roman leaving for a break after mania Woooo... 2024-04-05 2024-04-01   \n",
       "...                                                 ...        ...        ...   \n",
       "4181                                     MJF should win 2023-03-05 2023-03-01   \n",
       "4182  Disappointed the rock isnt at WrestleMania Nop... 2023-03-05 2023-03-01   \n",
       "4183  I cant stand this blood line crap they need to... 2023-03-05 2023-03-01   \n",
       "4184  AEW is trying to hard to defeat WWE but all th... 2023-03-05 2023-03-01   \n",
       "4185  Hey Daniel Bryan keep your opinions to yoursel... 2023-03-05 2023-03-01   \n",
       "\n",
       "                                           word_comment  \\\n",
       "0     [Rock, showing, late, blowing, like, doesnt, g...   \n",
       "1             [Rock, showing, late, perfect, character]   \n",
       "2     [Meltzer, reporting, AEW, Tony, Kahn, released...   \n",
       "3     [047, Hes, taking, break, Mania, hes, COMING, ...   \n",
       "4     [Oh, roman, leaving, break, mania, Woooooow, s...   \n",
       "...                                                 ...   \n",
       "4181                                         [MJF, win]   \n",
       "4182  [Disappointed, rock, isnt, WrestleMania, Nope,...   \n",
       "4183  [cant, stand, blood, line, crap, need, rock, c...   \n",
       "4184  [AEW, trying, hard, defeat, WWE, end, cheap, i...   \n",
       "4185  [Hey, Daniel, Bryan, keep, opinions, nobody, c...   \n",
       "\n",
       "                                 word_comment_tag_words Sentiment  \n",
       "0                                                [Rock]  Positive  \n",
       "1                                                [Rock]  Positive  \n",
       "2                            [Meltzer, AEW, Tony, Kahn]  Positive  \n",
       "3                      [047, Hes, Mania, COMING, Mania]   Neutral  \n",
       "4                                        [Oh, Woooooow]  Positive  \n",
       "...                                                 ...       ...  \n",
       "4181                                              [MJF]  Positive  \n",
       "4182  [Disappointed, WrestleMania, Nope, Im, Id, Joh...  Positive  \n",
       "4183                                                 []  Positive  \n",
       "4184                                    [AEW, WWE, AEW]  Negative  \n",
       "4185                               [Hey, Daniel, Bryan]  Positive  \n",
       "\n",
       "[68943 rows x 6 columns]"
      ]
     },
     "execution_count": 41,
     "metadata": {},
     "output_type": "execute_result"
    }
   ],
   "source": [
    "df"
   ]
  },
  {
   "cell_type": "code",
   "execution_count": 42,
   "id": "df495393",
   "metadata": {},
   "outputs": [],
   "source": [
    "#creating the csv file\n",
    "df.to_csv('WWE_Comments.CSV')"
   ]
  },
  {
   "cell_type": "code",
   "execution_count": 43,
   "id": "a9d50a94",
   "metadata": {},
   "outputs": [],
   "source": [
    "import pandas as pd\n",
    "dict_keys=list(df_count_dict.keys())\n",
    "\n",
    "loop_values=dict_keys[2:]\n",
    "\n",
    "df_app=pd.concat([pd.DataFrame(df_count_dict[dict_keys[0]]),pd.DataFrame(df_count_dict[dict_keys[1]])])\n",
    "for x in loop_values:\n",
    "    df_app=pd.concat([df_app,df_count_dict[x]])"
   ]
  },
  {
   "cell_type": "code",
   "execution_count": 45,
   "id": "dd467168",
   "metadata": {},
   "outputs": [],
   "source": [
    "#creating the csv file\n",
    "df_app.to_csv('WWE_Counts.CSV')"
   ]
  },
  {
   "cell_type": "code",
   "execution_count": 44,
   "id": "499e21a0",
   "metadata": {},
   "outputs": [
    {
     "data": {
      "text/html": [
       "<div>\n",
       "<style scoped>\n",
       "    .dataframe tbody tr th:only-of-type {\n",
       "        vertical-align: middle;\n",
       "    }\n",
       "\n",
       "    .dataframe tbody tr th {\n",
       "        vertical-align: top;\n",
       "    }\n",
       "\n",
       "    .dataframe thead th {\n",
       "        text-align: right;\n",
       "    }\n",
       "</style>\n",
       "<table border=\"1\" class=\"dataframe\">\n",
       "  <thead>\n",
       "    <tr style=\"text-align: right;\">\n",
       "      <th></th>\n",
       "      <th>Sentiment</th>\n",
       "      <th>Wrestler</th>\n",
       "      <th>Date</th>\n",
       "      <th>Date_Month</th>\n",
       "      <th>Count</th>\n",
       "    </tr>\n",
       "  </thead>\n",
       "  <tbody>\n",
       "    <tr>\n",
       "      <th>510</th>\n",
       "      <td>Positive</td>\n",
       "      <td>Roman Reigns</td>\n",
       "      <td>2024-04-05</td>\n",
       "      <td>2024-04-01</td>\n",
       "      <td>34</td>\n",
       "    </tr>\n",
       "    <tr>\n",
       "      <th>297</th>\n",
       "      <td>Neutral</td>\n",
       "      <td>Roman Reigns</td>\n",
       "      <td>2024-04-05</td>\n",
       "      <td>2024-04-01</td>\n",
       "      <td>34</td>\n",
       "    </tr>\n",
       "    <tr>\n",
       "      <th>132</th>\n",
       "      <td>Negative</td>\n",
       "      <td>Roman Reigns</td>\n",
       "      <td>2024-04-05</td>\n",
       "      <td>2024-04-01</td>\n",
       "      <td>33</td>\n",
       "    </tr>\n",
       "    <tr>\n",
       "      <th>507</th>\n",
       "      <td>Positive</td>\n",
       "      <td>The Rock</td>\n",
       "      <td>2024-04-05</td>\n",
       "      <td>2024-04-01</td>\n",
       "      <td>32</td>\n",
       "    </tr>\n",
       "    <tr>\n",
       "      <th>386</th>\n",
       "      <td>Positive</td>\n",
       "      <td>Cody Rhodes</td>\n",
       "      <td>2024-04-05</td>\n",
       "      <td>2024-04-01</td>\n",
       "      <td>24</td>\n",
       "    </tr>\n",
       "    <tr>\n",
       "      <th>...</th>\n",
       "      <td>...</td>\n",
       "      <td>...</td>\n",
       "      <td>...</td>\n",
       "      <td>...</td>\n",
       "      <td>...</td>\n",
       "    </tr>\n",
       "    <tr>\n",
       "      <th>223</th>\n",
       "      <td>Neutral</td>\n",
       "      <td>Sami Zayn</td>\n",
       "      <td>2023-03-05</td>\n",
       "      <td>2023-03-01</td>\n",
       "      <td>1</td>\n",
       "    </tr>\n",
       "    <tr>\n",
       "      <th>222</th>\n",
       "      <td>Neutral</td>\n",
       "      <td>Roman Reigns</td>\n",
       "      <td>2023-03-05</td>\n",
       "      <td>2023-03-01</td>\n",
       "      <td>1</td>\n",
       "    </tr>\n",
       "    <tr>\n",
       "      <th>219</th>\n",
       "      <td>Neutral</td>\n",
       "      <td>None</td>\n",
       "      <td>2023-03-05</td>\n",
       "      <td>2023-03-01</td>\n",
       "      <td>1</td>\n",
       "    </tr>\n",
       "    <tr>\n",
       "      <th>218</th>\n",
       "      <td>Neutral</td>\n",
       "      <td>None</td>\n",
       "      <td>2023-03-05</td>\n",
       "      <td>2023-03-01</td>\n",
       "      <td>1</td>\n",
       "    </tr>\n",
       "    <tr>\n",
       "      <th>602</th>\n",
       "      <td>Positive</td>\n",
       "      <td>None</td>\n",
       "      <td>2023-03-05</td>\n",
       "      <td>2023-03-01</td>\n",
       "      <td>1</td>\n",
       "    </tr>\n",
       "  </tbody>\n",
       "</table>\n",
       "<p>119093 rows × 5 columns</p>\n",
       "</div>"
      ],
      "text/plain": [
       "    Sentiment      Wrestler       Date Date_Month  Count\n",
       "510  Positive  Roman Reigns 2024-04-05 2024-04-01     34\n",
       "297   Neutral  Roman Reigns 2024-04-05 2024-04-01     34\n",
       "132  Negative  Roman Reigns 2024-04-05 2024-04-01     33\n",
       "507  Positive      The Rock 2024-04-05 2024-04-01     32\n",
       "386  Positive   Cody Rhodes 2024-04-05 2024-04-01     24\n",
       "..        ...           ...        ...        ...    ...\n",
       "223   Neutral     Sami Zayn 2023-03-05 2023-03-01      1\n",
       "222   Neutral  Roman Reigns 2023-03-05 2023-03-01      1\n",
       "219   Neutral          None 2023-03-05 2023-03-01      1\n",
       "218   Neutral          None 2023-03-05 2023-03-01      1\n",
       "602  Positive          None 2023-03-05 2023-03-01      1\n",
       "\n",
       "[119093 rows x 5 columns]"
      ]
     },
     "execution_count": 44,
     "metadata": {},
     "output_type": "execute_result"
    }
   ],
   "source": [
    "df_app"
   ]
  }
 ],
 "metadata": {
  "kernelspec": {
   "display_name": "Python 3 (ipykernel)",
   "language": "python",
   "name": "python3"
  },
  "language_info": {
   "codemirror_mode": {
    "name": "ipython",
    "version": 3
   },
   "file_extension": ".py",
   "mimetype": "text/x-python",
   "name": "python",
   "nbconvert_exporter": "python",
   "pygments_lexer": "ipython3",
   "version": "3.11.7"
  }
 },
 "nbformat": 4,
 "nbformat_minor": 5
}
